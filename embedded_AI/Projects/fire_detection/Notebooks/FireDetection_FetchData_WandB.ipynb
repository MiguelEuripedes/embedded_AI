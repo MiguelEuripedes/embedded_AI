{
  "nbformat": 4,
  "nbformat_minor": 0,
  "metadata": {
    "colab": {
      "provenance": [],
      "mount_file_id": "184tEKi0rpTjZ8oDYaHYzOTESwBSsmhCl",
      "authorship_tag": "ABX9TyMkAxH2kxrCwtVuIAvLhBt1",
      "include_colab_link": true
    },
    "kernelspec": {
      "name": "python3",
      "display_name": "Python 3"
    },
    "language_info": {
      "name": "python"
    },
    "gpuClass": "standard"
  },
  "cells": [
    {
      "cell_type": "markdown",
      "metadata": {
        "id": "view-in-github",
        "colab_type": "text"
      },
      "source": [
        "<a href=\"https://colab.research.google.com/github/MiguelEuripedes/embedded_AI/blob/main/embedded_AI/Projects/fire_detection/Notebooks/FireDetection_FetchData_WandB.ipynb\" target=\"_parent\"><img src=\"https://colab.research.google.com/assets/colab-badge.svg\" alt=\"Open In Colab\"/></a>"
      ]
    },
    {
      "cell_type": "markdown",
      "source": [
        "# Fetch data - Raw Data"
      ],
      "metadata": {
        "id": "shlUA0ZBlMMd"
      }
    },
    {
      "cell_type": "markdown",
      "source": [
        "Let's take the following steps:\n",
        "\n",
        "1. Load libraries\n",
        "2. Fetch raw data\n",
        "3. Upload raw data to W&B\n"
      ],
      "metadata": {
        "id": "3LHrJbq5lHgX"
      }
    },
    {
      "cell_type": "code",
      "execution_count": null,
      "metadata": {
        "id": "dTVBOsbEk70F"
      },
      "outputs": [],
      "source": [
        "!pip install wandb -qU"
      ]
    },
    {
      "cell_type": "code",
      "source": [
        "import wandb\n",
        "wandb.login()"
      ],
      "metadata": {
        "id": "4fclAq-AlTpv"
      },
      "execution_count": null,
      "outputs": []
    },
    {
      "cell_type": "markdown",
      "source": [
        "## Download the Code Zip File"
      ],
      "metadata": {
        "id": "_fSuecv1lgsJ"
      }
    },
    {
      "cell_type": "code",
      "source": [
        "!unzip -qq 'YOURFILEPATH'"
      ],
      "metadata": {
        "id": "GZ6Tc3KilY0Z"
      },
      "execution_count": null,
      "outputs": []
    },
    {
      "cell_type": "markdown",
      "source": [
        "## Import Packages"
      ],
      "metadata": {
        "id": "qs2SjXU6ljH7"
      }
    },
    {
      "cell_type": "code",
      "source": [
        "# import the necessary packages\n",
        "from imutils import paths\n",
        "import os\n",
        "import logging"
      ],
      "metadata": {
        "id": "DdAV90rQld5x"
      },
      "execution_count": null,
      "outputs": []
    },
    {
      "cell_type": "code",
      "source": [
        "# configure logging\n",
        "# reference for a logging obj\n",
        "logger = logging.getLogger()\n",
        "\n",
        "# set level of logging\n",
        "logger.setLevel(logging.INFO)\n",
        "\n",
        "# create handlers\n",
        "c_handler = logging.StreamHandler()\n",
        "c_format = logging.Formatter(fmt=\"%(asctime)s %(message)s\",datefmt='%d-%m-%Y %H:%M:%S')\n",
        "c_handler.setFormatter(c_format)\n",
        "\n",
        "# add handler to the logger\n",
        "logger.handlers[0] = c_handler"
      ],
      "metadata": {
        "id": "-8lj7akQlm3F"
      },
      "execution_count": null,
      "outputs": []
    },
    {
      "cell_type": "markdown",
      "source": [
        "## Upload raw data\n"
      ],
      "metadata": {
        "id": "j9KRXuTQlnm3"
      }
    },
    {
      "cell_type": "code",
      "source": [
        "# since we are using Jupyter Notebooks we can replace our argument\n",
        "# parsing code with *hard coded* arguments and values\n",
        "args = {\n",
        "    \"train_dataset\": \"Train\",\n",
        "    \"val_dataset\": \"Vali\",\n",
        "    \"test_dataset\": \"Test\",\n",
        "    \"project_name\": \"fire_detection_classifier\",\n",
        "    \"artifact_name\": \"images_raw_data\"\n",
        "}"
      ],
      "metadata": {
        "id": "Fq0b1HgDlu93"
      },
      "execution_count": null,
      "outputs": []
    },
    {
      "cell_type": "code",
      "source": [
        "run = wandb.init(entity=\"euripedes\",project=args[\"project_name\"], job_type=\"fetch_data\")\n",
        "\n",
        "# create an artifact for all the raw data\n",
        "raw_data = wandb.Artifact(args[\"artifact_name\"], type=\"raw_data\")\n",
        "\n",
        "# grab the list of images that we'll be describing\n",
        "logger.info(\"[INFO] loading images...\")\n",
        "train_imagePaths = list(paths.list_images(args[\"train_dataset\"]))\n",
        "val_imagePaths = list(paths.list_images(args[\"val_dataset\"]))\n",
        "test_imagePaths = list(paths.list_images(args[\"test_dataset\"]))\n",
        "\n",
        "# append all images to the artifact\n",
        "for img in train_imagePaths:\n",
        "  train_label = img.split(os.path.sep)\n",
        "  raw_data.add_file(img, name=os.path.join(train_label[-2], train_label[-1]))\n",
        "\n",
        "for img in val_imagePaths:\n",
        "  val_label = img.split(os.path.sep)\n",
        "  raw_data.add_file(img, name=os.path.join(val_label[-2], val_label[-1]))\n",
        "\n",
        "for img in test_imagePaths:\n",
        "  test_label = img.split(os.path.sep)\n",
        "  raw_data.add_file(img, name=os.path.join(test_label[-2], test_label[-1]))\n",
        "\n",
        "# save artifact to W&B\n",
        "run.log_artifact(raw_data)\n",
        "run.finish()"
      ],
      "metadata": {
        "colab": {
          "base_uri": "https://localhost:8080/",
          "height": 173
        },
        "id": "13hnPGXrl9ty",
        "outputId": "b72e4f14-a18f-4c92-8602-9e320b0afa02"
      },
      "execution_count": null,
      "outputs": [
        {
          "output_type": "stream",
          "name": "stderr",
          "text": [
            "\u001b[34m\u001b[1mwandb\u001b[0m: Currently logged in as: \u001b[33meuripedes\u001b[0m. Use \u001b[1m`wandb login --relogin`\u001b[0m to force relogin\n"
          ]
        },
        {
          "output_type": "display_data",
          "data": {
            "text/plain": [
              "<IPython.core.display.HTML object>"
            ],
            "text/html": [
              "Tracking run with wandb version 0.13.5"
            ]
          },
          "metadata": {}
        },
        {
          "output_type": "display_data",
          "data": {
            "text/plain": [
              "<IPython.core.display.HTML object>"
            ],
            "text/html": [
              "Run data is saved locally in <code>/content/wandb/run-20221129_203810-aa167d8m</code>"
            ]
          },
          "metadata": {}
        },
        {
          "output_type": "display_data",
          "data": {
            "text/plain": [
              "<IPython.core.display.HTML object>"
            ],
            "text/html": [
              "Syncing run <strong><a href=\"https://wandb.ai/euripedes/fire_detection_classifier/runs/aa167d8m\" target=\"_blank\">clean-dream-1</a></strong> to <a href=\"https://wandb.ai/euripedes/fire_detection_classifier\" target=\"_blank\">Weights & Biases</a> (<a href=\"https://wandb.me/run\" target=\"_blank\">docs</a>)<br/>"
            ]
          },
          "metadata": {}
        },
        {
          "output_type": "stream",
          "name": "stderr",
          "text": [
            "29-11-2022 20:38:12 [INFO] loading images...\n"
          ]
        },
        {
          "output_type": "display_data",
          "data": {
            "text/plain": [
              "<IPython.core.display.HTML object>"
            ],
            "text/html": [
              "Waiting for W&B process to finish... <strong style=\"color:green\">(success).</strong>"
            ]
          },
          "metadata": {}
        },
        {
          "output_type": "display_data",
          "data": {
            "text/plain": [
              "<IPython.core.display.HTML object>"
            ],
            "text/html": [
              "Synced <strong style=\"color:#cdcd00\">clean-dream-1</strong>: <a href=\"https://wandb.ai/euripedes/fire_detection_classifier/runs/aa167d8m\" target=\"_blank\">https://wandb.ai/euripedes/fire_detection_classifier/runs/aa167d8m</a><br/>Synced 5 W&B file(s), 0 media file(s), 9933 artifact file(s) and 0 other file(s)"
            ]
          },
          "metadata": {}
        },
        {
          "output_type": "display_data",
          "data": {
            "text/plain": [
              "<IPython.core.display.HTML object>"
            ],
            "text/html": [
              "Find logs at: <code>./wandb/run-20221129_203810-aa167d8m/logs</code>"
            ]
          },
          "metadata": {}
        }
      ]
    }
  ]
}