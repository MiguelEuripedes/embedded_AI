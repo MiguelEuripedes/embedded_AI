{
  "nbformat": 4,
  "nbformat_minor": 0,
  "metadata": {
    "colab": {
      "provenance": []
    },
    "kernelspec": {
      "name": "python3",
      "display_name": "Python 3"
    },
    "language_info": {
      "name": "python"
    },
    "accelerator": "GPU",
    "gpuClass": "standard",
    "widgets": {
      "application/vnd.jupyter.widget-state+json": {
        "29243057de0140fbba58719c1d41bb71": {
          "model_module": "@jupyter-widgets/controls",
          "model_name": "VBoxModel",
          "model_module_version": "1.5.0",
          "state": {
            "_dom_classes": [],
            "_model_module": "@jupyter-widgets/controls",
            "_model_module_version": "1.5.0",
            "_model_name": "VBoxModel",
            "_view_count": null,
            "_view_module": "@jupyter-widgets/controls",
            "_view_module_version": "1.5.0",
            "_view_name": "VBoxView",
            "box_style": "",
            "children": [
              "IPY_MODEL_0a874427c99e42029cf86a960b3410e6",
              "IPY_MODEL_071eb3ff85764616965a6c86ec53c4c7"
            ],
            "layout": "IPY_MODEL_83bd55bf98cf4ff89498035270112918"
          }
        },
        "0a874427c99e42029cf86a960b3410e6": {
          "model_module": "@jupyter-widgets/controls",
          "model_name": "LabelModel",
          "model_module_version": "1.5.0",
          "state": {
            "_dom_classes": [],
            "_model_module": "@jupyter-widgets/controls",
            "_model_module_version": "1.5.0",
            "_model_name": "LabelModel",
            "_view_count": null,
            "_view_module": "@jupyter-widgets/controls",
            "_view_module_version": "1.5.0",
            "_view_name": "LabelView",
            "description": "",
            "description_tooltip": null,
            "layout": "IPY_MODEL_d78505f3e3854095bc15f6ff95e5ed43",
            "placeholder": "​",
            "style": "IPY_MODEL_5737682f48b24c268c819a57e9189b08",
            "value": "0.001 MB of 0.001 MB uploaded (0.000 MB deduped)\r"
          }
        },
        "071eb3ff85764616965a6c86ec53c4c7": {
          "model_module": "@jupyter-widgets/controls",
          "model_name": "FloatProgressModel",
          "model_module_version": "1.5.0",
          "state": {
            "_dom_classes": [],
            "_model_module": "@jupyter-widgets/controls",
            "_model_module_version": "1.5.0",
            "_model_name": "FloatProgressModel",
            "_view_count": null,
            "_view_module": "@jupyter-widgets/controls",
            "_view_module_version": "1.5.0",
            "_view_name": "ProgressView",
            "bar_style": "",
            "description": "",
            "description_tooltip": null,
            "layout": "IPY_MODEL_5c84146417fd4bb989bcd5b882632367",
            "max": 1,
            "min": 0,
            "orientation": "horizontal",
            "style": "IPY_MODEL_17aeba3989eb482da4a4a3f3e230d5aa",
            "value": 1
          }
        },
        "83bd55bf98cf4ff89498035270112918": {
          "model_module": "@jupyter-widgets/base",
          "model_name": "LayoutModel",
          "model_module_version": "1.2.0",
          "state": {
            "_model_module": "@jupyter-widgets/base",
            "_model_module_version": "1.2.0",
            "_model_name": "LayoutModel",
            "_view_count": null,
            "_view_module": "@jupyter-widgets/base",
            "_view_module_version": "1.2.0",
            "_view_name": "LayoutView",
            "align_content": null,
            "align_items": null,
            "align_self": null,
            "border": null,
            "bottom": null,
            "display": null,
            "flex": null,
            "flex_flow": null,
            "grid_area": null,
            "grid_auto_columns": null,
            "grid_auto_flow": null,
            "grid_auto_rows": null,
            "grid_column": null,
            "grid_gap": null,
            "grid_row": null,
            "grid_template_areas": null,
            "grid_template_columns": null,
            "grid_template_rows": null,
            "height": null,
            "justify_content": null,
            "justify_items": null,
            "left": null,
            "margin": null,
            "max_height": null,
            "max_width": null,
            "min_height": null,
            "min_width": null,
            "object_fit": null,
            "object_position": null,
            "order": null,
            "overflow": null,
            "overflow_x": null,
            "overflow_y": null,
            "padding": null,
            "right": null,
            "top": null,
            "visibility": null,
            "width": null
          }
        },
        "d78505f3e3854095bc15f6ff95e5ed43": {
          "model_module": "@jupyter-widgets/base",
          "model_name": "LayoutModel",
          "model_module_version": "1.2.0",
          "state": {
            "_model_module": "@jupyter-widgets/base",
            "_model_module_version": "1.2.0",
            "_model_name": "LayoutModel",
            "_view_count": null,
            "_view_module": "@jupyter-widgets/base",
            "_view_module_version": "1.2.0",
            "_view_name": "LayoutView",
            "align_content": null,
            "align_items": null,
            "align_self": null,
            "border": null,
            "bottom": null,
            "display": null,
            "flex": null,
            "flex_flow": null,
            "grid_area": null,
            "grid_auto_columns": null,
            "grid_auto_flow": null,
            "grid_auto_rows": null,
            "grid_column": null,
            "grid_gap": null,
            "grid_row": null,
            "grid_template_areas": null,
            "grid_template_columns": null,
            "grid_template_rows": null,
            "height": null,
            "justify_content": null,
            "justify_items": null,
            "left": null,
            "margin": null,
            "max_height": null,
            "max_width": null,
            "min_height": null,
            "min_width": null,
            "object_fit": null,
            "object_position": null,
            "order": null,
            "overflow": null,
            "overflow_x": null,
            "overflow_y": null,
            "padding": null,
            "right": null,
            "top": null,
            "visibility": null,
            "width": null
          }
        },
        "5737682f48b24c268c819a57e9189b08": {
          "model_module": "@jupyter-widgets/controls",
          "model_name": "DescriptionStyleModel",
          "model_module_version": "1.5.0",
          "state": {
            "_model_module": "@jupyter-widgets/controls",
            "_model_module_version": "1.5.0",
            "_model_name": "DescriptionStyleModel",
            "_view_count": null,
            "_view_module": "@jupyter-widgets/base",
            "_view_module_version": "1.2.0",
            "_view_name": "StyleView",
            "description_width": ""
          }
        },
        "5c84146417fd4bb989bcd5b882632367": {
          "model_module": "@jupyter-widgets/base",
          "model_name": "LayoutModel",
          "model_module_version": "1.2.0",
          "state": {
            "_model_module": "@jupyter-widgets/base",
            "_model_module_version": "1.2.0",
            "_model_name": "LayoutModel",
            "_view_count": null,
            "_view_module": "@jupyter-widgets/base",
            "_view_module_version": "1.2.0",
            "_view_name": "LayoutView",
            "align_content": null,
            "align_items": null,
            "align_self": null,
            "border": null,
            "bottom": null,
            "display": null,
            "flex": null,
            "flex_flow": null,
            "grid_area": null,
            "grid_auto_columns": null,
            "grid_auto_flow": null,
            "grid_auto_rows": null,
            "grid_column": null,
            "grid_gap": null,
            "grid_row": null,
            "grid_template_areas": null,
            "grid_template_columns": null,
            "grid_template_rows": null,
            "height": null,
            "justify_content": null,
            "justify_items": null,
            "left": null,
            "margin": null,
            "max_height": null,
            "max_width": null,
            "min_height": null,
            "min_width": null,
            "object_fit": null,
            "object_position": null,
            "order": null,
            "overflow": null,
            "overflow_x": null,
            "overflow_y": null,
            "padding": null,
            "right": null,
            "top": null,
            "visibility": null,
            "width": null
          }
        },
        "17aeba3989eb482da4a4a3f3e230d5aa": {
          "model_module": "@jupyter-widgets/controls",
          "model_name": "ProgressStyleModel",
          "model_module_version": "1.5.0",
          "state": {
            "_model_module": "@jupyter-widgets/controls",
            "_model_module_version": "1.5.0",
            "_model_name": "ProgressStyleModel",
            "_view_count": null,
            "_view_module": "@jupyter-widgets/base",
            "_view_module_version": "1.2.0",
            "_view_name": "StyleView",
            "bar_color": null,
            "description_width": ""
          }
        },
        "0911412057bd407c9284b258c894d112": {
          "model_module": "@jupyter-widgets/controls",
          "model_name": "VBoxModel",
          "model_module_version": "1.5.0",
          "state": {
            "_dom_classes": [],
            "_model_module": "@jupyter-widgets/controls",
            "_model_module_version": "1.5.0",
            "_model_name": "VBoxModel",
            "_view_count": null,
            "_view_module": "@jupyter-widgets/controls",
            "_view_module_version": "1.5.0",
            "_view_name": "VBoxView",
            "box_style": "",
            "children": [
              "IPY_MODEL_550e848a23a54f45906745df99e276d6",
              "IPY_MODEL_c8e8242079134932bcd9ca70088bccc7"
            ],
            "layout": "IPY_MODEL_2a7db45995e04a3f9109354528c3f668"
          }
        },
        "550e848a23a54f45906745df99e276d6": {
          "model_module": "@jupyter-widgets/controls",
          "model_name": "LabelModel",
          "model_module_version": "1.5.0",
          "state": {
            "_dom_classes": [],
            "_model_module": "@jupyter-widgets/controls",
            "_model_module_version": "1.5.0",
            "_model_name": "LabelModel",
            "_view_count": null,
            "_view_module": "@jupyter-widgets/controls",
            "_view_module_version": "1.5.0",
            "_view_name": "LabelView",
            "description": "",
            "description_tooltip": null,
            "layout": "IPY_MODEL_3205ba7589fd47b48bfee3e8853203ac",
            "placeholder": "​",
            "style": "IPY_MODEL_85673efb91e34fcc931d1eab75c25282",
            "value": "0.001 MB of 0.001 MB uploaded (0.000 MB deduped)\r"
          }
        },
        "c8e8242079134932bcd9ca70088bccc7": {
          "model_module": "@jupyter-widgets/controls",
          "model_name": "FloatProgressModel",
          "model_module_version": "1.5.0",
          "state": {
            "_dom_classes": [],
            "_model_module": "@jupyter-widgets/controls",
            "_model_module_version": "1.5.0",
            "_model_name": "FloatProgressModel",
            "_view_count": null,
            "_view_module": "@jupyter-widgets/controls",
            "_view_module_version": "1.5.0",
            "_view_name": "ProgressView",
            "bar_style": "",
            "description": "",
            "description_tooltip": null,
            "layout": "IPY_MODEL_6157b23d4df245e6bbacd043a9ada4c8",
            "max": 1,
            "min": 0,
            "orientation": "horizontal",
            "style": "IPY_MODEL_4f96922f5e2447c0bfb95c710808707d",
            "value": 1
          }
        },
        "2a7db45995e04a3f9109354528c3f668": {
          "model_module": "@jupyter-widgets/base",
          "model_name": "LayoutModel",
          "model_module_version": "1.2.0",
          "state": {
            "_model_module": "@jupyter-widgets/base",
            "_model_module_version": "1.2.0",
            "_model_name": "LayoutModel",
            "_view_count": null,
            "_view_module": "@jupyter-widgets/base",
            "_view_module_version": "1.2.0",
            "_view_name": "LayoutView",
            "align_content": null,
            "align_items": null,
            "align_self": null,
            "border": null,
            "bottom": null,
            "display": null,
            "flex": null,
            "flex_flow": null,
            "grid_area": null,
            "grid_auto_columns": null,
            "grid_auto_flow": null,
            "grid_auto_rows": null,
            "grid_column": null,
            "grid_gap": null,
            "grid_row": null,
            "grid_template_areas": null,
            "grid_template_columns": null,
            "grid_template_rows": null,
            "height": null,
            "justify_content": null,
            "justify_items": null,
            "left": null,
            "margin": null,
            "max_height": null,
            "max_width": null,
            "min_height": null,
            "min_width": null,
            "object_fit": null,
            "object_position": null,
            "order": null,
            "overflow": null,
            "overflow_x": null,
            "overflow_y": null,
            "padding": null,
            "right": null,
            "top": null,
            "visibility": null,
            "width": null
          }
        },
        "3205ba7589fd47b48bfee3e8853203ac": {
          "model_module": "@jupyter-widgets/base",
          "model_name": "LayoutModel",
          "model_module_version": "1.2.0",
          "state": {
            "_model_module": "@jupyter-widgets/base",
            "_model_module_version": "1.2.0",
            "_model_name": "LayoutModel",
            "_view_count": null,
            "_view_module": "@jupyter-widgets/base",
            "_view_module_version": "1.2.0",
            "_view_name": "LayoutView",
            "align_content": null,
            "align_items": null,
            "align_self": null,
            "border": null,
            "bottom": null,
            "display": null,
            "flex": null,
            "flex_flow": null,
            "grid_area": null,
            "grid_auto_columns": null,
            "grid_auto_flow": null,
            "grid_auto_rows": null,
            "grid_column": null,
            "grid_gap": null,
            "grid_row": null,
            "grid_template_areas": null,
            "grid_template_columns": null,
            "grid_template_rows": null,
            "height": null,
            "justify_content": null,
            "justify_items": null,
            "left": null,
            "margin": null,
            "max_height": null,
            "max_width": null,
            "min_height": null,
            "min_width": null,
            "object_fit": null,
            "object_position": null,
            "order": null,
            "overflow": null,
            "overflow_x": null,
            "overflow_y": null,
            "padding": null,
            "right": null,
            "top": null,
            "visibility": null,
            "width": null
          }
        },
        "85673efb91e34fcc931d1eab75c25282": {
          "model_module": "@jupyter-widgets/controls",
          "model_name": "DescriptionStyleModel",
          "model_module_version": "1.5.0",
          "state": {
            "_model_module": "@jupyter-widgets/controls",
            "_model_module_version": "1.5.0",
            "_model_name": "DescriptionStyleModel",
            "_view_count": null,
            "_view_module": "@jupyter-widgets/base",
            "_view_module_version": "1.2.0",
            "_view_name": "StyleView",
            "description_width": ""
          }
        },
        "6157b23d4df245e6bbacd043a9ada4c8": {
          "model_module": "@jupyter-widgets/base",
          "model_name": "LayoutModel",
          "model_module_version": "1.2.0",
          "state": {
            "_model_module": "@jupyter-widgets/base",
            "_model_module_version": "1.2.0",
            "_model_name": "LayoutModel",
            "_view_count": null,
            "_view_module": "@jupyter-widgets/base",
            "_view_module_version": "1.2.0",
            "_view_name": "LayoutView",
            "align_content": null,
            "align_items": null,
            "align_self": null,
            "border": null,
            "bottom": null,
            "display": null,
            "flex": null,
            "flex_flow": null,
            "grid_area": null,
            "grid_auto_columns": null,
            "grid_auto_flow": null,
            "grid_auto_rows": null,
            "grid_column": null,
            "grid_gap": null,
            "grid_row": null,
            "grid_template_areas": null,
            "grid_template_columns": null,
            "grid_template_rows": null,
            "height": null,
            "justify_content": null,
            "justify_items": null,
            "left": null,
            "margin": null,
            "max_height": null,
            "max_width": null,
            "min_height": null,
            "min_width": null,
            "object_fit": null,
            "object_position": null,
            "order": null,
            "overflow": null,
            "overflow_x": null,
            "overflow_y": null,
            "padding": null,
            "right": null,
            "top": null,
            "visibility": null,
            "width": null
          }
        },
        "4f96922f5e2447c0bfb95c710808707d": {
          "model_module": "@jupyter-widgets/controls",
          "model_name": "ProgressStyleModel",
          "model_module_version": "1.5.0",
          "state": {
            "_model_module": "@jupyter-widgets/controls",
            "_model_module_version": "1.5.0",
            "_model_name": "ProgressStyleModel",
            "_view_count": null,
            "_view_module": "@jupyter-widgets/base",
            "_view_module_version": "1.2.0",
            "_view_name": "StyleView",
            "bar_color": null,
            "description_width": ""
          }
        }
      }
    }
  },
  "cells": [
    {
      "cell_type": "markdown",
      "source": [
        "# PadocaNet"
      ],
      "metadata": {
        "id": "MDnVLTATlNwg"
      }
    },
    {
      "cell_type": "markdown",
      "source": [
        "This notebook we'll attempt to create a new network based on the LeNet-5 architecture. In order to do that I'll be using some features we haven't use yet.  \n",
        "\n",
        "Extensions: \n",
        "* Batch Normalization - After the convolutional layers.\n",
        "* Dropout - To analyze the use of regularization based on dropout technique and place it with different intensity after the Pooling layers.\n",
        "* 'Relu' activation function - In order to investigate the results.\n",
        "\n",
        "\n",
        "I'll evaluate the new architecture using a configuration created by me and after we'll try to use Hyperparameter Tuning from W&B to see if we can find out a better configuration."
      ],
      "metadata": {
        "id": "Hzs1I8X6lcwA"
      }
    },
    {
      "cell_type": "markdown",
      "source": [
        "# Implementing PacodaNet"
      ],
      "metadata": {
        "id": "LWxoUBpanfz1"
      }
    },
    {
      "cell_type": "markdown",
      "source": [
        "In the beginning we'll do basically the same process as the others notebooks. Once we're in the implementation step we will create the network as presented before"
      ],
      "metadata": {
        "id": "im3YjGRKnmJ-"
      }
    },
    {
      "cell_type": "markdown",
      "source": [
        "## Step 01: Setup"
      ],
      "metadata": {
        "id": "0i14VNnnnjC1"
      }
    },
    {
      "cell_type": "markdown",
      "source": [
        "Start out by installing the experiment tracking library and setting up your free W&B account:\n",
        "\n",
        "\n",
        "\n",
        "*   **pip install wandb** – Install the W&B library\n",
        "*   **import wandb** – Import the wandb library\n",
        "*   **wandb login** – Login to your W&B account so you can log all your metrics in one place\n",
        "\n"
      ],
      "metadata": {
        "id": "zNpclOOThaym"
      }
    },
    {
      "cell_type": "code",
      "source": [
        "!pip install wandb -qU"
      ],
      "metadata": {
        "colab": {
          "base_uri": "https://localhost:8080/"
        },
        "id": "1fMR8dR_eimO",
        "outputId": "29d852aa-61f5-4975-d359-b9a9bc57b018"
      },
      "execution_count": null,
      "outputs": [
        {
          "output_type": "stream",
          "name": "stdout",
          "text": [
            "\u001b[K     |████████████████████████████████| 1.9 MB 34.0 MB/s \n",
            "\u001b[K     |████████████████████████████████| 182 kB 58.5 MB/s \n",
            "\u001b[K     |████████████████████████████████| 166 kB 73.9 MB/s \n",
            "\u001b[K     |████████████████████████████████| 63 kB 1.9 MB/s \n",
            "\u001b[K     |████████████████████████████████| 166 kB 60.4 MB/s \n",
            "\u001b[K     |████████████████████████████████| 162 kB 75.6 MB/s \n",
            "\u001b[K     |████████████████████████████████| 162 kB 79.3 MB/s \n",
            "\u001b[K     |████████████████████████████████| 158 kB 73.2 MB/s \n",
            "\u001b[K     |████████████████████████████████| 157 kB 60.5 MB/s \n",
            "\u001b[K     |████████████████████████████████| 157 kB 72.8 MB/s \n",
            "\u001b[K     |████████████████████████████████| 157 kB 72.2 MB/s \n",
            "\u001b[K     |████████████████████████████████| 157 kB 78.4 MB/s \n",
            "\u001b[K     |████████████████████████████████| 157 kB 77.9 MB/s \n",
            "\u001b[K     |████████████████████████████████| 157 kB 78.2 MB/s \n",
            "\u001b[K     |████████████████████████████████| 157 kB 79.6 MB/s \n",
            "\u001b[K     |████████████████████████████████| 156 kB 77.3 MB/s \n",
            "\u001b[?25h  Building wheel for pathtools (setup.py) ... \u001b[?25l\u001b[?25hdone\n"
          ]
        }
      ]
    },
    {
      "cell_type": "markdown",
      "source": [
        "Lets install CodeCabor: A Python package for tracking the carbon emissions produced by various kinds of computer programs, from straightforward algorithms to deep neural networks.\n"
      ],
      "metadata": {
        "id": "-ipyx24-hnGB"
      }
    },
    {
      "cell_type": "code",
      "source": [
        "!pip install codecarbon"
      ],
      "metadata": {
        "colab": {
          "base_uri": "https://localhost:8080/"
        },
        "id": "-6mjhMv6h0P2",
        "outputId": "185dab04-7835-424d-fce5-c78df3bf4802"
      },
      "execution_count": null,
      "outputs": [
        {
          "output_type": "stream",
          "name": "stdout",
          "text": [
            "Looking in indexes: https://pypi.org/simple, https://us-python.pkg.dev/colab-wheels/public/simple/\n",
            "Collecting codecarbon\n",
            "  Downloading codecarbon-2.1.4-py3-none-any.whl (174 kB)\n",
            "\u001b[K     |████████████████████████████████| 174 kB 22.6 MB/s \n",
            "\u001b[?25hRequirement already satisfied: click in /usr/local/lib/python3.7/dist-packages (from codecarbon) (7.1.2)\n",
            "Collecting py-cpuinfo\n",
            "  Downloading py_cpuinfo-9.0.0-py3-none-any.whl (22 kB)\n",
            "Requirement already satisfied: requests in /usr/local/lib/python3.7/dist-packages (from codecarbon) (2.23.0)\n",
            "Requirement already satisfied: psutil in /usr/local/lib/python3.7/dist-packages (from codecarbon) (5.4.8)\n",
            "Collecting pynvml\n",
            "  Downloading pynvml-11.4.1-py3-none-any.whl (46 kB)\n",
            "\u001b[K     |████████████████████████████████| 46 kB 4.3 MB/s \n",
            "\u001b[?25hCollecting fuzzywuzzy\n",
            "  Downloading fuzzywuzzy-0.18.0-py2.py3-none-any.whl (18 kB)\n",
            "Collecting arrow\n",
            "  Downloading arrow-1.2.3-py3-none-any.whl (66 kB)\n",
            "\u001b[K     |████████████████████████████████| 66 kB 4.9 MB/s \n",
            "\u001b[?25hRequirement already satisfied: pandas in /usr/local/lib/python3.7/dist-packages (from codecarbon) (1.3.5)\n",
            "Requirement already satisfied: typing-extensions in /usr/local/lib/python3.7/dist-packages (from arrow->codecarbon) (4.1.1)\n",
            "Requirement already satisfied: python-dateutil>=2.7.0 in /usr/local/lib/python3.7/dist-packages (from arrow->codecarbon) (2.8.2)\n",
            "Requirement already satisfied: six>=1.5 in /usr/local/lib/python3.7/dist-packages (from python-dateutil>=2.7.0->arrow->codecarbon) (1.15.0)\n",
            "Requirement already satisfied: pytz>=2017.3 in /usr/local/lib/python3.7/dist-packages (from pandas->codecarbon) (2022.5)\n",
            "Requirement already satisfied: numpy>=1.17.3 in /usr/local/lib/python3.7/dist-packages (from pandas->codecarbon) (1.21.6)\n",
            "Requirement already satisfied: certifi>=2017.4.17 in /usr/local/lib/python3.7/dist-packages (from requests->codecarbon) (2022.9.24)\n",
            "Requirement already satisfied: chardet<4,>=3.0.2 in /usr/local/lib/python3.7/dist-packages (from requests->codecarbon) (3.0.4)\n",
            "Requirement already satisfied: idna<3,>=2.5 in /usr/local/lib/python3.7/dist-packages (from requests->codecarbon) (2.10)\n",
            "Requirement already satisfied: urllib3!=1.25.0,!=1.25.1,<1.26,>=1.21.1 in /usr/local/lib/python3.7/dist-packages (from requests->codecarbon) (1.24.3)\n",
            "Installing collected packages: pynvml, py-cpuinfo, fuzzywuzzy, arrow, codecarbon\n",
            "Successfully installed arrow-1.2.3 codecarbon-2.1.4 fuzzywuzzy-0.18.0 py-cpuinfo-9.0.0 pynvml-11.4.1\n"
          ]
        }
      ]
    },
    {
      "cell_type": "markdown",
      "source": [
        "####  Import Packages and Connecting to W&B"
      ],
      "metadata": {
        "id": "QN8JzuGhhmbw"
      }
    },
    {
      "cell_type": "markdown",
      "source": [
        "Import the necessary packages"
      ],
      "metadata": {
        "id": "ulTuuYyNh8Ik"
      }
    },
    {
      "cell_type": "code",
      "source": [
        "import logging\n",
        "import joblib\n",
        "import tensorflow as tf\n",
        "from tensorflow.keras.models import Sequential\n",
        "from tensorflow.keras.layers import BatchNormalization\n",
        "from tensorflow.keras.layers import Dropout\n",
        "from tensorflow.keras.layers import Conv2D\n",
        "from tensorflow.keras.layers import AveragePooling2D\n",
        "from tensorflow.keras.layers import MaxPooling2D\n",
        "from tensorflow.keras.layers import Activation\n",
        "from tensorflow.keras.layers import Flatten\n",
        "from tensorflow.keras.layers import Dense\n",
        "from tensorflow.keras import backend as K\n",
        "from tensorflow.keras.optimizers import SGD, Adam\n",
        "from tensorflow.keras.datasets import mnist\n",
        "from sklearn.preprocessing import LabelBinarizer\n",
        "from tensorflow.keras import backend as K\n",
        "import matplotlib.pyplot as plt\n",
        "import numpy as np\n",
        "from codecarbon import EmissionsTracker\n",
        "from tensorflow.keras.callbacks import Callback\n",
        "from wandb.keras import WandbCallback\n",
        "from sklearn.metrics import classification_report\n",
        "from sklearn.metrics import fbeta_score, precision_score, recall_score, accuracy_score\n",
        "from sklearn.metrics import confusion_matrix\n",
        "from sklearn.metrics import ConfusionMatrixDisplay\n",
        "import wandb\n",
        "import cv2\n",
        "from tensorflow.keras.preprocessing.image import ImageDataGenerator"
      ],
      "metadata": {
        "id": "rkSXjkqVqP-D"
      },
      "execution_count": null,
      "outputs": []
    },
    {
      "cell_type": "code",
      "source": [
        "wandb.login()"
      ],
      "metadata": {
        "colab": {
          "base_uri": "https://localhost:8080/",
          "height": 144
        },
        "outputId": "663c2549-7bef-4d3b-af5d-b5a5e2ecb108",
        "id": "aNuqVBmuqP-D"
      },
      "execution_count": null,
      "outputs": [
        {
          "output_type": "stream",
          "name": "stderr",
          "text": [
            "ERROR:wandb.jupyter:Failed to detect the name of this notebook, you can set it manually with the WANDB_NOTEBOOK_NAME environment variable to enable code saving.\n"
          ]
        },
        {
          "output_type": "display_data",
          "data": {
            "text/plain": [
              "<IPython.core.display.Javascript object>"
            ],
            "application/javascript": [
              "\n",
              "        window._wandbApiKey = new Promise((resolve, reject) => {\n",
              "            function loadScript(url) {\n",
              "            return new Promise(function(resolve, reject) {\n",
              "                let newScript = document.createElement(\"script\");\n",
              "                newScript.onerror = reject;\n",
              "                newScript.onload = resolve;\n",
              "                document.body.appendChild(newScript);\n",
              "                newScript.src = url;\n",
              "            });\n",
              "            }\n",
              "            loadScript(\"https://cdn.jsdelivr.net/npm/postmate/build/postmate.min.js\").then(() => {\n",
              "            const iframe = document.createElement('iframe')\n",
              "            iframe.style.cssText = \"width:0;height:0;border:none\"\n",
              "            document.body.appendChild(iframe)\n",
              "            const handshake = new Postmate({\n",
              "                container: iframe,\n",
              "                url: 'https://wandb.ai/authorize'\n",
              "            });\n",
              "            const timeout = setTimeout(() => reject(\"Couldn't auto authenticate\"), 5000)\n",
              "            handshake.then(function(child) {\n",
              "                child.on('authorize', data => {\n",
              "                    clearTimeout(timeout)\n",
              "                    resolve(data)\n",
              "                });\n",
              "            });\n",
              "            })\n",
              "        });\n",
              "    "
            ]
          },
          "metadata": {}
        },
        {
          "output_type": "stream",
          "name": "stderr",
          "text": [
            "\u001b[34m\u001b[1mwandb\u001b[0m: Logging into wandb.ai. (Learn how to deploy a W&B server locally: https://wandb.me/wandb-server)\n",
            "\u001b[34m\u001b[1mwandb\u001b[0m: You can find your API key in your browser here: https://wandb.ai/authorize\n",
            "wandb: Paste an API key from your profile and hit enter, or press ctrl+c to quit: "
          ]
        },
        {
          "name": "stdout",
          "output_type": "stream",
          "text": [
            "··········\n"
          ]
        },
        {
          "output_type": "stream",
          "name": "stderr",
          "text": [
            "\u001b[34m\u001b[1mwandb\u001b[0m: Appending key for api.wandb.ai to your netrc file: /root/.netrc\n"
          ]
        },
        {
          "output_type": "execute_result",
          "data": {
            "text/plain": [
              "True"
            ]
          },
          "metadata": {},
          "execution_count": 4
        }
      ]
    },
    {
      "cell_type": "markdown",
      "source": [
        "#### Configure logging"
      ],
      "metadata": {
        "id": "m8tjxMhMqP-E"
      }
    },
    {
      "cell_type": "markdown",
      "source": [
        "Reference for a logging object"
      ],
      "metadata": {
        "id": "7H9rsyLXqP-E"
      }
    },
    {
      "cell_type": "code",
      "source": [
        "logger = logging.getLogger()"
      ],
      "metadata": {
        "id": "oCJRvArKqP-E"
      },
      "execution_count": null,
      "outputs": []
    },
    {
      "cell_type": "markdown",
      "source": [
        "Set level of logging"
      ],
      "metadata": {
        "id": "0lQxMLNwqP-E"
      }
    },
    {
      "cell_type": "code",
      "source": [
        "logger.setLevel(logging.INFO)"
      ],
      "metadata": {
        "id": "cu8CKbimqP-F"
      },
      "execution_count": null,
      "outputs": []
    },
    {
      "cell_type": "markdown",
      "source": [
        "Creating handlers"
      ],
      "metadata": {
        "id": "Tx-h_ItXqP-F"
      }
    },
    {
      "cell_type": "code",
      "source": [
        "c_handler = logging.StreamHandler()\n",
        "c_format = logging.Formatter(fmt=\"%(asctime)s %(message)s\",datefmt='%d-%m-%Y %H:%M:%S')\n",
        "c_handler.setFormatter(c_format)"
      ],
      "metadata": {
        "id": "L3lhoiw4qP-F"
      },
      "execution_count": null,
      "outputs": []
    },
    {
      "cell_type": "markdown",
      "source": [
        "Add handlers to the logger"
      ],
      "metadata": {
        "id": "BYBOyxy7qP-G"
      }
    },
    {
      "cell_type": "code",
      "source": [
        "logger.handlers[0] = c_handler"
      ],
      "metadata": {
        "id": "o12_-9lxqP-G"
      },
      "execution_count": null,
      "outputs": []
    },
    {
      "cell_type": "markdown",
      "source": [
        "## Step 02: Implementing"
      ],
      "metadata": {
        "id": "GUCbKaCDibGa"
      }
    },
    {
      "cell_type": "markdown",
      "source": [
        "Source code based on **[Rosebrock, Adrian. Deep Learning For Computer vision with Python, 2019](https://pyimagesearch.com/deep-learning-computer-vision-python-book/)** "
      ],
      "metadata": {
        "id": "iFQB-QTkjPGo"
      }
    },
    {
      "cell_type": "code",
      "source": [
        "class PacodaNet:\n",
        "  ''' \n",
        "  # create PacodaNet model\n",
        "  #\n",
        "  # it is composed of the 8 layers (5 layers considering FC as one layer) \n",
        "  # such as:\n",
        "  #      - 2 convolutional layers\n",
        "  #      - 2 subsampling (avg pooling) layers\n",
        "  #      - 1 flatten layer\n",
        "  #      - 2 fully connected layers\n",
        "  #      - 1 output layer with 10 outputs\n",
        "  #      - 2 batchnormalization layers\n",
        "  #      - 4 dropout layers\n",
        "  '''\n",
        "  @staticmethod\n",
        "  def build(width, height, depth, classes):\n",
        "    # initialize the model\n",
        "    model = Sequential()\n",
        "    inputShape = (height, width, depth)\n",
        "    \n",
        "    # if we are using \"channels first\", update the input shape\n",
        "    if K.image_data_format() == \"channels_first\":\n",
        "      inputShape = (depth, height, width)\n",
        "   \n",
        "    # first set of CONV => RELU => POOL layers\n",
        "    model.add(Conv2D(6, (5,5), strides=1, padding='same',\n",
        "                     activation='relu', input_shape=(28,28,1), )) \n",
        "    model.add(BatchNormalization())\n",
        "    model.add(MaxPooling2D()) \n",
        "    model.add(Dropout(0.5)) \n",
        "\n",
        "    # second set of CONV => RELU => POOL layers\n",
        "    model.add(Conv2D(16, (5,5), strides=1, padding='valid',\n",
        "                     activation='relu')) \n",
        "    model.add(BatchNormalization())\n",
        "    model.add(AveragePooling2D()) \n",
        "    model.add(Dropout(0.5)) \n",
        "\n",
        "    # a flatten and two set of FC => RELU layers\n",
        "    model.add(Flatten()) #Flatten\n",
        "    model.add(Dense(120, activation='relu'))\n",
        "    model.add(Dropout(0.5)) \n",
        "    model.add(Dense(84, activation='relu')) \n",
        "    model.add(Dropout(0.5))\n",
        "\n",
        "    # softmax classifier\n",
        "    model.add(Dense(10, activation='softmax')) #Output layer\n",
        "    \n",
        "    # return the constructed network architecture\n",
        "    return model"
      ],
      "metadata": {
        "id": "eaUeDIb3ieJ1"
      },
      "execution_count": null,
      "outputs": []
    },
    {
      "cell_type": "code",
      "source": [
        "# create a model object\n",
        "model = PacodaNet.build(28,28,1,10)\n",
        "\n",
        "# summarize layers\n",
        "model.summary()"
      ],
      "metadata": {
        "colab": {
          "base_uri": "https://localhost:8080/"
        },
        "id": "RZnbpJo-qLu6",
        "outputId": "b8c877fb-7879-461f-ac11-a95805a10695"
      },
      "execution_count": null,
      "outputs": [
        {
          "output_type": "stream",
          "name": "stdout",
          "text": [
            "Model: \"sequential_1\"\n",
            "_________________________________________________________________\n",
            " Layer (type)                Output Shape              Param #   \n",
            "=================================================================\n",
            " conv2d_1 (Conv2D)           (None, 28, 28, 6)         156       \n",
            "                                                                 \n",
            " batch_normalization_1 (Batc  (None, 28, 28, 6)        24        \n",
            " hNormalization)                                                 \n",
            "                                                                 \n",
            " max_pooling2d (MaxPooling2D  (None, 14, 14, 6)        0         \n",
            " )                                                               \n",
            "                                                                 \n",
            " dropout (Dropout)           (None, 14, 14, 6)         0         \n",
            "                                                                 \n",
            " conv2d_2 (Conv2D)           (None, 10, 10, 16)        2416      \n",
            "                                                                 \n",
            " batch_normalization_2 (Batc  (None, 10, 10, 16)       64        \n",
            " hNormalization)                                                 \n",
            "                                                                 \n",
            " average_pooling2d (AverageP  (None, 5, 5, 16)         0         \n",
            " ooling2D)                                                       \n",
            "                                                                 \n",
            " dropout_1 (Dropout)         (None, 5, 5, 16)          0         \n",
            "                                                                 \n",
            " flatten (Flatten)           (None, 400)               0         \n",
            "                                                                 \n",
            " dense (Dense)               (None, 120)               48120     \n",
            "                                                                 \n",
            " dropout_2 (Dropout)         (None, 120)               0         \n",
            "                                                                 \n",
            " dense_1 (Dense)             (None, 84)                10164     \n",
            "                                                                 \n",
            " dropout_3 (Dropout)         (None, 84)                0         \n",
            "                                                                 \n",
            " dense_2 (Dense)             (None, 10)                850       \n",
            "                                                                 \n",
            "=================================================================\n",
            "Total params: 61,794\n",
            "Trainable params: 61,750\n",
            "Non-trainable params: 44\n",
            "_________________________________________________________________\n"
          ]
        }
      ]
    },
    {
      "cell_type": "markdown",
      "source": [
        "## Step 03: PadocaNet on MNIST"
      ],
      "metadata": {
        "id": "A5YupdsGkhPg"
      }
    },
    {
      "cell_type": "markdown",
      "source": [
        "#### Fetch, Preprocessing and Data Segregation"
      ],
      "metadata": {
        "id": "Zz-gaxhvsiOi"
      }
    },
    {
      "cell_type": "code",
      "source": [
        "args = {\n",
        "  \"project_name\": \"padoca-net\"\n",
        "}"
      ],
      "metadata": {
        "id": "m-UPPYPBsdKN"
      },
      "execution_count": null,
      "outputs": []
    },
    {
      "cell_type": "code",
      "source": [
        "run = wandb.init(entity=\"euripedes\",\n",
        "                 project=args[\"project_name\"], \n",
        "                 job_type=\"Train\")"
      ],
      "metadata": {
        "colab": {
          "base_uri": "https://localhost:8080/",
          "height": 88
        },
        "id": "wunNOyvwsnHl",
        "outputId": "cc9da7ca-875f-43fd-f40c-aace7df4a8d9"
      },
      "execution_count": null,
      "outputs": [
        {
          "output_type": "stream",
          "name": "stderr",
          "text": [
            "\u001b[34m\u001b[1mwandb\u001b[0m: Currently logged in as: \u001b[33meuripedes\u001b[0m. Use \u001b[1m`wandb login --relogin`\u001b[0m to force relogin\n"
          ]
        },
        {
          "output_type": "display_data",
          "data": {
            "text/plain": [
              "<IPython.core.display.HTML object>"
            ],
            "text/html": [
              "Tracking run with wandb version 0.13.5"
            ]
          },
          "metadata": {}
        },
        {
          "output_type": "display_data",
          "data": {
            "text/plain": [
              "<IPython.core.display.HTML object>"
            ],
            "text/html": [
              "Run data is saved locally in <code>/content/wandb/run-20221106_030532-1hbvxwlw</code>"
            ]
          },
          "metadata": {}
        },
        {
          "output_type": "display_data",
          "data": {
            "text/plain": [
              "<IPython.core.display.HTML object>"
            ],
            "text/html": [
              "Syncing run <strong><a href=\"https://wandb.ai/euripedes/padoca-net/runs/1hbvxwlw\" target=\"_blank\">wobbly-field-8</a></strong> to <a href=\"https://wandb.ai/euripedes/padoca-net\" target=\"_blank\">Weights & Biases</a> (<a href=\"https://wandb.me/run\" target=\"_blank\">docs</a>)<br/>"
            ]
          },
          "metadata": {}
        }
      ]
    },
    {
      "cell_type": "code",
      "source": [
        "# grab the MNIST dataset (if this is your first time using this\n",
        "# dataset then the 11MB download may take a second)\n",
        "logger.info(\"[INFO] accessing MNIST...\")\n",
        "((train_x, train_y), (test_x, test_y)) = mnist.load_data()\n",
        "\n",
        "# if we are using \"channels first\" ordering, then reshape the\n",
        "# design matrix such that the matrix is:\n",
        "# num_samples x depth x rows x columns\n",
        "if K.image_data_format() == \"channels_first\":\n",
        "\ttrain_x = train_x.reshape((train_x.shape[0], 1, 28, 28))\n",
        "\ttest_x = test_x.reshape((test_x.shape[0], 1, 28, 28))\n",
        " \n",
        "# otherwise, we are using \"channels last\" ordering, so the design\n",
        "# matrix shape should be: num_samples x rows x columns x depth\n",
        "else:\n",
        "\ttrain_x = train_x.reshape((train_x.shape[0], 28, 28, 1))\n",
        "\ttest_x = test_x.reshape((test_x.shape[0], 28, 28, 1))\n",
        "\n",
        "logger.info(\"Train x: {}\".format(train_x.shape))\n",
        "logger.info(\"Train y: {}\".format(train_y.shape))\n",
        "logger.info(\"Test x: {}\".format(test_x.shape))\n",
        "logger.info(\"Test y: {}\".format(test_y.shape))"
      ],
      "metadata": {
        "colab": {
          "base_uri": "https://localhost:8080/"
        },
        "id": "SyQCnWuisudN",
        "outputId": "e1f6858d-2a52-4bf4-d359-c781776a3c2d"
      },
      "execution_count": null,
      "outputs": [
        {
          "output_type": "stream",
          "name": "stderr",
          "text": [
            "06-11-2022 04:20:07 [INFO] accessing MNIST...\n"
          ]
        },
        {
          "output_type": "stream",
          "name": "stdout",
          "text": [
            "Downloading data from https://storage.googleapis.com/tensorflow/tf-keras-datasets/mnist.npz\n",
            "11490434/11490434 [==============================] - 1s 0us/step\n"
          ]
        },
        {
          "output_type": "stream",
          "name": "stderr",
          "text": [
            "06-11-2022 04:20:09 Train x: (60000, 28, 28, 1)\n",
            "06-11-2022 04:20:09 Train y: (60000,)\n",
            "06-11-2022 04:20:09 Test x: (10000, 28, 28, 1)\n",
            "06-11-2022 04:20:09 Test y: (10000,)\n"
          ]
        }
      ]
    },
    {
      "cell_type": "markdown",
      "source": [
        "**Creating a function to help visualize the images:**"
      ],
      "metadata": {
        "id": "DpS80EKYsxrW"
      }
    },
    {
      "cell_type": "code",
      "source": [
        "def show_image(train_image, label, index):\n",
        "    plt.subplot(3, 6, index+1)\n",
        "    plt.imshow(tf.squeeze(train_image), cmap=plt.cm.gray)\n",
        "    plt.title(label)\n",
        "    plt.grid(b=False)"
      ],
      "metadata": {
        "id": "5AxtZOMts3Qk"
      },
      "execution_count": null,
      "outputs": []
    },
    {
      "cell_type": "markdown",
      "source": [
        "Construct the image generator for data augmentation"
      ],
      "metadata": {
        "id": "UmQO1MvutNk4"
      }
    },
    {
      "cell_type": "code",
      "source": [
        "# construct the image generator for data augmentation then\n",
        "# initialize the total number of images generated thus far\n",
        "aug = ImageDataGenerator(rotation_range=40, width_shift_range=0.2,\n",
        "                         height_shift_range=0.2, shear_range=0.2, zoom_range=0.5,\n",
        "                         horizontal_flip=False, fill_mode=\"nearest\")\n",
        "total = 0\n",
        "image = train_x[10:11,:,:,:]\n",
        "\n",
        "# construct the actual Python generator\n",
        "print(\"[INFO] generating images...\")\n",
        "imageGen = aug.flow(image, batch_size=1)\n",
        "\n",
        "# create a figure\n",
        "plt.figure(figsize=(12, 8))\n",
        "\n",
        "# loop over examples from our image data augmentation generator\n",
        "for img in imageGen:\n",
        "\n",
        "  show_image(img, train_y[10], total)\n",
        "\n",
        "  # increment our counter\n",
        "  total += 1\n",
        "\n",
        "  # if we have reached 10 examples, break from the loop\n",
        "  if total == 18:\n",
        "    break"
      ],
      "metadata": {
        "colab": {
          "base_uri": "https://localhost:8080/",
          "height": 485
        },
        "id": "lyRQwPNNtGFl",
        "outputId": "6112d39b-0cbb-417c-e059-57bdbcaf09cf"
      },
      "execution_count": null,
      "outputs": [
        {
          "output_type": "stream",
          "name": "stdout",
          "text": [
            "[INFO] generating images...\n"
          ]
        },
        {
          "output_type": "display_data",
          "data": {
            "text/plain": [
              "<Figure size 864x576 with 18 Axes>"
            ],
            "image/png": "[encoded data removed]"
          },
          "metadata": {
            "needs_background": "light"
          }
        }
      ]
    },
    {
      "cell_type": "markdown",
      "source": [
        "Normalize the data"
      ],
      "metadata": {
        "id": "Oqd6pCQJtJxI"
      }
    },
    {
      "cell_type": "code",
      "source": [
        "# scale data to the range of [0, 1]\n",
        "train_x = train_x.astype(\"float32\") / 255.0\n",
        "test_x = test_x.astype(\"float32\") / 255.0\n",
        "\n",
        "# convert the labels from integers to vectors\n",
        "lb = LabelBinarizer()\n",
        "train_y = lb.fit_transform(train_y)\n",
        "test_y = lb.transform(test_y)"
      ],
      "metadata": {
        "id": "7gPY9bAjtJQm"
      },
      "execution_count": null,
      "outputs": []
    },
    {
      "cell_type": "markdown",
      "source": [
        "###**Training**"
      ],
      "metadata": {
        "id": "Os1yBoJ7rOFy"
      }
    },
    {
      "cell_type": "code",
      "source": [
        "# create codecarbon tracker\n",
        "# codecarbon is too much verbose, change the log level for more info\n",
        "tracker = EmissionsTracker(log_level=\"critical\")\n",
        "tracker.start()\n",
        "\n",
        "# initialize the optimizer and model\n",
        "logger.info(\"[INFO] compiling model...\")\n",
        "opt = Adam(learning_rate=0.005)\n",
        "model = PacodaNet.build(width=28, height=28, depth=1, classes=10)\n",
        "model.compile(loss=\"categorical_crossentropy\", optimizer=opt,\n",
        "              metrics=[\"accuracy\"])\n",
        "\n",
        "aug = ImageDataGenerator(rotation_range=40, width_shift_range=0.2,\n",
        "                         height_shift_range=0.2, shear_range=0.2, zoom_range=0.5,\n",
        "                         horizontal_flip=False, fill_mode=\"nearest\")\n",
        "\n",
        "# train the network\n",
        "logger.info(\"[INFO] training network...\")\n",
        "history = model.fit(aug.flow(train_x, train_y, batch_size=64),\n",
        "                    validation_data=(test_x, test_y), \n",
        "                    epochs=20, \n",
        "                    verbose=0,\n",
        "                    callbacks=[wandb.keras.WandbCallback(save_model=False,\n",
        "                                                         compute_flops=True)])\n",
        "\n",
        "# get co2 emissions from tracker\n",
        "# \"CO2 emission (in Kg)\"\n",
        "emissions = tracker.stop()"
      ],
      "metadata": {
        "colab": {
          "base_uri": "https://localhost:8080/"
        },
        "id": "VuFiWTfprSKU",
        "outputId": "329e9cb1-6cf1-4b35-ecdc-e20b0b48c14c"
      },
      "execution_count": null,
      "outputs": [
        {
          "output_type": "stream",
          "name": "stderr",
          "text": [
            "06-11-2022 02:17:22 [INFO] compiling model...\n",
            "06-11-2022 02:17:22 [INFO] training network...\n",
            "06-11-2022 02:17:22 From /usr/local/lib/python3.7/dist-packages/tensorflow/python/ops/nn_ops.py:5219: tensor_shape_from_node_def_name (from tensorflow.python.framework.graph_util_impl) is deprecated and will be removed in a future version.\n",
            "Instructions for updating:\n",
            "Use `tf.compat.v1.graph_util.tensor_shape_from_node_def_name`\n"
          ]
        }
      ]
    },
    {
      "cell_type": "markdown",
      "source": [
        "### **Evaluation Metrics**"
      ],
      "metadata": {
        "id": "3OF6NAfWrlwO"
      }
    },
    {
      "cell_type": "code",
      "source": [
        "# plot the training loss and accuracy\n",
        "plt.style.use(\"ggplot\")\n",
        "fig, ax = plt.subplots(1,1,figsize=(10,8))\n",
        "\n",
        "ax.plot(np.arange(0, 20), history.history[\"loss\"], label=\"train_loss\",linestyle='--')\n",
        "ax.plot(np.arange(0, 20), history.history[\"val_loss\"], label=\"val_loss\",linestyle='--')\n",
        "ax.plot(np.arange(0, 20), history.history[\"accuracy\"], label=\"train_acc\")\n",
        "ax.plot(np.arange(0, 20), history.history[\"val_accuracy\"], label=\"val_acc\")\n",
        "ax.set_title(\"Training Loss and Accuracy\")\n",
        "ax.set_xlabel(\"Epoch #\")\n",
        "ax.set_ylabel(\"Loss/Accuracy\")\n",
        "ax.legend()\n",
        "plt.show()"
      ],
      "metadata": {
        "colab": {
          "base_uri": "https://localhost:8080/",
          "height": 517
        },
        "id": "0veK03EvrnqR",
        "outputId": "7eab6fa6-3f43-4cec-cca1-8d7b7752ba1b"
      },
      "execution_count": null,
      "outputs": [
        {
          "output_type": "display_data",
          "data": {
            "text/plain": [
              "<Figure size 720x576 with 1 Axes>"
            ],
            "image/png": "[encoded data removed]"
          },
          "metadata": {}
        }
      ]
    },
    {
      "cell_type": "code",
      "source": [
        "print(\"[INFO] {} kWh of electricity used since the begining\".format(tracker.final_emissions_data.energy_consumed))\n",
        "print(\"[INFO] Energy consumed for RAM: {} kWh\".format(tracker.final_emissions_data.ram_energy))\n",
        "print(\"[INFO] Energy consumed for all GPU: {} kWh\".format(tracker.final_emissions_data.gpu_energy))\n",
        "print(\"[INFO] Energy consumed for all CPU: {} kWh\".format(tracker.final_emissions_data.cpu_energy))\n",
        "print(\"[INFO] CO2 emission {}(in Kg)\".format(tracker.final_emissions_data.emissions))"
      ],
      "metadata": {
        "colab": {
          "base_uri": "https://localhost:8080/"
        },
        "id": "FJEJWxIMrqa3",
        "outputId": "402b5955-628b-48ee-d676-fb48bbc8cf10"
      },
      "execution_count": null,
      "outputs": [
        {
          "output_type": "stream",
          "name": "stdout",
          "text": [
            "[INFO] 0.008747056717239599 kWh of electricity used since the begining\n",
            "[INFO] Energy consumed for RAM: 0.0005379522233418399 kWh\n",
            "[INFO] Energy consumed for all GPU: 0.003397083061080774 kWh\n",
            "[INFO] Energy consumed for all CPU: 0.004812021432816983 kWh\n",
            "[INFO] CO2 emission 0.003471490022123804(in Kg)\n"
          ]
        }
      ]
    },
    {
      "cell_type": "code",
      "source": [
        "# evaluate the network\n",
        "print(\"[INFO] evaluating network...\")\n",
        "predictions = model.predict(test_x, batch_size=32)\n",
        "print(classification_report(test_y.argmax(axis=1),\n",
        "                            predictions.argmax(axis=1),\n",
        "                            target_names=[str(i) for i in lb.classes_]))"
      ],
      "metadata": {
        "colab": {
          "base_uri": "https://localhost:8080/"
        },
        "id": "X3ETWlDirtSY",
        "outputId": "69946eca-5ab4-47a1-ade8-d8c9538b5a91"
      },
      "execution_count": null,
      "outputs": [
        {
          "output_type": "stream",
          "name": "stdout",
          "text": [
            "[INFO] evaluating network...\n",
            "313/313 [==============================] - 1s 2ms/step\n",
            "              precision    recall  f1-score   support\n",
            "\n",
            "           0       0.93      1.00      0.96       980\n",
            "           1       1.00      0.96      0.98      1135\n",
            "           2       0.92      0.96      0.94      1032\n",
            "           3       0.97      0.97      0.97      1010\n",
            "           4       0.97      0.84      0.90       982\n",
            "           5       0.97      0.95      0.96       892\n",
            "           6       0.87      0.97      0.92       958\n",
            "           7       0.97      0.88      0.92      1028\n",
            "           8       0.89      0.95      0.92       974\n",
            "           9       0.92      0.92      0.92      1009\n",
            "\n",
            "    accuracy                           0.94     10000\n",
            "   macro avg       0.94      0.94      0.94     10000\n",
            "weighted avg       0.94      0.94      0.94     10000\n",
            "\n"
          ]
        }
      ]
    },
    {
      "cell_type": "code",
      "source": [
        "fig_confusion_matrix, ax = plt.subplots(1,1,figsize=(7,4))\n",
        "ConfusionMatrixDisplay(confusion_matrix(predictions.argmax(axis=1),\n",
        "                                        test_y.argmax(axis=1)),\n",
        "                       display_labels=lb.classes_).plot(values_format=\".0f\",ax=ax)\n",
        "\n",
        "ax.set_xlabel(\"True Label\")\n",
        "ax.set_ylabel(\"Predicted Label\")\n",
        "ax.grid(False)\n",
        "plt.show()"
      ],
      "metadata": {
        "colab": {
          "base_uri": "https://localhost:8080/",
          "height": 282
        },
        "id": "WGtAgZ3grvcy",
        "outputId": "799036ab-7aa4-4897-b13d-d4f487f750eb"
      },
      "execution_count": null,
      "outputs": [
        {
          "output_type": "display_data",
          "data": {
            "text/plain": [
              "<Figure size 504x288 with 2 Axes>"
            ],
            "image/png": "[encoded data removed]"
          },
          "metadata": {}
        }
      ]
    },
    {
      "cell_type": "code",
      "source": [
        "# Uploading figures\n",
        "logger.info(\"Uploading figures\")\n",
        "run.log(\n",
        "    {\n",
        "        \"confusion_matrix\": wandb.Image(fig_confusion_matrix),\n",
        "        # \"other_figure\": wandb.Image(other_fig)\n",
        "    }\n",
        ")"
      ],
      "metadata": {
        "colab": {
          "base_uri": "https://localhost:8080/"
        },
        "id": "XIry3iElrxDh",
        "outputId": "04cc191d-26fe-45b6-9e5c-f377762391c3"
      },
      "execution_count": null,
      "outputs": [
        {
          "output_type": "stream",
          "name": "stderr",
          "text": [
            "06-11-2022 02:27:07 Uploading figures\n"
          ]
        }
      ]
    },
    {
      "cell_type": "code",
      "source": [
        "# Evaluation Metrics\n",
        "logger.info(\"Validation Evaluation metrics\")\n",
        "fbeta = fbeta_score(test_y.argmax(axis=1), \n",
        "                    predictions.argmax(axis=1), \n",
        "                    beta=1, zero_division=1,average='weighted')\n",
        "precision = precision_score(test_y.argmax(axis=1),\n",
        "                            predictions.argmax(axis=1),\n",
        "                            zero_division=1,average='weighted')\n",
        "recall = recall_score(test_y.argmax(axis=1),\n",
        "                      predictions.argmax(axis=1),\n",
        "                      zero_division=1,average='weighted')\n",
        "acc = accuracy_score(test_y.argmax(axis=1),\n",
        "                     predictions.argmax(axis=1))\n",
        "\n",
        "logger.info(\"Validation Accuracy: {}\".format(acc))\n",
        "logger.info(\"Validation Precision: {}\".format(precision))\n",
        "logger.info(\"Validation Recall: {}\".format(recall))\n",
        "logger.info(\"Validation F1: {}\".format(fbeta))\n",
        "\n",
        "run.summary[\"Acc\"] = acc\n",
        "run.summary[\"Precision\"] = precision\n",
        "run.summary[\"Recall\"] = recall\n",
        "run.summary[\"F1\"] = fbeta\n",
        "# number of parameters\n",
        "run.summary[\"Count_Params\"] = model.count_params()\n",
        "# energy unit is kWh\n",
        "run.summary[\"Energy_Consumed\"] = tracker.final_emissions_data.energy_consumed\n",
        "run.summary[\"Energy_RAM\"] = tracker.final_emissions_data.ram_energy\n",
        "run.summary[\"Energy_GPU\"] = tracker.final_emissions_data.gpu_energy\n",
        "run.summary[\"Energy_CPU\"] = tracker.final_emissions_data.cpu_energy\n",
        "# kg\n",
        "run.summary[\"CO2_Emissions\"] = tracker.final_emissions_data.emissions"
      ],
      "metadata": {
        "colab": {
          "base_uri": "https://localhost:8080/"
        },
        "id": "1h6qNewPrzmd",
        "outputId": "d4bbc7a3-d26c-40f0-ca3c-82e0619c058b"
      },
      "execution_count": null,
      "outputs": [
        {
          "output_type": "stream",
          "name": "stderr",
          "text": [
            "06-11-2022 02:27:10 Validation Evaluation metrics\n",
            "06-11-2022 02:27:10 Validation Accuracy: 0.94\n",
            "06-11-2022 02:27:10 Validation Precision: 0.9423053271626246\n",
            "06-11-2022 02:27:10 Validation Recall: 0.94\n",
            "06-11-2022 02:27:10 Validation F1: 0.9398930240646992\n"
          ]
        }
      ]
    },
    {
      "cell_type": "code",
      "source": [
        "run.finish()"
      ],
      "metadata": {
        "colab": {
          "base_uri": "https://localhost:8080/",
          "height": 87
        },
        "id": "wghdcQ5Lr0NJ",
        "outputId": "949b8306-5796-4466-cced-17b4e41484ae"
      },
      "execution_count": null,
      "outputs": [
        {
          "output_type": "display_data",
          "data": {
            "text/plain": [
              "<IPython.core.display.HTML object>"
            ],
            "text/html": [
              "Waiting for W&B process to finish... <strong style=\"color:green\">(success).</strong>"
            ]
          },
          "metadata": {}
        },
        {
          "output_type": "display_data",
          "data": {
            "text/plain": [
              "<IPython.core.display.HTML object>"
            ],
            "text/html": [
              "Synced <strong style=\"color:#cdcd00\">wobbly-field-8</strong>: <a href=\"https://wandb.ai/euripedes/padoca-net/runs/1hbvxwlw\" target=\"_blank\">https://wandb.ai/euripedes/padoca-net/runs/1hbvxwlw</a><br/>Synced 5 W&B file(s), 0 media file(s), 0 artifact file(s) and 0 other file(s)"
            ]
          },
          "metadata": {}
        },
        {
          "output_type": "display_data",
          "data": {
            "text/plain": [
              "<IPython.core.display.HTML object>"
            ],
            "text/html": [
              "Find logs at: <code>./wandb/run-20221106_030532-1hbvxwlw/logs</code>"
            ]
          },
          "metadata": {}
        }
      ]
    },
    {
      "cell_type": "markdown",
      "source": [
        "## Step 04: Hyperparameter tuning with W&B Sweep"
      ],
      "metadata": {
        "id": "x445kkvbszNG"
      }
    },
    {
      "cell_type": "code",
      "source": [
        "# Configure the sweep \n",
        "sweep_config = {\n",
        "    'method': 'random', \n",
        "    'metric': {\n",
        "      'name': 'val_accuracy',\n",
        "      'goal': 'maximize'   \n",
        "    },\n",
        "    'parameters': {\n",
        "        # Normal model\n",
        "        'conv_layer': { 'max': 4, 'min': 1, 'distribution': 'int_uniform', },\n",
        "        'filters': { 'values': [6, 12, 16] },\n",
        "        'learn_rate': { 'values': [0.001, 0.005] },\n",
        "        'epochs': { 'values': [10, 20] },\n",
        "        'batch_size': { 'values': [32,64] },\n",
        "        'dropout': { 'values' : [0.25, 0.5] },\n",
        "        'dropout_fc': { 'values' : [0.25, 0.5]},\n",
        "        'pooling' : { 'values': [0, 1]},\n",
        "\n",
        "        # Augmentation\n",
        "        'rotation_range': { 'values' : [20, 30] },\n",
        "        'width_shift_range': { 'values' : [0.1, 0.2] },\n",
        "        'height_shift_range': { 'values' : [0.1, 0.2] },\n",
        "        'shear_range' : { 'values' : [0.2, 0.3] },\n",
        "        'zoom_range' : { 'values' : [0.3, 0.4] }\n",
        "    }\n",
        "}"
      ],
      "metadata": {
        "id": "9q-cVI7Ws5Lx"
      },
      "execution_count": null,
      "outputs": []
    },
    {
      "cell_type": "markdown",
      "source": [
        "Initialize a new sweep\n",
        "Arguments:\n",
        "\n",
        "* sweep_config: the sweep config dictionary defined above\n",
        "* entity: Set the username for the sweep\n",
        "* project: Set the project name for the sweep"
      ],
      "metadata": {
        "id": "beVm_zZQn2h4"
      }
    },
    {
      "cell_type": "code",
      "source": [
        "sweep_id = wandb.sweep(sweep_config,\n",
        "                       entity=\"euripedes\",\n",
        "                       project=args[\"project_name\"])"
      ],
      "metadata": {
        "colab": {
          "base_uri": "https://localhost:8080/"
        },
        "id": "wtk33Idbxk0-",
        "outputId": "877b3a22-2eb3-43d6-e5a3-cfcd77ef6a48"
      },
      "execution_count": null,
      "outputs": [
        {
          "output_type": "stream",
          "name": "stdout",
          "text": [
            "Create sweep with ID: qdzs0nra\n",
            "Sweep URL: https://wandb.ai/euripedes/padoca-net/sweeps/qdzs0nra\n"
          ]
        }
      ]
    },
    {
      "cell_type": "markdown",
      "source": [
        "**Adapting the model**"
      ],
      "metadata": {
        "id": "fGZz-1onxnjW"
      }
    },
    {
      "cell_type": "code",
      "source": [
        "class PacodaNetTuned:\n",
        "  @staticmethod\n",
        "  def build(width, height, depth, classes, config):\n",
        "    # initialize the model\n",
        "    model = Sequential()\n",
        "    inputShape = (height, width, depth)\n",
        "    \n",
        "    # if we are using \"channels first\", update the input shape\n",
        "    if K.image_data_format() == \"channels_first\":\n",
        "      inputShape = (depth, height, width)\n",
        "   \n",
        "    # first set of CONV => RELU => POOL layers\n",
        "    for i in range(config.conv_layer):\n",
        "      model.add(Conv2D(config.filters, (5,5), strides=1, padding='same',\n",
        "                     activation='relu', input_shape=(28,28,1), ))\n",
        "      model.add(BatchNormalization())\n",
        "      if config.pooling == 1:\n",
        "        model.add(MaxPooling2D())\n",
        "      else:\n",
        "        model.add(AveragePooling2D())\n",
        "      model.add(Dropout(config.dropout)) \n",
        "\n",
        "    # a flatten and two set of FC => RELU layers\n",
        "    model.add(Flatten()) #Flatten\n",
        "    model.add(Dense(120, activation='relu'))\n",
        "    model.add(Dropout(config.dropout_fc)) \n",
        "    model.add(Dense(84, activation='relu')) \n",
        "    model.add(Dropout(config.dropout_fc))\n",
        "\n",
        "    # softmax classifier\n",
        "    model.add(Dense(10, activation='softmax')) #Output layer\n",
        "    \n",
        "    # return the constructed network architecture\n",
        "    return model"
      ],
      "metadata": {
        "id": "fNXhQ6jAy7XE"
      },
      "execution_count": null,
      "outputs": []
    },
    {
      "cell_type": "markdown",
      "source": [
        "**Training**"
      ],
      "metadata": {
        "id": "E54d3GGW14P2"
      }
    },
    {
      "cell_type": "code",
      "source": [
        "def train():\n",
        "  with wandb.init() as run:\n",
        "    # create codecarbon tracker\n",
        "    # codecarbon is too much verbose, change the log level for more info\n",
        "    tracker = EmissionsTracker(log_level=\"critical\")\n",
        "    tracker.start()\n",
        "\n",
        "    # initialize the optimizer and model\n",
        "    logger.info(\"[INFO] compiling model...\")\n",
        "    opt = Adam(learning_rate=run.config.learn_rate)\n",
        "    model = PacodaNetTuned.build(width=28, height=28, depth=1, \n",
        "                                         classes=10, config=run.config)\n",
        "    model.compile(loss=\"categorical_crossentropy\", optimizer=opt,\n",
        "                  metrics=[\"accuracy\"])\n",
        "\n",
        "    # construct the image generator for data augmentation then\n",
        "    # initialize the total number of images generated thus far\n",
        "    aug = ImageDataGenerator(rotation_range = run.config.rotation_range,\n",
        "                             width_shift_range = run.config.width_shift_range,\n",
        "                            height_shift_range = run.config.height_shift_range, \n",
        "                             shear_range = run.config.shear_range, \n",
        "                            zoom_range = run.config.zoom_range,\n",
        "                            horizontal_flip=False, \n",
        "                             fill_mode=\"nearest\")\n",
        "\n",
        "    # train the network\n",
        "    logger.info(\"[INFO] training network...\")\n",
        "    history = model.fit(aug.flow(train_x, train_y, batch_size = run.config.batch_size),\n",
        "                        validation_data=(test_x, test_y),\n",
        "                        epochs=run.config.epochs, \n",
        "                        verbose=0,\n",
        "                        callbacks=[wandb.keras.WandbCallback(save_model=False,\n",
        "                                                            compute_flops=True)])\n",
        "\n",
        "    # get co2 emissions from tracker\n",
        "    # \"CO2 emission (in Kg)\"\n",
        "    emissions = tracker.stop()\n",
        "\n",
        "    # evaluate the network\n",
        "    print(\"[INFO] evaluating network...\")\n",
        "    predictions = model.predict(test_x, batch_size=32)\n",
        "    print(classification_report(test_y.argmax(axis=1),\n",
        "                                predictions.argmax(axis=1),\n",
        "                                target_names=[str(i) for i in lb.classes_]))\n",
        "\n",
        "    # Evaluation Metrics\n",
        "    logger.info(\"Validation Evaluation metrics\")\n",
        "    fbeta = fbeta_score(test_y.argmax(axis=1), \n",
        "                        predictions.argmax(axis=1), \n",
        "                        beta=1, zero_division=1,average='weighted')\n",
        "    precision = precision_score(test_y.argmax(axis=1),\n",
        "                                predictions.argmax(axis=1),\n",
        "                                zero_division=1,average='weighted')\n",
        "    recall = recall_score(test_y.argmax(axis=1),\n",
        "                          predictions.argmax(axis=1),\n",
        "                          zero_division=1,average='weighted')\n",
        "    acc = accuracy_score(test_y.argmax(axis=1),\n",
        "                        predictions.argmax(axis=1))\n",
        "\n",
        "    logger.info(\"Validation Accuracy: {}\".format(acc))\n",
        "    logger.info(\"Validation Precision: {}\".format(precision))\n",
        "    logger.info(\"Validation Recall: {}\".format(recall))\n",
        "    logger.info(\"Validation F1: {}\".format(fbeta))\n",
        "\n",
        "    run.summary[\"Acc\"] = acc\n",
        "    run.summary[\"Precision\"] = precision\n",
        "    run.summary[\"Recall\"] = recall\n",
        "    run.summary[\"F1\"] = fbeta\n",
        "    # number of parameters\n",
        "    run.summary[\"Count_Params\"] = model.count_params()\n",
        "    # energy unit is kWh\n",
        "    run.summary[\"Energy_Consumed\"] = tracker.final_emissions_data.energy_consumed\n",
        "    run.summary[\"Energy_RAM\"] = tracker.final_emissions_data.ram_energy\n",
        "    run.summary[\"Energy_GPU\"] = tracker.final_emissions_data.gpu_energy\n",
        "    run.summary[\"Energy_CPU\"] = tracker.final_emissions_data.cpu_energy\n",
        "    # kg\n",
        "    run.summary[\"CO2_Emissions\"] = tracker.final_emissions_data.emissions\n",
        "\n",
        "    run.finish()"
      ],
      "metadata": {
        "id": "J5N5BX3o0yuk"
      },
      "execution_count": null,
      "outputs": []
    },
    {
      "cell_type": "code",
      "source": [
        "wandb.agent(sweep_id = sweep_id, function=train, count=10)"
      ],
      "metadata": {
        "colab": {
          "base_uri": "https://localhost:8080/",
          "height": 1000,
          "referenced_widgets": [
            "29243057de0140fbba58719c1d41bb71",
            "0a874427c99e42029cf86a960b3410e6",
            "071eb3ff85764616965a6c86ec53c4c7",
            "83bd55bf98cf4ff89498035270112918",
            "d78505f3e3854095bc15f6ff95e5ed43",
            "5737682f48b24c268c819a57e9189b08",
            "5c84146417fd4bb989bcd5b882632367",
            "17aeba3989eb482da4a4a3f3e230d5aa",
            "0911412057bd407c9284b258c894d112",
            "550e848a23a54f45906745df99e276d6",
            "c8e8242079134932bcd9ca70088bccc7",
            "2a7db45995e04a3f9109354528c3f668",
            "3205ba7589fd47b48bfee3e8853203ac",
            "85673efb91e34fcc931d1eab75c25282",
            "6157b23d4df245e6bbacd043a9ada4c8",
            "4f96922f5e2447c0bfb95c710808707d"
          ]
        },
        "id": "1v5uh8jF15HS",
        "outputId": "c5cded73-cb97-43df-ea2d-40e196fc76c1"
      },
      "execution_count": null,
      "outputs": [
        {
          "output_type": "stream",
          "name": "stderr",
          "text": [
            "\u001b[34m\u001b[1mwandb\u001b[0m: Agent Starting Run: 364c2b1e with config:\n",
            "\u001b[34m\u001b[1mwandb\u001b[0m: \tbatch_size: 32\n",
            "\u001b[34m\u001b[1mwandb\u001b[0m: \tconv_layer: 2\n",
            "\u001b[34m\u001b[1mwandb\u001b[0m: \tdropout: 0.5\n",
            "\u001b[34m\u001b[1mwandb\u001b[0m: \tdropout_fc: 0.25\n",
            "\u001b[34m\u001b[1mwandb\u001b[0m: \tepochs: 20\n",
            "\u001b[34m\u001b[1mwandb\u001b[0m: \tfilters: 16\n",
            "\u001b[34m\u001b[1mwandb\u001b[0m: \theight_shift_range: 0.1\n",
            "\u001b[34m\u001b[1mwandb\u001b[0m: \tlearn_rate: 0.005\n",
            "\u001b[34m\u001b[1mwandb\u001b[0m: \tpooling: 1\n",
            "\u001b[34m\u001b[1mwandb\u001b[0m: \trotation_range: 20\n",
            "\u001b[34m\u001b[1mwandb\u001b[0m: \tshear_range: 0.2\n",
            "\u001b[34m\u001b[1mwandb\u001b[0m: \twidth_shift_range: 0.2\n",
            "\u001b[34m\u001b[1mwandb\u001b[0m: \tzoom_range: 0.3\n",
            "Failed to detect the name of this notebook, you can set it manually with the WANDB_NOTEBOOK_NAME environment variable to enable code saving.\n"
          ]
        },
        {
          "output_type": "display_data",
          "data": {
            "text/plain": [
              "<IPython.core.display.HTML object>"
            ],
            "text/html": [
              "Tracking run with wandb version 0.13.5"
            ]
          },
          "metadata": {}
        },
        {
          "output_type": "display_data",
          "data": {
            "text/plain": [
              "<IPython.core.display.HTML object>"
            ],
            "text/html": [
              "Run data is saved locally in <code>/content/wandb/run-20221106_031038-364c2b1e</code>"
            ]
          },
          "metadata": {}
        },
        {
          "output_type": "display_data",
          "data": {
            "text/plain": [
              "<IPython.core.display.HTML object>"
            ],
            "text/html": [
              "Syncing run <strong><a href=\"https://wandb.ai/euripedes/padoca-net/runs/364c2b1e\" target=\"_blank\">golden-sweep-1</a></strong> to <a href=\"https://wandb.ai/euripedes/padoca-net\" target=\"_blank\">Weights & Biases</a> (<a href=\"https://wandb.me/run\" target=\"_blank\">docs</a>)<br/>Sweep page:  <a href=\"https://wandb.ai/euripedes/padoca-net/sweeps/qdzs0nra\" target=\"_blank\">https://wandb.ai/euripedes/padoca-net/sweeps/qdzs0nra</a>"
            ]
          },
          "metadata": {}
        },
        {
          "output_type": "stream",
          "name": "stderr",
          "text": [
            "06-11-2022 03:10:42 [INFO] compiling model...\n",
            "06-11-2022 03:10:42 [INFO] training network...\n",
            "06-11-2022 03:10:42 From /usr/local/lib/python3.7/dist-packages/tensorflow/python/ops/nn_ops.py:5219: tensor_shape_from_node_def_name (from tensorflow.python.framework.graph_util_impl) is deprecated and will be removed in a future version.\n",
            "Instructions for updating:\n",
            "Use `tf.compat.v1.graph_util.tensor_shape_from_node_def_name`\n"
          ]
        },
        {
          "output_type": "stream",
          "name": "stdout",
          "text": [
            "[INFO] evaluating network...\n",
            "313/313 [==============================] - 1s 2ms/step\n"
          ]
        },
        {
          "output_type": "stream",
          "name": "stderr",
          "text": [
            "06-11-2022 03:18:37 Validation Evaluation metrics\n",
            "06-11-2022 03:18:37 Validation Accuracy: 0.9835\n",
            "06-11-2022 03:18:37 Validation Precision: 0.983714563872701\n",
            "06-11-2022 03:18:37 Validation Recall: 0.9835\n",
            "06-11-2022 03:18:37 Validation F1: 0.9835124436257189\n"
          ]
        },
        {
          "output_type": "stream",
          "name": "stdout",
          "text": [
            "              precision    recall  f1-score   support\n",
            "\n",
            "           0       0.99      0.99      0.99       980\n",
            "           1       1.00      0.99      0.99      1135\n",
            "           2       0.95      1.00      0.97      1032\n",
            "           3       0.98      1.00      0.99      1010\n",
            "           4       0.99      0.98      0.99       982\n",
            "           5       0.98      0.99      0.99       892\n",
            "           6       0.99      0.99      0.99       958\n",
            "           7       0.98      0.96      0.97      1028\n",
            "           8       0.99      0.97      0.98       974\n",
            "           9       0.98      0.97      0.98      1009\n",
            "\n",
            "    accuracy                           0.98     10000\n",
            "   macro avg       0.98      0.98      0.98     10000\n",
            "weighted avg       0.98      0.98      0.98     10000\n",
            "\n"
          ]
        },
        {
          "output_type": "display_data",
          "data": {
            "text/plain": [
              "<IPython.core.display.HTML object>"
            ],
            "text/html": [
              "Waiting for W&B process to finish... <strong style=\"color:green\">(success).</strong>"
            ]
          },
          "metadata": {}
        },
        {
          "output_type": "display_data",
          "data": {
            "text/plain": [
              "<IPython.core.display.HTML object>"
            ],
            "text/html": [
              "<style>\n",
              "    table.wandb td:nth-child(1) { padding: 0 10px; text-align: left ; width: auto;} td:nth-child(2) {text-align: left ; width: 100%}\n",
              "    .wandb-row { display: flex; flex-direction: row; flex-wrap: wrap; justify-content: flex-start; width: 100% }\n",
              "    .wandb-col { display: flex; flex-direction: column; flex-basis: 100%; flex: 1; padding: 10px; }\n",
              "    </style>\n",
              "<div class=\"wandb-row\"><div class=\"wandb-col\"><h3>Run history:</h3><br/><table class=\"wandb\"><tr><td>accuracy</td><td>▁▆▇▇▇▇▇█████████████</td></tr><tr><td>epoch</td><td>▁▁▂▂▂▃▃▄▄▄▅▅▅▆▆▇▇▇██</td></tr><tr><td>loss</td><td>█▃▂▂▂▂▂▁▁▁▁▁▁▁▁▁▁▁▁▁</td></tr><tr><td>val_accuracy</td><td>▁▄▅▄▅▆▆▇▇▇▁▆█▇▇█▇██▇</td></tr><tr><td>val_loss</td><td>▇▄▄▄▃▂▃▂▂▂█▃▁▁▂▂▂▁▁▂</td></tr></table><br/></div><div class=\"wandb-col\"><h3>Run summary:</h3><br/><table class=\"wandb\"><tr><td>Acc</td><td>0.9835</td></tr><tr><td>CO2_Emissions</td><td>0.00393</td></tr><tr><td>Count_Params</td><td>112174</td></tr><tr><td>Energy_CPU</td><td>0.00559</td></tr><tr><td>Energy_Consumed</td><td>0.0099</td></tr><tr><td>Energy_GPU</td><td>0.00368</td></tr><tr><td>Energy_RAM</td><td>0.00063</td></tr><tr><td>F1</td><td>0.98351</td></tr><tr><td>GFLOPs</td><td>0.00169</td></tr><tr><td>Precision</td><td>0.98371</td></tr><tr><td>Recall</td><td>0.9835</td></tr><tr><td>accuracy</td><td>0.89508</td></tr><tr><td>best_epoch</td><td>12</td></tr><tr><td>best_val_loss</td><td>0.04296</td></tr><tr><td>epoch</td><td>19</td></tr><tr><td>loss</td><td>0.37748</td></tr><tr><td>val_accuracy</td><td>0.9835</td></tr><tr><td>val_loss</td><td>0.05464</td></tr></table><br/></div></div>"
            ]
          },
          "metadata": {}
        },
        {
          "output_type": "display_data",
          "data": {
            "text/plain": [
              "<IPython.core.display.HTML object>"
            ],
            "text/html": [
              "Synced <strong style=\"color:#cdcd00\">golden-sweep-1</strong>: <a href=\"https://wandb.ai/euripedes/padoca-net/runs/364c2b1e\" target=\"_blank\">https://wandb.ai/euripedes/padoca-net/runs/364c2b1e</a><br/>Synced 5 W&B file(s), 0 media file(s), 0 artifact file(s) and 0 other file(s)"
            ]
          },
          "metadata": {}
        },
        {
          "output_type": "display_data",
          "data": {
            "text/plain": [
              "<IPython.core.display.HTML object>"
            ],
            "text/html": [
              "Find logs at: <code>./wandb/run-20221106_031038-364c2b1e/logs</code>"
            ]
          },
          "metadata": {}
        },
        {
          "output_type": "stream",
          "name": "stderr",
          "text": [
            "\u001b[34m\u001b[1mwandb\u001b[0m: Agent Starting Run: hft3ys3b with config:\n",
            "\u001b[34m\u001b[1mwandb\u001b[0m: \tbatch_size: 32\n",
            "\u001b[34m\u001b[1mwandb\u001b[0m: \tconv_layer: 3\n",
            "\u001b[34m\u001b[1mwandb\u001b[0m: \tdropout: 0.25\n",
            "\u001b[34m\u001b[1mwandb\u001b[0m: \tdropout_fc: 0.5\n",
            "\u001b[34m\u001b[1mwandb\u001b[0m: \tepochs: 10\n",
            "\u001b[34m\u001b[1mwandb\u001b[0m: \tfilters: 6\n",
            "\u001b[34m\u001b[1mwandb\u001b[0m: \theight_shift_range: 0.1\n",
            "\u001b[34m\u001b[1mwandb\u001b[0m: \tlearn_rate: 0.001\n",
            "\u001b[34m\u001b[1mwandb\u001b[0m: \tpooling: 1\n",
            "\u001b[34m\u001b[1mwandb\u001b[0m: \trotation_range: 20\n",
            "\u001b[34m\u001b[1mwandb\u001b[0m: \tshear_range: 0.3\n",
            "\u001b[34m\u001b[1mwandb\u001b[0m: \twidth_shift_range: 0.1\n",
            "\u001b[34m\u001b[1mwandb\u001b[0m: \tzoom_range: 0.4\n",
            "Failed to detect the name of this notebook, you can set it manually with the WANDB_NOTEBOOK_NAME environment variable to enable code saving.\n"
          ]
        },
        {
          "output_type": "display_data",
          "data": {
            "text/plain": [
              "<IPython.core.display.HTML object>"
            ],
            "text/html": [
              "Tracking run with wandb version 0.13.5"
            ]
          },
          "metadata": {}
        },
        {
          "output_type": "display_data",
          "data": {
            "text/plain": [
              "<IPython.core.display.HTML object>"
            ],
            "text/html": [
              "Run data is saved locally in <code>/content/wandb/run-20221106_031847-hft3ys3b</code>"
            ]
          },
          "metadata": {}
        },
        {
          "output_type": "display_data",
          "data": {
            "text/plain": [
              "<IPython.core.display.HTML object>"
            ],
            "text/html": [
              "Syncing run <strong><a href=\"https://wandb.ai/euripedes/padoca-net/runs/hft3ys3b\" target=\"_blank\">silver-sweep-2</a></strong> to <a href=\"https://wandb.ai/euripedes/padoca-net\" target=\"_blank\">Weights & Biases</a> (<a href=\"https://wandb.me/run\" target=\"_blank\">docs</a>)<br/>Sweep page:  <a href=\"https://wandb.ai/euripedes/padoca-net/sweeps/qdzs0nra\" target=\"_blank\">https://wandb.ai/euripedes/padoca-net/sweeps/qdzs0nra</a>"
            ]
          },
          "metadata": {}
        },
        {
          "output_type": "stream",
          "name": "stderr",
          "text": [
            "06-11-2022 03:18:50 [INFO] compiling model...\n",
            "06-11-2022 03:18:50 [INFO] training network...\n"
          ]
        },
        {
          "output_type": "stream",
          "name": "stdout",
          "text": [
            "[INFO] evaluating network...\n",
            "313/313 [==============================] - 1s 2ms/step\n"
          ]
        },
        {
          "output_type": "stream",
          "name": "stderr",
          "text": [
            "06-11-2022 03:22:55 Validation Evaluation metrics\n",
            "06-11-2022 03:22:55 Validation Accuracy: 0.9715\n",
            "06-11-2022 03:22:55 Validation Precision: 0.9716613958264195\n",
            "06-11-2022 03:22:55 Validation Recall: 0.9715\n"
          ]
        },
        {
          "output_type": "stream",
          "name": "stdout",
          "text": [
            "              precision    recall  f1-score   support\n",
            "\n",
            "           0       0.98      0.97      0.98       980\n",
            "           1       0.99      0.98      0.99      1135\n",
            "           2       0.96      0.97      0.96      1032\n",
            "           3       0.97      0.98      0.97      1010\n",
            "           4       0.97      0.98      0.97       982\n",
            "           5       0.98      0.97      0.97       892\n",
            "           6       0.96      0.98      0.97       958\n",
            "           7       0.96      0.98      0.97      1028\n",
            "           8       0.98      0.94      0.96       974\n",
            "           9       0.97      0.96      0.96      1009\n",
            "\n",
            "    accuracy                           0.97     10000\n",
            "   macro avg       0.97      0.97      0.97     10000\n",
            "weighted avg       0.97      0.97      0.97     10000\n",
            "\n"
          ]
        },
        {
          "output_type": "stream",
          "name": "stderr",
          "text": [
            "06-11-2022 03:22:55 Validation F1: 0.9714873428301438\n"
          ]
        },
        {
          "output_type": "display_data",
          "data": {
            "text/plain": [
              "<IPython.core.display.HTML object>"
            ],
            "text/html": [
              "Waiting for W&B process to finish... <strong style=\"color:green\">(success).</strong>"
            ]
          },
          "metadata": {}
        },
        {
          "output_type": "display_data",
          "data": {
            "text/plain": [
              "<IPython.core.display.HTML object>"
            ],
            "text/html": [
              "<style>\n",
              "    table.wandb td:nth-child(1) { padding: 0 10px; text-align: left ; width: auto;} td:nth-child(2) {text-align: left ; width: 100%}\n",
              "    .wandb-row { display: flex; flex-direction: row; flex-wrap: wrap; justify-content: flex-start; width: 100% }\n",
              "    .wandb-col { display: flex; flex-direction: column; flex-basis: 100%; flex: 1; padding: 10px; }\n",
              "    </style>\n",
              "<div class=\"wandb-row\"><div class=\"wandb-col\"><h3>Run history:</h3><br/><table class=\"wandb\"><tr><td>accuracy</td><td>▁▆▇▇██████</td></tr><tr><td>epoch</td><td>▁▂▃▃▄▅▆▆▇█</td></tr><tr><td>loss</td><td>█▃▂▂▂▁▁▁▁▁</td></tr><tr><td>val_accuracy</td><td>▁▅▆▇▇▇▇▇▇█</td></tr><tr><td>val_loss</td><td>█▄▂▂▁▂▂▂▁▁</td></tr></table><br/></div><div class=\"wandb-col\"><h3>Run summary:</h3><br/><table class=\"wandb\"><tr><td>Acc</td><td>0.9715</td></tr><tr><td>CO2_Emissions</td><td>0.00201</td></tr><tr><td>Count_Params</td><td>19654</td></tr><tr><td>Energy_CPU</td><td>0.00288</td></tr><tr><td>Energy_Consumed</td><td>0.00507</td></tr><tr><td>Energy_GPU</td><td>0.00187</td></tr><tr><td>Energy_RAM</td><td>0.00032</td></tr><tr><td>F1</td><td>0.97149</td></tr><tr><td>GFLOPs</td><td>0.00036</td></tr><tr><td>Precision</td><td>0.97166</td></tr><tr><td>Recall</td><td>0.9715</td></tr><tr><td>accuracy</td><td>0.84022</td></tr><tr><td>best_epoch</td><td>9</td></tr><tr><td>best_val_loss</td><td>0.09061</td></tr><tr><td>epoch</td><td>9</td></tr><tr><td>loss</td><td>0.54136</td></tr><tr><td>val_accuracy</td><td>0.9715</td></tr><tr><td>val_loss</td><td>0.09061</td></tr></table><br/></div></div>"
            ]
          },
          "metadata": {}
        },
        {
          "output_type": "display_data",
          "data": {
            "text/plain": [
              "<IPython.core.display.HTML object>"
            ],
            "text/html": [
              "Synced <strong style=\"color:#cdcd00\">silver-sweep-2</strong>: <a href=\"https://wandb.ai/euripedes/padoca-net/runs/hft3ys3b\" target=\"_blank\">https://wandb.ai/euripedes/padoca-net/runs/hft3ys3b</a><br/>Synced 5 W&B file(s), 0 media file(s), 0 artifact file(s) and 0 other file(s)"
            ]
          },
          "metadata": {}
        },
        {
          "output_type": "display_data",
          "data": {
            "text/plain": [
              "<IPython.core.display.HTML object>"
            ],
            "text/html": [
              "Find logs at: <code>./wandb/run-20221106_031847-hft3ys3b/logs</code>"
            ]
          },
          "metadata": {}
        },
        {
          "output_type": "stream",
          "name": "stderr",
          "text": [
            "\u001b[34m\u001b[1mwandb\u001b[0m: Agent Starting Run: 28gogepj with config:\n",
            "\u001b[34m\u001b[1mwandb\u001b[0m: \tbatch_size: 64\n",
            "\u001b[34m\u001b[1mwandb\u001b[0m: \tconv_layer: 1\n",
            "\u001b[34m\u001b[1mwandb\u001b[0m: \tdropout: 0.25\n",
            "\u001b[34m\u001b[1mwandb\u001b[0m: \tdropout_fc: 0.25\n",
            "\u001b[34m\u001b[1mwandb\u001b[0m: \tepochs: 20\n",
            "\u001b[34m\u001b[1mwandb\u001b[0m: \tfilters: 12\n",
            "\u001b[34m\u001b[1mwandb\u001b[0m: \theight_shift_range: 0.2\n",
            "\u001b[34m\u001b[1mwandb\u001b[0m: \tlearn_rate: 0.001\n",
            "\u001b[34m\u001b[1mwandb\u001b[0m: \tpooling: 0\n",
            "\u001b[34m\u001b[1mwandb\u001b[0m: \trotation_range: 30\n",
            "\u001b[34m\u001b[1mwandb\u001b[0m: \tshear_range: 0.3\n",
            "\u001b[34m\u001b[1mwandb\u001b[0m: \twidth_shift_range: 0.1\n",
            "\u001b[34m\u001b[1mwandb\u001b[0m: \tzoom_range: 0.3\n",
            "Failed to detect the name of this notebook, you can set it manually with the WANDB_NOTEBOOK_NAME environment variable to enable code saving.\n"
          ]
        },
        {
          "output_type": "display_data",
          "data": {
            "text/plain": [
              "<IPython.core.display.HTML object>"
            ],
            "text/html": [
              "Tracking run with wandb version 0.13.5"
            ]
          },
          "metadata": {}
        },
        {
          "output_type": "display_data",
          "data": {
            "text/plain": [
              "<IPython.core.display.HTML object>"
            ],
            "text/html": [
              "Run data is saved locally in <code>/content/wandb/run-20221106_032307-28gogepj</code>"
            ]
          },
          "metadata": {}
        },
        {
          "output_type": "display_data",
          "data": {
            "text/plain": [
              "<IPython.core.display.HTML object>"
            ],
            "text/html": [
              "Syncing run <strong><a href=\"https://wandb.ai/euripedes/padoca-net/runs/28gogepj\" target=\"_blank\">dutiful-sweep-3</a></strong> to <a href=\"https://wandb.ai/euripedes/padoca-net\" target=\"_blank\">Weights & Biases</a> (<a href=\"https://wandb.me/run\" target=\"_blank\">docs</a>)<br/>Sweep page:  <a href=\"https://wandb.ai/euripedes/padoca-net/sweeps/qdzs0nra\" target=\"_blank\">https://wandb.ai/euripedes/padoca-net/sweeps/qdzs0nra</a>"
            ]
          },
          "metadata": {}
        },
        {
          "output_type": "stream",
          "name": "stderr",
          "text": [
            "06-11-2022 03:23:11 [INFO] compiling model...\n",
            "06-11-2022 03:23:11 [INFO] training network...\n"
          ]
        },
        {
          "output_type": "stream",
          "name": "stdout",
          "text": [
            "[INFO] evaluating network...\n",
            "313/313 [==============================] - 1s 2ms/step\n"
          ]
        },
        {
          "output_type": "stream",
          "name": "stderr",
          "text": [
            "06-11-2022 03:29:23 Validation Evaluation metrics\n",
            "06-11-2022 03:29:23 Validation Accuracy: 0.9797\n",
            "06-11-2022 03:29:23 Validation Precision: 0.9799734266908287\n",
            "06-11-2022 03:29:23 Validation Recall: 0.9797\n",
            "06-11-2022 03:29:23 Validation F1: 0.9796957702392652\n"
          ]
        },
        {
          "output_type": "stream",
          "name": "stdout",
          "text": [
            "              precision    recall  f1-score   support\n",
            "\n",
            "           0       0.99      0.99      0.99       980\n",
            "           1       1.00      0.96      0.98      1135\n",
            "           2       0.96      0.99      0.97      1032\n",
            "           3       0.97      1.00      0.98      1010\n",
            "           4       0.99      0.97      0.98       982\n",
            "           5       0.98      0.99      0.98       892\n",
            "           6       0.99      0.99      0.99       958\n",
            "           7       0.98      0.96      0.97      1028\n",
            "           8       0.96      0.99      0.98       974\n",
            "           9       0.98      0.96      0.97      1009\n",
            "\n",
            "    accuracy                           0.98     10000\n",
            "   macro avg       0.98      0.98      0.98     10000\n",
            "weighted avg       0.98      0.98      0.98     10000\n",
            "\n"
          ]
        },
        {
          "output_type": "display_data",
          "data": {
            "text/plain": [
              "<IPython.core.display.HTML object>"
            ],
            "text/html": [
              "Waiting for W&B process to finish... <strong style=\"color:green\">(success).</strong>"
            ]
          },
          "metadata": {}
        },
        {
          "output_type": "display_data",
          "data": {
            "text/plain": [
              "<IPython.core.display.HTML object>"
            ],
            "text/html": [
              "<style>\n",
              "    table.wandb td:nth-child(1) { padding: 0 10px; text-align: left ; width: auto;} td:nth-child(2) {text-align: left ; width: 100%}\n",
              "    .wandb-row { display: flex; flex-direction: row; flex-wrap: wrap; justify-content: flex-start; width: 100% }\n",
              "    .wandb-col { display: flex; flex-direction: column; flex-basis: 100%; flex: 1; padding: 10px; }\n",
              "    </style>\n",
              "<div class=\"wandb-row\"><div class=\"wandb-col\"><h3>Run history:</h3><br/><table class=\"wandb\"><tr><td>accuracy</td><td>▁▆▆▇▇▇▇█████████████</td></tr><tr><td>epoch</td><td>▁▁▂▂▂▃▃▄▄▄▅▅▅▆▆▇▇▇██</td></tr><tr><td>loss</td><td>█▃▃▂▂▂▂▂▂▁▁▁▁▁▁▁▁▁▁▁</td></tr><tr><td>val_accuracy</td><td>▅▁▇▃▇▅▅▇▆▇█▄▆▇█▇██▇▇</td></tr><tr><td>val_loss</td><td>▅█▂▆▂▄▄▂▃▂▁▆▃▁▁▁▁▁▂▂</td></tr></table><br/></div><div class=\"wandb-col\"><h3>Run summary:</h3><br/><table class=\"wandb\"><tr><td>Acc</td><td>0.9797</td></tr><tr><td>CO2_Emissions</td><td>0.00307</td></tr><tr><td>Count_Params</td><td>293734</td></tr><tr><td>Energy_CPU</td><td>0.00438</td></tr><tr><td>Energy_Consumed</td><td>0.00774</td></tr><tr><td>Energy_GPU</td><td>0.00287</td></tr><tr><td>Energy_RAM</td><td>0.00049</td></tr><tr><td>F1</td><td>0.9797</td></tr><tr><td>GFLOPs</td><td>0.00054</td></tr><tr><td>Precision</td><td>0.97997</td></tr><tr><td>Recall</td><td>0.9797</td></tr><tr><td>accuracy</td><td>0.93948</td></tr><tr><td>best_epoch</td><td>17</td></tr><tr><td>best_val_loss</td><td>0.04665</td></tr><tr><td>epoch</td><td>19</td></tr><tr><td>loss</td><td>0.19871</td></tr><tr><td>val_accuracy</td><td>0.9797</td></tr><tr><td>val_loss</td><td>0.06149</td></tr></table><br/></div></div>"
            ]
          },
          "metadata": {}
        },
        {
          "output_type": "display_data",
          "data": {
            "text/plain": [
              "<IPython.core.display.HTML object>"
            ],
            "text/html": [
              "Synced <strong style=\"color:#cdcd00\">dutiful-sweep-3</strong>: <a href=\"https://wandb.ai/euripedes/padoca-net/runs/28gogepj\" target=\"_blank\">https://wandb.ai/euripedes/padoca-net/runs/28gogepj</a><br/>Synced 5 W&B file(s), 0 media file(s), 0 artifact file(s) and 0 other file(s)"
            ]
          },
          "metadata": {}
        },
        {
          "output_type": "display_data",
          "data": {
            "text/plain": [
              "<IPython.core.display.HTML object>"
            ],
            "text/html": [
              "Find logs at: <code>./wandb/run-20221106_032307-28gogepj/logs</code>"
            ]
          },
          "metadata": {}
        },
        {
          "output_type": "stream",
          "name": "stderr",
          "text": [
            "\u001b[34m\u001b[1mwandb\u001b[0m: Agent Starting Run: k508hypq with config:\n",
            "\u001b[34m\u001b[1mwandb\u001b[0m: \tbatch_size: 32\n",
            "\u001b[34m\u001b[1mwandb\u001b[0m: \tconv_layer: 3\n",
            "\u001b[34m\u001b[1mwandb\u001b[0m: \tdropout: 0.25\n",
            "\u001b[34m\u001b[1mwandb\u001b[0m: \tdropout_fc: 0.25\n",
            "\u001b[34m\u001b[1mwandb\u001b[0m: \tepochs: 20\n",
            "\u001b[34m\u001b[1mwandb\u001b[0m: \tfilters: 4\n",
            "\u001b[34m\u001b[1mwandb\u001b[0m: \theight_shift_range: 0.1\n",
            "\u001b[34m\u001b[1mwandb\u001b[0m: \tlearn_rate: 0.005\n",
            "\u001b[34m\u001b[1mwandb\u001b[0m: \tpooling: 1\n",
            "\u001b[34m\u001b[1mwandb\u001b[0m: \trotation_range: 30\n",
            "\u001b[34m\u001b[1mwandb\u001b[0m: \tshear_range: 0.3\n",
            "\u001b[34m\u001b[1mwandb\u001b[0m: \twidth_shift_range: 0.2\n",
            "\u001b[34m\u001b[1mwandb\u001b[0m: \tzoom_range: 0.4\n",
            "Failed to detect the name of this notebook, you can set it manually with the WANDB_NOTEBOOK_NAME environment variable to enable code saving.\n"
          ]
        },
        {
          "output_type": "display_data",
          "data": {
            "text/plain": [
              "<IPython.core.display.HTML object>"
            ],
            "text/html": [
              "Tracking run with wandb version 0.13.5"
            ]
          },
          "metadata": {}
        },
        {
          "output_type": "display_data",
          "data": {
            "text/plain": [
              "<IPython.core.display.HTML object>"
            ],
            "text/html": [
              "Run data is saved locally in <code>/content/wandb/run-20221106_032934-k508hypq</code>"
            ]
          },
          "metadata": {}
        },
        {
          "output_type": "display_data",
          "data": {
            "text/plain": [
              "<IPython.core.display.HTML object>"
            ],
            "text/html": [
              "Syncing run <strong><a href=\"https://wandb.ai/euripedes/padoca-net/runs/k508hypq\" target=\"_blank\">youthful-sweep-4</a></strong> to <a href=\"https://wandb.ai/euripedes/padoca-net\" target=\"_blank\">Weights & Biases</a> (<a href=\"https://wandb.me/run\" target=\"_blank\">docs</a>)<br/>Sweep page:  <a href=\"https://wandb.ai/euripedes/padoca-net/sweeps/qdzs0nra\" target=\"_blank\">https://wandb.ai/euripedes/padoca-net/sweeps/qdzs0nra</a>"
            ]
          },
          "metadata": {}
        },
        {
          "output_type": "stream",
          "name": "stderr",
          "text": [
            "06-11-2022 03:29:38 [INFO] compiling model...\n",
            "06-11-2022 03:29:38 [INFO] training network...\n"
          ]
        },
        {
          "output_type": "stream",
          "name": "stdout",
          "text": [
            "[INFO] evaluating network...\n",
            "313/313 [==============================] - 1s 2ms/step\n"
          ]
        },
        {
          "output_type": "stream",
          "name": "stderr",
          "text": [
            "06-11-2022 03:37:25 Validation Evaluation metrics\n",
            "06-11-2022 03:37:25 Validation Accuracy: 0.9119\n",
            "06-11-2022 03:37:25 Validation Precision: 0.9203271938501099\n",
            "06-11-2022 03:37:25 Validation Recall: 0.9119\n",
            "06-11-2022 03:37:25 Validation F1: 0.9129146483741993\n"
          ]
        },
        {
          "output_type": "stream",
          "name": "stdout",
          "text": [
            "              precision    recall  f1-score   support\n",
            "\n",
            "           0       0.94      0.97      0.95       980\n",
            "           1       1.00      0.89      0.94      1135\n",
            "           2       0.92      0.92      0.92      1032\n",
            "           3       0.82      0.99      0.90      1010\n",
            "           4       0.99      0.84      0.91       982\n",
            "           5       0.99      0.88      0.93       892\n",
            "           6       0.96      0.89      0.93       958\n",
            "           7       0.94      0.88      0.91      1028\n",
            "           8       0.79      0.95      0.86       974\n",
            "           9       0.85      0.92      0.89      1009\n",
            "\n",
            "    accuracy                           0.91     10000\n",
            "   macro avg       0.92      0.91      0.91     10000\n",
            "weighted avg       0.92      0.91      0.91     10000\n",
            "\n"
          ]
        },
        {
          "output_type": "display_data",
          "data": {
            "text/plain": [
              "<IPython.core.display.HTML object>"
            ],
            "text/html": [
              "Waiting for W&B process to finish... <strong style=\"color:green\">(success).</strong>"
            ]
          },
          "metadata": {}
        },
        {
          "output_type": "display_data",
          "data": {
            "text/plain": [
              "<IPython.core.display.HTML object>"
            ],
            "text/html": [
              "<style>\n",
              "    table.wandb td:nth-child(1) { padding: 0 10px; text-align: left ; width: auto;} td:nth-child(2) {text-align: left ; width: 100%}\n",
              "    .wandb-row { display: flex; flex-direction: row; flex-wrap: wrap; justify-content: flex-start; width: 100% }\n",
              "    .wandb-col { display: flex; flex-direction: column; flex-basis: 100%; flex: 1; padding: 10px; }\n",
              "    </style>\n",
              "<div class=\"wandb-row\"><div class=\"wandb-col\"><h3>Run history:</h3><br/><table class=\"wandb\"><tr><td>accuracy</td><td>▁▅▆▇▇▇▇▇████████████</td></tr><tr><td>epoch</td><td>▁▁▂▂▂▃▃▄▄▄▅▅▅▆▆▇▇▇██</td></tr><tr><td>loss</td><td>█▄▃▂▂▂▂▂▁▁▁▁▁▁▁▁▁▁▁▁</td></tr><tr><td>val_accuracy</td><td>▁▅▅▇▅▇▇█▇█▅▆▆▆▆▇▅▇▅▆</td></tr><tr><td>val_loss</td><td>█▄▄▂▃▁▁▁▁▁▃▂▃▃▂▂▄▂▃▃</td></tr></table><br/></div><div class=\"wandb-col\"><h3>Run summary:</h3><br/><table class=\"wandb\"><tr><td>Acc</td><td>0.9119</td></tr><tr><td>CO2_Emissions</td><td>0.00383</td></tr><tr><td>Count_Params</td><td>16414</td></tr><tr><td>Energy_CPU</td><td>0.00549</td></tr><tr><td>Energy_Consumed</td><td>0.00966</td></tr><tr><td>Energy_GPU</td><td>0.00355</td></tr><tr><td>Energy_RAM</td><td>0.00061</td></tr><tr><td>F1</td><td>0.91291</td></tr><tr><td>GFLOPs</td><td>0.0002</td></tr><tr><td>Precision</td><td>0.92033</td></tr><tr><td>Recall</td><td>0.9119</td></tr><tr><td>accuracy</td><td>0.70313</td></tr><tr><td>best_epoch</td><td>9</td></tr><tr><td>best_val_loss</td><td>0.21725</td></tr><tr><td>epoch</td><td>19</td></tr><tr><td>loss</td><td>0.92581</td></tr><tr><td>val_accuracy</td><td>0.9119</td></tr><tr><td>val_loss</td><td>0.29891</td></tr></table><br/></div></div>"
            ]
          },
          "metadata": {}
        },
        {
          "output_type": "display_data",
          "data": {
            "text/plain": [
              "<IPython.core.display.HTML object>"
            ],
            "text/html": [
              "Synced <strong style=\"color:#cdcd00\">youthful-sweep-4</strong>: <a href=\"https://wandb.ai/euripedes/padoca-net/runs/k508hypq\" target=\"_blank\">https://wandb.ai/euripedes/padoca-net/runs/k508hypq</a><br/>Synced 5 W&B file(s), 0 media file(s), 0 artifact file(s) and 0 other file(s)"
            ]
          },
          "metadata": {}
        },
        {
          "output_type": "display_data",
          "data": {
            "text/plain": [
              "<IPython.core.display.HTML object>"
            ],
            "text/html": [
              "Find logs at: <code>./wandb/run-20221106_032934-k508hypq/logs</code>"
            ]
          },
          "metadata": {}
        },
        {
          "output_type": "stream",
          "name": "stderr",
          "text": [
            "\u001b[34m\u001b[1mwandb\u001b[0m: Agent Starting Run: jn41yqzb with config:\n",
            "\u001b[34m\u001b[1mwandb\u001b[0m: \tbatch_size: 64\n",
            "\u001b[34m\u001b[1mwandb\u001b[0m: \tconv_layer: 2\n",
            "\u001b[34m\u001b[1mwandb\u001b[0m: \tdropout: 0.25\n",
            "\u001b[34m\u001b[1mwandb\u001b[0m: \tdropout_fc: 0.5\n",
            "\u001b[34m\u001b[1mwandb\u001b[0m: \tepochs: 10\n",
            "\u001b[34m\u001b[1mwandb\u001b[0m: \tfilters: 16\n",
            "\u001b[34m\u001b[1mwandb\u001b[0m: \theight_shift_range: 0.1\n",
            "\u001b[34m\u001b[1mwandb\u001b[0m: \tlearn_rate: 0.001\n",
            "\u001b[34m\u001b[1mwandb\u001b[0m: \tpooling: 0\n",
            "\u001b[34m\u001b[1mwandb\u001b[0m: \trotation_range: 30\n",
            "\u001b[34m\u001b[1mwandb\u001b[0m: \tshear_range: 0.3\n",
            "\u001b[34m\u001b[1mwandb\u001b[0m: \twidth_shift_range: 0.2\n",
            "\u001b[34m\u001b[1mwandb\u001b[0m: \tzoom_range: 0.3\n",
            "Failed to detect the name of this notebook, you can set it manually with the WANDB_NOTEBOOK_NAME environment variable to enable code saving.\n"
          ]
        },
        {
          "output_type": "display_data",
          "data": {
            "text/plain": [
              "<IPython.core.display.HTML object>"
            ],
            "text/html": [
              "Tracking run with wandb version 0.13.5"
            ]
          },
          "metadata": {}
        },
        {
          "output_type": "display_data",
          "data": {
            "text/plain": [
              "<IPython.core.display.HTML object>"
            ],
            "text/html": [
              "Run data is saved locally in <code>/content/wandb/run-20221106_033735-jn41yqzb</code>"
            ]
          },
          "metadata": {}
        },
        {
          "output_type": "display_data",
          "data": {
            "text/plain": [
              "<IPython.core.display.HTML object>"
            ],
            "text/html": [
              "Syncing run <strong><a href=\"https://wandb.ai/euripedes/padoca-net/runs/jn41yqzb\" target=\"_blank\">light-sweep-5</a></strong> to <a href=\"https://wandb.ai/euripedes/padoca-net\" target=\"_blank\">Weights & Biases</a> (<a href=\"https://wandb.me/run\" target=\"_blank\">docs</a>)<br/>Sweep page:  <a href=\"https://wandb.ai/euripedes/padoca-net/sweeps/qdzs0nra\" target=\"_blank\">https://wandb.ai/euripedes/padoca-net/sweeps/qdzs0nra</a>"
            ]
          },
          "metadata": {}
        },
        {
          "output_type": "stream",
          "name": "stderr",
          "text": [
            "06-11-2022 03:37:38 [INFO] compiling model...\n",
            "06-11-2022 03:37:38 [INFO] training network...\n"
          ]
        },
        {
          "output_type": "stream",
          "name": "stdout",
          "text": [
            "[INFO] evaluating network...\n",
            "313/313 [==============================] - 1s 2ms/step\n"
          ]
        },
        {
          "output_type": "stream",
          "name": "stderr",
          "text": [
            "06-11-2022 03:40:45 Validation Evaluation metrics\n",
            "06-11-2022 03:40:45 Validation Accuracy: 0.9834\n",
            "06-11-2022 03:40:45 Validation Precision: 0.9835105381341905\n",
            "06-11-2022 03:40:45 Validation Recall: 0.9834\n"
          ]
        },
        {
          "output_type": "stream",
          "name": "stdout",
          "text": [
            "              precision    recall  f1-score   support\n",
            "\n",
            "           0       0.99      1.00      0.99       980\n",
            "           1       1.00      0.99      0.99      1135\n",
            "           2       0.98      0.98      0.98      1032\n",
            "           3       0.98      1.00      0.99      1010\n",
            "           4       0.97      0.99      0.98       982\n",
            "           5       0.96      0.99      0.98       892\n",
            "           6       0.99      0.98      0.98       958\n",
            "           7       0.98      0.99      0.98      1028\n",
            "           8       0.99      0.98      0.98       974\n",
            "           9       0.99      0.95      0.97      1009\n",
            "\n",
            "    accuracy                           0.98     10000\n",
            "   macro avg       0.98      0.98      0.98     10000\n",
            "weighted avg       0.98      0.98      0.98     10000\n",
            "\n"
          ]
        },
        {
          "output_type": "stream",
          "name": "stderr",
          "text": [
            "06-11-2022 03:40:45 Validation F1: 0.9833715833676637\n"
          ]
        },
        {
          "output_type": "display_data",
          "data": {
            "text/plain": [
              "<IPython.core.display.HTML object>"
            ],
            "text/html": [
              "Waiting for W&B process to finish... <strong style=\"color:green\">(success).</strong>"
            ]
          },
          "metadata": {}
        },
        {
          "output_type": "display_data",
          "data": {
            "text/plain": [
              "VBox(children=(Label(value='0.001 MB of 0.001 MB uploaded (0.000 MB deduped)\\r'), FloatProgress(value=1.0, max…"
            ],
            "application/vnd.jupyter.widget-view+json": {
              "version_major": 2,
              "version_minor": 0,
              "model_id": "29243057de0140fbba58719c1d41bb71"
            }
          },
          "metadata": {}
        },
        {
          "output_type": "display_data",
          "data": {
            "text/plain": [
              "<IPython.core.display.HTML object>"
            ],
            "text/html": [
              "<style>\n",
              "    table.wandb td:nth-child(1) { padding: 0 10px; text-align: left ; width: auto;} td:nth-child(2) {text-align: left ; width: 100%}\n",
              "    .wandb-row { display: flex; flex-direction: row; flex-wrap: wrap; justify-content: flex-start; width: 100% }\n",
              "    .wandb-col { display: flex; flex-direction: column; flex-basis: 100%; flex: 1; padding: 10px; }\n",
              "    </style>\n",
              "<div class=\"wandb-row\"><div class=\"wandb-col\"><h3>Run history:</h3><br/><table class=\"wandb\"><tr><td>accuracy</td><td>▁▆▇▇██████</td></tr><tr><td>epoch</td><td>▁▂▃▃▄▅▆▆▇█</td></tr><tr><td>loss</td><td>█▃▂▂▂▁▁▁▁▁</td></tr><tr><td>val_accuracy</td><td>▁▄▆▇▇██▇██</td></tr><tr><td>val_loss</td><td>█▄▃▂▂▁▁▂▁▁</td></tr></table><br/></div><div class=\"wandb-col\"><h3>Run summary:</h3><br/><table class=\"wandb\"><tr><td>Acc</td><td>0.9834</td></tr><tr><td>CO2_Emissions</td><td>0.00155</td></tr><tr><td>Count_Params</td><td>112174</td></tr><tr><td>Energy_CPU</td><td>0.0022</td></tr><tr><td>Energy_Consumed</td><td>0.00391</td></tr><tr><td>Energy_GPU</td><td>0.00147</td></tr><tr><td>Energy_RAM</td><td>0.00025</td></tr><tr><td>F1</td><td>0.98337</td></tr><tr><td>GFLOPs</td><td>0.00169</td></tr><tr><td>Precision</td><td>0.98351</td></tr><tr><td>Recall</td><td>0.9834</td></tr><tr><td>accuracy</td><td>0.9218</td></tr><tr><td>best_epoch</td><td>9</td></tr><tr><td>best_val_loss</td><td>0.04977</td></tr><tr><td>epoch</td><td>9</td></tr><tr><td>loss</td><td>0.28534</td></tr><tr><td>val_accuracy</td><td>0.9834</td></tr><tr><td>val_loss</td><td>0.04977</td></tr></table><br/></div></div>"
            ]
          },
          "metadata": {}
        },
        {
          "output_type": "display_data",
          "data": {
            "text/plain": [
              "<IPython.core.display.HTML object>"
            ],
            "text/html": [
              "Synced <strong style=\"color:#cdcd00\">light-sweep-5</strong>: <a href=\"https://wandb.ai/euripedes/padoca-net/runs/jn41yqzb\" target=\"_blank\">https://wandb.ai/euripedes/padoca-net/runs/jn41yqzb</a><br/>Synced 5 W&B file(s), 0 media file(s), 0 artifact file(s) and 0 other file(s)"
            ]
          },
          "metadata": {}
        },
        {
          "output_type": "display_data",
          "data": {
            "text/plain": [
              "<IPython.core.display.HTML object>"
            ],
            "text/html": [
              "Find logs at: <code>./wandb/run-20221106_033735-jn41yqzb/logs</code>"
            ]
          },
          "metadata": {}
        },
        {
          "output_type": "stream",
          "name": "stderr",
          "text": [
            "\u001b[34m\u001b[1mwandb\u001b[0m: Agent Starting Run: z7sx4t2v with config:\n",
            "\u001b[34m\u001b[1mwandb\u001b[0m: \tbatch_size: 64\n",
            "\u001b[34m\u001b[1mwandb\u001b[0m: \tconv_layer: 3\n",
            "\u001b[34m\u001b[1mwandb\u001b[0m: \tdropout: 0.5\n",
            "\u001b[34m\u001b[1mwandb\u001b[0m: \tdropout_fc: 0.25\n",
            "\u001b[34m\u001b[1mwandb\u001b[0m: \tepochs: 10\n",
            "\u001b[34m\u001b[1mwandb\u001b[0m: \tfilters: 16\n",
            "\u001b[34m\u001b[1mwandb\u001b[0m: \theight_shift_range: 0.1\n",
            "\u001b[34m\u001b[1mwandb\u001b[0m: \tlearn_rate: 0.001\n",
            "\u001b[34m\u001b[1mwandb\u001b[0m: \tpooling: 0\n",
            "\u001b[34m\u001b[1mwandb\u001b[0m: \trotation_range: 30\n",
            "\u001b[34m\u001b[1mwandb\u001b[0m: \tshear_range: 0.2\n",
            "\u001b[34m\u001b[1mwandb\u001b[0m: \twidth_shift_range: 0.2\n",
            "\u001b[34m\u001b[1mwandb\u001b[0m: \tzoom_range: 0.3\n",
            "Failed to detect the name of this notebook, you can set it manually with the WANDB_NOTEBOOK_NAME environment variable to enable code saving.\n"
          ]
        },
        {
          "output_type": "display_data",
          "data": {
            "text/plain": [
              "<IPython.core.display.HTML object>"
            ],
            "text/html": [
              "Tracking run with wandb version 0.13.5"
            ]
          },
          "metadata": {}
        },
        {
          "output_type": "display_data",
          "data": {
            "text/plain": [
              "<IPython.core.display.HTML object>"
            ],
            "text/html": [
              "Run data is saved locally in <code>/content/wandb/run-20221106_034053-z7sx4t2v</code>"
            ]
          },
          "metadata": {}
        },
        {
          "output_type": "display_data",
          "data": {
            "text/plain": [
              "<IPython.core.display.HTML object>"
            ],
            "text/html": [
              "Syncing run <strong><a href=\"https://wandb.ai/euripedes/padoca-net/runs/z7sx4t2v\" target=\"_blank\">blooming-sweep-6</a></strong> to <a href=\"https://wandb.ai/euripedes/padoca-net\" target=\"_blank\">Weights & Biases</a> (<a href=\"https://wandb.me/run\" target=\"_blank\">docs</a>)<br/>Sweep page:  <a href=\"https://wandb.ai/euripedes/padoca-net/sweeps/qdzs0nra\" target=\"_blank\">https://wandb.ai/euripedes/padoca-net/sweeps/qdzs0nra</a>"
            ]
          },
          "metadata": {}
        },
        {
          "output_type": "stream",
          "name": "stderr",
          "text": [
            "06-11-2022 03:40:57 [INFO] compiling model...\n",
            "06-11-2022 03:40:57 [INFO] training network...\n"
          ]
        },
        {
          "output_type": "stream",
          "name": "stdout",
          "text": [
            "[INFO] evaluating network...\n",
            "313/313 [==============================] - 1s 2ms/step\n"
          ]
        },
        {
          "output_type": "stream",
          "name": "stderr",
          "text": [
            "06-11-2022 03:44:07 Validation Evaluation metrics\n",
            "06-11-2022 03:44:07 Validation Accuracy: 0.9712\n",
            "06-11-2022 03:44:07 Validation Precision: 0.9720188861604719\n",
            "06-11-2022 03:44:07 Validation Recall: 0.9712\n",
            "06-11-2022 03:44:07 Validation F1: 0.9712458156345898\n"
          ]
        },
        {
          "output_type": "stream",
          "name": "stdout",
          "text": [
            "              precision    recall  f1-score   support\n",
            "\n",
            "           0       1.00      0.98      0.99       980\n",
            "           1       1.00      0.96      0.98      1135\n",
            "           2       0.96      0.98      0.97      1032\n",
            "           3       0.96      1.00      0.98      1010\n",
            "           4       0.98      0.95      0.96       982\n",
            "           5       1.00      0.95      0.97       892\n",
            "           6       0.98      0.99      0.98       958\n",
            "           7       0.98      0.94      0.96      1028\n",
            "           8       0.92      0.99      0.96       974\n",
            "           9       0.94      0.97      0.96      1009\n",
            "\n",
            "    accuracy                           0.97     10000\n",
            "   macro avg       0.97      0.97      0.97     10000\n",
            "weighted avg       0.97      0.97      0.97     10000\n",
            "\n"
          ]
        },
        {
          "output_type": "display_data",
          "data": {
            "text/plain": [
              "<IPython.core.display.HTML object>"
            ],
            "text/html": [
              "Waiting for W&B process to finish... <strong style=\"color:green\">(success).</strong>"
            ]
          },
          "metadata": {}
        },
        {
          "output_type": "display_data",
          "data": {
            "text/plain": [
              "<IPython.core.display.HTML object>"
            ],
            "text/html": [
              "<style>\n",
              "    table.wandb td:nth-child(1) { padding: 0 10px; text-align: left ; width: auto;} td:nth-child(2) {text-align: left ; width: 100%}\n",
              "    .wandb-row { display: flex; flex-direction: row; flex-wrap: wrap; justify-content: flex-start; width: 100% }\n",
              "    .wandb-col { display: flex; flex-direction: column; flex-basis: 100%; flex: 1; padding: 10px; }\n",
              "    </style>\n",
              "<div class=\"wandb-row\"><div class=\"wandb-col\"><h3>Run history:</h3><br/><table class=\"wandb\"><tr><td>accuracy</td><td>▁▆▇▇▇█████</td></tr><tr><td>epoch</td><td>▁▂▃▃▄▅▆▆▇█</td></tr><tr><td>loss</td><td>█▄▃▂▂▁▁▁▁▁</td></tr><tr><td>val_accuracy</td><td>▁▄▅▇████▇▇</td></tr><tr><td>val_loss</td><td>█▅▃▂▁▁▁▁▁▂</td></tr></table><br/></div><div class=\"wandb-col\"><h3>Run summary:</h3><br/><table class=\"wandb\"><tr><td>Acc</td><td>0.9712</td></tr><tr><td>CO2_Emissions</td><td>0.00159</td></tr><tr><td>Count_Params</td><td>41854</td></tr><tr><td>Energy_CPU</td><td>0.00224</td></tr><tr><td>Energy_Consumed</td><td>0.00402</td></tr><tr><td>Energy_GPU</td><td>0.00153</td></tr><tr><td>Energy_RAM</td><td>0.00025</td></tr><tr><td>F1</td><td>0.97125</td></tr><tr><td>GFLOPs</td><td>0.00193</td></tr><tr><td>Precision</td><td>0.97202</td></tr><tr><td>Recall</td><td>0.9712</td></tr><tr><td>accuracy</td><td>0.86317</td></tr><tr><td>best_epoch</td><td>4</td></tr><tr><td>best_val_loss</td><td>0.06701</td></tr><tr><td>epoch</td><td>9</td></tr><tr><td>loss</td><td>0.44556</td></tr><tr><td>val_accuracy</td><td>0.9712</td></tr><tr><td>val_loss</td><td>0.08887</td></tr></table><br/></div></div>"
            ]
          },
          "metadata": {}
        },
        {
          "output_type": "display_data",
          "data": {
            "text/plain": [
              "<IPython.core.display.HTML object>"
            ],
            "text/html": [
              "Synced <strong style=\"color:#cdcd00\">blooming-sweep-6</strong>: <a href=\"https://wandb.ai/euripedes/padoca-net/runs/z7sx4t2v\" target=\"_blank\">https://wandb.ai/euripedes/padoca-net/runs/z7sx4t2v</a><br/>Synced 5 W&B file(s), 0 media file(s), 0 artifact file(s) and 0 other file(s)"
            ]
          },
          "metadata": {}
        },
        {
          "output_type": "display_data",
          "data": {
            "text/plain": [
              "<IPython.core.display.HTML object>"
            ],
            "text/html": [
              "Find logs at: <code>./wandb/run-20221106_034053-z7sx4t2v/logs</code>"
            ]
          },
          "metadata": {}
        },
        {
          "output_type": "stream",
          "name": "stderr",
          "text": [
            "\u001b[34m\u001b[1mwandb\u001b[0m: Agent Starting Run: 6tlymx50 with config:\n",
            "\u001b[34m\u001b[1mwandb\u001b[0m: \tbatch_size: 64\n",
            "\u001b[34m\u001b[1mwandb\u001b[0m: \tconv_layer: 3\n",
            "\u001b[34m\u001b[1mwandb\u001b[0m: \tdropout: 0.25\n",
            "\u001b[34m\u001b[1mwandb\u001b[0m: \tdropout_fc: 0.5\n",
            "\u001b[34m\u001b[1mwandb\u001b[0m: \tepochs: 20\n",
            "\u001b[34m\u001b[1mwandb\u001b[0m: \tfilters: 6\n",
            "\u001b[34m\u001b[1mwandb\u001b[0m: \theight_shift_range: 0.1\n",
            "\u001b[34m\u001b[1mwandb\u001b[0m: \tlearn_rate: 0.001\n",
            "\u001b[34m\u001b[1mwandb\u001b[0m: \tpooling: 1\n",
            "\u001b[34m\u001b[1mwandb\u001b[0m: \trotation_range: 30\n",
            "\u001b[34m\u001b[1mwandb\u001b[0m: \tshear_range: 0.2\n",
            "\u001b[34m\u001b[1mwandb\u001b[0m: \twidth_shift_range: 0.2\n",
            "\u001b[34m\u001b[1mwandb\u001b[0m: \tzoom_range: 0.3\n",
            "Failed to detect the name of this notebook, you can set it manually with the WANDB_NOTEBOOK_NAME environment variable to enable code saving.\n"
          ]
        },
        {
          "output_type": "display_data",
          "data": {
            "text/plain": [
              "<IPython.core.display.HTML object>"
            ],
            "text/html": [
              "Tracking run with wandb version 0.13.5"
            ]
          },
          "metadata": {}
        },
        {
          "output_type": "display_data",
          "data": {
            "text/plain": [
              "<IPython.core.display.HTML object>"
            ],
            "text/html": [
              "Run data is saved locally in <code>/content/wandb/run-20221106_034417-6tlymx50</code>"
            ]
          },
          "metadata": {}
        },
        {
          "output_type": "display_data",
          "data": {
            "text/plain": [
              "<IPython.core.display.HTML object>"
            ],
            "text/html": [
              "Syncing run <strong><a href=\"https://wandb.ai/euripedes/padoca-net/runs/6tlymx50\" target=\"_blank\">silver-sweep-7</a></strong> to <a href=\"https://wandb.ai/euripedes/padoca-net\" target=\"_blank\">Weights & Biases</a> (<a href=\"https://wandb.me/run\" target=\"_blank\">docs</a>)<br/>Sweep page:  <a href=\"https://wandb.ai/euripedes/padoca-net/sweeps/qdzs0nra\" target=\"_blank\">https://wandb.ai/euripedes/padoca-net/sweeps/qdzs0nra</a>"
            ]
          },
          "metadata": {}
        },
        {
          "output_type": "stream",
          "name": "stderr",
          "text": [
            "06-11-2022 03:44:20 [INFO] compiling model...\n",
            "06-11-2022 03:44:20 [INFO] training network...\n"
          ]
        },
        {
          "output_type": "stream",
          "name": "stdout",
          "text": [
            "[INFO] evaluating network...\n",
            "313/313 [==============================] - 1s 2ms/step\n"
          ]
        },
        {
          "output_type": "stream",
          "name": "stderr",
          "text": [
            "06-11-2022 03:50:39 Validation Evaluation metrics\n",
            "06-11-2022 03:50:39 Validation Accuracy: 0.9615\n",
            "06-11-2022 03:50:39 Validation Precision: 0.9626948539316196\n",
            "06-11-2022 03:50:39 Validation Recall: 0.9615\n",
            "06-11-2022 03:50:39 Validation F1: 0.9615853482423128\n"
          ]
        },
        {
          "output_type": "stream",
          "name": "stdout",
          "text": [
            "              precision    recall  f1-score   support\n",
            "\n",
            "           0       0.98      0.98      0.98       980\n",
            "           1       1.00      0.96      0.98      1135\n",
            "           2       0.92      0.97      0.95      1032\n",
            "           3       0.96      0.98      0.97      1010\n",
            "           4       0.99      0.91      0.95       982\n",
            "           5       0.98      0.96      0.97       892\n",
            "           6       0.98      0.98      0.98       958\n",
            "           7       0.97      0.92      0.95      1028\n",
            "           8       0.92      0.98      0.95       974\n",
            "           9       0.92      0.96      0.94      1009\n",
            "\n",
            "    accuracy                           0.96     10000\n",
            "   macro avg       0.96      0.96      0.96     10000\n",
            "weighted avg       0.96      0.96      0.96     10000\n",
            "\n"
          ]
        },
        {
          "output_type": "display_data",
          "data": {
            "text/plain": [
              "<IPython.core.display.HTML object>"
            ],
            "text/html": [
              "Waiting for W&B process to finish... <strong style=\"color:green\">(success).</strong>"
            ]
          },
          "metadata": {}
        },
        {
          "output_type": "display_data",
          "data": {
            "text/plain": [
              "<IPython.core.display.HTML object>"
            ],
            "text/html": [
              "<style>\n",
              "    table.wandb td:nth-child(1) { padding: 0 10px; text-align: left ; width: auto;} td:nth-child(2) {text-align: left ; width: 100%}\n",
              "    .wandb-row { display: flex; flex-direction: row; flex-wrap: wrap; justify-content: flex-start; width: 100% }\n",
              "    .wandb-col { display: flex; flex-direction: column; flex-basis: 100%; flex: 1; padding: 10px; }\n",
              "    </style>\n",
              "<div class=\"wandb-row\"><div class=\"wandb-col\"><h3>Run history:</h3><br/><table class=\"wandb\"><tr><td>accuracy</td><td>▁▄▆▇▇▇▇█████████████</td></tr><tr><td>epoch</td><td>▁▁▂▂▂▃▃▄▄▄▅▅▅▆▆▇▇▇██</td></tr><tr><td>loss</td><td>█▅▃▃▂▂▂▂▁▁▁▁▁▁▁▁▁▁▁▁</td></tr><tr><td>val_accuracy</td><td>▁▆▇█████████████████</td></tr><tr><td>val_loss</td><td>█▃▃▂▁▁▂▁▁▁▁▁▁▁▁▁▁▁▁▁</td></tr></table><br/></div><div class=\"wandb-col\"><h3>Run summary:</h3><br/><table class=\"wandb\"><tr><td>Acc</td><td>0.9615</td></tr><tr><td>CO2_Emissions</td><td>0.00312</td></tr><tr><td>Count_Params</td><td>19654</td></tr><tr><td>Energy_CPU</td><td>0.00445</td></tr><tr><td>Energy_Consumed</td><td>0.00785</td></tr><tr><td>Energy_GPU</td><td>0.00291</td></tr><tr><td>Energy_RAM</td><td>0.0005</td></tr><tr><td>F1</td><td>0.96159</td></tr><tr><td>GFLOPs</td><td>0.00036</td></tr><tr><td>Precision</td><td>0.96269</td></tr><tr><td>Recall</td><td>0.9615</td></tr><tr><td>accuracy</td><td>0.81452</td></tr><tr><td>best_epoch</td><td>14</td></tr><tr><td>best_val_loss</td><td>0.1097</td></tr><tr><td>epoch</td><td>19</td></tr><tr><td>loss</td><td>0.61973</td></tr><tr><td>val_accuracy</td><td>0.9615</td></tr><tr><td>val_loss</td><td>0.13557</td></tr></table><br/></div></div>"
            ]
          },
          "metadata": {}
        },
        {
          "output_type": "display_data",
          "data": {
            "text/plain": [
              "<IPython.core.display.HTML object>"
            ],
            "text/html": [
              "Synced <strong style=\"color:#cdcd00\">silver-sweep-7</strong>: <a href=\"https://wandb.ai/euripedes/padoca-net/runs/6tlymx50\" target=\"_blank\">https://wandb.ai/euripedes/padoca-net/runs/6tlymx50</a><br/>Synced 5 W&B file(s), 0 media file(s), 0 artifact file(s) and 0 other file(s)"
            ]
          },
          "metadata": {}
        },
        {
          "output_type": "display_data",
          "data": {
            "text/plain": [
              "<IPython.core.display.HTML object>"
            ],
            "text/html": [
              "Find logs at: <code>./wandb/run-20221106_034417-6tlymx50/logs</code>"
            ]
          },
          "metadata": {}
        },
        {
          "output_type": "stream",
          "name": "stderr",
          "text": [
            "\u001b[34m\u001b[1mwandb\u001b[0m: Agent Starting Run: 7atsuw4u with config:\n",
            "\u001b[34m\u001b[1mwandb\u001b[0m: \tbatch_size: 64\n",
            "\u001b[34m\u001b[1mwandb\u001b[0m: \tconv_layer: 1\n",
            "\u001b[34m\u001b[1mwandb\u001b[0m: \tdropout: 0.5\n",
            "\u001b[34m\u001b[1mwandb\u001b[0m: \tdropout_fc: 0.5\n",
            "\u001b[34m\u001b[1mwandb\u001b[0m: \tepochs: 20\n",
            "\u001b[34m\u001b[1mwandb\u001b[0m: \tfilters: 16\n",
            "\u001b[34m\u001b[1mwandb\u001b[0m: \theight_shift_range: 0.1\n",
            "\u001b[34m\u001b[1mwandb\u001b[0m: \tlearn_rate: 0.001\n",
            "\u001b[34m\u001b[1mwandb\u001b[0m: \tpooling: 1\n",
            "\u001b[34m\u001b[1mwandb\u001b[0m: \trotation_range: 30\n",
            "\u001b[34m\u001b[1mwandb\u001b[0m: \tshear_range: 0.3\n",
            "\u001b[34m\u001b[1mwandb\u001b[0m: \twidth_shift_range: 0.2\n",
            "\u001b[34m\u001b[1mwandb\u001b[0m: \tzoom_range: 0.3\n",
            "Failed to detect the name of this notebook, you can set it manually with the WANDB_NOTEBOOK_NAME environment variable to enable code saving.\n"
          ]
        },
        {
          "output_type": "display_data",
          "data": {
            "text/plain": [
              "<IPython.core.display.HTML object>"
            ],
            "text/html": [
              "Tracking run with wandb version 0.13.5"
            ]
          },
          "metadata": {}
        },
        {
          "output_type": "display_data",
          "data": {
            "text/plain": [
              "<IPython.core.display.HTML object>"
            ],
            "text/html": [
              "Run data is saved locally in <code>/content/wandb/run-20221106_035050-7atsuw4u</code>"
            ]
          },
          "metadata": {}
        },
        {
          "output_type": "display_data",
          "data": {
            "text/plain": [
              "<IPython.core.display.HTML object>"
            ],
            "text/html": [
              "Syncing run <strong><a href=\"https://wandb.ai/euripedes/padoca-net/runs/7atsuw4u\" target=\"_blank\">stellar-sweep-8</a></strong> to <a href=\"https://wandb.ai/euripedes/padoca-net\" target=\"_blank\">Weights & Biases</a> (<a href=\"https://wandb.me/run\" target=\"_blank\">docs</a>)<br/>Sweep page:  <a href=\"https://wandb.ai/euripedes/padoca-net/sweeps/qdzs0nra\" target=\"_blank\">https://wandb.ai/euripedes/padoca-net/sweeps/qdzs0nra</a>"
            ]
          },
          "metadata": {}
        },
        {
          "output_type": "stream",
          "name": "stderr",
          "text": [
            "06-11-2022 03:50:54 [INFO] compiling model...\n",
            "06-11-2022 03:50:54 [INFO] training network...\n"
          ]
        },
        {
          "output_type": "stream",
          "name": "stdout",
          "text": [
            "[INFO] evaluating network...\n",
            "313/313 [==============================] - 1s 2ms/step\n"
          ]
        },
        {
          "output_type": "stream",
          "name": "stderr",
          "text": [
            "06-11-2022 03:57:06 Validation Evaluation metrics\n"
          ]
        },
        {
          "output_type": "stream",
          "name": "stdout",
          "text": [
            "              precision    recall  f1-score   support\n",
            "\n",
            "           0       1.00      0.98      0.99       980\n",
            "           1       1.00      0.89      0.94      1135\n",
            "           2       0.94      0.99      0.96      1032\n",
            "           3       0.93      1.00      0.96      1010\n",
            "           4       0.95      0.96      0.96       982\n",
            "           5       0.98      0.97      0.97       892\n",
            "           6       0.98      0.96      0.97       958\n",
            "           7       0.99      0.93      0.96      1028\n",
            "           8       0.84      0.99      0.91       974\n",
            "           9       0.97      0.91      0.94      1009\n",
            "\n",
            "    accuracy                           0.95     10000\n",
            "   macro avg       0.96      0.96      0.96     10000\n",
            "weighted avg       0.96      0.95      0.96     10000\n",
            "\n"
          ]
        },
        {
          "output_type": "stream",
          "name": "stderr",
          "text": [
            "06-11-2022 03:57:06 Validation Accuracy: 0.9549\n",
            "06-11-2022 03:57:06 Validation Precision: 0.9581380709546998\n",
            "06-11-2022 03:57:06 Validation Recall: 0.9549\n",
            "06-11-2022 03:57:06 Validation F1: 0.9551590276328931\n"
          ]
        },
        {
          "output_type": "display_data",
          "data": {
            "text/plain": [
              "<IPython.core.display.HTML object>"
            ],
            "text/html": [
              "Waiting for W&B process to finish... <strong style=\"color:green\">(success).</strong>"
            ]
          },
          "metadata": {}
        },
        {
          "output_type": "display_data",
          "data": {
            "text/plain": [
              "<IPython.core.display.HTML object>"
            ],
            "text/html": [
              "<style>\n",
              "    table.wandb td:nth-child(1) { padding: 0 10px; text-align: left ; width: auto;} td:nth-child(2) {text-align: left ; width: 100%}\n",
              "    .wandb-row { display: flex; flex-direction: row; flex-wrap: wrap; justify-content: flex-start; width: 100% }\n",
              "    .wandb-col { display: flex; flex-direction: column; flex-basis: 100%; flex: 1; padding: 10px; }\n",
              "    </style>\n",
              "<div class=\"wandb-row\"><div class=\"wandb-col\"><h3>Run history:</h3><br/><table class=\"wandb\"><tr><td>accuracy</td><td>▁▅▆▇▇▇▇▇████████████</td></tr><tr><td>epoch</td><td>▁▁▂▂▂▃▃▄▄▄▅▅▅▆▆▇▇▇██</td></tr><tr><td>loss</td><td>█▄▃▃▂▂▂▂▂▁▁▁▁▁▁▁▁▁▁▁</td></tr><tr><td>val_accuracy</td><td>▁▅▅▇▇█▇▇▇█▇█████▇██▇</td></tr><tr><td>val_loss</td><td>█▅▄▂▂▁▂▂▂▁▂▁▁▁▁▁▂▁▁▂</td></tr></table><br/></div><div class=\"wandb-col\"><h3>Run summary:</h3><br/><table class=\"wandb\"><tr><td>Acc</td><td>0.9549</td></tr><tr><td>CO2_Emissions</td><td>0.00308</td></tr><tr><td>Count_Params</td><td>387934</td></tr><tr><td>Energy_CPU</td><td>0.00438</td></tr><tr><td>Energy_Consumed</td><td>0.00776</td></tr><tr><td>Energy_GPU</td><td>0.00289</td></tr><tr><td>Energy_RAM</td><td>0.00049</td></tr><tr><td>F1</td><td>0.95516</td></tr><tr><td>GFLOPs</td><td>0.00071</td></tr><tr><td>Precision</td><td>0.95814</td></tr><tr><td>Recall</td><td>0.9549</td></tr><tr><td>accuracy</td><td>0.8677</td></tr><tr><td>best_epoch</td><td>13</td></tr><tr><td>best_val_loss</td><td>0.10801</td></tr><tr><td>epoch</td><td>19</td></tr><tr><td>loss</td><td>0.45066</td></tr><tr><td>val_accuracy</td><td>0.9549</td></tr><tr><td>val_loss</td><td>0.16051</td></tr></table><br/></div></div>"
            ]
          },
          "metadata": {}
        },
        {
          "output_type": "display_data",
          "data": {
            "text/plain": [
              "<IPython.core.display.HTML object>"
            ],
            "text/html": [
              "Synced <strong style=\"color:#cdcd00\">stellar-sweep-8</strong>: <a href=\"https://wandb.ai/euripedes/padoca-net/runs/7atsuw4u\" target=\"_blank\">https://wandb.ai/euripedes/padoca-net/runs/7atsuw4u</a><br/>Synced 5 W&B file(s), 0 media file(s), 0 artifact file(s) and 0 other file(s)"
            ]
          },
          "metadata": {}
        },
        {
          "output_type": "display_data",
          "data": {
            "text/plain": [
              "<IPython.core.display.HTML object>"
            ],
            "text/html": [
              "Find logs at: <code>./wandb/run-20221106_035050-7atsuw4u/logs</code>"
            ]
          },
          "metadata": {}
        },
        {
          "output_type": "stream",
          "name": "stderr",
          "text": [
            "\u001b[34m\u001b[1mwandb\u001b[0m: Agent Starting Run: xwojdocl with config:\n",
            "\u001b[34m\u001b[1mwandb\u001b[0m: \tbatch_size: 64\n",
            "\u001b[34m\u001b[1mwandb\u001b[0m: \tconv_layer: 2\n",
            "\u001b[34m\u001b[1mwandb\u001b[0m: \tdropout: 0.5\n",
            "\u001b[34m\u001b[1mwandb\u001b[0m: \tdropout_fc: 0.5\n",
            "\u001b[34m\u001b[1mwandb\u001b[0m: \tepochs: 10\n",
            "\u001b[34m\u001b[1mwandb\u001b[0m: \tfilters: 12\n",
            "\u001b[34m\u001b[1mwandb\u001b[0m: \theight_shift_range: 0.1\n",
            "\u001b[34m\u001b[1mwandb\u001b[0m: \tlearn_rate: 0.001\n",
            "\u001b[34m\u001b[1mwandb\u001b[0m: \tpooling: 0\n",
            "\u001b[34m\u001b[1mwandb\u001b[0m: \trotation_range: 20\n",
            "\u001b[34m\u001b[1mwandb\u001b[0m: \tshear_range: 0.3\n",
            "\u001b[34m\u001b[1mwandb\u001b[0m: \twidth_shift_range: 0.1\n",
            "\u001b[34m\u001b[1mwandb\u001b[0m: \tzoom_range: 0.3\n",
            "Failed to detect the name of this notebook, you can set it manually with the WANDB_NOTEBOOK_NAME environment variable to enable code saving.\n"
          ]
        },
        {
          "output_type": "display_data",
          "data": {
            "text/plain": [
              "<IPython.core.display.HTML object>"
            ],
            "text/html": [
              "Tracking run with wandb version 0.13.5"
            ]
          },
          "metadata": {}
        },
        {
          "output_type": "display_data",
          "data": {
            "text/plain": [
              "<IPython.core.display.HTML object>"
            ],
            "text/html": [
              "Run data is saved locally in <code>/content/wandb/run-20221106_035717-xwojdocl</code>"
            ]
          },
          "metadata": {}
        },
        {
          "output_type": "display_data",
          "data": {
            "text/plain": [
              "<IPython.core.display.HTML object>"
            ],
            "text/html": [
              "Syncing run <strong><a href=\"https://wandb.ai/euripedes/padoca-net/runs/xwojdocl\" target=\"_blank\">earthy-sweep-9</a></strong> to <a href=\"https://wandb.ai/euripedes/padoca-net\" target=\"_blank\">Weights & Biases</a> (<a href=\"https://wandb.me/run\" target=\"_blank\">docs</a>)<br/>Sweep page:  <a href=\"https://wandb.ai/euripedes/padoca-net/sweeps/qdzs0nra\" target=\"_blank\">https://wandb.ai/euripedes/padoca-net/sweeps/qdzs0nra</a>"
            ]
          },
          "metadata": {}
        },
        {
          "output_type": "stream",
          "name": "stderr",
          "text": [
            "06-11-2022 03:57:21 [INFO] compiling model...\n",
            "06-11-2022 03:57:21 [INFO] training network...\n"
          ]
        },
        {
          "output_type": "stream",
          "name": "stdout",
          "text": [
            "[INFO] evaluating network...\n",
            "313/313 [==============================] - 1s 2ms/step\n"
          ]
        },
        {
          "output_type": "stream",
          "name": "stderr",
          "text": [
            "06-11-2022 04:00:27 Validation Evaluation metrics\n",
            "06-11-2022 04:00:27 Validation Accuracy: 0.9825\n",
            "06-11-2022 04:00:27 Validation Precision: 0.9826431967412788\n",
            "06-11-2022 04:00:27 Validation Recall: 0.9825\n",
            "06-11-2022 04:00:27 Validation F1: 0.9824845657582255\n"
          ]
        },
        {
          "output_type": "stream",
          "name": "stdout",
          "text": [
            "              precision    recall  f1-score   support\n",
            "\n",
            "           0       0.99      0.99      0.99       980\n",
            "           1       1.00      0.98      0.99      1135\n",
            "           2       0.98      0.99      0.99      1032\n",
            "           3       0.97      0.99      0.98      1010\n",
            "           4       0.98      0.99      0.99       982\n",
            "           5       0.98      0.98      0.98       892\n",
            "           6       0.98      0.99      0.98       958\n",
            "           7       0.96      0.99      0.98      1028\n",
            "           8       0.99      0.97      0.98       974\n",
            "           9       0.98      0.95      0.97      1009\n",
            "\n",
            "    accuracy                           0.98     10000\n",
            "   macro avg       0.98      0.98      0.98     10000\n",
            "weighted avg       0.98      0.98      0.98     10000\n",
            "\n"
          ]
        },
        {
          "output_type": "display_data",
          "data": {
            "text/plain": [
              "<IPython.core.display.HTML object>"
            ],
            "text/html": [
              "Waiting for W&B process to finish... <strong style=\"color:green\">(success).</strong>"
            ]
          },
          "metadata": {}
        },
        {
          "output_type": "display_data",
          "data": {
            "text/plain": [
              "<IPython.core.display.HTML object>"
            ],
            "text/html": [
              "<style>\n",
              "    table.wandb td:nth-child(1) { padding: 0 10px; text-align: left ; width: auto;} td:nth-child(2) {text-align: left ; width: 100%}\n",
              "    .wandb-row { display: flex; flex-direction: row; flex-wrap: wrap; justify-content: flex-start; width: 100% }\n",
              "    .wandb-col { display: flex; flex-direction: column; flex-basis: 100%; flex: 1; padding: 10px; }\n",
              "    </style>\n",
              "<div class=\"wandb-row\"><div class=\"wandb-col\"><h3>Run history:</h3><br/><table class=\"wandb\"><tr><td>accuracy</td><td>▁▆▇▇██████</td></tr><tr><td>epoch</td><td>▁▂▃▃▄▅▆▆▇█</td></tr><tr><td>loss</td><td>█▃▂▂▂▁▁▁▁▁</td></tr><tr><td>val_accuracy</td><td>▁▅▆▇▇▇▇▇██</td></tr><tr><td>val_loss</td><td>█▄▂▂▂▂▁▁▁▁</td></tr></table><br/></div><div class=\"wandb-col\"><h3>Run summary:</h3><br/><table class=\"wandb\"><tr><td>Acc</td><td>0.9825</td></tr><tr><td>CO2_Emissions</td><td>0.00154</td></tr><tr><td>Count_Params</td><td>85714</td></tr><tr><td>Energy_CPU</td><td>0.00218</td></tr><tr><td>Energy_Consumed</td><td>0.00387</td></tr><tr><td>Energy_GPU</td><td>0.00145</td></tr><tr><td>Energy_RAM</td><td>0.00024</td></tr><tr><td>F1</td><td>0.98248</td></tr><tr><td>GFLOPs</td><td>0.00103</td></tr><tr><td>Precision</td><td>0.98264</td></tr><tr><td>Recall</td><td>0.9825</td></tr><tr><td>accuracy</td><td>0.89715</td></tr><tr><td>best_epoch</td><td>8</td></tr><tr><td>best_val_loss</td><td>0.04475</td></tr><tr><td>epoch</td><td>9</td></tr><tr><td>loss</td><td>0.3552</td></tr><tr><td>val_accuracy</td><td>0.9825</td></tr><tr><td>val_loss</td><td>0.05002</td></tr></table><br/></div></div>"
            ]
          },
          "metadata": {}
        },
        {
          "output_type": "display_data",
          "data": {
            "text/plain": [
              "<IPython.core.display.HTML object>"
            ],
            "text/html": [
              "Synced <strong style=\"color:#cdcd00\">earthy-sweep-9</strong>: <a href=\"https://wandb.ai/euripedes/padoca-net/runs/xwojdocl\" target=\"_blank\">https://wandb.ai/euripedes/padoca-net/runs/xwojdocl</a><br/>Synced 5 W&B file(s), 0 media file(s), 0 artifact file(s) and 0 other file(s)"
            ]
          },
          "metadata": {}
        },
        {
          "output_type": "display_data",
          "data": {
            "text/plain": [
              "<IPython.core.display.HTML object>"
            ],
            "text/html": [
              "Find logs at: <code>./wandb/run-20221106_035717-xwojdocl/logs</code>"
            ]
          },
          "metadata": {}
        },
        {
          "output_type": "stream",
          "name": "stderr",
          "text": [
            "\u001b[34m\u001b[1mwandb\u001b[0m: Agent Starting Run: 5o8rvlh8 with config:\n",
            "\u001b[34m\u001b[1mwandb\u001b[0m: \tbatch_size: 64\n",
            "\u001b[34m\u001b[1mwandb\u001b[0m: \tconv_layer: 2\n",
            "\u001b[34m\u001b[1mwandb\u001b[0m: \tdropout: 0.25\n",
            "\u001b[34m\u001b[1mwandb\u001b[0m: \tdropout_fc: 0.25\n",
            "\u001b[34m\u001b[1mwandb\u001b[0m: \tepochs: 10\n",
            "\u001b[34m\u001b[1mwandb\u001b[0m: \tfilters: 12\n",
            "\u001b[34m\u001b[1mwandb\u001b[0m: \theight_shift_range: 0.1\n",
            "\u001b[34m\u001b[1mwandb\u001b[0m: \tlearn_rate: 0.005\n",
            "\u001b[34m\u001b[1mwandb\u001b[0m: \tpooling: 1\n",
            "\u001b[34m\u001b[1mwandb\u001b[0m: \trotation_range: 30\n",
            "\u001b[34m\u001b[1mwandb\u001b[0m: \tshear_range: 0.2\n",
            "\u001b[34m\u001b[1mwandb\u001b[0m: \twidth_shift_range: 0.1\n",
            "\u001b[34m\u001b[1mwandb\u001b[0m: \tzoom_range: 0.4\n",
            "Failed to detect the name of this notebook, you can set it manually with the WANDB_NOTEBOOK_NAME environment variable to enable code saving.\n"
          ]
        },
        {
          "output_type": "display_data",
          "data": {
            "text/plain": [
              "<IPython.core.display.HTML object>"
            ],
            "text/html": [
              "Tracking run with wandb version 0.13.5"
            ]
          },
          "metadata": {}
        },
        {
          "output_type": "display_data",
          "data": {
            "text/plain": [
              "<IPython.core.display.HTML object>"
            ],
            "text/html": [
              "Run data is saved locally in <code>/content/wandb/run-20221106_040036-5o8rvlh8</code>"
            ]
          },
          "metadata": {}
        },
        {
          "output_type": "display_data",
          "data": {
            "text/plain": [
              "<IPython.core.display.HTML object>"
            ],
            "text/html": [
              "Syncing run <strong><a href=\"https://wandb.ai/euripedes/padoca-net/runs/5o8rvlh8\" target=\"_blank\">warm-sweep-10</a></strong> to <a href=\"https://wandb.ai/euripedes/padoca-net\" target=\"_blank\">Weights & Biases</a> (<a href=\"https://wandb.me/run\" target=\"_blank\">docs</a>)<br/>Sweep page:  <a href=\"https://wandb.ai/euripedes/padoca-net/sweeps/qdzs0nra\" target=\"_blank\">https://wandb.ai/euripedes/padoca-net/sweeps/qdzs0nra</a>"
            ]
          },
          "metadata": {}
        },
        {
          "output_type": "stream",
          "name": "stderr",
          "text": [
            "06-11-2022 04:00:40 [INFO] compiling model...\n",
            "06-11-2022 04:00:40 [INFO] training network...\n"
          ]
        },
        {
          "output_type": "stream",
          "name": "stdout",
          "text": [
            "[INFO] evaluating network...\n",
            "313/313 [==============================] - 1s 2ms/step\n"
          ]
        },
        {
          "output_type": "stream",
          "name": "stderr",
          "text": [
            "06-11-2022 04:03:49 Validation Evaluation metrics\n"
          ]
        },
        {
          "output_type": "stream",
          "name": "stdout",
          "text": [
            "              precision    recall  f1-score   support\n",
            "\n",
            "           0       0.99      1.00      1.00       980\n",
            "           1       0.99      0.99      0.99      1135\n",
            "           2       0.98      1.00      0.99      1032\n",
            "           3       0.98      0.99      0.99      1010\n",
            "           4       0.99      0.98      0.98       982\n",
            "           5       0.99      0.98      0.99       892\n",
            "           6       0.98      0.99      0.99       958\n",
            "           7       0.98      0.98      0.98      1028\n",
            "           8       0.99      0.98      0.98       974\n",
            "           9       0.98      0.97      0.98      1009\n",
            "\n",
            "    accuracy                           0.99     10000\n",
            "   macro avg       0.99      0.99      0.99     10000\n",
            "weighted avg       0.99      0.99      0.99     10000\n",
            "\n"
          ]
        },
        {
          "output_type": "stream",
          "name": "stderr",
          "text": [
            "06-11-2022 04:03:49 Validation Accuracy: 0.9858\n",
            "06-11-2022 04:03:49 Validation Precision: 0.985839145071142\n",
            "06-11-2022 04:03:49 Validation Recall: 0.9858\n",
            "06-11-2022 04:03:49 Validation F1: 0.9857939849766088\n"
          ]
        },
        {
          "output_type": "display_data",
          "data": {
            "text/plain": [
              "<IPython.core.display.HTML object>"
            ],
            "text/html": [
              "Waiting for W&B process to finish... <strong style=\"color:green\">(success).</strong>"
            ]
          },
          "metadata": {}
        },
        {
          "output_type": "display_data",
          "data": {
            "text/plain": [
              "VBox(children=(Label(value='0.001 MB of 0.001 MB uploaded (0.000 MB deduped)\\r'), FloatProgress(value=1.0, max…"
            ],
            "application/vnd.jupyter.widget-view+json": {
              "version_major": 2,
              "version_minor": 0,
              "model_id": "0911412057bd407c9284b258c894d112"
            }
          },
          "metadata": {}
        },
        {
          "output_type": "display_data",
          "data": {
            "text/plain": [
              "<IPython.core.display.HTML object>"
            ],
            "text/html": [
              "<style>\n",
              "    table.wandb td:nth-child(1) { padding: 0 10px; text-align: left ; width: auto;} td:nth-child(2) {text-align: left ; width: 100%}\n",
              "    .wandb-row { display: flex; flex-direction: row; flex-wrap: wrap; justify-content: flex-start; width: 100% }\n",
              "    .wandb-col { display: flex; flex-direction: column; flex-basis: 100%; flex: 1; padding: 10px; }\n",
              "    </style>\n",
              "<div class=\"wandb-row\"><div class=\"wandb-col\"><h3>Run history:</h3><br/><table class=\"wandb\"><tr><td>accuracy</td><td>▁▆▇▇██████</td></tr><tr><td>epoch</td><td>▁▂▃▃▄▅▆▆▇█</td></tr><tr><td>loss</td><td>█▃▂▂▁▁▁▁▁▁</td></tr><tr><td>val_accuracy</td><td>▃▁▇▇▃▆██▇█</td></tr><tr><td>val_loss</td><td>▆█▂▂▆▄▁▁▁▁</td></tr></table><br/></div><div class=\"wandb-col\"><h3>Run summary:</h3><br/><table class=\"wandb\"><tr><td>Acc</td><td>0.9858</td></tr><tr><td>CO2_Emissions</td><td>0.00157</td></tr><tr><td>Count_Params</td><td>85714</td></tr><tr><td>Energy_CPU</td><td>0.00223</td></tr><tr><td>Energy_Consumed</td><td>0.00396</td></tr><tr><td>Energy_GPU</td><td>0.00149</td></tr><tr><td>Energy_RAM</td><td>0.00025</td></tr><tr><td>F1</td><td>0.98579</td></tr><tr><td>GFLOPs</td><td>0.00103</td></tr><tr><td>Precision</td><td>0.98584</td></tr><tr><td>Recall</td><td>0.9858</td></tr><tr><td>accuracy</td><td>0.92857</td></tr><tr><td>best_epoch</td><td>9</td></tr><tr><td>best_val_loss</td><td>0.04887</td></tr><tr><td>epoch</td><td>9</td></tr><tr><td>loss</td><td>0.24844</td></tr><tr><td>val_accuracy</td><td>0.9858</td></tr><tr><td>val_loss</td><td>0.04887</td></tr></table><br/></div></div>"
            ]
          },
          "metadata": {}
        },
        {
          "output_type": "display_data",
          "data": {
            "text/plain": [
              "<IPython.core.display.HTML object>"
            ],
            "text/html": [
              "Synced <strong style=\"color:#cdcd00\">warm-sweep-10</strong>: <a href=\"https://wandb.ai/euripedes/padoca-net/runs/5o8rvlh8\" target=\"_blank\">https://wandb.ai/euripedes/padoca-net/runs/5o8rvlh8</a><br/>Synced 5 W&B file(s), 0 media file(s), 0 artifact file(s) and 0 other file(s)"
            ]
          },
          "metadata": {}
        },
        {
          "output_type": "display_data",
          "data": {
            "text/plain": [
              "<IPython.core.display.HTML object>"
            ],
            "text/html": [
              "Find logs at: <code>./wandb/run-20221106_040036-5o8rvlh8/logs</code>"
            ]
          },
          "metadata": {}
        }
      ]
    },
    {
      "cell_type": "markdown",
      "source": [
        "## Step 05: Train and Export the best model to W&B"
      ],
      "metadata": {
        "id": "LXonHlw-s5rL"
      }
    },
    {
      "cell_type": "markdown",
      "source": [
        "With the results of Sweeps we know which configuration is the best and now we need to save it in our W&B project."
      ],
      "metadata": {
        "id": "lPibpCDCzXYT"
      }
    },
    {
      "cell_type": "markdown",
      "source": [
        "* It's important to understand that since we used the \"random\" method from WandB this model its not necessarily the best possible, it means that it was the best from all the combinations formed during the hyperparameter tuning process.  "
      ],
      "metadata": {
        "id": "gUxMniwA9-Ry"
      }
    },
    {
      "cell_type": "markdown",
      "source": [
        "Speak of it, that's the best configuration that Sweeps showed us:"
      ],
      "metadata": {
        "id": "frQFmSipHh59"
      }
    },
    {
      "cell_type": "markdown",
      "source": [
        "\n",
        "* batch_size: 64\n",
        "*\tconv_layer: 2\n",
        "* dropout: 0.25\n",
        "* dropout_fc: 0.25\n",
        "* epochs: 10\n",
        "* filters: 12\n",
        "*\theight_shift_range: 0.1\n",
        "*\tlearn_rate: 0.005\n",
        "*\tpooling: 1\n",
        "*\trotation_range: 30\n",
        "*\tshear_range: 0.2\n",
        "*\twidth_shift_range: 0.1\n",
        "*\tzoom_range: 0.4"
      ],
      "metadata": {
        "id": "T6kcAf3wHNwW"
      }
    },
    {
      "cell_type": "markdown",
      "source": [
        "### Creating the Best Model"
      ],
      "metadata": {
        "id": "1mJVUqLSHk0S"
      }
    },
    {
      "cell_type": "code",
      "source": [
        "args = {\n",
        "  \"project_name\": \"padoca-net\",\n",
        "  \"encoder\": \"target_encoder\"\n",
        "}"
      ],
      "metadata": {
        "id": "6i3OhQMEtBBe"
      },
      "execution_count": null,
      "outputs": []
    },
    {
      "cell_type": "code",
      "source": [
        "run = wandb.init(entity=\"euripedes\",\n",
        "                 project=args[\"project_name\"], \n",
        "                 job_type=\"Final_model\")"
      ],
      "metadata": {
        "colab": {
          "base_uri": "https://localhost:8080/",
          "height": 88
        },
        "id": "B2MqIjXfHoIR",
        "outputId": "79df890e-dc5a-4cbf-deea-26505fc89d99"
      },
      "execution_count": null,
      "outputs": [
        {
          "output_type": "stream",
          "name": "stderr",
          "text": [
            "\u001b[34m\u001b[1mwandb\u001b[0m: Currently logged in as: \u001b[33meuripedes\u001b[0m. Use \u001b[1m`wandb login --relogin`\u001b[0m to force relogin\n"
          ]
        },
        {
          "output_type": "display_data",
          "data": {
            "text/plain": [
              "<IPython.core.display.HTML object>"
            ],
            "text/html": [
              "Tracking run with wandb version 0.13.5"
            ]
          },
          "metadata": {}
        },
        {
          "output_type": "display_data",
          "data": {
            "text/plain": [
              "<IPython.core.display.HTML object>"
            ],
            "text/html": [
              "Run data is saved locally in <code>/content/wandb/run-20221106_041952-24ypxg3c</code>"
            ]
          },
          "metadata": {}
        },
        {
          "output_type": "display_data",
          "data": {
            "text/plain": [
              "<IPython.core.display.HTML object>"
            ],
            "text/html": [
              "Syncing run <strong><a href=\"https://wandb.ai/euripedes/padoca-net/runs/24ypxg3c\" target=\"_blank\">pleasant-terrain-10</a></strong> to <a href=\"https://wandb.ai/euripedes/padoca-net\" target=\"_blank\">Weights & Biases</a> (<a href=\"https://wandb.me/run\" target=\"_blank\">docs</a>)<br/>"
            ]
          },
          "metadata": {}
        }
      ]
    },
    {
      "cell_type": "markdown",
      "source": [
        "### Fetch, Preprocessing and Data Segregation"
      ],
      "metadata": {
        "id": "ScpyYXFJzppm"
      }
    },
    {
      "cell_type": "markdown",
      "source": [
        "***Run the same process we did before!***"
      ],
      "metadata": {
        "id": "gX_Q2kbJC4IR"
      }
    },
    {
      "cell_type": "markdown",
      "source": [
        "### Training"
      ],
      "metadata": {
        "id": "VuAopDShDBBK"
      }
    },
    {
      "cell_type": "code",
      "source": [
        "class UpdatedPacodaNet:\n",
        "  @staticmethod\n",
        "  def build(width, height, depth, classes):\n",
        "    # initialize the model\n",
        "    model = Sequential()\n",
        "    inputShape = (height, width, depth)\n",
        "    \n",
        "    # if we are using \"channels first\", update the input shape\n",
        "    if K.image_data_format() == \"channels_first\":\n",
        "      inputShape = (depth, height, width)\n",
        "   \n",
        "    # first set of CONV => RELU => POOL layers\n",
        "    for i in range(2):\n",
        "      model.add(Conv2D(12, (5,5), strides=1, padding='same',\n",
        "                     activation='relu', input_shape=(28,28,1), ))\n",
        "      model.add(BatchNormalization())\n",
        "      model.add(MaxPooling2D())\n",
        "      model.add(Dropout(0.25)) \n",
        "\n",
        "    # a flatten and two set of FC => RELU layers\n",
        "    model.add(Flatten()) #Flatten\n",
        "    model.add(Dense(120, activation='relu'))\n",
        "    model.add(Dropout(0.25)) \n",
        "    model.add(Dense(84, activation='relu')) \n",
        "    model.add(Dropout(0.25))\n",
        "\n",
        "    # softmax classifier\n",
        "    model.add(Dense(10, activation='softmax')) #Output layer\n",
        "    \n",
        "    # return the constructed network architecture\n",
        "    return model"
      ],
      "metadata": {
        "id": "-CvV1pNSH543"
      },
      "execution_count": null,
      "outputs": []
    },
    {
      "cell_type": "code",
      "source": [
        "# create codecarbon tracker\n",
        "# codecarbon is too much verbose, change the log level for more info\n",
        "tracker = EmissionsTracker(log_level=\"critical\")\n",
        "tracker.start()\n",
        "\n",
        "# initialize the optimizer and model\n",
        "logger.info(\"[INFO] compiling model...\")\n",
        "opt = Adam(learning_rate=0.005)\n",
        "model = UpdatedPacodaNet.build(width=28, height=28, depth=1, classes=10)\n",
        "model.compile(loss=\"categorical_crossentropy\", optimizer=opt,\n",
        "              metrics=[\"accuracy\"])\n",
        "\n",
        "aug = ImageDataGenerator(rotation_range=30, width_shift_range=0.1,\n",
        "                         height_shift_range=0.1, shear_range=0.2, zoom_range=0.4,\n",
        "                         horizontal_flip=False, fill_mode=\"nearest\")\n",
        "\n",
        "# train the network\n",
        "logger.info(\"[INFO] training network...\")\n",
        "history = model.fit(aug.flow(train_x, train_y, batch_size=64),\n",
        "                    validation_data=(test_x, test_y), \n",
        "                    epochs=10, \n",
        "                    verbose=0,\n",
        "                    callbacks=[wandb.keras.WandbCallback(save_model=False,\n",
        "                                                         compute_flops=True)])\n",
        "\n",
        "# get co2 emissions from tracker\n",
        "# \"CO2 emission (in Kg)\"\n",
        "emissions = tracker.stop()"
      ],
      "metadata": {
        "colab": {
          "base_uri": "https://localhost:8080/"
        },
        "id": "rqR6ShaQI7Pq",
        "outputId": "8d9f48f9-10ef-4c55-a2ba-22c0a9497e94"
      },
      "execution_count": null,
      "outputs": [
        {
          "output_type": "stream",
          "name": "stderr",
          "text": [
            "06-11-2022 04:21:02 [INFO] compiling model...\n",
            "06-11-2022 04:21:04 [INFO] training network...\n",
            "06-11-2022 04:21:05 From /usr/local/lib/python3.7/dist-packages/tensorflow/python/ops/nn_ops.py:5219: tensor_shape_from_node_def_name (from tensorflow.python.framework.graph_util_impl) is deprecated and will be removed in a future version.\n",
            "Instructions for updating:\n",
            "Use `tf.compat.v1.graph_util.tensor_shape_from_node_def_name`\n"
          ]
        }
      ]
    },
    {
      "cell_type": "markdown",
      "source": [
        "### Evaluation Metrics"
      ],
      "metadata": {
        "id": "5aw84RodJXi3"
      }
    },
    {
      "cell_type": "code",
      "source": [
        "# plot the training loss and accuracy\n",
        "plt.style.use(\"ggplot\")\n",
        "fig, ax = plt.subplots(1,1,figsize=(10,8))\n",
        "\n",
        "ax.plot(np.arange(0, 10), history.history[\"loss\"], label=\"train_loss\",linestyle='--')\n",
        "ax.plot(np.arange(0, 10), history.history[\"val_loss\"], label=\"val_loss\",linestyle='--')\n",
        "ax.plot(np.arange(0, 10), history.history[\"accuracy\"], label=\"train_acc\")\n",
        "ax.plot(np.arange(0, 10), history.history[\"val_accuracy\"], label=\"val_acc\")\n",
        "ax.set_title(\"Training Loss and Accuracy\")\n",
        "ax.set_xlabel(\"Epoch #\")\n",
        "ax.set_ylabel(\"Loss/Accuracy\")\n",
        "ax.legend()\n",
        "plt.show()"
      ],
      "metadata": {
        "colab": {
          "base_uri": "https://localhost:8080/",
          "height": 517
        },
        "id": "pqNOCB5tJb0f",
        "outputId": "e2714bba-bfc2-43de-ef3d-50a170870633"
      },
      "execution_count": null,
      "outputs": [
        {
          "output_type": "display_data",
          "data": {
            "text/plain": [
              "<Figure size 720x576 with 1 Axes>"
            ],
            "image/png": "[encoded data removed]"
          },
          "metadata": {}
        }
      ]
    },
    {
      "cell_type": "code",
      "source": [
        "print(\"[INFO] {} kWh of electricity used since the begining\".format(tracker.final_emissions_data.energy_consumed))\n",
        "print(\"[INFO] Energy consumed for RAM: {} kWh\".format(tracker.final_emissions_data.ram_energy))\n",
        "print(\"[INFO] Energy consumed for all GPU: {} kWh\".format(tracker.final_emissions_data.gpu_energy))\n",
        "print(\"[INFO] Energy consumed for all CPU: {} kWh\".format(tracker.final_emissions_data.cpu_energy))\n",
        "print(\"[INFO] CO2 emission {}(in Kg)\".format(tracker.final_emissions_data.emissions))"
      ],
      "metadata": {
        "colab": {
          "base_uri": "https://localhost:8080/"
        },
        "id": "CzJXMQH-JhgV",
        "outputId": "b84a5184-e645-4287-80e2-3e69dc7eb697"
      },
      "execution_count": null,
      "outputs": [
        {
          "output_type": "stream",
          "name": "stdout",
          "text": [
            "[INFO] 0.0050898996639660845 kWh of electricity used since the begining\n",
            "[INFO] Energy consumed for RAM: 0.00031348513751246817 kWh\n",
            "[INFO] Energy consumed for all GPU: 0.001972681202276879 kWh\n",
            "[INFO] Energy consumed for all CPU: 0.0028037333241767355 kWh\n",
            "[INFO] CO2 emission 0.0032116409915061445(in Kg)\n"
          ]
        }
      ]
    },
    {
      "cell_type": "code",
      "source": [
        "# evaluate the network\n",
        "print(\"[INFO] evaluating network...\")\n",
        "predictions = model.predict(test_x, batch_size=32)\n",
        "print(classification_report(test_y.argmax(axis=1),\n",
        "                            predictions.argmax(axis=1),\n",
        "                            target_names=[str(i) for i in lb.classes_]))"
      ],
      "metadata": {
        "colab": {
          "base_uri": "https://localhost:8080/"
        },
        "id": "7atpL9xXJn9r",
        "outputId": "bd847ce6-8c5a-476a-c44e-747f6563c30f"
      },
      "execution_count": null,
      "outputs": [
        {
          "output_type": "stream",
          "name": "stdout",
          "text": [
            "[INFO] evaluating network...\n",
            "313/313 [==============================] - 1s 2ms/step\n",
            "              precision    recall  f1-score   support\n",
            "\n",
            "           0       1.00      0.99      0.99       980\n",
            "           1       0.99      0.98      0.99      1135\n",
            "           2       0.98      0.99      0.99      1032\n",
            "           3       0.98      1.00      0.99      1010\n",
            "           4       0.98      0.98      0.98       982\n",
            "           5       0.98      0.98      0.98       892\n",
            "           6       0.97      0.99      0.98       958\n",
            "           7       0.98      0.99      0.98      1028\n",
            "           8       0.99      0.98      0.98       974\n",
            "           9       0.98      0.96      0.97      1009\n",
            "\n",
            "    accuracy                           0.98     10000\n",
            "   macro avg       0.98      0.98      0.98     10000\n",
            "weighted avg       0.98      0.98      0.98     10000\n",
            "\n"
          ]
        }
      ]
    },
    {
      "cell_type": "code",
      "source": [
        "fig_confusion_matrix, ax = plt.subplots(1,1,figsize=(7,4))\n",
        "ConfusionMatrixDisplay(confusion_matrix(predictions.argmax(axis=1),\n",
        "                                        test_y.argmax(axis=1)),\n",
        "                       display_labels=lb.classes_).plot(values_format=\".0f\",ax=ax)\n",
        "\n",
        "ax.set_xlabel(\"True Label\")\n",
        "ax.set_ylabel(\"Predicted Label\")\n",
        "ax.grid(False)\n",
        "plt.show()"
      ],
      "metadata": {
        "colab": {
          "base_uri": "https://localhost:8080/",
          "height": 282
        },
        "id": "S0Zz2fH3Jva7",
        "outputId": "0107d085-4766-4290-8f80-b854f7e872fb"
      },
      "execution_count": null,
      "outputs": [
        {
          "output_type": "display_data",
          "data": {
            "text/plain": [
              "<Figure size 504x288 with 2 Axes>"
            ],
            "image/png": "[encoded data removed]"
          },
          "metadata": {}
        }
      ]
    },
    {
      "cell_type": "code",
      "source": [
        "# Uploading figures\n",
        "logger.info(\"Uploading figures\")\n",
        "run.log(\n",
        "    {\n",
        "        \"confusion_matrix\": wandb.Image(fig_confusion_matrix),\n",
        "        # \"other_figure\": wandb.Image(other_fig)\n",
        "    }\n",
        ")"
      ],
      "metadata": {
        "colab": {
          "base_uri": "https://localhost:8080/"
        },
        "id": "HfvhQ9CXJ0LV",
        "outputId": "099a9453-9e55-4fca-a109-c53340c3885b"
      },
      "execution_count": null,
      "outputs": [
        {
          "output_type": "stream",
          "name": "stderr",
          "text": [
            "06-11-2022 04:26:04 Uploading figures\n"
          ]
        }
      ]
    },
    {
      "cell_type": "code",
      "source": [
        "# Evaluation Metrics\n",
        "logger.info(\"Validation Evaluation metrics\")\n",
        "fbeta = fbeta_score(test_y.argmax(axis=1), \n",
        "                    predictions.argmax(axis=1), \n",
        "                    beta=1, zero_division=1,average='weighted')\n",
        "precision = precision_score(test_y.argmax(axis=1),\n",
        "                            predictions.argmax(axis=1),\n",
        "                            zero_division=1,average='weighted')\n",
        "recall = recall_score(test_y.argmax(axis=1),\n",
        "                      predictions.argmax(axis=1),\n",
        "                      zero_division=1,average='weighted')\n",
        "acc = accuracy_score(test_y.argmax(axis=1),\n",
        "                     predictions.argmax(axis=1))\n",
        "\n",
        "logger.info(\"Validation Accuracy: {}\".format(acc))\n",
        "logger.info(\"Validation Precision: {}\".format(precision))\n",
        "logger.info(\"Validation Recall: {}\".format(recall))\n",
        "logger.info(\"Validation F1: {}\".format(fbeta))\n",
        "\n",
        "run.summary[\"Acc\"] = acc\n",
        "run.summary[\"Precision\"] = precision\n",
        "run.summary[\"Recall\"] = recall\n",
        "run.summary[\"F1\"] = fbeta\n",
        "# number of parameters\n",
        "run.summary[\"Count_Params\"] = model.count_params()\n",
        "# energy unit is kWh\n",
        "run.summary[\"Energy_Consumed\"] = tracker.final_emissions_data.energy_consumed\n",
        "run.summary[\"Energy_RAM\"] = tracker.final_emissions_data.ram_energy\n",
        "run.summary[\"Energy_GPU\"] = tracker.final_emissions_data.gpu_energy\n",
        "run.summary[\"Energy_CPU\"] = tracker.final_emissions_data.cpu_energy\n",
        "# kg\n",
        "run.summary[\"CO2_Emissions\"] = tracker.final_emissions_data.emissions"
      ],
      "metadata": {
        "colab": {
          "base_uri": "https://localhost:8080/"
        },
        "id": "2kjSEaJyJ760",
        "outputId": "3ebff31f-5198-4552-c1c8-02ef6a640a48"
      },
      "execution_count": null,
      "outputs": [
        {
          "output_type": "stream",
          "name": "stderr",
          "text": [
            "06-11-2022 04:26:07 Validation Evaluation metrics\n",
            "06-11-2022 04:26:07 Validation Accuracy: 0.9835\n",
            "06-11-2022 04:26:07 Validation Precision: 0.9835747950746876\n",
            "06-11-2022 04:26:07 Validation Recall: 0.9835\n",
            "06-11-2022 04:26:07 Validation F1: 0.9834960113382216\n"
          ]
        }
      ]
    },
    {
      "cell_type": "markdown",
      "source": [
        "Now we can finish our process! ✅"
      ],
      "metadata": {
        "id": "JuFpn4c0KF4V"
      }
    },
    {
      "cell_type": "code",
      "source": [
        "run.finish()"
      ],
      "metadata": {
        "colab": {
          "base_uri": "https://localhost:8080/",
          "height": 565
        },
        "id": "xzOGiigUKBD0",
        "outputId": "7ce7cfac-ca36-43fb-d76c-1f369c632628"
      },
      "execution_count": null,
      "outputs": [
        {
          "output_type": "display_data",
          "data": {
            "text/plain": [
              "<IPython.core.display.HTML object>"
            ],
            "text/html": [
              "Waiting for W&B process to finish... <strong style=\"color:green\">(success).</strong>"
            ]
          },
          "metadata": {}
        },
        {
          "output_type": "display_data",
          "data": {
            "text/plain": [
              "<IPython.core.display.HTML object>"
            ],
            "text/html": [
              "<style>\n",
              "    table.wandb td:nth-child(1) { padding: 0 10px; text-align: left ; width: auto;} td:nth-child(2) {text-align: left ; width: 100%}\n",
              "    .wandb-row { display: flex; flex-direction: row; flex-wrap: wrap; justify-content: flex-start; width: 100% }\n",
              "    .wandb-col { display: flex; flex-direction: column; flex-basis: 100%; flex: 1; padding: 10px; }\n",
              "    </style>\n",
              "<div class=\"wandb-row\"><div class=\"wandb-col\"><h3>Run history:</h3><br/><table class=\"wandb\"><tr><td>accuracy</td><td>▁▆▇▇██████</td></tr><tr><td>epoch</td><td>▁▂▃▃▄▅▆▆▇█</td></tr><tr><td>loss</td><td>█▃▂▂▁▁▁▁▁▁</td></tr><tr><td>val_accuracy</td><td>▃▆█▄█▁▇▇▇█</td></tr><tr><td>val_loss</td><td>▆▃▂▅▁█▂▂▁▁</td></tr></table><br/></div><div class=\"wandb-col\"><h3>Run summary:</h3><br/><table class=\"wandb\"><tr><td>Acc</td><td>0.9835</td></tr><tr><td>CO2_Emissions</td><td>0.00321</td></tr><tr><td>Count_Params</td><td>85714</td></tr><tr><td>Energy_CPU</td><td>0.0028</td></tr><tr><td>Energy_Consumed</td><td>0.00509</td></tr><tr><td>Energy_GPU</td><td>0.00197</td></tr><tr><td>Energy_RAM</td><td>0.00031</td></tr><tr><td>F1</td><td>0.9835</td></tr><tr><td>GFLOPs</td><td>0.00103</td></tr><tr><td>Precision</td><td>0.98357</td></tr><tr><td>Recall</td><td>0.9835</td></tr><tr><td>accuracy</td><td>0.92657</td></tr><tr><td>best_epoch</td><td>4</td></tr><tr><td>best_val_loss</td><td>0.04442</td></tr><tr><td>epoch</td><td>9</td></tr><tr><td>loss</td><td>0.25153</td></tr><tr><td>val_accuracy</td><td>0.9835</td></tr><tr><td>val_loss</td><td>0.05076</td></tr></table><br/></div></div>"
            ]
          },
          "metadata": {}
        },
        {
          "output_type": "display_data",
          "data": {
            "text/plain": [
              "<IPython.core.display.HTML object>"
            ],
            "text/html": [
              "Synced <strong style=\"color:#cdcd00\">pleasant-terrain-10</strong>: <a href=\"https://wandb.ai/euripedes/padoca-net/runs/24ypxg3c\" target=\"_blank\">https://wandb.ai/euripedes/padoca-net/runs/24ypxg3c</a><br/>Synced 5 W&B file(s), 1 media file(s), 0 artifact file(s) and 0 other file(s)"
            ]
          },
          "metadata": {}
        },
        {
          "output_type": "display_data",
          "data": {
            "text/plain": [
              "<IPython.core.display.HTML object>"
            ],
            "text/html": [
              "Find logs at: <code>./wandb/run-20221106_041952-24ypxg3c/logs</code>"
            ]
          },
          "metadata": {}
        }
      ]
    }
  ]
}