{
  "nbformat": 4,
  "nbformat_minor": 0,
  "metadata": {
    "colab": {
      "provenance": [],
      "collapsed_sections": [
        "N_uQdVa8cdK9",
        "hm_E8g4bcYgG",
        "A5YupdsGkhPg"
      ]
    },
    "kernelspec": {
      "name": "python3",
      "display_name": "Python 3"
    },
    "language_info": {
      "name": "python"
    },
    "accelerator": "GPU",
    "gpuClass": "standard",
    "widgets": {
      "application/vnd.jupyter.widget-state+json": {
        "b5ff747afeb34851bbad5d4d0a273ac7": {
          "model_module": "@jupyter-widgets/controls",
          "model_name": "VBoxModel",
          "model_module_version": "1.5.0",
          "state": {
            "_dom_classes": [],
            "_model_module": "@jupyter-widgets/controls",
            "_model_module_version": "1.5.0",
            "_model_name": "VBoxModel",
            "_view_count": null,
            "_view_module": "@jupyter-widgets/controls",
            "_view_module_version": "1.5.0",
            "_view_name": "VBoxView",
            "box_style": "",
            "children": [
              "IPY_MODEL_e0467d842d834b0eb58084b830af3a86",
              "IPY_MODEL_202760d0e7254615ae453435a73f0959"
            ],
            "layout": "IPY_MODEL_32a61e5665d6446b8fab104b6bdc1a83"
          }
        },
        "e0467d842d834b0eb58084b830af3a86": {
          "model_module": "@jupyter-widgets/controls",
          "model_name": "LabelModel",
          "model_module_version": "1.5.0",
          "state": {
            "_dom_classes": [],
            "_model_module": "@jupyter-widgets/controls",
            "_model_module_version": "1.5.0",
            "_model_name": "LabelModel",
            "_view_count": null,
            "_view_module": "@jupyter-widgets/controls",
            "_view_module_version": "1.5.0",
            "_view_name": "LabelView",
            "description": "",
            "description_tooltip": null,
            "layout": "IPY_MODEL_8460014e740f41f3954837bc4f851d44",
            "placeholder": "​",
            "style": "IPY_MODEL_63bd9f0ba2034c87bd4bf7e7deab23e2",
            "value": "0.001 MB of 0.001 MB uploaded (0.000 MB deduped)\r"
          }
        },
        "202760d0e7254615ae453435a73f0959": {
          "model_module": "@jupyter-widgets/controls",
          "model_name": "FloatProgressModel",
          "model_module_version": "1.5.0",
          "state": {
            "_dom_classes": [],
            "_model_module": "@jupyter-widgets/controls",
            "_model_module_version": "1.5.0",
            "_model_name": "FloatProgressModel",
            "_view_count": null,
            "_view_module": "@jupyter-widgets/controls",
            "_view_module_version": "1.5.0",
            "_view_name": "ProgressView",
            "bar_style": "",
            "description": "",
            "description_tooltip": null,
            "layout": "IPY_MODEL_2c4e8c94a209482da499a4146d5e09a2",
            "max": 1,
            "min": 0,
            "orientation": "horizontal",
            "style": "IPY_MODEL_38e0dcc40d9349149a10abc1e1ae11a5",
            "value": 1
          }
        },
        "32a61e5665d6446b8fab104b6bdc1a83": {
          "model_module": "@jupyter-widgets/base",
          "model_name": "LayoutModel",
          "model_module_version": "1.2.0",
          "state": {
            "_model_module": "@jupyter-widgets/base",
            "_model_module_version": "1.2.0",
            "_model_name": "LayoutModel",
            "_view_count": null,
            "_view_module": "@jupyter-widgets/base",
            "_view_module_version": "1.2.0",
            "_view_name": "LayoutView",
            "align_content": null,
            "align_items": null,
            "align_self": null,
            "border": null,
            "bottom": null,
            "display": null,
            "flex": null,
            "flex_flow": null,
            "grid_area": null,
            "grid_auto_columns": null,
            "grid_auto_flow": null,
            "grid_auto_rows": null,
            "grid_column": null,
            "grid_gap": null,
            "grid_row": null,
            "grid_template_areas": null,
            "grid_template_columns": null,
            "grid_template_rows": null,
            "height": null,
            "justify_content": null,
            "justify_items": null,
            "left": null,
            "margin": null,
            "max_height": null,
            "max_width": null,
            "min_height": null,
            "min_width": null,
            "object_fit": null,
            "object_position": null,
            "order": null,
            "overflow": null,
            "overflow_x": null,
            "overflow_y": null,
            "padding": null,
            "right": null,
            "top": null,
            "visibility": null,
            "width": null
          }
        },
        "8460014e740f41f3954837bc4f851d44": {
          "model_module": "@jupyter-widgets/base",
          "model_name": "LayoutModel",
          "model_module_version": "1.2.0",
          "state": {
            "_model_module": "@jupyter-widgets/base",
            "_model_module_version": "1.2.0",
            "_model_name": "LayoutModel",
            "_view_count": null,
            "_view_module": "@jupyter-widgets/base",
            "_view_module_version": "1.2.0",
            "_view_name": "LayoutView",
            "align_content": null,
            "align_items": null,
            "align_self": null,
            "border": null,
            "bottom": null,
            "display": null,
            "flex": null,
            "flex_flow": null,
            "grid_area": null,
            "grid_auto_columns": null,
            "grid_auto_flow": null,
            "grid_auto_rows": null,
            "grid_column": null,
            "grid_gap": null,
            "grid_row": null,
            "grid_template_areas": null,
            "grid_template_columns": null,
            "grid_template_rows": null,
            "height": null,
            "justify_content": null,
            "justify_items": null,
            "left": null,
            "margin": null,
            "max_height": null,
            "max_width": null,
            "min_height": null,
            "min_width": null,
            "object_fit": null,
            "object_position": null,
            "order": null,
            "overflow": null,
            "overflow_x": null,
            "overflow_y": null,
            "padding": null,
            "right": null,
            "top": null,
            "visibility": null,
            "width": null
          }
        },
        "63bd9f0ba2034c87bd4bf7e7deab23e2": {
          "model_module": "@jupyter-widgets/controls",
          "model_name": "DescriptionStyleModel",
          "model_module_version": "1.5.0",
          "state": {
            "_model_module": "@jupyter-widgets/controls",
            "_model_module_version": "1.5.0",
            "_model_name": "DescriptionStyleModel",
            "_view_count": null,
            "_view_module": "@jupyter-widgets/base",
            "_view_module_version": "1.2.0",
            "_view_name": "StyleView",
            "description_width": ""
          }
        },
        "2c4e8c94a209482da499a4146d5e09a2": {
          "model_module": "@jupyter-widgets/base",
          "model_name": "LayoutModel",
          "model_module_version": "1.2.0",
          "state": {
            "_model_module": "@jupyter-widgets/base",
            "_model_module_version": "1.2.0",
            "_model_name": "LayoutModel",
            "_view_count": null,
            "_view_module": "@jupyter-widgets/base",
            "_view_module_version": "1.2.0",
            "_view_name": "LayoutView",
            "align_content": null,
            "align_items": null,
            "align_self": null,
            "border": null,
            "bottom": null,
            "display": null,
            "flex": null,
            "flex_flow": null,
            "grid_area": null,
            "grid_auto_columns": null,
            "grid_auto_flow": null,
            "grid_auto_rows": null,
            "grid_column": null,
            "grid_gap": null,
            "grid_row": null,
            "grid_template_areas": null,
            "grid_template_columns": null,
            "grid_template_rows": null,
            "height": null,
            "justify_content": null,
            "justify_items": null,
            "left": null,
            "margin": null,
            "max_height": null,
            "max_width": null,
            "min_height": null,
            "min_width": null,
            "object_fit": null,
            "object_position": null,
            "order": null,
            "overflow": null,
            "overflow_x": null,
            "overflow_y": null,
            "padding": null,
            "right": null,
            "top": null,
            "visibility": null,
            "width": null
          }
        },
        "38e0dcc40d9349149a10abc1e1ae11a5": {
          "model_module": "@jupyter-widgets/controls",
          "model_name": "ProgressStyleModel",
          "model_module_version": "1.5.0",
          "state": {
            "_model_module": "@jupyter-widgets/controls",
            "_model_module_version": "1.5.0",
            "_model_name": "ProgressStyleModel",
            "_view_count": null,
            "_view_module": "@jupyter-widgets/base",
            "_view_module_version": "1.2.0",
            "_view_name": "StyleView",
            "bar_color": null,
            "description_width": ""
          }
        },
        "20e845589dc346e9b5c6eafa809b6cfb": {
          "model_module": "@jupyter-widgets/controls",
          "model_name": "VBoxModel",
          "model_module_version": "1.5.0",
          "state": {
            "_dom_classes": [],
            "_model_module": "@jupyter-widgets/controls",
            "_model_module_version": "1.5.0",
            "_model_name": "VBoxModel",
            "_view_count": null,
            "_view_module": "@jupyter-widgets/controls",
            "_view_module_version": "1.5.0",
            "_view_name": "VBoxView",
            "box_style": "",
            "children": [
              "IPY_MODEL_52f26217b7aa4f4aa2816021f6910605",
              "IPY_MODEL_ad8f648da6bc4472b1e0d3c1a97dd098"
            ],
            "layout": "IPY_MODEL_a6314585aecc4a61bb679e171282db2f"
          }
        },
        "52f26217b7aa4f4aa2816021f6910605": {
          "model_module": "@jupyter-widgets/controls",
          "model_name": "LabelModel",
          "model_module_version": "1.5.0",
          "state": {
            "_dom_classes": [],
            "_model_module": "@jupyter-widgets/controls",
            "_model_module_version": "1.5.0",
            "_model_name": "LabelModel",
            "_view_count": null,
            "_view_module": "@jupyter-widgets/controls",
            "_view_module_version": "1.5.0",
            "_view_name": "LabelView",
            "description": "",
            "description_tooltip": null,
            "layout": "IPY_MODEL_b10300ea96f54b1e9e2d5158d83d014c",
            "placeholder": "​",
            "style": "IPY_MODEL_147cd98232a14ad3939a4c5f3a9f62d0",
            "value": "0.001 MB of 0.001 MB uploaded (0.000 MB deduped)\r"
          }
        },
        "ad8f648da6bc4472b1e0d3c1a97dd098": {
          "model_module": "@jupyter-widgets/controls",
          "model_name": "FloatProgressModel",
          "model_module_version": "1.5.0",
          "state": {
            "_dom_classes": [],
            "_model_module": "@jupyter-widgets/controls",
            "_model_module_version": "1.5.0",
            "_model_name": "FloatProgressModel",
            "_view_count": null,
            "_view_module": "@jupyter-widgets/controls",
            "_view_module_version": "1.5.0",
            "_view_name": "ProgressView",
            "bar_style": "",
            "description": "",
            "description_tooltip": null,
            "layout": "IPY_MODEL_ca1cb120acfe4ff29f2f8c471c6b49d2",
            "max": 1,
            "min": 0,
            "orientation": "horizontal",
            "style": "IPY_MODEL_a25162b44db740098c8907f05e2857e6",
            "value": 1
          }
        },
        "a6314585aecc4a61bb679e171282db2f": {
          "model_module": "@jupyter-widgets/base",
          "model_name": "LayoutModel",
          "model_module_version": "1.2.0",
          "state": {
            "_model_module": "@jupyter-widgets/base",
            "_model_module_version": "1.2.0",
            "_model_name": "LayoutModel",
            "_view_count": null,
            "_view_module": "@jupyter-widgets/base",
            "_view_module_version": "1.2.0",
            "_view_name": "LayoutView",
            "align_content": null,
            "align_items": null,
            "align_self": null,
            "border": null,
            "bottom": null,
            "display": null,
            "flex": null,
            "flex_flow": null,
            "grid_area": null,
            "grid_auto_columns": null,
            "grid_auto_flow": null,
            "grid_auto_rows": null,
            "grid_column": null,
            "grid_gap": null,
            "grid_row": null,
            "grid_template_areas": null,
            "grid_template_columns": null,
            "grid_template_rows": null,
            "height": null,
            "justify_content": null,
            "justify_items": null,
            "left": null,
            "margin": null,
            "max_height": null,
            "max_width": null,
            "min_height": null,
            "min_width": null,
            "object_fit": null,
            "object_position": null,
            "order": null,
            "overflow": null,
            "overflow_x": null,
            "overflow_y": null,
            "padding": null,
            "right": null,
            "top": null,
            "visibility": null,
            "width": null
          }
        },
        "b10300ea96f54b1e9e2d5158d83d014c": {
          "model_module": "@jupyter-widgets/base",
          "model_name": "LayoutModel",
          "model_module_version": "1.2.0",
          "state": {
            "_model_module": "@jupyter-widgets/base",
            "_model_module_version": "1.2.0",
            "_model_name": "LayoutModel",
            "_view_count": null,
            "_view_module": "@jupyter-widgets/base",
            "_view_module_version": "1.2.0",
            "_view_name": "LayoutView",
            "align_content": null,
            "align_items": null,
            "align_self": null,
            "border": null,
            "bottom": null,
            "display": null,
            "flex": null,
            "flex_flow": null,
            "grid_area": null,
            "grid_auto_columns": null,
            "grid_auto_flow": null,
            "grid_auto_rows": null,
            "grid_column": null,
            "grid_gap": null,
            "grid_row": null,
            "grid_template_areas": null,
            "grid_template_columns": null,
            "grid_template_rows": null,
            "height": null,
            "justify_content": null,
            "justify_items": null,
            "left": null,
            "margin": null,
            "max_height": null,
            "max_width": null,
            "min_height": null,
            "min_width": null,
            "object_fit": null,
            "object_position": null,
            "order": null,
            "overflow": null,
            "overflow_x": null,
            "overflow_y": null,
            "padding": null,
            "right": null,
            "top": null,
            "visibility": null,
            "width": null
          }
        },
        "147cd98232a14ad3939a4c5f3a9f62d0": {
          "model_module": "@jupyter-widgets/controls",
          "model_name": "DescriptionStyleModel",
          "model_module_version": "1.5.0",
          "state": {
            "_model_module": "@jupyter-widgets/controls",
            "_model_module_version": "1.5.0",
            "_model_name": "DescriptionStyleModel",
            "_view_count": null,
            "_view_module": "@jupyter-widgets/base",
            "_view_module_version": "1.2.0",
            "_view_name": "StyleView",
            "description_width": ""
          }
        },
        "ca1cb120acfe4ff29f2f8c471c6b49d2": {
          "model_module": "@jupyter-widgets/base",
          "model_name": "LayoutModel",
          "model_module_version": "1.2.0",
          "state": {
            "_model_module": "@jupyter-widgets/base",
            "_model_module_version": "1.2.0",
            "_model_name": "LayoutModel",
            "_view_count": null,
            "_view_module": "@jupyter-widgets/base",
            "_view_module_version": "1.2.0",
            "_view_name": "LayoutView",
            "align_content": null,
            "align_items": null,
            "align_self": null,
            "border": null,
            "bottom": null,
            "display": null,
            "flex": null,
            "flex_flow": null,
            "grid_area": null,
            "grid_auto_columns": null,
            "grid_auto_flow": null,
            "grid_auto_rows": null,
            "grid_column": null,
            "grid_gap": null,
            "grid_row": null,
            "grid_template_areas": null,
            "grid_template_columns": null,
            "grid_template_rows": null,
            "height": null,
            "justify_content": null,
            "justify_items": null,
            "left": null,
            "margin": null,
            "max_height": null,
            "max_width": null,
            "min_height": null,
            "min_width": null,
            "object_fit": null,
            "object_position": null,
            "order": null,
            "overflow": null,
            "overflow_x": null,
            "overflow_y": null,
            "padding": null,
            "right": null,
            "top": null,
            "visibility": null,
            "width": null
          }
        },
        "a25162b44db740098c8907f05e2857e6": {
          "model_module": "@jupyter-widgets/controls",
          "model_name": "ProgressStyleModel",
          "model_module_version": "1.5.0",
          "state": {
            "_model_module": "@jupyter-widgets/controls",
            "_model_module_version": "1.5.0",
            "_model_name": "ProgressStyleModel",
            "_view_count": null,
            "_view_module": "@jupyter-widgets/base",
            "_view_module_version": "1.2.0",
            "_view_name": "StyleView",
            "bar_color": null,
            "description_width": ""
          }
        },
        "acf86415b07d4721956634971b9c97b2": {
          "model_module": "@jupyter-widgets/controls",
          "model_name": "VBoxModel",
          "model_module_version": "1.5.0",
          "state": {
            "_dom_classes": [],
            "_model_module": "@jupyter-widgets/controls",
            "_model_module_version": "1.5.0",
            "_model_name": "VBoxModel",
            "_view_count": null,
            "_view_module": "@jupyter-widgets/controls",
            "_view_module_version": "1.5.0",
            "_view_name": "VBoxView",
            "box_style": "",
            "children": [
              "IPY_MODEL_4a07639ca8de4b35b3bf4721d435d1b6",
              "IPY_MODEL_a30e1e9471a74a26bd6cfe3a0e93824e"
            ],
            "layout": "IPY_MODEL_cdb66b70b26840a2abca7390d1dbb51a"
          }
        },
        "4a07639ca8de4b35b3bf4721d435d1b6": {
          "model_module": "@jupyter-widgets/controls",
          "model_name": "LabelModel",
          "model_module_version": "1.5.0",
          "state": {
            "_dom_classes": [],
            "_model_module": "@jupyter-widgets/controls",
            "_model_module_version": "1.5.0",
            "_model_name": "LabelModel",
            "_view_count": null,
            "_view_module": "@jupyter-widgets/controls",
            "_view_module_version": "1.5.0",
            "_view_name": "LabelView",
            "description": "",
            "description_tooltip": null,
            "layout": "IPY_MODEL_c1895cda59c5437a82b56d466e39893b",
            "placeholder": "​",
            "style": "IPY_MODEL_0da5d1d4c111437ab00dfc91ecc5456c",
            "value": "0.001 MB of 0.001 MB uploaded (0.000 MB deduped)\r"
          }
        },
        "a30e1e9471a74a26bd6cfe3a0e93824e": {
          "model_module": "@jupyter-widgets/controls",
          "model_name": "FloatProgressModel",
          "model_module_version": "1.5.0",
          "state": {
            "_dom_classes": [],
            "_model_module": "@jupyter-widgets/controls",
            "_model_module_version": "1.5.0",
            "_model_name": "FloatProgressModel",
            "_view_count": null,
            "_view_module": "@jupyter-widgets/controls",
            "_view_module_version": "1.5.0",
            "_view_name": "ProgressView",
            "bar_style": "",
            "description": "",
            "description_tooltip": null,
            "layout": "IPY_MODEL_76dfc7b1c8a64403826c2d878f92363d",
            "max": 1,
            "min": 0,
            "orientation": "horizontal",
            "style": "IPY_MODEL_e068bf1cc83747f293879d6bd257e66a",
            "value": 1
          }
        },
        "cdb66b70b26840a2abca7390d1dbb51a": {
          "model_module": "@jupyter-widgets/base",
          "model_name": "LayoutModel",
          "model_module_version": "1.2.0",
          "state": {
            "_model_module": "@jupyter-widgets/base",
            "_model_module_version": "1.2.0",
            "_model_name": "LayoutModel",
            "_view_count": null,
            "_view_module": "@jupyter-widgets/base",
            "_view_module_version": "1.2.0",
            "_view_name": "LayoutView",
            "align_content": null,
            "align_items": null,
            "align_self": null,
            "border": null,
            "bottom": null,
            "display": null,
            "flex": null,
            "flex_flow": null,
            "grid_area": null,
            "grid_auto_columns": null,
            "grid_auto_flow": null,
            "grid_auto_rows": null,
            "grid_column": null,
            "grid_gap": null,
            "grid_row": null,
            "grid_template_areas": null,
            "grid_template_columns": null,
            "grid_template_rows": null,
            "height": null,
            "justify_content": null,
            "justify_items": null,
            "left": null,
            "margin": null,
            "max_height": null,
            "max_width": null,
            "min_height": null,
            "min_width": null,
            "object_fit": null,
            "object_position": null,
            "order": null,
            "overflow": null,
            "overflow_x": null,
            "overflow_y": null,
            "padding": null,
            "right": null,
            "top": null,
            "visibility": null,
            "width": null
          }
        },
        "c1895cda59c5437a82b56d466e39893b": {
          "model_module": "@jupyter-widgets/base",
          "model_name": "LayoutModel",
          "model_module_version": "1.2.0",
          "state": {
            "_model_module": "@jupyter-widgets/base",
            "_model_module_version": "1.2.0",
            "_model_name": "LayoutModel",
            "_view_count": null,
            "_view_module": "@jupyter-widgets/base",
            "_view_module_version": "1.2.0",
            "_view_name": "LayoutView",
            "align_content": null,
            "align_items": null,
            "align_self": null,
            "border": null,
            "bottom": null,
            "display": null,
            "flex": null,
            "flex_flow": null,
            "grid_area": null,
            "grid_auto_columns": null,
            "grid_auto_flow": null,
            "grid_auto_rows": null,
            "grid_column": null,
            "grid_gap": null,
            "grid_row": null,
            "grid_template_areas": null,
            "grid_template_columns": null,
            "grid_template_rows": null,
            "height": null,
            "justify_content": null,
            "justify_items": null,
            "left": null,
            "margin": null,
            "max_height": null,
            "max_width": null,
            "min_height": null,
            "min_width": null,
            "object_fit": null,
            "object_position": null,
            "order": null,
            "overflow": null,
            "overflow_x": null,
            "overflow_y": null,
            "padding": null,
            "right": null,
            "top": null,
            "visibility": null,
            "width": null
          }
        },
        "0da5d1d4c111437ab00dfc91ecc5456c": {
          "model_module": "@jupyter-widgets/controls",
          "model_name": "DescriptionStyleModel",
          "model_module_version": "1.5.0",
          "state": {
            "_model_module": "@jupyter-widgets/controls",
            "_model_module_version": "1.5.0",
            "_model_name": "DescriptionStyleModel",
            "_view_count": null,
            "_view_module": "@jupyter-widgets/base",
            "_view_module_version": "1.2.0",
            "_view_name": "StyleView",
            "description_width": ""
          }
        },
        "76dfc7b1c8a64403826c2d878f92363d": {
          "model_module": "@jupyter-widgets/base",
          "model_name": "LayoutModel",
          "model_module_version": "1.2.0",
          "state": {
            "_model_module": "@jupyter-widgets/base",
            "_model_module_version": "1.2.0",
            "_model_name": "LayoutModel",
            "_view_count": null,
            "_view_module": "@jupyter-widgets/base",
            "_view_module_version": "1.2.0",
            "_view_name": "LayoutView",
            "align_content": null,
            "align_items": null,
            "align_self": null,
            "border": null,
            "bottom": null,
            "display": null,
            "flex": null,
            "flex_flow": null,
            "grid_area": null,
            "grid_auto_columns": null,
            "grid_auto_flow": null,
            "grid_auto_rows": null,
            "grid_column": null,
            "grid_gap": null,
            "grid_row": null,
            "grid_template_areas": null,
            "grid_template_columns": null,
            "grid_template_rows": null,
            "height": null,
            "justify_content": null,
            "justify_items": null,
            "left": null,
            "margin": null,
            "max_height": null,
            "max_width": null,
            "min_height": null,
            "min_width": null,
            "object_fit": null,
            "object_position": null,
            "order": null,
            "overflow": null,
            "overflow_x": null,
            "overflow_y": null,
            "padding": null,
            "right": null,
            "top": null,
            "visibility": null,
            "width": null
          }
        },
        "e068bf1cc83747f293879d6bd257e66a": {
          "model_module": "@jupyter-widgets/controls",
          "model_name": "ProgressStyleModel",
          "model_module_version": "1.5.0",
          "state": {
            "_model_module": "@jupyter-widgets/controls",
            "_model_module_version": "1.5.0",
            "_model_name": "ProgressStyleModel",
            "_view_count": null,
            "_view_module": "@jupyter-widgets/base",
            "_view_module_version": "1.2.0",
            "_view_name": "StyleView",
            "bar_color": null,
            "description_width": ""
          }
        },
        "c6a1a4d4e3194f82a95acc0d2a7d0b47": {
          "model_module": "@jupyter-widgets/controls",
          "model_name": "VBoxModel",
          "model_module_version": "1.5.0",
          "state": {
            "_dom_classes": [],
            "_model_module": "@jupyter-widgets/controls",
            "_model_module_version": "1.5.0",
            "_model_name": "VBoxModel",
            "_view_count": null,
            "_view_module": "@jupyter-widgets/controls",
            "_view_module_version": "1.5.0",
            "_view_name": "VBoxView",
            "box_style": "",
            "children": [
              "IPY_MODEL_9f582aa3bbcc4eedb6aec57347323d6b",
              "IPY_MODEL_f37a2b35dee0437b9886c87fc6302b18"
            ],
            "layout": "IPY_MODEL_f9651aeeea3641b68a4bbc00793c1779"
          }
        },
        "9f582aa3bbcc4eedb6aec57347323d6b": {
          "model_module": "@jupyter-widgets/controls",
          "model_name": "LabelModel",
          "model_module_version": "1.5.0",
          "state": {
            "_dom_classes": [],
            "_model_module": "@jupyter-widgets/controls",
            "_model_module_version": "1.5.0",
            "_model_name": "LabelModel",
            "_view_count": null,
            "_view_module": "@jupyter-widgets/controls",
            "_view_module_version": "1.5.0",
            "_view_name": "LabelView",
            "description": "",
            "description_tooltip": null,
            "layout": "IPY_MODEL_8bb1dd7d784e4f818c93501527661e3f",
            "placeholder": "​",
            "style": "IPY_MODEL_6711846695d341dcb35b095f530f1e4d",
            "value": "0.001 MB of 0.010 MB uploaded (0.000 MB deduped)\r"
          }
        },
        "f37a2b35dee0437b9886c87fc6302b18": {
          "model_module": "@jupyter-widgets/controls",
          "model_name": "FloatProgressModel",
          "model_module_version": "1.5.0",
          "state": {
            "_dom_classes": [],
            "_model_module": "@jupyter-widgets/controls",
            "_model_module_version": "1.5.0",
            "_model_name": "FloatProgressModel",
            "_view_count": null,
            "_view_module": "@jupyter-widgets/controls",
            "_view_module_version": "1.5.0",
            "_view_name": "ProgressView",
            "bar_style": "",
            "description": "",
            "description_tooltip": null,
            "layout": "IPY_MODEL_dcd117963f8c49eeab6b164a6e080dfa",
            "max": 1,
            "min": 0,
            "orientation": "horizontal",
            "style": "IPY_MODEL_1a86f1040d0448c4ad2eedbe6a0ba3ea",
            "value": 0.0752549757401723
          }
        },
        "f9651aeeea3641b68a4bbc00793c1779": {
          "model_module": "@jupyter-widgets/base",
          "model_name": "LayoutModel",
          "model_module_version": "1.2.0",
          "state": {
            "_model_module": "@jupyter-widgets/base",
            "_model_module_version": "1.2.0",
            "_model_name": "LayoutModel",
            "_view_count": null,
            "_view_module": "@jupyter-widgets/base",
            "_view_module_version": "1.2.0",
            "_view_name": "LayoutView",
            "align_content": null,
            "align_items": null,
            "align_self": null,
            "border": null,
            "bottom": null,
            "display": null,
            "flex": null,
            "flex_flow": null,
            "grid_area": null,
            "grid_auto_columns": null,
            "grid_auto_flow": null,
            "grid_auto_rows": null,
            "grid_column": null,
            "grid_gap": null,
            "grid_row": null,
            "grid_template_areas": null,
            "grid_template_columns": null,
            "grid_template_rows": null,
            "height": null,
            "justify_content": null,
            "justify_items": null,
            "left": null,
            "margin": null,
            "max_height": null,
            "max_width": null,
            "min_height": null,
            "min_width": null,
            "object_fit": null,
            "object_position": null,
            "order": null,
            "overflow": null,
            "overflow_x": null,
            "overflow_y": null,
            "padding": null,
            "right": null,
            "top": null,
            "visibility": null,
            "width": null
          }
        },
        "8bb1dd7d784e4f818c93501527661e3f": {
          "model_module": "@jupyter-widgets/base",
          "model_name": "LayoutModel",
          "model_module_version": "1.2.0",
          "state": {
            "_model_module": "@jupyter-widgets/base",
            "_model_module_version": "1.2.0",
            "_model_name": "LayoutModel",
            "_view_count": null,
            "_view_module": "@jupyter-widgets/base",
            "_view_module_version": "1.2.0",
            "_view_name": "LayoutView",
            "align_content": null,
            "align_items": null,
            "align_self": null,
            "border": null,
            "bottom": null,
            "display": null,
            "flex": null,
            "flex_flow": null,
            "grid_area": null,
            "grid_auto_columns": null,
            "grid_auto_flow": null,
            "grid_auto_rows": null,
            "grid_column": null,
            "grid_gap": null,
            "grid_row": null,
            "grid_template_areas": null,
            "grid_template_columns": null,
            "grid_template_rows": null,
            "height": null,
            "justify_content": null,
            "justify_items": null,
            "left": null,
            "margin": null,
            "max_height": null,
            "max_width": null,
            "min_height": null,
            "min_width": null,
            "object_fit": null,
            "object_position": null,
            "order": null,
            "overflow": null,
            "overflow_x": null,
            "overflow_y": null,
            "padding": null,
            "right": null,
            "top": null,
            "visibility": null,
            "width": null
          }
        },
        "6711846695d341dcb35b095f530f1e4d": {
          "model_module": "@jupyter-widgets/controls",
          "model_name": "DescriptionStyleModel",
          "model_module_version": "1.5.0",
          "state": {
            "_model_module": "@jupyter-widgets/controls",
            "_model_module_version": "1.5.0",
            "_model_name": "DescriptionStyleModel",
            "_view_count": null,
            "_view_module": "@jupyter-widgets/base",
            "_view_module_version": "1.2.0",
            "_view_name": "StyleView",
            "description_width": ""
          }
        },
        "dcd117963f8c49eeab6b164a6e080dfa": {
          "model_module": "@jupyter-widgets/base",
          "model_name": "LayoutModel",
          "model_module_version": "1.2.0",
          "state": {
            "_model_module": "@jupyter-widgets/base",
            "_model_module_version": "1.2.0",
            "_model_name": "LayoutModel",
            "_view_count": null,
            "_view_module": "@jupyter-widgets/base",
            "_view_module_version": "1.2.0",
            "_view_name": "LayoutView",
            "align_content": null,
            "align_items": null,
            "align_self": null,
            "border": null,
            "bottom": null,
            "display": null,
            "flex": null,
            "flex_flow": null,
            "grid_area": null,
            "grid_auto_columns": null,
            "grid_auto_flow": null,
            "grid_auto_rows": null,
            "grid_column": null,
            "grid_gap": null,
            "grid_row": null,
            "grid_template_areas": null,
            "grid_template_columns": null,
            "grid_template_rows": null,
            "height": null,
            "justify_content": null,
            "justify_items": null,
            "left": null,
            "margin": null,
            "max_height": null,
            "max_width": null,
            "min_height": null,
            "min_width": null,
            "object_fit": null,
            "object_position": null,
            "order": null,
            "overflow": null,
            "overflow_x": null,
            "overflow_y": null,
            "padding": null,
            "right": null,
            "top": null,
            "visibility": null,
            "width": null
          }
        },
        "1a86f1040d0448c4ad2eedbe6a0ba3ea": {
          "model_module": "@jupyter-widgets/controls",
          "model_name": "ProgressStyleModel",
          "model_module_version": "1.5.0",
          "state": {
            "_model_module": "@jupyter-widgets/controls",
            "_model_module_version": "1.5.0",
            "_model_name": "ProgressStyleModel",
            "_view_count": null,
            "_view_module": "@jupyter-widgets/base",
            "_view_module_version": "1.2.0",
            "_view_name": "StyleView",
            "bar_color": null,
            "description_width": ""
          }
        },
        "650b016d09ff4ea6bf52f7b3267a20d8": {
          "model_module": "@jupyter-widgets/controls",
          "model_name": "VBoxModel",
          "model_module_version": "1.5.0",
          "state": {
            "_dom_classes": [],
            "_model_module": "@jupyter-widgets/controls",
            "_model_module_version": "1.5.0",
            "_model_name": "VBoxModel",
            "_view_count": null,
            "_view_module": "@jupyter-widgets/controls",
            "_view_module_version": "1.5.0",
            "_view_name": "VBoxView",
            "box_style": "",
            "children": [
              "IPY_MODEL_1b15e9bdb19f446e8d7b70e81aab9a60",
              "IPY_MODEL_7615530504374499a778ddfe04b665da"
            ],
            "layout": "IPY_MODEL_150a5c4c56a7436fa7cf1a8577b6a75c"
          }
        },
        "1b15e9bdb19f446e8d7b70e81aab9a60": {
          "model_module": "@jupyter-widgets/controls",
          "model_name": "LabelModel",
          "model_module_version": "1.5.0",
          "state": {
            "_dom_classes": [],
            "_model_module": "@jupyter-widgets/controls",
            "_model_module_version": "1.5.0",
            "_model_name": "LabelModel",
            "_view_count": null,
            "_view_module": "@jupyter-widgets/controls",
            "_view_module_version": "1.5.0",
            "_view_name": "LabelView",
            "description": "",
            "description_tooltip": null,
            "layout": "IPY_MODEL_79b74312a55b4677870a89e557028549",
            "placeholder": "​",
            "style": "IPY_MODEL_d88e4632305a4066b6afac406f581f50",
            "value": "0.001 MB of 0.001 MB uploaded (0.000 MB deduped)\r"
          }
        },
        "7615530504374499a778ddfe04b665da": {
          "model_module": "@jupyter-widgets/controls",
          "model_name": "FloatProgressModel",
          "model_module_version": "1.5.0",
          "state": {
            "_dom_classes": [],
            "_model_module": "@jupyter-widgets/controls",
            "_model_module_version": "1.5.0",
            "_model_name": "FloatProgressModel",
            "_view_count": null,
            "_view_module": "@jupyter-widgets/controls",
            "_view_module_version": "1.5.0",
            "_view_name": "ProgressView",
            "bar_style": "",
            "description": "",
            "description_tooltip": null,
            "layout": "IPY_MODEL_220f068f812742c9bd5b05c3eaab0b58",
            "max": 1,
            "min": 0,
            "orientation": "horizontal",
            "style": "IPY_MODEL_1445bdf100e643a7bed5339dfae46fa3",
            "value": 1
          }
        },
        "150a5c4c56a7436fa7cf1a8577b6a75c": {
          "model_module": "@jupyter-widgets/base",
          "model_name": "LayoutModel",
          "model_module_version": "1.2.0",
          "state": {
            "_model_module": "@jupyter-widgets/base",
            "_model_module_version": "1.2.0",
            "_model_name": "LayoutModel",
            "_view_count": null,
            "_view_module": "@jupyter-widgets/base",
            "_view_module_version": "1.2.0",
            "_view_name": "LayoutView",
            "align_content": null,
            "align_items": null,
            "align_self": null,
            "border": null,
            "bottom": null,
            "display": null,
            "flex": null,
            "flex_flow": null,
            "grid_area": null,
            "grid_auto_columns": null,
            "grid_auto_flow": null,
            "grid_auto_rows": null,
            "grid_column": null,
            "grid_gap": null,
            "grid_row": null,
            "grid_template_areas": null,
            "grid_template_columns": null,
            "grid_template_rows": null,
            "height": null,
            "justify_content": null,
            "justify_items": null,
            "left": null,
            "margin": null,
            "max_height": null,
            "max_width": null,
            "min_height": null,
            "min_width": null,
            "object_fit": null,
            "object_position": null,
            "order": null,
            "overflow": null,
            "overflow_x": null,
            "overflow_y": null,
            "padding": null,
            "right": null,
            "top": null,
            "visibility": null,
            "width": null
          }
        },
        "79b74312a55b4677870a89e557028549": {
          "model_module": "@jupyter-widgets/base",
          "model_name": "LayoutModel",
          "model_module_version": "1.2.0",
          "state": {
            "_model_module": "@jupyter-widgets/base",
            "_model_module_version": "1.2.0",
            "_model_name": "LayoutModel",
            "_view_count": null,
            "_view_module": "@jupyter-widgets/base",
            "_view_module_version": "1.2.0",
            "_view_name": "LayoutView",
            "align_content": null,
            "align_items": null,
            "align_self": null,
            "border": null,
            "bottom": null,
            "display": null,
            "flex": null,
            "flex_flow": null,
            "grid_area": null,
            "grid_auto_columns": null,
            "grid_auto_flow": null,
            "grid_auto_rows": null,
            "grid_column": null,
            "grid_gap": null,
            "grid_row": null,
            "grid_template_areas": null,
            "grid_template_columns": null,
            "grid_template_rows": null,
            "height": null,
            "justify_content": null,
            "justify_items": null,
            "left": null,
            "margin": null,
            "max_height": null,
            "max_width": null,
            "min_height": null,
            "min_width": null,
            "object_fit": null,
            "object_position": null,
            "order": null,
            "overflow": null,
            "overflow_x": null,
            "overflow_y": null,
            "padding": null,
            "right": null,
            "top": null,
            "visibility": null,
            "width": null
          }
        },
        "d88e4632305a4066b6afac406f581f50": {
          "model_module": "@jupyter-widgets/controls",
          "model_name": "DescriptionStyleModel",
          "model_module_version": "1.5.0",
          "state": {
            "_model_module": "@jupyter-widgets/controls",
            "_model_module_version": "1.5.0",
            "_model_name": "DescriptionStyleModel",
            "_view_count": null,
            "_view_module": "@jupyter-widgets/base",
            "_view_module_version": "1.2.0",
            "_view_name": "StyleView",
            "description_width": ""
          }
        },
        "220f068f812742c9bd5b05c3eaab0b58": {
          "model_module": "@jupyter-widgets/base",
          "model_name": "LayoutModel",
          "model_module_version": "1.2.0",
          "state": {
            "_model_module": "@jupyter-widgets/base",
            "_model_module_version": "1.2.0",
            "_model_name": "LayoutModel",
            "_view_count": null,
            "_view_module": "@jupyter-widgets/base",
            "_view_module_version": "1.2.0",
            "_view_name": "LayoutView",
            "align_content": null,
            "align_items": null,
            "align_self": null,
            "border": null,
            "bottom": null,
            "display": null,
            "flex": null,
            "flex_flow": null,
            "grid_area": null,
            "grid_auto_columns": null,
            "grid_auto_flow": null,
            "grid_auto_rows": null,
            "grid_column": null,
            "grid_gap": null,
            "grid_row": null,
            "grid_template_areas": null,
            "grid_template_columns": null,
            "grid_template_rows": null,
            "height": null,
            "justify_content": null,
            "justify_items": null,
            "left": null,
            "margin": null,
            "max_height": null,
            "max_width": null,
            "min_height": null,
            "min_width": null,
            "object_fit": null,
            "object_position": null,
            "order": null,
            "overflow": null,
            "overflow_x": null,
            "overflow_y": null,
            "padding": null,
            "right": null,
            "top": null,
            "visibility": null,
            "width": null
          }
        },
        "1445bdf100e643a7bed5339dfae46fa3": {
          "model_module": "@jupyter-widgets/controls",
          "model_name": "ProgressStyleModel",
          "model_module_version": "1.5.0",
          "state": {
            "_model_module": "@jupyter-widgets/controls",
            "_model_module_version": "1.5.0",
            "_model_name": "ProgressStyleModel",
            "_view_count": null,
            "_view_module": "@jupyter-widgets/base",
            "_view_module_version": "1.2.0",
            "_view_name": "StyleView",
            "bar_color": null,
            "description_width": ""
          }
        },
        "a8a67eb77e4b4de995769b1851a92480": {
          "model_module": "@jupyter-widgets/controls",
          "model_name": "VBoxModel",
          "model_module_version": "1.5.0",
          "state": {
            "_dom_classes": [],
            "_model_module": "@jupyter-widgets/controls",
            "_model_module_version": "1.5.0",
            "_model_name": "VBoxModel",
            "_view_count": null,
            "_view_module": "@jupyter-widgets/controls",
            "_view_module_version": "1.5.0",
            "_view_name": "VBoxView",
            "box_style": "",
            "children": [
              "IPY_MODEL_1416e12875404dc78d3c283587abb6a0",
              "IPY_MODEL_4850dfbcc7c24d4e861420ac1d361d8d"
            ],
            "layout": "IPY_MODEL_6cac100f2c854bb4a0beb8ebbf157f4e"
          }
        },
        "1416e12875404dc78d3c283587abb6a0": {
          "model_module": "@jupyter-widgets/controls",
          "model_name": "LabelModel",
          "model_module_version": "1.5.0",
          "state": {
            "_dom_classes": [],
            "_model_module": "@jupyter-widgets/controls",
            "_model_module_version": "1.5.0",
            "_model_name": "LabelModel",
            "_view_count": null,
            "_view_module": "@jupyter-widgets/controls",
            "_view_module_version": "1.5.0",
            "_view_name": "LabelView",
            "description": "",
            "description_tooltip": null,
            "layout": "IPY_MODEL_ff0693e986674e4085dce65ba22587ec",
            "placeholder": "​",
            "style": "IPY_MODEL_e6e3c196c3624861a108297e5764006f",
            "value": "0.001 MB of 0.009 MB uploaded (0.000 MB deduped)\r"
          }
        },
        "4850dfbcc7c24d4e861420ac1d361d8d": {
          "model_module": "@jupyter-widgets/controls",
          "model_name": "FloatProgressModel",
          "model_module_version": "1.5.0",
          "state": {
            "_dom_classes": [],
            "_model_module": "@jupyter-widgets/controls",
            "_model_module_version": "1.5.0",
            "_model_name": "FloatProgressModel",
            "_view_count": null,
            "_view_module": "@jupyter-widgets/controls",
            "_view_module_version": "1.5.0",
            "_view_name": "ProgressView",
            "bar_style": "",
            "description": "",
            "description_tooltip": null,
            "layout": "IPY_MODEL_55136db609bd4ca5bdea2e1242670bac",
            "max": 1,
            "min": 0,
            "orientation": "horizontal",
            "style": "IPY_MODEL_29198444dd794fb1b22a34ab0bf8aad0",
            "value": 0.08233127505145704
          }
        },
        "6cac100f2c854bb4a0beb8ebbf157f4e": {
          "model_module": "@jupyter-widgets/base",
          "model_name": "LayoutModel",
          "model_module_version": "1.2.0",
          "state": {
            "_model_module": "@jupyter-widgets/base",
            "_model_module_version": "1.2.0",
            "_model_name": "LayoutModel",
            "_view_count": null,
            "_view_module": "@jupyter-widgets/base",
            "_view_module_version": "1.2.0",
            "_view_name": "LayoutView",
            "align_content": null,
            "align_items": null,
            "align_self": null,
            "border": null,
            "bottom": null,
            "display": null,
            "flex": null,
            "flex_flow": null,
            "grid_area": null,
            "grid_auto_columns": null,
            "grid_auto_flow": null,
            "grid_auto_rows": null,
            "grid_column": null,
            "grid_gap": null,
            "grid_row": null,
            "grid_template_areas": null,
            "grid_template_columns": null,
            "grid_template_rows": null,
            "height": null,
            "justify_content": null,
            "justify_items": null,
            "left": null,
            "margin": null,
            "max_height": null,
            "max_width": null,
            "min_height": null,
            "min_width": null,
            "object_fit": null,
            "object_position": null,
            "order": null,
            "overflow": null,
            "overflow_x": null,
            "overflow_y": null,
            "padding": null,
            "right": null,
            "top": null,
            "visibility": null,
            "width": null
          }
        },
        "ff0693e986674e4085dce65ba22587ec": {
          "model_module": "@jupyter-widgets/base",
          "model_name": "LayoutModel",
          "model_module_version": "1.2.0",
          "state": {
            "_model_module": "@jupyter-widgets/base",
            "_model_module_version": "1.2.0",
            "_model_name": "LayoutModel",
            "_view_count": null,
            "_view_module": "@jupyter-widgets/base",
            "_view_module_version": "1.2.0",
            "_view_name": "LayoutView",
            "align_content": null,
            "align_items": null,
            "align_self": null,
            "border": null,
            "bottom": null,
            "display": null,
            "flex": null,
            "flex_flow": null,
            "grid_area": null,
            "grid_auto_columns": null,
            "grid_auto_flow": null,
            "grid_auto_rows": null,
            "grid_column": null,
            "grid_gap": null,
            "grid_row": null,
            "grid_template_areas": null,
            "grid_template_columns": null,
            "grid_template_rows": null,
            "height": null,
            "justify_content": null,
            "justify_items": null,
            "left": null,
            "margin": null,
            "max_height": null,
            "max_width": null,
            "min_height": null,
            "min_width": null,
            "object_fit": null,
            "object_position": null,
            "order": null,
            "overflow": null,
            "overflow_x": null,
            "overflow_y": null,
            "padding": null,
            "right": null,
            "top": null,
            "visibility": null,
            "width": null
          }
        },
        "e6e3c196c3624861a108297e5764006f": {
          "model_module": "@jupyter-widgets/controls",
          "model_name": "DescriptionStyleModel",
          "model_module_version": "1.5.0",
          "state": {
            "_model_module": "@jupyter-widgets/controls",
            "_model_module_version": "1.5.0",
            "_model_name": "DescriptionStyleModel",
            "_view_count": null,
            "_view_module": "@jupyter-widgets/base",
            "_view_module_version": "1.2.0",
            "_view_name": "StyleView",
            "description_width": ""
          }
        },
        "55136db609bd4ca5bdea2e1242670bac": {
          "model_module": "@jupyter-widgets/base",
          "model_name": "LayoutModel",
          "model_module_version": "1.2.0",
          "state": {
            "_model_module": "@jupyter-widgets/base",
            "_model_module_version": "1.2.0",
            "_model_name": "LayoutModel",
            "_view_count": null,
            "_view_module": "@jupyter-widgets/base",
            "_view_module_version": "1.2.0",
            "_view_name": "LayoutView",
            "align_content": null,
            "align_items": null,
            "align_self": null,
            "border": null,
            "bottom": null,
            "display": null,
            "flex": null,
            "flex_flow": null,
            "grid_area": null,
            "grid_auto_columns": null,
            "grid_auto_flow": null,
            "grid_auto_rows": null,
            "grid_column": null,
            "grid_gap": null,
            "grid_row": null,
            "grid_template_areas": null,
            "grid_template_columns": null,
            "grid_template_rows": null,
            "height": null,
            "justify_content": null,
            "justify_items": null,
            "left": null,
            "margin": null,
            "max_height": null,
            "max_width": null,
            "min_height": null,
            "min_width": null,
            "object_fit": null,
            "object_position": null,
            "order": null,
            "overflow": null,
            "overflow_x": null,
            "overflow_y": null,
            "padding": null,
            "right": null,
            "top": null,
            "visibility": null,
            "width": null
          }
        },
        "29198444dd794fb1b22a34ab0bf8aad0": {
          "model_module": "@jupyter-widgets/controls",
          "model_name": "ProgressStyleModel",
          "model_module_version": "1.5.0",
          "state": {
            "_model_module": "@jupyter-widgets/controls",
            "_model_module_version": "1.5.0",
            "_model_name": "ProgressStyleModel",
            "_view_count": null,
            "_view_module": "@jupyter-widgets/base",
            "_view_module_version": "1.2.0",
            "_view_name": "StyleView",
            "bar_color": null,
            "description_width": ""
          }
        },
        "a787ea4667164134957169049cd125ee": {
          "model_module": "@jupyter-widgets/controls",
          "model_name": "VBoxModel",
          "model_module_version": "1.5.0",
          "state": {
            "_dom_classes": [],
            "_model_module": "@jupyter-widgets/controls",
            "_model_module_version": "1.5.0",
            "_model_name": "VBoxModel",
            "_view_count": null,
            "_view_module": "@jupyter-widgets/controls",
            "_view_module_version": "1.5.0",
            "_view_name": "VBoxView",
            "box_style": "",
            "children": [
              "IPY_MODEL_cc40b498af6749408eb8da45ae4314e3",
              "IPY_MODEL_13cf8f32b37f4e20b53ca665877e371d"
            ],
            "layout": "IPY_MODEL_837f8ff1143740189acbb4184a906059"
          }
        },
        "cc40b498af6749408eb8da45ae4314e3": {
          "model_module": "@jupyter-widgets/controls",
          "model_name": "LabelModel",
          "model_module_version": "1.5.0",
          "state": {
            "_dom_classes": [],
            "_model_module": "@jupyter-widgets/controls",
            "_model_module_version": "1.5.0",
            "_model_name": "LabelModel",
            "_view_count": null,
            "_view_module": "@jupyter-widgets/controls",
            "_view_module_version": "1.5.0",
            "_view_name": "LabelView",
            "description": "",
            "description_tooltip": null,
            "layout": "IPY_MODEL_ecd6fa2e860146bcaaa47bb3fab9d797",
            "placeholder": "​",
            "style": "IPY_MODEL_ade65f1529544f3a96b8d70ee31e76fd",
            "value": "0.001 MB of 0.001 MB uploaded (0.000 MB deduped)\r"
          }
        },
        "13cf8f32b37f4e20b53ca665877e371d": {
          "model_module": "@jupyter-widgets/controls",
          "model_name": "FloatProgressModel",
          "model_module_version": "1.5.0",
          "state": {
            "_dom_classes": [],
            "_model_module": "@jupyter-widgets/controls",
            "_model_module_version": "1.5.0",
            "_model_name": "FloatProgressModel",
            "_view_count": null,
            "_view_module": "@jupyter-widgets/controls",
            "_view_module_version": "1.5.0",
            "_view_name": "ProgressView",
            "bar_style": "",
            "description": "",
            "description_tooltip": null,
            "layout": "IPY_MODEL_130ad7ba6d8e44fb82ae265bcda87437",
            "max": 1,
            "min": 0,
            "orientation": "horizontal",
            "style": "IPY_MODEL_9c53ea000a5b47508590ab0dbbe99f9c",
            "value": 1
          }
        },
        "837f8ff1143740189acbb4184a906059": {
          "model_module": "@jupyter-widgets/base",
          "model_name": "LayoutModel",
          "model_module_version": "1.2.0",
          "state": {
            "_model_module": "@jupyter-widgets/base",
            "_model_module_version": "1.2.0",
            "_model_name": "LayoutModel",
            "_view_count": null,
            "_view_module": "@jupyter-widgets/base",
            "_view_module_version": "1.2.0",
            "_view_name": "LayoutView",
            "align_content": null,
            "align_items": null,
            "align_self": null,
            "border": null,
            "bottom": null,
            "display": null,
            "flex": null,
            "flex_flow": null,
            "grid_area": null,
            "grid_auto_columns": null,
            "grid_auto_flow": null,
            "grid_auto_rows": null,
            "grid_column": null,
            "grid_gap": null,
            "grid_row": null,
            "grid_template_areas": null,
            "grid_template_columns": null,
            "grid_template_rows": null,
            "height": null,
            "justify_content": null,
            "justify_items": null,
            "left": null,
            "margin": null,
            "max_height": null,
            "max_width": null,
            "min_height": null,
            "min_width": null,
            "object_fit": null,
            "object_position": null,
            "order": null,
            "overflow": null,
            "overflow_x": null,
            "overflow_y": null,
            "padding": null,
            "right": null,
            "top": null,
            "visibility": null,
            "width": null
          }
        },
        "ecd6fa2e860146bcaaa47bb3fab9d797": {
          "model_module": "@jupyter-widgets/base",
          "model_name": "LayoutModel",
          "model_module_version": "1.2.0",
          "state": {
            "_model_module": "@jupyter-widgets/base",
            "_model_module_version": "1.2.0",
            "_model_name": "LayoutModel",
            "_view_count": null,
            "_view_module": "@jupyter-widgets/base",
            "_view_module_version": "1.2.0",
            "_view_name": "LayoutView",
            "align_content": null,
            "align_items": null,
            "align_self": null,
            "border": null,
            "bottom": null,
            "display": null,
            "flex": null,
            "flex_flow": null,
            "grid_area": null,
            "grid_auto_columns": null,
            "grid_auto_flow": null,
            "grid_auto_rows": null,
            "grid_column": null,
            "grid_gap": null,
            "grid_row": null,
            "grid_template_areas": null,
            "grid_template_columns": null,
            "grid_template_rows": null,
            "height": null,
            "justify_content": null,
            "justify_items": null,
            "left": null,
            "margin": null,
            "max_height": null,
            "max_width": null,
            "min_height": null,
            "min_width": null,
            "object_fit": null,
            "object_position": null,
            "order": null,
            "overflow": null,
            "overflow_x": null,
            "overflow_y": null,
            "padding": null,
            "right": null,
            "top": null,
            "visibility": null,
            "width": null
          }
        },
        "ade65f1529544f3a96b8d70ee31e76fd": {
          "model_module": "@jupyter-widgets/controls",
          "model_name": "DescriptionStyleModel",
          "model_module_version": "1.5.0",
          "state": {
            "_model_module": "@jupyter-widgets/controls",
            "_model_module_version": "1.5.0",
            "_model_name": "DescriptionStyleModel",
            "_view_count": null,
            "_view_module": "@jupyter-widgets/base",
            "_view_module_version": "1.2.0",
            "_view_name": "StyleView",
            "description_width": ""
          }
        },
        "130ad7ba6d8e44fb82ae265bcda87437": {
          "model_module": "@jupyter-widgets/base",
          "model_name": "LayoutModel",
          "model_module_version": "1.2.0",
          "state": {
            "_model_module": "@jupyter-widgets/base",
            "_model_module_version": "1.2.0",
            "_model_name": "LayoutModel",
            "_view_count": null,
            "_view_module": "@jupyter-widgets/base",
            "_view_module_version": "1.2.0",
            "_view_name": "LayoutView",
            "align_content": null,
            "align_items": null,
            "align_self": null,
            "border": null,
            "bottom": null,
            "display": null,
            "flex": null,
            "flex_flow": null,
            "grid_area": null,
            "grid_auto_columns": null,
            "grid_auto_flow": null,
            "grid_auto_rows": null,
            "grid_column": null,
            "grid_gap": null,
            "grid_row": null,
            "grid_template_areas": null,
            "grid_template_columns": null,
            "grid_template_rows": null,
            "height": null,
            "justify_content": null,
            "justify_items": null,
            "left": null,
            "margin": null,
            "max_height": null,
            "max_width": null,
            "min_height": null,
            "min_width": null,
            "object_fit": null,
            "object_position": null,
            "order": null,
            "overflow": null,
            "overflow_x": null,
            "overflow_y": null,
            "padding": null,
            "right": null,
            "top": null,
            "visibility": null,
            "width": null
          }
        },
        "9c53ea000a5b47508590ab0dbbe99f9c": {
          "model_module": "@jupyter-widgets/controls",
          "model_name": "ProgressStyleModel",
          "model_module_version": "1.5.0",
          "state": {
            "_model_module": "@jupyter-widgets/controls",
            "_model_module_version": "1.5.0",
            "_model_name": "ProgressStyleModel",
            "_view_count": null,
            "_view_module": "@jupyter-widgets/base",
            "_view_module_version": "1.2.0",
            "_view_name": "StyleView",
            "bar_color": null,
            "description_width": ""
          }
        },
        "674e36550bfa437e93ee31e01ffe6197": {
          "model_module": "@jupyter-widgets/controls",
          "model_name": "VBoxModel",
          "model_module_version": "1.5.0",
          "state": {
            "_dom_classes": [],
            "_model_module": "@jupyter-widgets/controls",
            "_model_module_version": "1.5.0",
            "_model_name": "VBoxModel",
            "_view_count": null,
            "_view_module": "@jupyter-widgets/controls",
            "_view_module_version": "1.5.0",
            "_view_name": "VBoxView",
            "box_style": "",
            "children": [
              "IPY_MODEL_6f9ee454846647c8951e697c61f1aff9",
              "IPY_MODEL_f9b02684c827494e868f50ed34dacd08"
            ],
            "layout": "IPY_MODEL_d684b85c11ce4629af80cd6b2ecaf302"
          }
        },
        "6f9ee454846647c8951e697c61f1aff9": {
          "model_module": "@jupyter-widgets/controls",
          "model_name": "LabelModel",
          "model_module_version": "1.5.0",
          "state": {
            "_dom_classes": [],
            "_model_module": "@jupyter-widgets/controls",
            "_model_module_version": "1.5.0",
            "_model_name": "LabelModel",
            "_view_count": null,
            "_view_module": "@jupyter-widgets/controls",
            "_view_module_version": "1.5.0",
            "_view_name": "LabelView",
            "description": "",
            "description_tooltip": null,
            "layout": "IPY_MODEL_bc54643b536a4aa68c74a94cbbab32ec",
            "placeholder": "​",
            "style": "IPY_MODEL_6bef38116b4b4947a4956b55c209c4b3",
            "value": "0.001 MB of 0.009 MB uploaded (0.000 MB deduped)\r"
          }
        },
        "f9b02684c827494e868f50ed34dacd08": {
          "model_module": "@jupyter-widgets/controls",
          "model_name": "FloatProgressModel",
          "model_module_version": "1.5.0",
          "state": {
            "_dom_classes": [],
            "_model_module": "@jupyter-widgets/controls",
            "_model_module_version": "1.5.0",
            "_model_name": "FloatProgressModel",
            "_view_count": null,
            "_view_module": "@jupyter-widgets/controls",
            "_view_module_version": "1.5.0",
            "_view_name": "ProgressView",
            "bar_style": "",
            "description": "",
            "description_tooltip": null,
            "layout": "IPY_MODEL_70d0e4267ee14f5a88206fa9c81a7abd",
            "max": 1,
            "min": 0,
            "orientation": "horizontal",
            "style": "IPY_MODEL_70568e3e10384f169c6e67c2814c794f",
            "value": 0.08234019501625135
          }
        },
        "d684b85c11ce4629af80cd6b2ecaf302": {
          "model_module": "@jupyter-widgets/base",
          "model_name": "LayoutModel",
          "model_module_version": "1.2.0",
          "state": {
            "_model_module": "@jupyter-widgets/base",
            "_model_module_version": "1.2.0",
            "_model_name": "LayoutModel",
            "_view_count": null,
            "_view_module": "@jupyter-widgets/base",
            "_view_module_version": "1.2.0",
            "_view_name": "LayoutView",
            "align_content": null,
            "align_items": null,
            "align_self": null,
            "border": null,
            "bottom": null,
            "display": null,
            "flex": null,
            "flex_flow": null,
            "grid_area": null,
            "grid_auto_columns": null,
            "grid_auto_flow": null,
            "grid_auto_rows": null,
            "grid_column": null,
            "grid_gap": null,
            "grid_row": null,
            "grid_template_areas": null,
            "grid_template_columns": null,
            "grid_template_rows": null,
            "height": null,
            "justify_content": null,
            "justify_items": null,
            "left": null,
            "margin": null,
            "max_height": null,
            "max_width": null,
            "min_height": null,
            "min_width": null,
            "object_fit": null,
            "object_position": null,
            "order": null,
            "overflow": null,
            "overflow_x": null,
            "overflow_y": null,
            "padding": null,
            "right": null,
            "top": null,
            "visibility": null,
            "width": null
          }
        },
        "bc54643b536a4aa68c74a94cbbab32ec": {
          "model_module": "@jupyter-widgets/base",
          "model_name": "LayoutModel",
          "model_module_version": "1.2.0",
          "state": {
            "_model_module": "@jupyter-widgets/base",
            "_model_module_version": "1.2.0",
            "_model_name": "LayoutModel",
            "_view_count": null,
            "_view_module": "@jupyter-widgets/base",
            "_view_module_version": "1.2.0",
            "_view_name": "LayoutView",
            "align_content": null,
            "align_items": null,
            "align_self": null,
            "border": null,
            "bottom": null,
            "display": null,
            "flex": null,
            "flex_flow": null,
            "grid_area": null,
            "grid_auto_columns": null,
            "grid_auto_flow": null,
            "grid_auto_rows": null,
            "grid_column": null,
            "grid_gap": null,
            "grid_row": null,
            "grid_template_areas": null,
            "grid_template_columns": null,
            "grid_template_rows": null,
            "height": null,
            "justify_content": null,
            "justify_items": null,
            "left": null,
            "margin": null,
            "max_height": null,
            "max_width": null,
            "min_height": null,
            "min_width": null,
            "object_fit": null,
            "object_position": null,
            "order": null,
            "overflow": null,
            "overflow_x": null,
            "overflow_y": null,
            "padding": null,
            "right": null,
            "top": null,
            "visibility": null,
            "width": null
          }
        },
        "6bef38116b4b4947a4956b55c209c4b3": {
          "model_module": "@jupyter-widgets/controls",
          "model_name": "DescriptionStyleModel",
          "model_module_version": "1.5.0",
          "state": {
            "_model_module": "@jupyter-widgets/controls",
            "_model_module_version": "1.5.0",
            "_model_name": "DescriptionStyleModel",
            "_view_count": null,
            "_view_module": "@jupyter-widgets/base",
            "_view_module_version": "1.2.0",
            "_view_name": "StyleView",
            "description_width": ""
          }
        },
        "70d0e4267ee14f5a88206fa9c81a7abd": {
          "model_module": "@jupyter-widgets/base",
          "model_name": "LayoutModel",
          "model_module_version": "1.2.0",
          "state": {
            "_model_module": "@jupyter-widgets/base",
            "_model_module_version": "1.2.0",
            "_model_name": "LayoutModel",
            "_view_count": null,
            "_view_module": "@jupyter-widgets/base",
            "_view_module_version": "1.2.0",
            "_view_name": "LayoutView",
            "align_content": null,
            "align_items": null,
            "align_self": null,
            "border": null,
            "bottom": null,
            "display": null,
            "flex": null,
            "flex_flow": null,
            "grid_area": null,
            "grid_auto_columns": null,
            "grid_auto_flow": null,
            "grid_auto_rows": null,
            "grid_column": null,
            "grid_gap": null,
            "grid_row": null,
            "grid_template_areas": null,
            "grid_template_columns": null,
            "grid_template_rows": null,
            "height": null,
            "justify_content": null,
            "justify_items": null,
            "left": null,
            "margin": null,
            "max_height": null,
            "max_width": null,
            "min_height": null,
            "min_width": null,
            "object_fit": null,
            "object_position": null,
            "order": null,
            "overflow": null,
            "overflow_x": null,
            "overflow_y": null,
            "padding": null,
            "right": null,
            "top": null,
            "visibility": null,
            "width": null
          }
        },
        "70568e3e10384f169c6e67c2814c794f": {
          "model_module": "@jupyter-widgets/controls",
          "model_name": "ProgressStyleModel",
          "model_module_version": "1.5.0",
          "state": {
            "_model_module": "@jupyter-widgets/controls",
            "_model_module_version": "1.5.0",
            "_model_name": "ProgressStyleModel",
            "_view_count": null,
            "_view_module": "@jupyter-widgets/base",
            "_view_module_version": "1.2.0",
            "_view_name": "StyleView",
            "bar_color": null,
            "description_width": ""
          }
        },
        "36c922a2f5544c8f9467cea1959bb33e": {
          "model_module": "@jupyter-widgets/controls",
          "model_name": "VBoxModel",
          "model_module_version": "1.5.0",
          "state": {
            "_dom_classes": [],
            "_model_module": "@jupyter-widgets/controls",
            "_model_module_version": "1.5.0",
            "_model_name": "VBoxModel",
            "_view_count": null,
            "_view_module": "@jupyter-widgets/controls",
            "_view_module_version": "1.5.0",
            "_view_name": "VBoxView",
            "box_style": "",
            "children": [
              "IPY_MODEL_b268610eff65449eaea45eefa0d37812",
              "IPY_MODEL_35ad92fb828e41d4b05a6d9bf4969734"
            ],
            "layout": "IPY_MODEL_d1950dfcc1e84f7d96463c2aa437f80f"
          }
        },
        "b268610eff65449eaea45eefa0d37812": {
          "model_module": "@jupyter-widgets/controls",
          "model_name": "LabelModel",
          "model_module_version": "1.5.0",
          "state": {
            "_dom_classes": [],
            "_model_module": "@jupyter-widgets/controls",
            "_model_module_version": "1.5.0",
            "_model_name": "LabelModel",
            "_view_count": null,
            "_view_module": "@jupyter-widgets/controls",
            "_view_module_version": "1.5.0",
            "_view_name": "LabelView",
            "description": "",
            "description_tooltip": null,
            "layout": "IPY_MODEL_fbbd1e1382ef47d9abd6979447208219",
            "placeholder": "​",
            "style": "IPY_MODEL_99acfa91f0dc4f928c60c7a1d8b1d9bc",
            "value": "0.038 MB of 0.038 MB uploaded (0.000 MB deduped)\r"
          }
        },
        "35ad92fb828e41d4b05a6d9bf4969734": {
          "model_module": "@jupyter-widgets/controls",
          "model_name": "FloatProgressModel",
          "model_module_version": "1.5.0",
          "state": {
            "_dom_classes": [],
            "_model_module": "@jupyter-widgets/controls",
            "_model_module_version": "1.5.0",
            "_model_name": "FloatProgressModel",
            "_view_count": null,
            "_view_module": "@jupyter-widgets/controls",
            "_view_module_version": "1.5.0",
            "_view_name": "ProgressView",
            "bar_style": "",
            "description": "",
            "description_tooltip": null,
            "layout": "IPY_MODEL_f9c79ada64ca43759ba7a6b060fe1452",
            "max": 1,
            "min": 0,
            "orientation": "horizontal",
            "style": "IPY_MODEL_41eca158c4094849a56b74fd3a817a23",
            "value": 1
          }
        },
        "d1950dfcc1e84f7d96463c2aa437f80f": {
          "model_module": "@jupyter-widgets/base",
          "model_name": "LayoutModel",
          "model_module_version": "1.2.0",
          "state": {
            "_model_module": "@jupyter-widgets/base",
            "_model_module_version": "1.2.0",
            "_model_name": "LayoutModel",
            "_view_count": null,
            "_view_module": "@jupyter-widgets/base",
            "_view_module_version": "1.2.0",
            "_view_name": "LayoutView",
            "align_content": null,
            "align_items": null,
            "align_self": null,
            "border": null,
            "bottom": null,
            "display": null,
            "flex": null,
            "flex_flow": null,
            "grid_area": null,
            "grid_auto_columns": null,
            "grid_auto_flow": null,
            "grid_auto_rows": null,
            "grid_column": null,
            "grid_gap": null,
            "grid_row": null,
            "grid_template_areas": null,
            "grid_template_columns": null,
            "grid_template_rows": null,
            "height": null,
            "justify_content": null,
            "justify_items": null,
            "left": null,
            "margin": null,
            "max_height": null,
            "max_width": null,
            "min_height": null,
            "min_width": null,
            "object_fit": null,
            "object_position": null,
            "order": null,
            "overflow": null,
            "overflow_x": null,
            "overflow_y": null,
            "padding": null,
            "right": null,
            "top": null,
            "visibility": null,
            "width": null
          }
        },
        "fbbd1e1382ef47d9abd6979447208219": {
          "model_module": "@jupyter-widgets/base",
          "model_name": "LayoutModel",
          "model_module_version": "1.2.0",
          "state": {
            "_model_module": "@jupyter-widgets/base",
            "_model_module_version": "1.2.0",
            "_model_name": "LayoutModel",
            "_view_count": null,
            "_view_module": "@jupyter-widgets/base",
            "_view_module_version": "1.2.0",
            "_view_name": "LayoutView",
            "align_content": null,
            "align_items": null,
            "align_self": null,
            "border": null,
            "bottom": null,
            "display": null,
            "flex": null,
            "flex_flow": null,
            "grid_area": null,
            "grid_auto_columns": null,
            "grid_auto_flow": null,
            "grid_auto_rows": null,
            "grid_column": null,
            "grid_gap": null,
            "grid_row": null,
            "grid_template_areas": null,
            "grid_template_columns": null,
            "grid_template_rows": null,
            "height": null,
            "justify_content": null,
            "justify_items": null,
            "left": null,
            "margin": null,
            "max_height": null,
            "max_width": null,
            "min_height": null,
            "min_width": null,
            "object_fit": null,
            "object_position": null,
            "order": null,
            "overflow": null,
            "overflow_x": null,
            "overflow_y": null,
            "padding": null,
            "right": null,
            "top": null,
            "visibility": null,
            "width": null
          }
        },
        "99acfa91f0dc4f928c60c7a1d8b1d9bc": {
          "model_module": "@jupyter-widgets/controls",
          "model_name": "DescriptionStyleModel",
          "model_module_version": "1.5.0",
          "state": {
            "_model_module": "@jupyter-widgets/controls",
            "_model_module_version": "1.5.0",
            "_model_name": "DescriptionStyleModel",
            "_view_count": null,
            "_view_module": "@jupyter-widgets/base",
            "_view_module_version": "1.2.0",
            "_view_name": "StyleView",
            "description_width": ""
          }
        },
        "f9c79ada64ca43759ba7a6b060fe1452": {
          "model_module": "@jupyter-widgets/base",
          "model_name": "LayoutModel",
          "model_module_version": "1.2.0",
          "state": {
            "_model_module": "@jupyter-widgets/base",
            "_model_module_version": "1.2.0",
            "_model_name": "LayoutModel",
            "_view_count": null,
            "_view_module": "@jupyter-widgets/base",
            "_view_module_version": "1.2.0",
            "_view_name": "LayoutView",
            "align_content": null,
            "align_items": null,
            "align_self": null,
            "border": null,
            "bottom": null,
            "display": null,
            "flex": null,
            "flex_flow": null,
            "grid_area": null,
            "grid_auto_columns": null,
            "grid_auto_flow": null,
            "grid_auto_rows": null,
            "grid_column": null,
            "grid_gap": null,
            "grid_row": null,
            "grid_template_areas": null,
            "grid_template_columns": null,
            "grid_template_rows": null,
            "height": null,
            "justify_content": null,
            "justify_items": null,
            "left": null,
            "margin": null,
            "max_height": null,
            "max_width": null,
            "min_height": null,
            "min_width": null,
            "object_fit": null,
            "object_position": null,
            "order": null,
            "overflow": null,
            "overflow_x": null,
            "overflow_y": null,
            "padding": null,
            "right": null,
            "top": null,
            "visibility": null,
            "width": null
          }
        },
        "41eca158c4094849a56b74fd3a817a23": {
          "model_module": "@jupyter-widgets/controls",
          "model_name": "ProgressStyleModel",
          "model_module_version": "1.5.0",
          "state": {
            "_model_module": "@jupyter-widgets/controls",
            "_model_module_version": "1.5.0",
            "_model_name": "ProgressStyleModel",
            "_view_count": null,
            "_view_module": "@jupyter-widgets/base",
            "_view_module_version": "1.2.0",
            "_view_name": "StyleView",
            "bar_color": null,
            "description_width": ""
          }
        }
      }
    }
  },
  "cells": [
    {
      "cell_type": "markdown",
      "source": [
        "# LeNet-5 - An introduction and overview"
      ],
      "metadata": {
        "id": "N_uQdVa8cdK9"
      }
    },
    {
      "cell_type": "markdown",
      "source": [
        "Perhaps the first widely known and successful application of convolutional neural networks was **LeNet-5**, described by Yann LeCun, et al. in their 1998 paper titled [Gradient-Based Learning Applied to Document Recognition](https://ieeexplore.ieee.org/document/726791). The system was developed for use in a handwritten character recognition problem and demonstrated on the **MNIST standard dataset**, achieving approximately 99.2% classification accuracy (or a 0.8% error rate). The network was then described as the central technique in a broader system referred to as **Graph Transformer Networks**."
      ],
      "metadata": {
        "id": "Og0CBSBHeZ2d"
      }
    },
    {
      "cell_type": "markdown",
      "source": [
        "It is a long paper, and perhaps the best part to focus on is Section II. B. that describes the LeNet-5 architecture. In that section, the paper describes the network as having **seven layers** with input **grayscale images** having the **shape 32 x 32**, the size of images in the MNIST dataset."
      ],
      "metadata": {
        "id": "Yd6VwLoyeoAf"
      }
    },
    {
      "cell_type": "markdown",
      "source": [
        "\n",
        "\n",
        "```\n",
        "The model proposes a pattern of a convolutional layer followed by an average pooling layer, referred to as a subsampling layer.\n",
        "```\n",
        "\n"
      ],
      "metadata": {
        "id": "tO67TzCffJhM"
      }
    },
    {
      "cell_type": "markdown",
      "source": [
        "This pattern is repeated two and a half times before the output feature maps are flattened and fed to some fully connected layers for interpretation and a final prediction. A picture of the network architecture is provided in the paper and reproduced below."
      ],
      "metadata": {
        "id": "7nzZmYjkfJ2T"
      }
    },
    {
      "cell_type": "markdown",
      "source": [
        "![image.png](data:image/png;base64,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)"
      ],
      "metadata": {
        "id": "5NyzR2k_fLyv"
      }
    },
    {
      "cell_type": "markdown",
      "source": [
        "The pattern of blocks of convolutional layers and pooling layers (referred to as ***subsampling***) ***grouped*** and ***repeated*** **remains a typical pattern in designing and using convolutional neural networks today, more than twenty years later**. Interestingly, the architecture uses a small number of filters with a modest size as the first hidden layer, specifically 6 filters, each with 5x5 pixels. After pooling, another convolutional layer has many more filters, again with the same size, precisely 16 filters with 5x5 pixels, again followed by pooling. In the repetition of these two blocks of convolution and pooling layers, the trend increases the number of filters."
      ],
      "metadata": {
        "id": "glNwwIxQfNmT"
      }
    },
    {
      "cell_type": "markdown",
      "source": [
        "Compared to modern applications, the number of filters is also small, but **the trend of increasing the number of filters with the depth of the network also remains a common pattern in modern usage of the technique.** The flattening of the feature maps and interpretation and classification of the extracted features by fully connected layers also remains a common pattern today."
      ],
      "metadata": {
        "id": "oAreMzicfxCY"
      }
    },
    {
      "cell_type": "markdown",
      "source": [
        "\n",
        "\n",
        "```\n",
        "In modern terminology, the final section of the architecture is often referred to as the classifier, whereas the convolutional and \n",
        "pooling layers earlier in the model are referred to as the feature extractor.\n",
        "\n",
        "```\n",
        "\n"
      ],
      "metadata": {
        "id": "QuT9j_lRgD8k"
      }
    },
    {
      "cell_type": "markdown",
      "source": [
        "We can summarize the key aspects of the architecture relevant in modern models as follows:\n",
        "\n",
        "\n",
        "\n",
        "*   Fixed-sized input images.\n",
        "*   Group convolutional and pooling layers into blocks.\n",
        "*   Repetition of convolutional-pooling blocks in the architecture.\n",
        "*   Increase in the number of filters with the depth of the network.\n",
        "*   Distinct feature extraction and classifier parts of the architecture."
      ],
      "metadata": {
        "id": "UPCSNbwWgRvA"
      }
    },
    {
      "cell_type": "markdown",
      "source": [
        "# Data Augmentation - A brief overview and explanation"
      ],
      "metadata": {
        "id": "hm_E8g4bcYgG"
      }
    },
    {
      "cell_type": "markdown",
      "source": [
        "According to [Goodfellow et al.](https://www.deeplearningbook.org/), regularization is"
      ],
      "metadata": {
        "id": "y7CJN9X4ceCD"
      }
    },
    {
      "cell_type": "markdown",
      "source": [
        "\n",
        "---\n",
        " “(...) any modification we make to a learning algorithm that is intended to \n",
        "reduce its generalization error, but not its training error”\n",
        "\n",
        "---"
      ],
      "metadata": {
        "id": "e-jgEreOcp24"
      }
    },
    {
      "cell_type": "markdown",
      "source": [
        "In short, regularization seeks to reduce our testing error perhaps at the expense of increasing training error slightly."
      ],
      "metadata": {
        "id": "XoHNtsUzc4hF"
      }
    },
    {
      "cell_type": "markdown",
      "source": [
        "We’ve already looked at different forms of regularization in the first part of course; however, these were parameterized forms of regularization, requiring us to update our loss/update function. In fact, there exist other types of regularization that either:"
      ],
      "metadata": {
        "id": "D3jVmFW7c6-D"
      }
    },
    {
      "cell_type": "markdown",
      "source": [
        "\n",
        "\n",
        "1.   Modify the network architecture itself.\n",
        "2.   Augment the data passed into the network for training.\n",
        "\n"
      ],
      "metadata": {
        "id": "lhWbjYEZdDji"
      }
    },
    {
      "cell_type": "markdown",
      "source": [
        "**Dropout** is a great example of modifying a network architecture by achieving greater generalizability. Here we insert a layer that randomly disconnects nodes from the previous layer to the next layer, thereby ensuring that no single node is responsible for learning how to represent a given class."
      ],
      "metadata": {
        "id": "_mbWgU3IdHfO"
      }
    },
    {
      "cell_type": "markdown",
      "source": [
        "In this section we’ll be discussing another type of regularization called **data augmentation**. This method purposely perturbs training examples, changing their appearance slightly, before passing them into the network for training. The end result is that a network consistently sees “new” training data points generated from the original training data, partially alleviating the need for us to gather more training data (though in general, gathering more training data will rarely hurt your algorithm)."
      ],
      "metadata": {
        "id": "xgJTOCJndLxl"
      }
    },
    {
      "cell_type": "markdown",
      "source": [
        "**Data augmentation** encompasses a wide range of techniques used to generate new training samples from the original ones by applying random jitters and perturbations such that the classes labels are not changed."
      ],
      "metadata": {
        "id": "VxtrRgOddPh3"
      }
    },
    {
      "cell_type": "markdown",
      "source": [
        "\n",
        "\n",
        "```\n",
        "Our goal when applying data augmentation is to increase the generalizability of the model.\n",
        "\n",
        "```\n",
        "\n"
      ],
      "metadata": {
        "id": "n_HPNsDHdUH3"
      }
    },
    {
      "cell_type": "markdown",
      "source": [
        "Given that our network is constantly seeing new, slightly modified versions of the input data points, it’s able to learn more robust features."
      ],
      "metadata": {
        "id": "rq0ie1PIdXkF"
      }
    },
    {
      "cell_type": "markdown",
      "source": [
        "\n",
        "\n",
        "```\n",
        "At testing time, we do not apply data augmentation\n",
        "```\n",
        "\n"
      ],
      "metadata": {
        "id": "JynVBH1ZdZ7r"
      }
    },
    {
      "cell_type": "markdown",
      "source": [
        "When evaluating our trained network – in most cases, you’ll see an increase in testing accuracy, perhaps at the expense at a slight dip in training accuracy."
      ],
      "metadata": {
        "id": "caxFfcmTddML"
      }
    },
    {
      "cell_type": "markdown",
      "source": [
        "![image.png](data:image/png;base64,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)"
      ],
      "metadata": {
        "id": "n9SLMx3xd7Za"
      }
    },
    {
      "cell_type": "markdown",
      "source": [
        "* **Left:** A sample of 250 data points that follow a normal distribution exactly.\n",
        "* **Right:** Adding a small amount of random “jitter” to the distribution\n",
        "\n",
        "This type of data augmentation can increase the generalizability of our networks.\n",
        "\n",
        "Let’s consider the Figure above (left) of a normal distribution with zero mean and unit variance. Training a machine learning model on this data may result in us modeling the distribution exactly – however, in real-world applications, data rarely follows such a neat distribution."
      ],
      "metadata": {
        "id": "E_MP_uUxd9Px"
      }
    },
    {
      "cell_type": "markdown",
      "source": [
        "Instead, to increase the generalizability of our classifier, we may first randomly jitter points along the distribution by adding some values e drawn from a random distribution (right). Our plot still follows an approximately normal distribution, but it’s not a perfect distribution as on the left. A model trained on this data is more likely to generalize to example data points not included in the training set. In the context of computer vision, data augmentation lends itself naturally.\n",
        "\n",
        "For example, we can obtain additional training data from the original images by apply simple geometric transforms such as random:\n",
        "\n",
        "1. Translations\n",
        "2. Rotations\n",
        "3. Changes in scale\n",
        "4. Shearing\n",
        "5. Horizontal (and in some cases, vertical) flips\n",
        "\n"
      ],
      "metadata": {
        "id": "gvG8IEyeeOum"
      }
    },
    {
      "cell_type": "markdown",
      "source": [
        "Applying a (small) amount of these transformations to an input image will change its appearance slightly, but it does not change the class label – thereby making data augmentation a very natural, easy method to apply to deep learning for computer vision tasks."
      ],
      "metadata": {
        "id": "bAziHk7Lefr8"
      }
    },
    {
      "cell_type": "markdown",
      "source": [
        "# Model"
      ],
      "metadata": {
        "id": "lbTivdrmellL"
      }
    },
    {
      "cell_type": "markdown",
      "source": [
        "Now we'll implement the same LeNet-5 we used before, but this time we're going to use Data Augmentation in the same MNIST dataset. And of course, we'll be using the W&B Sweep."
      ],
      "metadata": {
        "id": "OaOWH-KzetOp"
      }
    },
    {
      "cell_type": "markdown",
      "source": [
        "## Implementing LeNet-5"
      ],
      "metadata": {
        "id": "YBcsBLXUesk_"
      }
    },
    {
      "cell_type": "markdown",
      "source": [
        "### Step 01: Setup"
      ],
      "metadata": {
        "id": "ukU3vsu_nDvk"
      }
    },
    {
      "cell_type": "markdown",
      "source": [
        "Start out by installing the experiment tracking library and setting up your free W&B account:\n",
        "\n",
        "\n",
        "\n",
        "*   **pip install wandb** – Install the W&B library\n",
        "*   **import wandb** – Import the wandb library\n",
        "*   **wandb login** – Login to your W&B account so you can log all your metrics in one place\n",
        "\n"
      ],
      "metadata": {
        "id": "zNpclOOThaym"
      }
    },
    {
      "cell_type": "code",
      "source": [
        "!pip install wandb -qU"
      ],
      "metadata": {
        "colab": {
          "base_uri": "https://localhost:8080/"
        },
        "id": "1fMR8dR_eimO",
        "outputId": "6c9ed049-6fba-4e46-e8f1-20c849d47933"
      },
      "execution_count": null,
      "outputs": [
        {
          "output_type": "stream",
          "name": "stdout",
          "text": [
            "\u001b[K     |████████████████████████████████| 1.9 MB 33.3 MB/s \n",
            "\u001b[K     |████████████████████████████████| 182 kB 64.5 MB/s \n",
            "\u001b[K     |████████████████████████████████| 166 kB 68.5 MB/s \n",
            "\u001b[K     |████████████████████████████████| 63 kB 1.9 MB/s \n",
            "\u001b[K     |████████████████████████████████| 166 kB 73.8 MB/s \n",
            "\u001b[K     |████████████████████████████████| 162 kB 79.3 MB/s \n",
            "\u001b[K     |████████████████████████████████| 162 kB 75.2 MB/s \n",
            "\u001b[K     |████████████████████████████████| 158 kB 76.7 MB/s \n",
            "\u001b[K     |████████████████████████████████| 157 kB 68.4 MB/s \n",
            "\u001b[K     |████████████████████████████████| 157 kB 78.6 MB/s \n",
            "\u001b[K     |████████████████████████████████| 157 kB 65.2 MB/s \n",
            "\u001b[K     |████████████████████████████████| 157 kB 61.2 MB/s \n",
            "\u001b[K     |████████████████████████████████| 157 kB 66.3 MB/s \n",
            "\u001b[K     |████████████████████████████████| 157 kB 73.8 MB/s \n",
            "\u001b[K     |████████████████████████████████| 157 kB 76.1 MB/s \n",
            "\u001b[K     |████████████████████████████████| 156 kB 76.2 MB/s \n",
            "\u001b[?25h  Building wheel for pathtools (setup.py) ... \u001b[?25l\u001b[?25hdone\n"
          ]
        }
      ]
    },
    {
      "cell_type": "markdown",
      "source": [
        "Lets install CodeCabor: A Python package for tracking the carbon emissions produced by various kinds of computer programs, from straightforward algorithms to deep neural networks.\n"
      ],
      "metadata": {
        "id": "-ipyx24-hnGB"
      }
    },
    {
      "cell_type": "code",
      "source": [
        "!pip install codecarbon"
      ],
      "metadata": {
        "colab": {
          "base_uri": "https://localhost:8080/"
        },
        "id": "-6mjhMv6h0P2",
        "outputId": "c1165725-b559-4994-dec4-dc4c4b46b8be"
      },
      "execution_count": null,
      "outputs": [
        {
          "output_type": "stream",
          "name": "stdout",
          "text": [
            "Looking in indexes: https://pypi.org/simple, https://us-python.pkg.dev/colab-wheels/public/simple/\n",
            "Collecting codecarbon\n",
            "  Downloading codecarbon-2.1.4-py3-none-any.whl (174 kB)\n",
            "\u001b[K     |████████████████████████████████| 174 kB 36.6 MB/s \n",
            "\u001b[?25hRequirement already satisfied: requests in /usr/local/lib/python3.7/dist-packages (from codecarbon) (2.23.0)\n",
            "Collecting pynvml\n",
            "  Downloading pynvml-11.4.1-py3-none-any.whl (46 kB)\n",
            "\u001b[K     |████████████████████████████████| 46 kB 4.9 MB/s \n",
            "\u001b[?25hCollecting fuzzywuzzy\n",
            "  Downloading fuzzywuzzy-0.18.0-py2.py3-none-any.whl (18 kB)\n",
            "Collecting py-cpuinfo\n",
            "  Downloading py_cpuinfo-9.0.0-py3-none-any.whl (22 kB)\n",
            "Requirement already satisfied: psutil in /usr/local/lib/python3.7/dist-packages (from codecarbon) (5.4.8)\n",
            "Collecting arrow\n",
            "  Downloading arrow-1.2.3-py3-none-any.whl (66 kB)\n",
            "\u001b[K     |████████████████████████████████| 66 kB 6.0 MB/s \n",
            "\u001b[?25hRequirement already satisfied: click in /usr/local/lib/python3.7/dist-packages (from codecarbon) (7.1.2)\n",
            "Requirement already satisfied: pandas in /usr/local/lib/python3.7/dist-packages (from codecarbon) (1.3.5)\n",
            "Requirement already satisfied: typing-extensions in /usr/local/lib/python3.7/dist-packages (from arrow->codecarbon) (4.1.1)\n",
            "Requirement already satisfied: python-dateutil>=2.7.0 in /usr/local/lib/python3.7/dist-packages (from arrow->codecarbon) (2.8.2)\n",
            "Requirement already satisfied: six>=1.5 in /usr/local/lib/python3.7/dist-packages (from python-dateutil>=2.7.0->arrow->codecarbon) (1.15.0)\n",
            "Requirement already satisfied: numpy>=1.17.3 in /usr/local/lib/python3.7/dist-packages (from pandas->codecarbon) (1.21.6)\n",
            "Requirement already satisfied: pytz>=2017.3 in /usr/local/lib/python3.7/dist-packages (from pandas->codecarbon) (2022.5)\n",
            "Requirement already satisfied: chardet<4,>=3.0.2 in /usr/local/lib/python3.7/dist-packages (from requests->codecarbon) (3.0.4)\n",
            "Requirement already satisfied: certifi>=2017.4.17 in /usr/local/lib/python3.7/dist-packages (from requests->codecarbon) (2022.9.24)\n",
            "Requirement already satisfied: urllib3!=1.25.0,!=1.25.1,<1.26,>=1.21.1 in /usr/local/lib/python3.7/dist-packages (from requests->codecarbon) (1.24.3)\n",
            "Requirement already satisfied: idna<3,>=2.5 in /usr/local/lib/python3.7/dist-packages (from requests->codecarbon) (2.10)\n",
            "Installing collected packages: pynvml, py-cpuinfo, fuzzywuzzy, arrow, codecarbon\n",
            "Successfully installed arrow-1.2.3 codecarbon-2.1.4 fuzzywuzzy-0.18.0 py-cpuinfo-9.0.0 pynvml-11.4.1\n"
          ]
        }
      ]
    },
    {
      "cell_type": "markdown",
      "source": [
        "####  Import Packages and Connecting to W&B"
      ],
      "metadata": {
        "id": "QN8JzuGhhmbw"
      }
    },
    {
      "cell_type": "markdown",
      "source": [
        "Import the necessary packages"
      ],
      "metadata": {
        "id": "ulTuuYyNh8Ik"
      }
    },
    {
      "cell_type": "code",
      "source": [
        "import logging\n",
        "import joblib\n",
        "import tensorflow as tf\n",
        "from tensorflow.keras.models import Sequential\n",
        "from tensorflow.keras.layers import BatchNormalization\n",
        "from tensorflow.keras.layers import Dropout\n",
        "from tensorflow.keras.layers import Conv2D\n",
        "from tensorflow.keras.layers import AveragePooling2D\n",
        "from tensorflow.keras.layers import Activation\n",
        "from tensorflow.keras.layers import Flatten\n",
        "from tensorflow.keras.layers import Dense\n",
        "from tensorflow.keras import backend as K\n",
        "from tensorflow.keras.optimizers import SGD, Adam\n",
        "from tensorflow.keras.datasets import mnist\n",
        "from sklearn.preprocessing import LabelBinarizer\n",
        "from tensorflow.keras import backend as K\n",
        "import matplotlib.pyplot as plt\n",
        "import numpy as np\n",
        "from codecarbon import EmissionsTracker\n",
        "from tensorflow.keras.callbacks import Callback\n",
        "from wandb.keras import WandbCallback\n",
        "from sklearn.metrics import classification_report\n",
        "from sklearn.metrics import fbeta_score, precision_score, recall_score, accuracy_score\n",
        "from sklearn.metrics import confusion_matrix\n",
        "from sklearn.metrics import ConfusionMatrixDisplay\n",
        "import wandb\n",
        "import cv2\n",
        "from tensorflow.keras.preprocessing.image import ImageDataGenerator"
      ],
      "metadata": {
        "id": "rkSXjkqVqP-D"
      },
      "execution_count": null,
      "outputs": []
    },
    {
      "cell_type": "code",
      "source": [
        "wandb.login()"
      ],
      "metadata": {
        "colab": {
          "base_uri": "https://localhost:8080/",
          "height": 71
        },
        "outputId": "d8cf9933-e334-434c-9072-062539f2bfca",
        "id": "aNuqVBmuqP-D"
      },
      "execution_count": null,
      "outputs": [
        {
          "output_type": "display_data",
          "data": {
            "text/plain": [
              "<IPython.core.display.Javascript object>"
            ],
            "application/javascript": [
              "\n",
              "        window._wandbApiKey = new Promise((resolve, reject) => {\n",
              "            function loadScript(url) {\n",
              "            return new Promise(function(resolve, reject) {\n",
              "                let newScript = document.createElement(\"script\");\n",
              "                newScript.onerror = reject;\n",
              "                newScript.onload = resolve;\n",
              "                document.body.appendChild(newScript);\n",
              "                newScript.src = url;\n",
              "            });\n",
              "            }\n",
              "            loadScript(\"https://cdn.jsdelivr.net/npm/postmate/build/postmate.min.js\").then(() => {\n",
              "            const iframe = document.createElement('iframe')\n",
              "            iframe.style.cssText = \"width:0;height:0;border:none\"\n",
              "            document.body.appendChild(iframe)\n",
              "            const handshake = new Postmate({\n",
              "                container: iframe,\n",
              "                url: 'https://wandb.ai/authorize'\n",
              "            });\n",
              "            const timeout = setTimeout(() => reject(\"Couldn't auto authenticate\"), 5000)\n",
              "            handshake.then(function(child) {\n",
              "                child.on('authorize', data => {\n",
              "                    clearTimeout(timeout)\n",
              "                    resolve(data)\n",
              "                });\n",
              "            });\n",
              "            })\n",
              "        });\n",
              "    "
            ]
          },
          "metadata": {}
        },
        {
          "output_type": "stream",
          "name": "stderr",
          "text": [
            "\u001b[34m\u001b[1mwandb\u001b[0m: Appending key for api.wandb.ai to your netrc file: /root/.netrc\n"
          ]
        },
        {
          "output_type": "execute_result",
          "data": {
            "text/plain": [
              "True"
            ]
          },
          "metadata": {},
          "execution_count": 4
        }
      ]
    },
    {
      "cell_type": "markdown",
      "source": [
        "#### Configure logging"
      ],
      "metadata": {
        "id": "m8tjxMhMqP-E"
      }
    },
    {
      "cell_type": "markdown",
      "source": [
        "Reference for a logging object"
      ],
      "metadata": {
        "id": "7H9rsyLXqP-E"
      }
    },
    {
      "cell_type": "code",
      "source": [
        "logger = logging.getLogger()"
      ],
      "metadata": {
        "id": "oCJRvArKqP-E"
      },
      "execution_count": null,
      "outputs": []
    },
    {
      "cell_type": "markdown",
      "source": [
        "Set level of logging"
      ],
      "metadata": {
        "id": "0lQxMLNwqP-E"
      }
    },
    {
      "cell_type": "code",
      "source": [
        "logger.setLevel(logging.INFO)"
      ],
      "metadata": {
        "id": "cu8CKbimqP-F"
      },
      "execution_count": null,
      "outputs": []
    },
    {
      "cell_type": "markdown",
      "source": [
        "Creating handlers"
      ],
      "metadata": {
        "id": "Tx-h_ItXqP-F"
      }
    },
    {
      "cell_type": "code",
      "source": [
        "c_handler = logging.StreamHandler()\n",
        "c_format = logging.Formatter(fmt=\"%(asctime)s %(message)s\",datefmt='%d-%m-%Y %H:%M:%S')\n",
        "c_handler.setFormatter(c_format)"
      ],
      "metadata": {
        "id": "L3lhoiw4qP-F"
      },
      "execution_count": null,
      "outputs": []
    },
    {
      "cell_type": "markdown",
      "source": [
        "Add handlers to the logger"
      ],
      "metadata": {
        "id": "BYBOyxy7qP-G"
      }
    },
    {
      "cell_type": "code",
      "source": [
        "logger.handlers[0] = c_handler"
      ],
      "metadata": {
        "id": "o12_-9lxqP-G"
      },
      "execution_count": null,
      "outputs": []
    },
    {
      "cell_type": "markdown",
      "source": [
        "### Step 02: Implementing"
      ],
      "metadata": {
        "id": "GUCbKaCDibGa"
      }
    },
    {
      "cell_type": "markdown",
      "source": [
        "As we saw before that's basically the architecture of the LeNet we'll implement (but this time as we already did the same process in the previous notebook we'll focus in the data augmentation process and not so much in creating the LeNet-5 again):\n",
        "\n"
      ],
      "metadata": {
        "id": "y9aMFMk2iq57"
      }
    },
    {
      "cell_type": "markdown",
      "source": [
        "![image.png](data:image/png;base64,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)"
      ],
      "metadata": {
        "id": "ZqRvNU-xjOPs"
      }
    },
    {
      "cell_type": "markdown",
      "source": [
        "Source code based on **[Rosebrock, Adrian. Deep Learning For Computer vision with Python, 2019](https://pyimagesearch.com/deep-learning-computer-vision-python-book/)** "
      ],
      "metadata": {
        "id": "iFQB-QTkjPGo"
      }
    },
    {
      "cell_type": "code",
      "source": [
        "class LeNet:\n",
        "  ''' \n",
        "  # create LeNet-5 model\n",
        "  #\n",
        "  # it is composed of the 8 layers (5 layers considering FC as one layer) \n",
        "  # such as:\n",
        "  #      - 2 convolutional layers\n",
        "  #      - 2 subsampling (avg pooling) layers\n",
        "  #      - 1 flatten layer\n",
        "  #      - 2 fully connected layers\n",
        "  #      - 1 output layer with 10 outputs\n",
        "  '''\n",
        "  @staticmethod\n",
        "  def build(width, height, depth, classes):\n",
        "    # initialize the model\n",
        "    model = Sequential()\n",
        "    inputShape = (height, width, depth)\n",
        "    \n",
        "    # if we are using \"channels first\", update the input shape\n",
        "    if K.image_data_format() == \"channels_first\":\n",
        "      inputShape = (depth, height, width)\n",
        "   \n",
        "    # first set of CONV => TANH => POOL layers\n",
        "    model.add(Conv2D(6, (5,5), strides=1, padding='same',\n",
        "                     activation='tanh', input_shape=(28,28,1), )) #C1\n",
        "    model.add(AveragePooling2D()) #S2\n",
        "\n",
        "    # second set of CONV => TANH => POOL layers\n",
        "    model.add(Conv2D(16, (5,5), strides=1, padding='valid',\n",
        "                     activation='tanh')) #C3\n",
        "    model.add(AveragePooling2D()) #S4\n",
        "\n",
        "    # a flatten and two set of FC => TANH layers\n",
        "    model.add(Flatten()) #Flatten\n",
        "    model.add(Dense(120, activation='tanh')) #C5\n",
        "    model.add(Dense(84, activation='tanh')) #F6\n",
        "\n",
        "    # softmax classifier\n",
        "    model.add(Dense(10, activation='softmax')) #Output layer\n",
        "    \n",
        "    # return the constructed network architecture\n",
        "    return model"
      ],
      "metadata": {
        "id": "eaUeDIb3ieJ1"
      },
      "execution_count": null,
      "outputs": []
    },
    {
      "cell_type": "markdown",
      "source": [
        "### Step 03: LeNet-5 on MNIST"
      ],
      "metadata": {
        "id": "A5YupdsGkhPg"
      }
    },
    {
      "cell_type": "markdown",
      "source": [
        "#### Fetch, Preprocessing and Data Segregation"
      ],
      "metadata": {
        "id": "Zz-gaxhvsiOi"
      }
    },
    {
      "cell_type": "code",
      "source": [
        "args = {\n",
        "  \"project_name\": \"lenet-5-augmentation\"\n",
        "}"
      ],
      "metadata": {
        "id": "m-UPPYPBsdKN"
      },
      "execution_count": null,
      "outputs": []
    },
    {
      "cell_type": "code",
      "source": [
        "run = wandb.init(entity=\"euripedes\",\n",
        "                 project=args[\"project_name\"], \n",
        "                 job_type=\"Train\")"
      ],
      "metadata": {
        "colab": {
          "base_uri": "https://localhost:8080/"
        },
        "id": "wunNOyvwsnHl",
        "outputId": "2b248c33-171a-473a-ffaa-074216b6887d"
      },
      "execution_count": null,
      "outputs": [
        {
          "output_type": "stream",
          "name": "stderr",
          "text": [
            "\u001b[34m\u001b[1mwandb\u001b[0m: Currently logged in as: \u001b[33meuripedes\u001b[0m. Use \u001b[1m`wandb login --relogin`\u001b[0m to force relogin\n"
          ]
        },
        {
          "output_type": "display_data",
          "data": {
            "text/plain": [
              "<IPython.core.display.HTML object>"
            ],
            "text/html": [
              "Tracking run with wandb version 0.13.5"
            ]
          },
          "metadata": {}
        },
        {
          "output_type": "display_data",
          "data": {
            "text/plain": [
              "<IPython.core.display.HTML object>"
            ],
            "text/html": [
              "Run data is saved locally in <code>/content/wandb/run-20221105_221419-3drt111t</code>"
            ]
          },
          "metadata": {}
        },
        {
          "output_type": "display_data",
          "data": {
            "text/plain": [
              "<IPython.core.display.HTML object>"
            ],
            "text/html": [
              "Syncing run <strong><a href=\"https://wandb.ai/euripedes/lenet-5-augmentation/runs/3drt111t\" target=\"_blank\">vague-feather-1</a></strong> to <a href=\"https://wandb.ai/euripedes/lenet-5-augmentation\" target=\"_blank\">Weights & Biases</a> (<a href=\"https://wandb.me/run\" target=\"_blank\">docs</a>)<br/>"
            ]
          },
          "metadata": {}
        }
      ]
    },
    {
      "cell_type": "code",
      "source": [
        "# grab the MNIST dataset (if this is your first time using this\n",
        "# dataset then the 11MB download may take a second)\n",
        "logger.info(\"[INFO] accessing MNIST...\")\n",
        "((train_x, train_y), (test_x, test_y)) = mnist.load_data()\n",
        "\n",
        "# if we are using \"channels first\" ordering, then reshape the\n",
        "# design matrix such that the matrix is:\n",
        "# num_samples x depth x rows x columns\n",
        "if K.image_data_format() == \"channels_first\":\n",
        "\ttrain_x = train_x.reshape((train_x.shape[0], 1, 28, 28))\n",
        "\ttest_x = test_x.reshape((test_x.shape[0], 1, 28, 28))\n",
        " \n",
        "# otherwise, we are using \"channels last\" ordering, so the design\n",
        "# matrix shape should be: num_samples x rows x columns x depth\n",
        "else:\n",
        "\ttrain_x = train_x.reshape((train_x.shape[0], 28, 28, 1))\n",
        "\ttest_x = test_x.reshape((test_x.shape[0], 28, 28, 1))\n",
        "\n",
        "logger.info(\"Train x: {}\".format(train_x.shape))\n",
        "logger.info(\"Train y: {}\".format(train_y.shape))\n",
        "logger.info(\"Test x: {}\".format(test_x.shape))\n",
        "logger.info(\"Test y: {}\".format(test_y.shape))"
      ],
      "metadata": {
        "colab": {
          "base_uri": "https://localhost:8080/"
        },
        "id": "SyQCnWuisudN",
        "outputId": "1ee110bd-3882-4c18-db9d-7b9cee70d71e"
      },
      "execution_count": null,
      "outputs": [
        {
          "output_type": "stream",
          "name": "stderr",
          "text": [
            "06-11-2022 00:06:24 [INFO] accessing MNIST...\n"
          ]
        },
        {
          "output_type": "stream",
          "name": "stdout",
          "text": [
            "Downloading data from https://storage.googleapis.com/tensorflow/tf-keras-datasets/mnist.npz\n",
            "11490434/11490434 [==============================] - 2s 0us/step\n"
          ]
        },
        {
          "output_type": "stream",
          "name": "stderr",
          "text": [
            "06-11-2022 00:06:27 Train x: (60000, 28, 28, 1)\n",
            "06-11-2022 00:06:27 Train y: (60000,)\n",
            "06-11-2022 00:06:27 Test x: (10000, 28, 28, 1)\n",
            "06-11-2022 00:06:27 Test y: (10000,)\n"
          ]
        }
      ]
    },
    {
      "cell_type": "markdown",
      "source": [
        "**Creating a function to help visualize the images:**"
      ],
      "metadata": {
        "id": "DpS80EKYsxrW"
      }
    },
    {
      "cell_type": "code",
      "source": [
        "def show_image(train_image, label, index):\n",
        "    plt.subplot(3, 6, index+1)\n",
        "    plt.imshow(tf.squeeze(train_image), cmap=plt.cm.gray)\n",
        "    plt.title(label)\n",
        "    plt.grid(b=False)"
      ],
      "metadata": {
        "id": "5AxtZOMts3Qk"
      },
      "execution_count": null,
      "outputs": []
    },
    {
      "cell_type": "code",
      "source": [
        "# visualize the first 18 numbers\n",
        "plt.figure(figsize=(12, 8))\n",
        "for index in range(18):\n",
        "    label = train_y[index]\n",
        "    image_pixels = train_x[index,:,:,:]\n",
        "    show_image(image_pixels, label, index)\n",
        "plt.tight_layout()"
      ],
      "metadata": {
        "colab": {
          "base_uri": "https://localhost:8080/"
        },
        "id": "KjcEjZoIs8IL",
        "outputId": "699c0b0f-d407-422e-c079-c20955a3f493"
      },
      "execution_count": null,
      "outputs": [
        {
          "output_type": "display_data",
          "data": {
            "text/plain": [
              "<Figure size 864x576 with 18 Axes>"
            ],
            "image/png": "[encoded data removed]"
          },
          "metadata": {
            "needs_background": "light"
          }
        }
      ]
    },
    {
      "cell_type": "markdown",
      "source": [
        "Construct the image generator for data augmentation"
      ],
      "metadata": {
        "id": "UmQO1MvutNk4"
      }
    },
    {
      "cell_type": "code",
      "source": [
        "# construct the image generator for data augmentation then\n",
        "# initialize the total number of images generated thus far\n",
        "aug = ImageDataGenerator(rotation_range=30, width_shift_range=0.1,\n",
        "                         height_shift_range=0.1, shear_range=0.2, zoom_range=0.2,\n",
        "                         horizontal_flip=False, fill_mode=\"nearest\")\n",
        "total = 0\n",
        "image = train_x[10:11,:,:,:]\n",
        "\n",
        "# construct the actual Python generator\n",
        "print(\"[INFO] generating images...\")\n",
        "imageGen = aug.flow(image, batch_size=1)\n",
        "\n",
        "# create a figure\n",
        "plt.figure(figsize=(12, 8))\n",
        "\n",
        "# loop over examples from our image data augmentation generator\n",
        "for img in imageGen:\n",
        "\n",
        "  show_image(img, train_y[10], total)\n",
        "\n",
        "  # increment our counter\n",
        "  total += 1\n",
        "\n",
        "  # if we have reached 10 examples, break from the loop\n",
        "  if total == 18:\n",
        "    break"
      ],
      "metadata": {
        "colab": {
          "base_uri": "https://localhost:8080/"
        },
        "id": "lyRQwPNNtGFl",
        "outputId": "d319ec66-dd90-4be7-8f32-20e98c9179aa"
      },
      "execution_count": null,
      "outputs": [
        {
          "output_type": "stream",
          "name": "stdout",
          "text": [
            "[INFO] generating images...\n"
          ]
        },
        {
          "output_type": "display_data",
          "data": {
            "text/plain": [
              "<Figure size 864x576 with 18 Axes>"
            ],
            "image/png": "[encoded data removed]"
          },
          "metadata": {
            "needs_background": "light"
          }
        }
      ]
    },
    {
      "cell_type": "markdown",
      "source": [
        "Normalize the data"
      ],
      "metadata": {
        "id": "Oqd6pCQJtJxI"
      }
    },
    {
      "cell_type": "code",
      "source": [
        "# scale data to the range of [0, 1]\n",
        "train_x = train_x.astype(\"float32\") / 255.0\n",
        "test_x = test_x.astype(\"float32\") / 255.0\n",
        "\n",
        "# convert the labels from integers to vectors\n",
        "lb = LabelBinarizer()\n",
        "train_y = lb.fit_transform(train_y)\n",
        "test_y = lb.transform(test_y)"
      ],
      "metadata": {
        "id": "7gPY9bAjtJQm"
      },
      "execution_count": null,
      "outputs": []
    },
    {
      "cell_type": "markdown",
      "source": [
        "#### Training"
      ],
      "metadata": {
        "id": "-6HAnvnTs2yv"
      }
    },
    {
      "cell_type": "code",
      "source": [
        "# create codecarbon tracker\n",
        "# codecarbon is too much verbose, change the log level for more info\n",
        "tracker = EmissionsTracker(log_level=\"critical\")\n",
        "tracker.start()\n",
        "\n",
        "# initialize the optimizer and model\n",
        "logger.info(\"[INFO] compiling model...\")\n",
        "opt = Adam(learning_rate=0.01)\n",
        "model = LeNet.build(width=28, height=28, depth=1, classes=10)\n",
        "model.compile(loss=\"categorical_crossentropy\", optimizer=opt,\n",
        "              metrics=[\"accuracy\"])\n",
        "\n",
        "# construct the image generator for data augmentation then\n",
        "# initialize the total number of images generated thus far\n",
        "aug = ImageDataGenerator(rotation_range=30, width_shift_range=0.1,\n",
        "                         height_shift_range=0.1, shear_range=0.2, \n",
        "                         zoom_range=0.2,\n",
        "                         horizontal_flip=False, fill_mode=\"nearest\")\n",
        "\n",
        "# train the network\n",
        "logger.info(\"[INFO] training network...\")\n",
        "history = model.fit(aug.flow(train_x, train_y, batch_size=32),\n",
        "                    validation_data=(test_x, test_y),\n",
        "                    epochs=20, \n",
        "                    verbose=0,\n",
        "                    callbacks=[wandb.keras.WandbCallback(save_model=False,\n",
        "                                                         compute_flops=True)])\n",
        "\n",
        "# get co2 emissions from tracker\n",
        "# \"CO2 emission (in Kg)\"\n",
        "emissions = tracker.stop()"
      ],
      "metadata": {
        "colab": {
          "base_uri": "https://localhost:8080/"
        },
        "id": "cVPkfguutulh",
        "outputId": "901d5e7a-5908-4d77-d1a3-6ce4f22f64a6"
      },
      "execution_count": null,
      "outputs": [
        {
          "output_type": "stream",
          "name": "stderr",
          "text": [
            "05-11-2022 22:16:13 [INFO] compiling model...\n",
            "05-11-2022 22:16:13 [INFO] training network...\n",
            "05-11-2022 22:16:13 From /usr/local/lib/python3.7/dist-packages/tensorflow/python/ops/nn_ops.py:5219: tensor_shape_from_node_def_name (from tensorflow.python.framework.graph_util_impl) is deprecated and will be removed in a future version.\n",
            "Instructions for updating:\n",
            "Use `tf.compat.v1.graph_util.tensor_shape_from_node_def_name`\n"
          ]
        }
      ]
    },
    {
      "cell_type": "markdown",
      "source": [
        "#### Evaluation Metrics"
      ],
      "metadata": {
        "id": "fpsu0uG3tyrc"
      }
    },
    {
      "cell_type": "code",
      "source": [
        "# plot the training loss and accuracy\n",
        "plt.style.use(\"ggplot\")\n",
        "fig, ax = plt.subplots(1,1,figsize=(10,8))\n",
        "\n",
        "ax.plot(np.arange(0, 20), history.history[\"loss\"], label=\"train_loss\",linestyle='--')\n",
        "ax.plot(np.arange(0, 20), history.history[\"val_loss\"], label=\"val_loss\",linestyle='--')\n",
        "ax.plot(np.arange(0, 20), history.history[\"accuracy\"], label=\"train_acc\")\n",
        "ax.plot(np.arange(0, 20), history.history[\"val_accuracy\"], label=\"val_acc\")\n",
        "ax.set_title(\"Training Loss and Accuracy\")\n",
        "ax.set_xlabel(\"Epoch #\")\n",
        "ax.set_ylabel(\"Loss/Accuracy\")\n",
        "ax.legend()\n",
        "plt.show()"
      ],
      "metadata": {
        "colab": {
          "base_uri": "https://localhost:8080/"
        },
        "id": "C2tGyHDstxsk",
        "outputId": "8dcf0f78-5df1-446f-a9ba-ee77d2d23c28"
      },
      "execution_count": null,
      "outputs": [
        {
          "output_type": "display_data",
          "data": {
            "text/plain": [
              "<Figure size 720x576 with 1 Axes>"
            ],
            "image/png": "[encoded data removed]"
          },
          "metadata": {}
        }
      ]
    },
    {
      "cell_type": "code",
      "source": [
        "print(\"[INFO] {} kWh of electricity used since the begining\".format(tracker.final_emissions_data.energy_consumed))\n",
        "print(\"[INFO] Energy consumed for RAM: {} kWh\".format(tracker.final_emissions_data.ram_energy))\n",
        "print(\"[INFO] Energy consumed for all GPU: {} kWh\".format(tracker.final_emissions_data.gpu_energy))\n",
        "print(\"[INFO] Energy consumed for all CPU: {} kWh\".format(tracker.final_emissions_data.cpu_energy))\n",
        "print(\"[INFO] CO2 emission {}(in Kg)\".format(tracker.final_emissions_data.emissions))"
      ],
      "metadata": {
        "colab": {
          "base_uri": "https://localhost:8080/"
        },
        "id": "RP1JWXK7t4lK",
        "outputId": "38994d6c-f52d-4185-c9fa-0b350976b95f"
      },
      "execution_count": null,
      "outputs": [
        {
          "output_type": "stream",
          "name": "stdout",
          "text": [
            "[INFO] 0.009244291377059231 kWh of electricity used since the begining\n",
            "[INFO] Energy consumed for RAM: 0.0005664611738899134 kWh\n",
            "[INFO] Energy consumed for all GPU: 0.003611365610487329 kWh\n",
            "[INFO] Energy consumed for all CPU: 0.005066464592681992 kWh\n",
            "[INFO] CO2 emission 0.003668830135034689(in Kg)\n"
          ]
        }
      ]
    },
    {
      "cell_type": "code",
      "source": [
        "# evaluate the network\n",
        "print(\"[INFO] evaluating network...\")\n",
        "predictions = model.predict(test_x, batch_size=32)\n",
        "print(classification_report(test_y.argmax(axis=1),\n",
        "                            predictions.argmax(axis=1),\n",
        "                            target_names=[str(i) for i in lb.classes_]))"
      ],
      "metadata": {
        "colab": {
          "base_uri": "https://localhost:8080/"
        },
        "id": "e88-esH6t6Kx",
        "outputId": "f465ff90-4f67-4ef8-d1dd-1948e15abc06"
      },
      "execution_count": null,
      "outputs": [
        {
          "output_type": "stream",
          "name": "stdout",
          "text": [
            "[INFO] evaluating network...\n",
            "313/313 [==============================] - 1s 2ms/step\n",
            "              precision    recall  f1-score   support\n",
            "\n",
            "           0       0.98      0.97      0.97       980\n",
            "           1       0.98      0.98      0.98      1135\n",
            "           2       0.95      0.92      0.93      1032\n",
            "           3       0.87      0.95      0.91      1010\n",
            "           4       0.96      0.90      0.92       982\n",
            "           5       0.84      0.94      0.89       892\n",
            "           6       0.97      0.93      0.95       958\n",
            "           7       0.90      0.94      0.92      1028\n",
            "           8       0.94      0.76      0.84       974\n",
            "           9       0.86      0.93      0.89      1009\n",
            "\n",
            "    accuracy                           0.92     10000\n",
            "   macro avg       0.92      0.92      0.92     10000\n",
            "weighted avg       0.93      0.92      0.92     10000\n",
            "\n"
          ]
        }
      ]
    },
    {
      "cell_type": "code",
      "source": [
        "fig_confusion_matrix, ax = plt.subplots(1,1,figsize=(7,4))\n",
        "ConfusionMatrixDisplay(confusion_matrix(predictions.argmax(axis=1),\n",
        "                                        test_y.argmax(axis=1)),\n",
        "                       display_labels=lb.classes_).plot(values_format=\".0f\",ax=ax)\n",
        "\n",
        "ax.set_xlabel(\"True Label\")\n",
        "ax.set_ylabel(\"Predicted Label\")\n",
        "ax.grid(False)\n",
        "plt.show()"
      ],
      "metadata": {
        "colab": {
          "base_uri": "https://localhost:8080/"
        },
        "id": "Ui-2R2Unt8e3",
        "outputId": "65375042-b2d3-416a-d772-84a4448a31c7"
      },
      "execution_count": null,
      "outputs": [
        {
          "output_type": "display_data",
          "data": {
            "text/plain": [
              "<Figure size 504x288 with 2 Axes>"
            ],
            "image/png": "[encoded data removed]"
          },
          "metadata": {}
        }
      ]
    },
    {
      "cell_type": "code",
      "source": [
        "# Uploading figures\n",
        "logger.info(\"Uploading figures\")\n",
        "run.log(\n",
        "    {\n",
        "        \"confusion_matrix\": wandb.Image(fig_confusion_matrix),\n",
        "        # \"other_figure\": wandb.Image(other_fig)\n",
        "    }\n",
        ")"
      ],
      "metadata": {
        "colab": {
          "base_uri": "https://localhost:8080/"
        },
        "id": "mesvOEfqt92t",
        "outputId": "2c29b71c-d053-414e-82b6-87e1c5c5acc4"
      },
      "execution_count": null,
      "outputs": [
        {
          "output_type": "stream",
          "name": "stderr",
          "text": [
            "05-11-2022 22:24:25 Uploading figures\n"
          ]
        }
      ]
    },
    {
      "cell_type": "code",
      "source": [
        "# Evaluation Metrics\n",
        "logger.info(\"Validation Evaluation metrics\")\n",
        "fbeta = fbeta_score(test_y.argmax(axis=1), \n",
        "                    predictions.argmax(axis=1), \n",
        "                    beta=1, zero_division=1,average='weighted')\n",
        "precision = precision_score(test_y.argmax(axis=1),\n",
        "                            predictions.argmax(axis=1),\n",
        "                            zero_division=1,average='weighted')\n",
        "recall = recall_score(test_y.argmax(axis=1),\n",
        "                      predictions.argmax(axis=1),\n",
        "                      zero_division=1,average='weighted')\n",
        "acc = accuracy_score(test_y.argmax(axis=1),\n",
        "                     predictions.argmax(axis=1))\n",
        "\n",
        "logger.info(\"Validation Accuracy: {}\".format(acc))\n",
        "logger.info(\"Validation Precision: {}\".format(precision))\n",
        "logger.info(\"Validation Recall: {}\".format(recall))\n",
        "logger.info(\"Validation F1: {}\".format(fbeta))\n",
        "\n",
        "run.summary[\"Acc\"] = acc\n",
        "run.summary[\"Precision\"] = precision\n",
        "run.summary[\"Recall\"] = recall\n",
        "run.summary[\"F1\"] = fbeta\n",
        "# number of parameters\n",
        "run.summary[\"Count_Params\"] = model.count_params()\n",
        "# energy unit is kWh\n",
        "run.summary[\"Energy_Consumed\"] = tracker.final_emissions_data.energy_consumed\n",
        "run.summary[\"Energy_RAM\"] = tracker.final_emissions_data.ram_energy\n",
        "run.summary[\"Energy_GPU\"] = tracker.final_emissions_data.gpu_energy\n",
        "run.summary[\"Energy_CPU\"] = tracker.final_emissions_data.cpu_energy\n",
        "# kg\n",
        "run.summary[\"CO2_Emissions\"] = tracker.final_emissions_data.emissions"
      ],
      "metadata": {
        "colab": {
          "base_uri": "https://localhost:8080/"
        },
        "id": "XllZhZ23t_TK",
        "outputId": "b28be5ea-1935-4439-f0a7-976e1dee9056"
      },
      "execution_count": null,
      "outputs": [
        {
          "output_type": "stream",
          "name": "stderr",
          "text": [
            "05-11-2022 22:24:36 Validation Evaluation metrics\n",
            "05-11-2022 22:24:36 Validation Accuracy: 0.9226\n",
            "05-11-2022 22:24:36 Validation Precision: 0.92541446136749\n",
            "05-11-2022 22:24:36 Validation Recall: 0.9226\n",
            "05-11-2022 22:24:36 Validation F1: 0.9223152026743395\n"
          ]
        }
      ]
    },
    {
      "cell_type": "code",
      "source": [
        "run.finish()"
      ],
      "metadata": {
        "colab": {
          "base_uri": "https://localhost:8080/"
        },
        "id": "XEUcoyGPuAdt",
        "outputId": "4bd261db-c10a-4def-b88d-e60170623604"
      },
      "execution_count": null,
      "outputs": [
        {
          "output_type": "display_data",
          "data": {
            "text/plain": [
              "<IPython.core.display.HTML object>"
            ],
            "text/html": [
              "Waiting for W&B process to finish... <strong style=\"color:green\">(success).</strong>"
            ]
          },
          "metadata": {}
        },
        {
          "output_type": "display_data",
          "data": {
            "text/plain": [
              "<IPython.core.display.HTML object>"
            ],
            "text/html": [
              "<style>\n",
              "    table.wandb td:nth-child(1) { padding: 0 10px; text-align: left ; width: auto;} td:nth-child(2) {text-align: left ; width: 100%}\n",
              "    .wandb-row { display: flex; flex-direction: row; flex-wrap: wrap; justify-content: flex-start; width: 100% }\n",
              "    .wandb-col { display: flex; flex-direction: column; flex-basis: 100%; flex: 1; padding: 10px; }\n",
              "    </style>\n",
              "<div class=\"wandb-row\"><div class=\"wandb-col\"><h3>Run history:</h3><br/><table class=\"wandb\"><tr><td>accuracy</td><td>▁▆▇▇▇▇█▇▇▇████▇██▇██</td></tr><tr><td>epoch</td><td>▁▁▂▂▂▃▃▄▄▄▅▅▅▆▆▇▇▇██</td></tr><tr><td>loss</td><td>█▃▃▂▂▂▂▂▂▂▂▂▁▁▂▁▁▂▁▁</td></tr><tr><td>val_accuracy</td><td>▂▅▅▁▇▆▅▅▇▆▂▅▆▁▅██▆▆▃</td></tr><tr><td>val_loss</td><td>█▄▄▇▂▃▃▄▁▃▇▃▃▇▃▁▂▃▃▆</td></tr></table><br/></div><div class=\"wandb-col\"><h3>Run summary:</h3><br/><table class=\"wandb\"><tr><td>Acc</td><td>0.9226</td></tr><tr><td>CO2_Emissions</td><td>0.00367</td></tr><tr><td>Count_Params</td><td>61706</td></tr><tr><td>Energy_CPU</td><td>0.00507</td></tr><tr><td>Energy_Consumed</td><td>0.00924</td></tr><tr><td>Energy_GPU</td><td>0.00361</td></tr><tr><td>Energy_RAM</td><td>0.00057</td></tr><tr><td>F1</td><td>0.92232</td></tr><tr><td>GFLOPs</td><td>0.00042</td></tr><tr><td>Precision</td><td>0.92541</td></tr><tr><td>Recall</td><td>0.9226</td></tr><tr><td>accuracy</td><td>0.85695</td></tr><tr><td>best_epoch</td><td>15</td></tr><tr><td>best_val_loss</td><td>0.17767</td></tr><tr><td>epoch</td><td>19</td></tr><tr><td>loss</td><td>0.46571</td></tr><tr><td>val_accuracy</td><td>0.9226</td></tr><tr><td>val_loss</td><td>0.24551</td></tr></table><br/></div></div>"
            ]
          },
          "metadata": {}
        },
        {
          "output_type": "display_data",
          "data": {
            "text/plain": [
              "<IPython.core.display.HTML object>"
            ],
            "text/html": [
              "Synced <strong style=\"color:#cdcd00\">vague-feather-1</strong>: <a href=\"https://wandb.ai/euripedes/lenet-5-augmentation/runs/3drt111t\" target=\"_blank\">https://wandb.ai/euripedes/lenet-5-augmentation/runs/3drt111t</a><br/>Synced 5 W&B file(s), 1 media file(s), 0 artifact file(s) and 0 other file(s)"
            ]
          },
          "metadata": {}
        },
        {
          "output_type": "display_data",
          "data": {
            "text/plain": [
              "<IPython.core.display.HTML object>"
            ],
            "text/html": [
              "Find logs at: <code>./wandb/run-20221105_221419-3drt111t/logs</code>"
            ]
          },
          "metadata": {}
        }
      ]
    },
    {
      "cell_type": "markdown",
      "source": [
        "### Step 04: Hyperparameter tuning with W&B Sweep"
      ],
      "metadata": {
        "id": "ngE9Qo3YuGgW"
      }
    },
    {
      "cell_type": "markdown",
      "source": [
        "**Define Sweep Configuration:**"
      ],
      "metadata": {
        "id": "b0eq2rpKuYvn"
      }
    },
    {
      "cell_type": "code",
      "source": [
        "# Configure the sweep \n",
        "sweep_config = {\n",
        "    'method': 'random', \n",
        "    'metric': {\n",
        "      'name': 'val_accuracy',\n",
        "      'goal': 'maximize'   \n",
        "    },\n",
        "    'parameters': {\n",
        "        # Normal model\n",
        "        'conv_layer': { 'max': 3, 'min': 1, 'distribution': 'int_uniform', },\n",
        "        'filters': { 'values': [4, 6, 12, 16] },\n",
        "        'learn_rate': { 'values': [0.01, 0.001, 0.005] },\n",
        "        'epochs': { 'values': [10, 20, 30] },\n",
        "        'batch_size': { 'values': [32,64] },\n",
        "\n",
        "        # Augmentation\n",
        "        'rotation_range': { 'values' : [20, 30, 40] },\n",
        "        'width_shift_range': { 'values' : [0.15, 0.25, 0.35] },\n",
        "        'height_shift_range': { 'values' : [0.1, 0.2, 0.3] },\n",
        "        'shear_range' : { 'values' : [0.2, 0.3, 0.45] },\n",
        "        'zoom_range' : { 'values' : [0.2, 0.5, 0.7] }\n",
        "    }\n",
        "}"
      ],
      "metadata": {
        "id": "p3DkGnZBuQU9"
      },
      "execution_count": null,
      "outputs": []
    },
    {
      "cell_type": "markdown",
      "source": [
        "Initialize a new sweep\n",
        "Arguments:\n",
        "\n",
        "* sweep_config: the sweep config dictionary defined above\n",
        "* entity: Set the username for the sweep\n",
        "* project: Set the project name for the sweep"
      ],
      "metadata": {
        "id": "beVm_zZQn2h4"
      }
    },
    {
      "cell_type": "code",
      "source": [
        "sweep_id = wandb.sweep(sweep_config,\n",
        "                       entity=\"euripedes\",\n",
        "                       project=args[\"project_name\"])"
      ],
      "metadata": {
        "colab": {
          "base_uri": "https://localhost:8080/"
        },
        "id": "wtk33Idbxk0-",
        "outputId": "ef5b9e9c-9c1d-42ea-c753-01eb42d4dfba"
      },
      "execution_count": null,
      "outputs": [
        {
          "output_type": "stream",
          "name": "stdout",
          "text": [
            "Create sweep with ID: 6mhr7id7\n",
            "Sweep URL: https://wandb.ai/euripedes/lenet-5-augmentation/sweeps/6mhr7id7\n"
          ]
        }
      ]
    },
    {
      "cell_type": "markdown",
      "source": [
        "**Adapting the model**"
      ],
      "metadata": {
        "id": "fGZz-1onxnjW"
      }
    },
    {
      "cell_type": "code",
      "source": [
        "class LeNetDataAug:\n",
        "  @staticmethod\n",
        "  def build(width, height, depth, classes, config):\n",
        "    # initialize the model\n",
        "    model = Sequential()\n",
        "    inputShape = (height, width, depth)\n",
        "    \n",
        "    # if we are using \"channels first\", update the input shape\n",
        "    if K.image_data_format() == \"channels_first\":\n",
        "      inputShape = (depth, height, width)\n",
        "   \n",
        "    # first set of CONV => TANH => POOL layers\n",
        "    for i in range(config.conv_layer):\n",
        "      model.add(Conv2D(config.filters, (5,5), strides=1, padding='same', \n",
        "                       activation='tanh', input_shape=inputShape ))\n",
        "      model.add(AveragePooling2D())\n",
        "\n",
        "    model.add(Flatten()) \n",
        "    model.add(Dense(120, activation='tanh')) \n",
        "    model.add(Dense(84, activation='tanh')) \n",
        "\n",
        "    # softmax classifier\n",
        "    model.add(Dense(10, activation='softmax')) #Output layer\n",
        "    \n",
        "    # return the constructed network architecture\n",
        "    return model"
      ],
      "metadata": {
        "id": "L52XS444xot0"
      },
      "execution_count": null,
      "outputs": []
    },
    {
      "cell_type": "markdown",
      "source": [
        "**Training**"
      ],
      "metadata": {
        "id": "JmZI08ICz-rb"
      }
    },
    {
      "cell_type": "code",
      "source": [
        "def train():\n",
        "    with wandb.init() as run:\n",
        "\n",
        "      # create codecarbon tracker\n",
        "      # codecarbon is too much verbose, change the log level for more info\n",
        "      tracker = EmissionsTracker(log_level=\"critical\")\n",
        "      tracker.start()\n",
        "\n",
        "      # initialize the optimizer and model\n",
        "      print(\"[INFO] compiling model...\")\n",
        "      opt = Adam(learning_rate=run.config.learn_rate)\n",
        "      model = LeNetDataAug.build(width=28, height=28,depth=1, classes=10, config=run.config)\n",
        "      model.compile(loss=\"categorical_crossentropy\", \n",
        "                    optimizer=opt,\n",
        "                    metrics=[\"accuracy\"]\n",
        "                    )\n",
        "      \n",
        "      # Configure the data generator for our sweep\n",
        "      aug = ImageDataGenerator(rotation_range = run.config.rotation_range, \n",
        "                               width_shift_range = run.config.width_shift_range,\n",
        "                               height_shift_range = run.config.height_shift_range, \n",
        "                               shear_range = run.config.shear_range, \n",
        "                               zoom_range = run.config.zoom_range,\n",
        "                               horizontal_flip=False, \n",
        "                               fill_mode=\"nearest\")\n",
        "\n",
        "      # train the network\n",
        "      print(\"[INFO] training network...\")\n",
        "      history = model.fit(aug.flow(train_x, train_y, \n",
        "                                   batch_size=run.config.batch_size),\n",
        "                    validation_data=(test_x, test_y),\n",
        "                    epochs=run.config.epochs, \n",
        "                    verbose=0,\n",
        "                    callbacks=[wandb.keras.WandbCallback(save_model=False,\n",
        "                                                         compute_flops=True)])\n",
        "\n",
        "\n",
        "      # get co2 emissions from tracker\n",
        "      # \"CO2 emission (in Kg)\"\n",
        "      emissions = tracker.stop()\n",
        "\n",
        "      # make predictions\n",
        "      predictions = model.predict(test_x, batch_size=run.config.batch_size)\n",
        "\n",
        "      # Evaluation Metrics\n",
        "      logger.info(\"Validation Evaluation metrics\")\n",
        "      fbeta = fbeta_score(test_y.argmax(axis=1), \n",
        "                          predictions.argmax(axis=1), \n",
        "                          beta=1, zero_division=1,average='weighted')\n",
        "      precision = precision_score(test_y.argmax(axis=1),\n",
        "                                  predictions.argmax(axis=1),\n",
        "                                  zero_division=1,average='weighted')\n",
        "      recall = recall_score(test_y.argmax(axis=1),\n",
        "                            predictions.argmax(axis=1),\n",
        "                            zero_division=1,average='weighted')\n",
        "      acc = accuracy_score(test_y.argmax(axis=1),\n",
        "                          predictions.argmax(axis=1))\n",
        "\n",
        "      logger.info(\"Validation Accuracy: {}\".format(acc))\n",
        "      logger.info(\"Validation Precision: {}\".format(precision))\n",
        "      logger.info(\"Validation Recall: {}\".format(recall))\n",
        "      logger.info(\"Validation F1: {}\".format(fbeta))\n",
        "\n",
        "      run.summary[\"Acc\"] = acc\n",
        "      run.summary[\"Precision\"] = precision\n",
        "      run.summary[\"Recall\"] = recall\n",
        "      run.summary[\"F1\"] = fbeta\n",
        "      # number of parameters\n",
        "      run.summary[\"Count_Params\"] = model.count_params()\n",
        "      # energy unit is kWh\n",
        "      run.summary[\"Energy_Consumed\"] = tracker.final_emissions_data.energy_consumed\n",
        "      run.summary[\"Energy_RAM\"] = tracker.final_emissions_data.ram_energy\n",
        "      run.summary[\"Energy_GPU\"] = tracker.final_emissions_data.gpu_energy\n",
        "      run.summary[\"Energy_CPU\"] = tracker.final_emissions_data.cpu_energy\n",
        "      # kg\n",
        "      run.summary[\"CO2_Emissions\"] = tracker.final_emissions_data.emissions\n",
        "\n",
        "      run.finish()"
      ],
      "metadata": {
        "id": "YtL4Q8zg0A4A"
      },
      "execution_count": null,
      "outputs": []
    },
    {
      "cell_type": "code",
      "source": [
        "wandb.agent(sweep_id = sweep_id, function=train, count=10)"
      ],
      "metadata": {
        "colab": {
          "base_uri": "https://localhost:8080/",
          "height": 1000,
          "referenced_widgets": [
            "b5ff747afeb34851bbad5d4d0a273ac7",
            "e0467d842d834b0eb58084b830af3a86",
            "202760d0e7254615ae453435a73f0959",
            "32a61e5665d6446b8fab104b6bdc1a83",
            "8460014e740f41f3954837bc4f851d44",
            "63bd9f0ba2034c87bd4bf7e7deab23e2",
            "2c4e8c94a209482da499a4146d5e09a2",
            "38e0dcc40d9349149a10abc1e1ae11a5",
            "20e845589dc346e9b5c6eafa809b6cfb",
            "52f26217b7aa4f4aa2816021f6910605",
            "ad8f648da6bc4472b1e0d3c1a97dd098",
            "a6314585aecc4a61bb679e171282db2f",
            "b10300ea96f54b1e9e2d5158d83d014c",
            "147cd98232a14ad3939a4c5f3a9f62d0",
            "ca1cb120acfe4ff29f2f8c471c6b49d2",
            "a25162b44db740098c8907f05e2857e6",
            "acf86415b07d4721956634971b9c97b2",
            "4a07639ca8de4b35b3bf4721d435d1b6",
            "a30e1e9471a74a26bd6cfe3a0e93824e",
            "cdb66b70b26840a2abca7390d1dbb51a",
            "c1895cda59c5437a82b56d466e39893b",
            "0da5d1d4c111437ab00dfc91ecc5456c",
            "76dfc7b1c8a64403826c2d878f92363d",
            "e068bf1cc83747f293879d6bd257e66a",
            "c6a1a4d4e3194f82a95acc0d2a7d0b47",
            "9f582aa3bbcc4eedb6aec57347323d6b",
            "f37a2b35dee0437b9886c87fc6302b18",
            "f9651aeeea3641b68a4bbc00793c1779",
            "8bb1dd7d784e4f818c93501527661e3f",
            "6711846695d341dcb35b095f530f1e4d",
            "dcd117963f8c49eeab6b164a6e080dfa",
            "1a86f1040d0448c4ad2eedbe6a0ba3ea",
            "650b016d09ff4ea6bf52f7b3267a20d8",
            "1b15e9bdb19f446e8d7b70e81aab9a60",
            "7615530504374499a778ddfe04b665da",
            "150a5c4c56a7436fa7cf1a8577b6a75c",
            "79b74312a55b4677870a89e557028549",
            "d88e4632305a4066b6afac406f581f50",
            "220f068f812742c9bd5b05c3eaab0b58",
            "1445bdf100e643a7bed5339dfae46fa3",
            "a8a67eb77e4b4de995769b1851a92480",
            "1416e12875404dc78d3c283587abb6a0",
            "4850dfbcc7c24d4e861420ac1d361d8d",
            "6cac100f2c854bb4a0beb8ebbf157f4e",
            "ff0693e986674e4085dce65ba22587ec",
            "e6e3c196c3624861a108297e5764006f",
            "55136db609bd4ca5bdea2e1242670bac",
            "29198444dd794fb1b22a34ab0bf8aad0",
            "a787ea4667164134957169049cd125ee",
            "cc40b498af6749408eb8da45ae4314e3",
            "13cf8f32b37f4e20b53ca665877e371d",
            "837f8ff1143740189acbb4184a906059",
            "ecd6fa2e860146bcaaa47bb3fab9d797",
            "ade65f1529544f3a96b8d70ee31e76fd",
            "130ad7ba6d8e44fb82ae265bcda87437",
            "9c53ea000a5b47508590ab0dbbe99f9c",
            "674e36550bfa437e93ee31e01ffe6197",
            "6f9ee454846647c8951e697c61f1aff9",
            "f9b02684c827494e868f50ed34dacd08",
            "d684b85c11ce4629af80cd6b2ecaf302",
            "bc54643b536a4aa68c74a94cbbab32ec",
            "6bef38116b4b4947a4956b55c209c4b3",
            "70d0e4267ee14f5a88206fa9c81a7abd",
            "70568e3e10384f169c6e67c2814c794f"
          ]
        },
        "id": "KGY8wJ3K18CL",
        "outputId": "bf664cbc-0cb7-40a3-d2bc-a102b16f9d19"
      },
      "execution_count": null,
      "outputs": [
        {
          "output_type": "stream",
          "name": "stderr",
          "text": [
            "\u001b[34m\u001b[1mwandb\u001b[0m: \u001b[33mWARNING\u001b[0m Calling wandb.login() after wandb.init() has no effect.\n",
            "\u001b[34m\u001b[1mwandb\u001b[0m: Agent Starting Run: g2x3sqkk with config:\n",
            "\u001b[34m\u001b[1mwandb\u001b[0m: \tbatch_size: 32\n",
            "\u001b[34m\u001b[1mwandb\u001b[0m: \tconv_layer: 3\n",
            "\u001b[34m\u001b[1mwandb\u001b[0m: \tepochs: 20\n",
            "\u001b[34m\u001b[1mwandb\u001b[0m: \tfilters: 4\n",
            "\u001b[34m\u001b[1mwandb\u001b[0m: \theight_shift_range: 0.2\n",
            "\u001b[34m\u001b[1mwandb\u001b[0m: \tlearn_rate: 0.01\n",
            "\u001b[34m\u001b[1mwandb\u001b[0m: \trotation_range: 40\n",
            "\u001b[34m\u001b[1mwandb\u001b[0m: \tshear_range: 0.3\n",
            "\u001b[34m\u001b[1mwandb\u001b[0m: \twidth_shift_range: 0.35\n",
            "\u001b[34m\u001b[1mwandb\u001b[0m: \tzoom_range: 0.2\n"
          ]
        },
        {
          "output_type": "display_data",
          "data": {
            "text/plain": [
              "<IPython.core.display.HTML object>"
            ],
            "text/html": [
              "Tracking run with wandb version 0.13.5"
            ]
          },
          "metadata": {}
        },
        {
          "output_type": "display_data",
          "data": {
            "text/plain": [
              "<IPython.core.display.HTML object>"
            ],
            "text/html": [
              "Run data is saved locally in <code>/content/wandb/run-20221105_223325-g2x3sqkk</code>"
            ]
          },
          "metadata": {}
        },
        {
          "output_type": "display_data",
          "data": {
            "text/plain": [
              "<IPython.core.display.HTML object>"
            ],
            "text/html": [
              "Syncing run <strong><a href=\"https://wandb.ai/euripedes/lenet-5-augmentation/runs/g2x3sqkk\" target=\"_blank\">laced-sweep-3</a></strong> to <a href=\"https://wandb.ai/euripedes/lenet-5-augmentation\" target=\"_blank\">Weights & Biases</a> (<a href=\"https://wandb.me/run\" target=\"_blank\">docs</a>)<br/>Sweep page:  <a href=\"https://wandb.ai/euripedes/lenet-5-augmentation/sweeps/6mhr7id7\" target=\"_blank\">https://wandb.ai/euripedes/lenet-5-augmentation/sweeps/6mhr7id7</a>"
            ]
          },
          "metadata": {}
        },
        {
          "output_type": "stream",
          "name": "stdout",
          "text": [
            "[INFO] compiling model...\n",
            "[INFO] training network...\n",
            "313/313 [==============================] - 1s 3ms/step\n"
          ]
        },
        {
          "output_type": "stream",
          "name": "stderr",
          "text": [
            "05-11-2022 22:51:05 Validation Evaluation metrics\n",
            "05-11-2022 22:51:05 Validation Accuracy: 0.9793\n",
            "05-11-2022 22:51:05 Validation Precision: 0.9793649140542641\n",
            "05-11-2022 22:51:05 Validation Recall: 0.9793\n",
            "05-11-2022 22:51:05 Validation F1: 0.979283434312393\n"
          ]
        },
        {
          "output_type": "display_data",
          "data": {
            "text/plain": [
              "<IPython.core.display.HTML object>"
            ],
            "text/html": [
              "Waiting for W&B process to finish... <strong style=\"color:red\">(failed 1).</strong> Press Control-C to abort syncing."
            ]
          },
          "metadata": {}
        },
        {
          "output_type": "stream",
          "name": "stdout",
          "text": [
            "313/313 [==============================] - 1s 2ms/step\n"
          ]
        },
        {
          "output_type": "stream",
          "name": "stderr",
          "text": [
            "05-11-2022 22:51:06 Validation Evaluation metrics\n",
            "05-11-2022 22:51:06 Validation Accuracy: 0.8811\n",
            "05-11-2022 22:51:06 Validation Precision: 0.8842833253744813\n",
            "05-11-2022 22:51:06 Validation Recall: 0.8811\n",
            "05-11-2022 22:51:06 Validation F1: 0.8808860571712521\n",
            "\u001b[34m\u001b[1mwandb\u001b[0m: Agent Starting Run: c5dqm357 with config:\n",
            "\u001b[34m\u001b[1mwandb\u001b[0m: \tbatch_size: 64\n",
            "\u001b[34m\u001b[1mwandb\u001b[0m: \tconv_layer: 1\n",
            "\u001b[34m\u001b[1mwandb\u001b[0m: \tepochs: 10\n",
            "\u001b[34m\u001b[1mwandb\u001b[0m: \tfilters: 12\n",
            "\u001b[34m\u001b[1mwandb\u001b[0m: \theight_shift_range: 0.2\n",
            "\u001b[34m\u001b[1mwandb\u001b[0m: \tlearn_rate: 0.01\n",
            "\u001b[34m\u001b[1mwandb\u001b[0m: \trotation_range: 20\n",
            "\u001b[34m\u001b[1mwandb\u001b[0m: \tshear_range: 0.3\n",
            "\u001b[34m\u001b[1mwandb\u001b[0m: \twidth_shift_range: 0.35\n",
            "\u001b[34m\u001b[1mwandb\u001b[0m: \tzoom_range: 0.2\n",
            "Exception in thread Thread-82:\n",
            "Traceback (most recent call last):\n",
            "  File \"<ipython-input-32-7a08d25c7066>\", line 64, in train\n",
            "    run.summary[\"Acc\"] = acc\n",
            "  File \"/usr/local/lib/python3.7/dist-packages/wandb/sdk/wandb_summary.py\", line 50, in __setitem__\n",
            "    self.update({key: val})\n",
            "  File \"/usr/local/lib/python3.7/dist-packages/wandb/sdk/wandb_summary.py\", line 72, in update\n",
            "    self._update(record)\n",
            "  File \"/usr/local/lib/python3.7/dist-packages/wandb/sdk/wandb_summary.py\", line 127, in _update\n",
            "    self._update_callback(record)\n",
            "  File \"/usr/local/lib/python3.7/dist-packages/wandb/sdk/wandb_run.py\", line 1206, in _summary_update_callback\n",
            "    self._backend.interface.publish_summary(summary_record)\n",
            "  File \"/usr/local/lib/python3.7/dist-packages/wandb/sdk/interface/interface.py\", line 326, in publish_summary\n",
            "    self._publish_summary(pb_summary_record)\n",
            "  File \"/usr/local/lib/python3.7/dist-packages/wandb/sdk/interface/interface_shared.py\", line 324, in _publish_summary\n",
            "    self._publish(rec)\n",
            "  File \"/usr/local/lib/python3.7/dist-packages/wandb/sdk/interface/interface_sock.py\", line 51, in _publish\n",
            "    self._sock_client.send_record_publish(record)\n",
            "  File \"/usr/local/lib/python3.7/dist-packages/wandb/sdk/lib/sock_client.py\", line 221, in send_record_publish\n",
            "    self.send_server_request(server_req)\n",
            "  File \"/usr/local/lib/python3.7/dist-packages/wandb/sdk/lib/sock_client.py\", line 155, in send_server_request\n",
            "    self._send_message(msg)\n",
            "  File \"/usr/local/lib/python3.7/dist-packages/wandb/sdk/lib/sock_client.py\", line 152, in _send_message\n",
            "    self._sendall_with_error_handle(header + data)\n",
            "  File \"/usr/local/lib/python3.7/dist-packages/wandb/sdk/lib/sock_client.py\", line 130, in _sendall_with_error_handle\n",
            "    sent = self._sock.send(data)\n",
            "BrokenPipeError: [Errno 32] Broken pipe\n",
            "\n",
            "During handling of the above exception, another exception occurred:\n",
            "\n",
            "Traceback (most recent call last):\n",
            "  File \"/usr/local/lib/python3.7/dist-packages/wandb/agents/pyagent.py\", line 298, in _run_job\n",
            "    self._function()\n",
            "  File \"<ipython-input-32-7a08d25c7066>\", line 78, in train\n",
            "    run.finish()\n",
            "  File \"/usr/local/lib/python3.7/dist-packages/wandb/sdk/wandb_run.py\", line 2951, in __exit__\n",
            "    self._finish(exit_code)\n",
            "  File \"/usr/local/lib/python3.7/dist-packages/wandb/sdk/wandb_run.py\", line 1745, in _finish\n",
            "    tel.feature.finish = True\n",
            "  File \"/usr/local/lib/python3.7/dist-packages/wandb/sdk/lib/telemetry.py\", line 40, in __exit__\n",
            "    self._run._telemetry_callback(self._obj)\n",
            "  File \"/usr/local/lib/python3.7/dist-packages/wandb/sdk/wandb_run.py\", line 608, in _telemetry_callback\n",
            "    self._telemetry_flush()\n",
            "  File \"/usr/local/lib/python3.7/dist-packages/wandb/sdk/wandb_run.py\", line 619, in _telemetry_flush\n",
            "    self._backend.interface._publish_telemetry(self._telemetry_obj)\n",
            "  File \"/usr/local/lib/python3.7/dist-packages/wandb/sdk/interface/interface_shared.py\", line 97, in _publish_telemetry\n",
            "    self._publish(rec)\n",
            "  File \"/usr/local/lib/python3.7/dist-packages/wandb/sdk/interface/interface_sock.py\", line 51, in _publish\n",
            "    self._sock_client.send_record_publish(record)\n",
            "  File \"/usr/local/lib/python3.7/dist-packages/wandb/sdk/lib/sock_client.py\", line 221, in send_record_publish\n",
            "    self.send_server_request(server_req)\n",
            "  File \"/usr/local/lib/python3.7/dist-packages/wandb/sdk/lib/sock_client.py\", line 155, in send_server_request\n",
            "    self._send_message(msg)\n",
            "  File \"/usr/local/lib/python3.7/dist-packages/wandb/sdk/lib/sock_client.py\", line 152, in _send_message\n",
            "    self._sendall_with_error_handle(header + data)\n",
            "  File \"/usr/local/lib/python3.7/dist-packages/wandb/sdk/lib/sock_client.py\", line 130, in _sendall_with_error_handle\n",
            "    sent = self._sock.send(data)\n",
            "BrokenPipeError: [Errno 32] Broken pipe\n",
            "\n",
            "During handling of the above exception, another exception occurred:\n",
            "\n",
            "Traceback (most recent call last):\n",
            "  File \"/usr/local/lib/python3.7/dist-packages/wandb/sdk/wandb_run.py\", line 1958, in _atexit_cleanup\n",
            "    self._on_finish()\n",
            "  File \"/usr/local/lib/python3.7/dist-packages/wandb/sdk/wandb_run.py\", line 2266, in _on_finish\n",
            "    _ = exit_handle.wait(timeout=-1, on_progress=self._on_progress_exit)\n",
            "  File \"/usr/local/lib/python3.7/dist-packages/wandb/sdk/lib/mailbox.py\", line 273, in wait\n",
            "    on_probe(probe_handle)\n",
            "  File \"/usr/local/lib/python3.7/dist-packages/wandb/sdk/wandb_run.py\", line 2228, in _on_probe_exit\n",
            "    result = handle.wait(timeout=0)\n",
            "  File \"/usr/local/lib/python3.7/dist-packages/wandb/sdk/lib/mailbox.py\", line 259, in wait\n",
            "    raise MailboxError(\"transport failed\")\n",
            "wandb.errors.MailboxError: transport failed\n",
            "\n",
            "During handling of the above exception, another exception occurred:\n",
            "\n",
            "Traceback (most recent call last):\n",
            "  File \"/usr/lib/python3.7/threading.py\", line 926, in _bootstrap_inner\n",
            "    self.run()\n",
            "  File \"/usr/lib/python3.7/threading.py\", line 870, in run\n",
            "    self._target(*self._args, **self._kwargs)\n",
            "  File \"/usr/local/lib/python3.7/dist-packages/wandb/agents/pyagent.py\", line 303, in _run_job\n",
            "    wandb.finish(exit_code=1)\n",
            "  File \"/usr/local/lib/python3.7/dist-packages/wandb/sdk/wandb_run.py\", line 3621, in finish\n",
            "    wandb.run.finish(exit_code=exit_code, quiet=quiet)\n",
            "  File \"/usr/local/lib/python3.7/dist-packages/wandb/sdk/wandb_run.py\", line 292, in wrapper\n",
            "    return func(self, *args, **kwargs)\n",
            "  File \"/usr/local/lib/python3.7/dist-packages/wandb/sdk/wandb_run.py\", line 255, in wrapper\n",
            "    return func(self, *args, **kwargs)\n",
            "  File \"/usr/local/lib/python3.7/dist-packages/wandb/sdk/wandb_run.py\", line 1739, in finish\n",
            "    return self._finish(exit_code, quiet)\n",
            "  File \"/usr/local/lib/python3.7/dist-packages/wandb/sdk/wandb_run.py\", line 1752, in _finish\n",
            "    self._atexit_cleanup(exit_code=exit_code)\n",
            "  File \"/usr/local/lib/python3.7/dist-packages/wandb/sdk/wandb_run.py\", line 1969, in _atexit_cleanup\n",
            "    self._backend.cleanup()\n",
            "  File \"/usr/local/lib/python3.7/dist-packages/wandb/sdk/backend/backend.py\", line 252, in cleanup\n",
            "    self.interface.join()\n",
            "  File \"/usr/local/lib/python3.7/dist-packages/wandb/sdk/interface/interface_shared.py\", line 573, in join\n",
            "    super().join()\n",
            "  File \"/usr/local/lib/python3.7/dist-packages/wandb/sdk/interface/interface.py\", line 712, in join\n",
            "    _ = self._communicate_shutdown()\n",
            "  File \"/usr/local/lib/python3.7/dist-packages/wandb/sdk/interface/interface_shared.py\", line 516, in _communicate_shutdown\n",
            "    _ = self._communicate(record)\n",
            "  File \"/usr/local/lib/python3.7/dist-packages/wandb/sdk/interface/interface_shared.py\", line 255, in _communicate\n",
            "    return self._communicate_async(rec, local=local).get(timeout=timeout)\n",
            "  File \"/usr/local/lib/python3.7/dist-packages/wandb/sdk/interface/interface_sock.py\", line 58, in _communicate_async\n",
            "    future = self._router.send_and_receive(rec, local=local)\n",
            "  File \"/usr/local/lib/python3.7/dist-packages/wandb/sdk/interface/router.py\", line 94, in send_and_receive\n",
            "    self._send_message(rec)\n",
            "  File \"/usr/local/lib/python3.7/dist-packages/wandb/sdk/interface/router_sock.py\", line 36, in _send_message\n",
            "    self._sock_client.send_record_communicate(record)\n",
            "  File \"/usr/local/lib/python3.7/dist-packages/wandb/sdk/lib/sock_client.py\", line 216, in send_record_communicate\n",
            "    self.send_server_request(server_req)\n",
            "  File \"/usr/local/lib/python3.7/dist-packages/wandb/sdk/lib/sock_client.py\", line 155, in send_server_request\n",
            "    self._send_message(msg)\n",
            "  File \"/usr/local/lib/python3.7/dist-packages/wandb/sdk/lib/sock_client.py\", line 152, in _send_message\n",
            "    self._sendall_with_error_handle(header + data)\n",
            "  File \"/usr/local/lib/python3.7/dist-packages/wandb/sdk/lib/sock_client.py\", line 130, in _sendall_with_error_handle\n",
            "    sent = self._sock.send(data)\n",
            "BrokenPipeError: [Errno 32] Broken pipe\n",
            "\n"
          ]
        },
        {
          "output_type": "display_data",
          "data": {
            "text/plain": [
              "<IPython.core.display.HTML object>"
            ],
            "text/html": [
              "Tracking run with wandb version 0.13.5"
            ]
          },
          "metadata": {}
        },
        {
          "output_type": "display_data",
          "data": {
            "text/plain": [
              "<IPython.core.display.HTML object>"
            ],
            "text/html": [
              "Run data is saved locally in <code>/content/wandb/run-20221105_225113-c5dqm357</code>"
            ]
          },
          "metadata": {}
        },
        {
          "output_type": "display_data",
          "data": {
            "text/plain": [
              "<IPython.core.display.HTML object>"
            ],
            "text/html": [
              "Syncing run <strong><a href=\"https://wandb.ai/euripedes/lenet-5-augmentation/runs/c5dqm357\" target=\"_blank\">exalted-sweep-4</a></strong> to <a href=\"https://wandb.ai/euripedes/lenet-5-augmentation\" target=\"_blank\">Weights & Biases</a> (<a href=\"https://wandb.me/run\" target=\"_blank\">docs</a>)<br/>Sweep page:  <a href=\"https://wandb.ai/euripedes/lenet-5-augmentation/sweeps/6mhr7id7\" target=\"_blank\">https://wandb.ai/euripedes/lenet-5-augmentation/sweeps/6mhr7id7</a>"
            ]
          },
          "metadata": {}
        },
        {
          "output_type": "stream",
          "name": "stdout",
          "text": [
            "[INFO] compiling model...\n",
            "[INFO] training network...\n",
            "157/157 [==============================] - 0s 2ms/step\n"
          ]
        },
        {
          "output_type": "stream",
          "name": "stderr",
          "text": [
            "05-11-2022 22:54:14 Validation Evaluation metrics\n",
            "05-11-2022 22:54:14 Validation Accuracy: 0.781\n",
            "05-11-2022 22:54:14 Validation Precision: 0.7896928864402812\n",
            "05-11-2022 22:54:14 Validation Recall: 0.781\n",
            "05-11-2022 22:54:14 Validation F1: 0.7773429207008805\n"
          ]
        },
        {
          "output_type": "display_data",
          "data": {
            "text/plain": [
              "<IPython.core.display.HTML object>"
            ],
            "text/html": [
              "Waiting for W&B process to finish... <strong style=\"color:green\">(success).</strong>"
            ]
          },
          "metadata": {}
        },
        {
          "output_type": "display_data",
          "data": {
            "text/plain": [
              "VBox(children=(Label(value='0.001 MB of 0.001 MB uploaded (0.000 MB deduped)\\r'), FloatProgress(value=1.0, max…"
            ],
            "application/vnd.jupyter.widget-view+json": {
              "version_major": 2,
              "version_minor": 0,
              "model_id": "b5ff747afeb34851bbad5d4d0a273ac7"
            }
          },
          "metadata": {}
        },
        {
          "output_type": "display_data",
          "data": {
            "text/plain": [
              "<IPython.core.display.HTML object>"
            ],
            "text/html": [
              "<style>\n",
              "    table.wandb td:nth-child(1) { padding: 0 10px; text-align: left ; width: auto;} td:nth-child(2) {text-align: left ; width: 100%}\n",
              "    .wandb-row { display: flex; flex-direction: row; flex-wrap: wrap; justify-content: flex-start; width: 100% }\n",
              "    .wandb-col { display: flex; flex-direction: column; flex-basis: 100%; flex: 1; padding: 10px; }\n",
              "    </style>\n",
              "<div class=\"wandb-row\"><div class=\"wandb-col\"><h3>Run history:</h3><br/><table class=\"wandb\"><tr><td>accuracy</td><td>▁▅▆▇▇█████</td></tr><tr><td>epoch</td><td>▁▂▃▃▄▅▆▆▇█</td></tr><tr><td>loss</td><td>█▄▃▂▂▁▁▁▁▁</td></tr><tr><td>val_accuracy</td><td>▁▂▄▄▄▆▅▇█▅</td></tr><tr><td>val_loss</td><td>█▇▅▅▄▂▃▂▁▃</td></tr></table><br/></div><div class=\"wandb-col\"><h3>Run summary:</h3><br/><table class=\"wandb\"><tr><td>Acc</td><td>0.781</td></tr><tr><td>CO2_Emissions</td><td>0.00155</td></tr><tr><td>Count_Params</td><td>293686</td></tr><tr><td>Energy_CPU</td><td>0.00206</td></tr><tr><td>Energy_Consumed</td><td>0.00391</td></tr><tr><td>Energy_GPU</td><td>0.00162</td></tr><tr><td>Energy_RAM</td><td>0.00023</td></tr><tr><td>F1</td><td>0.77734</td></tr><tr><td>GFLOPs</td><td>0.00054</td></tr><tr><td>Precision</td><td>0.78969</td></tr><tr><td>Recall</td><td>0.781</td></tr><tr><td>accuracy</td><td>0.67492</td></tr><tr><td>best_epoch</td><td>8</td></tr><tr><td>best_val_loss</td><td>0.56886</td></tr><tr><td>epoch</td><td>9</td></tr><tr><td>loss</td><td>0.96873</td></tr><tr><td>val_accuracy</td><td>0.781</td></tr><tr><td>val_loss</td><td>0.64959</td></tr></table><br/></div></div>"
            ]
          },
          "metadata": {}
        },
        {
          "output_type": "display_data",
          "data": {
            "text/plain": [
              "<IPython.core.display.HTML object>"
            ],
            "text/html": [
              "Synced <strong style=\"color:#cdcd00\">exalted-sweep-4</strong>: <a href=\"https://wandb.ai/euripedes/lenet-5-augmentation/runs/c5dqm357\" target=\"_blank\">https://wandb.ai/euripedes/lenet-5-augmentation/runs/c5dqm357</a><br/>Synced 5 W&B file(s), 0 media file(s), 0 artifact file(s) and 0 other file(s)"
            ]
          },
          "metadata": {}
        },
        {
          "output_type": "display_data",
          "data": {
            "text/plain": [
              "<IPython.core.display.HTML object>"
            ],
            "text/html": [
              "Find logs at: <code>./wandb/run-20221105_225113-c5dqm357/logs</code>"
            ]
          },
          "metadata": {}
        },
        {
          "output_type": "stream",
          "name": "stderr",
          "text": [
            "\u001b[34m\u001b[1mwandb\u001b[0m: Agent Starting Run: hou8i3o8 with config:\n",
            "\u001b[34m\u001b[1mwandb\u001b[0m: \tbatch_size: 32\n",
            "\u001b[34m\u001b[1mwandb\u001b[0m: \tconv_layer: 3\n",
            "\u001b[34m\u001b[1mwandb\u001b[0m: \tepochs: 30\n",
            "\u001b[34m\u001b[1mwandb\u001b[0m: \tfilters: 6\n",
            "\u001b[34m\u001b[1mwandb\u001b[0m: \theight_shift_range: 0.1\n",
            "\u001b[34m\u001b[1mwandb\u001b[0m: \tlearn_rate: 0.01\n",
            "\u001b[34m\u001b[1mwandb\u001b[0m: \trotation_range: 20\n",
            "\u001b[34m\u001b[1mwandb\u001b[0m: \tshear_range: 0.45\n",
            "\u001b[34m\u001b[1mwandb\u001b[0m: \twidth_shift_range: 0.35\n",
            "\u001b[34m\u001b[1mwandb\u001b[0m: \tzoom_range: 0.7\n"
          ]
        },
        {
          "output_type": "display_data",
          "data": {
            "text/plain": [
              "<IPython.core.display.HTML object>"
            ],
            "text/html": [
              "Tracking run with wandb version 0.13.5"
            ]
          },
          "metadata": {}
        },
        {
          "output_type": "display_data",
          "data": {
            "text/plain": [
              "<IPython.core.display.HTML object>"
            ],
            "text/html": [
              "Run data is saved locally in <code>/content/wandb/run-20221105_225426-hou8i3o8</code>"
            ]
          },
          "metadata": {}
        },
        {
          "output_type": "display_data",
          "data": {
            "text/plain": [
              "<IPython.core.display.HTML object>"
            ],
            "text/html": [
              "Syncing run <strong><a href=\"https://wandb.ai/euripedes/lenet-5-augmentation/runs/hou8i3o8\" target=\"_blank\">swept-sweep-5</a></strong> to <a href=\"https://wandb.ai/euripedes/lenet-5-augmentation\" target=\"_blank\">Weights & Biases</a> (<a href=\"https://wandb.me/run\" target=\"_blank\">docs</a>)<br/>Sweep page:  <a href=\"https://wandb.ai/euripedes/lenet-5-augmentation/sweeps/6mhr7id7\" target=\"_blank\">https://wandb.ai/euripedes/lenet-5-augmentation/sweeps/6mhr7id7</a>"
            ]
          },
          "metadata": {}
        },
        {
          "output_type": "stream",
          "name": "stdout",
          "text": [
            "[INFO] compiling model...\n",
            "[INFO] training network...\n",
            "313/313 [==============================] - 1s 2ms/step\n"
          ]
        },
        {
          "output_type": "stream",
          "name": "stderr",
          "text": [
            "05-11-2022 23:05:02 Validation Evaluation metrics\n",
            "05-11-2022 23:05:02 Validation Accuracy: 0.8443\n",
            "05-11-2022 23:05:02 Validation Precision: 0.8516597358298117\n",
            "05-11-2022 23:05:02 Validation Recall: 0.8443\n",
            "05-11-2022 23:05:02 Validation F1: 0.8411807030809528\n"
          ]
        },
        {
          "output_type": "display_data",
          "data": {
            "text/plain": [
              "<IPython.core.display.HTML object>"
            ],
            "text/html": [
              "Waiting for W&B process to finish... <strong style=\"color:green\">(success).</strong>"
            ]
          },
          "metadata": {}
        },
        {
          "output_type": "display_data",
          "data": {
            "text/plain": [
              "VBox(children=(Label(value='0.001 MB of 0.001 MB uploaded (0.000 MB deduped)\\r'), FloatProgress(value=1.0, max…"
            ],
            "application/vnd.jupyter.widget-view+json": {
              "version_major": 2,
              "version_minor": 0,
              "model_id": "20e845589dc346e9b5c6eafa809b6cfb"
            }
          },
          "metadata": {}
        },
        {
          "output_type": "display_data",
          "data": {
            "text/plain": [
              "<IPython.core.display.HTML object>"
            ],
            "text/html": [
              "<style>\n",
              "    table.wandb td:nth-child(1) { padding: 0 10px; text-align: left ; width: auto;} td:nth-child(2) {text-align: left ; width: 100%}\n",
              "    .wandb-row { display: flex; flex-direction: row; flex-wrap: wrap; justify-content: flex-start; width: 100% }\n",
              "    .wandb-col { display: flex; flex-direction: column; flex-basis: 100%; flex: 1; padding: 10px; }\n",
              "    </style>\n",
              "<div class=\"wandb-row\"><div class=\"wandb-col\"><h3>Run history:</h3><br/><table class=\"wandb\"><tr><td>accuracy</td><td>▁▇▇█████████████▇▇▇█▇▇▇▇▇█▇▇▇▇</td></tr><tr><td>epoch</td><td>▁▁▁▂▂▂▂▃▃▃▃▄▄▄▄▅▅▅▅▆▆▆▆▇▇▇▇███</td></tr><tr><td>loss</td><td>█▂▂▁▁▁▁▁▁▁▁▁▁▁▁▁▁▂▂▂▁▂▂▂▂▁▂▂▂▂</td></tr><tr><td>val_accuracy</td><td>▂▇█▇▆█▅▇▇▇▇▆▇▆█▆▇▇▃▄▂▅▆▁▆█▃█▆▂</td></tr><tr><td>val_loss</td><td>▇▄▁▂▅▁▅▃▃▃▃▄▄▄▃▄▃▃▇▅█▅▄█▄▂▆▃▅█</td></tr></table><br/></div><div class=\"wandb-col\"><h3>Run summary:</h3><br/><table class=\"wandb\"><tr><td>Acc</td><td>0.8443</td></tr><tr><td>CO2_Emissions</td><td>0.0056</td></tr><tr><td>Count_Params</td><td>19582</td></tr><tr><td>Energy_CPU</td><td>0.00743</td></tr><tr><td>Energy_Consumed</td><td>0.0141</td></tr><tr><td>Energy_GPU</td><td>0.00584</td></tr><tr><td>Energy_RAM</td><td>0.00083</td></tr><tr><td>F1</td><td>0.84118</td></tr><tr><td>GFLOPs</td><td>0.00036</td></tr><tr><td>Precision</td><td>0.85166</td></tr><tr><td>Recall</td><td>0.8443</td></tr><tr><td>accuracy</td><td>0.6173</td></tr><tr><td>best_epoch</td><td>2</td></tr><tr><td>best_val_loss</td><td>0.32804</td></tr><tr><td>epoch</td><td>29</td></tr><tr><td>loss</td><td>1.17464</td></tr><tr><td>val_accuracy</td><td>0.8443</td></tr><tr><td>val_loss</td><td>0.50189</td></tr></table><br/></div></div>"
            ]
          },
          "metadata": {}
        },
        {
          "output_type": "display_data",
          "data": {
            "text/plain": [
              "<IPython.core.display.HTML object>"
            ],
            "text/html": [
              "Synced <strong style=\"color:#cdcd00\">swept-sweep-5</strong>: <a href=\"https://wandb.ai/euripedes/lenet-5-augmentation/runs/hou8i3o8\" target=\"_blank\">https://wandb.ai/euripedes/lenet-5-augmentation/runs/hou8i3o8</a><br/>Synced 5 W&B file(s), 0 media file(s), 0 artifact file(s) and 0 other file(s)"
            ]
          },
          "metadata": {}
        },
        {
          "output_type": "display_data",
          "data": {
            "text/plain": [
              "<IPython.core.display.HTML object>"
            ],
            "text/html": [
              "Find logs at: <code>./wandb/run-20221105_225426-hou8i3o8/logs</code>"
            ]
          },
          "metadata": {}
        },
        {
          "output_type": "stream",
          "name": "stderr",
          "text": [
            "\u001b[34m\u001b[1mwandb\u001b[0m: Agent Starting Run: 2g5gi2oe with config:\n",
            "\u001b[34m\u001b[1mwandb\u001b[0m: \tbatch_size: 32\n",
            "\u001b[34m\u001b[1mwandb\u001b[0m: \tconv_layer: 2\n",
            "\u001b[34m\u001b[1mwandb\u001b[0m: \tepochs: 10\n",
            "\u001b[34m\u001b[1mwandb\u001b[0m: \tfilters: 16\n",
            "\u001b[34m\u001b[1mwandb\u001b[0m: \theight_shift_range: 0.3\n",
            "\u001b[34m\u001b[1mwandb\u001b[0m: \tlearn_rate: 0.005\n",
            "\u001b[34m\u001b[1mwandb\u001b[0m: \trotation_range: 30\n",
            "\u001b[34m\u001b[1mwandb\u001b[0m: \tshear_range: 0.45\n",
            "\u001b[34m\u001b[1mwandb\u001b[0m: \twidth_shift_range: 0.15\n",
            "\u001b[34m\u001b[1mwandb\u001b[0m: \tzoom_range: 0.5\n"
          ]
        },
        {
          "output_type": "display_data",
          "data": {
            "text/plain": [
              "<IPython.core.display.HTML object>"
            ],
            "text/html": [
              "Tracking run with wandb version 0.13.5"
            ]
          },
          "metadata": {}
        },
        {
          "output_type": "display_data",
          "data": {
            "text/plain": [
              "<IPython.core.display.HTML object>"
            ],
            "text/html": [
              "Run data is saved locally in <code>/content/wandb/run-20221105_230512-2g5gi2oe</code>"
            ]
          },
          "metadata": {}
        },
        {
          "output_type": "display_data",
          "data": {
            "text/plain": [
              "<IPython.core.display.HTML object>"
            ],
            "text/html": [
              "Syncing run <strong><a href=\"https://wandb.ai/euripedes/lenet-5-augmentation/runs/2g5gi2oe\" target=\"_blank\">usual-sweep-6</a></strong> to <a href=\"https://wandb.ai/euripedes/lenet-5-augmentation\" target=\"_blank\">Weights & Biases</a> (<a href=\"https://wandb.me/run\" target=\"_blank\">docs</a>)<br/>Sweep page:  <a href=\"https://wandb.ai/euripedes/lenet-5-augmentation/sweeps/6mhr7id7\" target=\"_blank\">https://wandb.ai/euripedes/lenet-5-augmentation/sweeps/6mhr7id7</a>"
            ]
          },
          "metadata": {}
        },
        {
          "output_type": "stream",
          "name": "stdout",
          "text": [
            "[INFO] compiling model...\n",
            "[INFO] training network...\n",
            "313/313 [==============================] - 1s 2ms/step\n"
          ]
        },
        {
          "output_type": "stream",
          "name": "stderr",
          "text": [
            "05-11-2022 23:08:46 Validation Evaluation metrics\n",
            "05-11-2022 23:08:46 Validation Accuracy: 0.9304\n",
            "05-11-2022 23:08:46 Validation Precision: 0.931621664634556\n",
            "05-11-2022 23:08:46 Validation Recall: 0.9304\n",
            "05-11-2022 23:08:46 Validation F1: 0.9298828657844644\n"
          ]
        },
        {
          "output_type": "display_data",
          "data": {
            "text/plain": [
              "<IPython.core.display.HTML object>"
            ],
            "text/html": [
              "Waiting for W&B process to finish... <strong style=\"color:green\">(success).</strong>"
            ]
          },
          "metadata": {}
        },
        {
          "output_type": "display_data",
          "data": {
            "text/plain": [
              "VBox(children=(Label(value='0.001 MB of 0.001 MB uploaded (0.000 MB deduped)\\r'), FloatProgress(value=1.0, max…"
            ],
            "application/vnd.jupyter.widget-view+json": {
              "version_major": 2,
              "version_minor": 0,
              "model_id": "acf86415b07d4721956634971b9c97b2"
            }
          },
          "metadata": {}
        },
        {
          "output_type": "display_data",
          "data": {
            "text/plain": [
              "<IPython.core.display.HTML object>"
            ],
            "text/html": [
              "<style>\n",
              "    table.wandb td:nth-child(1) { padding: 0 10px; text-align: left ; width: auto;} td:nth-child(2) {text-align: left ; width: 100%}\n",
              "    .wandb-row { display: flex; flex-direction: row; flex-wrap: wrap; justify-content: flex-start; width: 100% }\n",
              "    .wandb-col { display: flex; flex-direction: column; flex-basis: 100%; flex: 1; padding: 10px; }\n",
              "    </style>\n",
              "<div class=\"wandb-row\"><div class=\"wandb-col\"><h3>Run history:</h3><br/><table class=\"wandb\"><tr><td>accuracy</td><td>▁▆▇▇▇█████</td></tr><tr><td>epoch</td><td>▁▂▃▃▄▅▆▆▇█</td></tr><tr><td>loss</td><td>█▃▂▂▂▁▁▁▁▁</td></tr><tr><td>val_accuracy</td><td>▁▃▇▇▄▇███▇</td></tr><tr><td>val_loss</td><td>█▆▂▃▄▂▁▁▂▂</td></tr></table><br/></div><div class=\"wandb-col\"><h3>Run summary:</h3><br/><table class=\"wandb\"><tr><td>Acc</td><td>0.9304</td></tr><tr><td>CO2_Emissions</td><td>0.00187</td></tr><tr><td>Count_Params</td><td>112046</td></tr><tr><td>Energy_CPU</td><td>0.00246</td></tr><tr><td>Energy_Consumed</td><td>0.00471</td></tr><tr><td>Energy_GPU</td><td>0.00197</td></tr><tr><td>Energy_RAM</td><td>0.00027</td></tr><tr><td>F1</td><td>0.92988</td></tr><tr><td>GFLOPs</td><td>0.00169</td></tr><tr><td>Precision</td><td>0.93162</td></tr><tr><td>Recall</td><td>0.9304</td></tr><tr><td>accuracy</td><td>0.78242</td></tr><tr><td>best_epoch</td><td>7</td></tr><tr><td>best_val_loss</td><td>0.204</td></tr><tr><td>epoch</td><td>9</td></tr><tr><td>loss</td><td>0.69188</td></tr><tr><td>val_accuracy</td><td>0.9304</td></tr><tr><td>val_loss</td><td>0.22561</td></tr></table><br/></div></div>"
            ]
          },
          "metadata": {}
        },
        {
          "output_type": "display_data",
          "data": {
            "text/plain": [
              "<IPython.core.display.HTML object>"
            ],
            "text/html": [
              "Synced <strong style=\"color:#cdcd00\">usual-sweep-6</strong>: <a href=\"https://wandb.ai/euripedes/lenet-5-augmentation/runs/2g5gi2oe\" target=\"_blank\">https://wandb.ai/euripedes/lenet-5-augmentation/runs/2g5gi2oe</a><br/>Synced 5 W&B file(s), 0 media file(s), 0 artifact file(s) and 0 other file(s)"
            ]
          },
          "metadata": {}
        },
        {
          "output_type": "display_data",
          "data": {
            "text/plain": [
              "<IPython.core.display.HTML object>"
            ],
            "text/html": [
              "Find logs at: <code>./wandb/run-20221105_230512-2g5gi2oe/logs</code>"
            ]
          },
          "metadata": {}
        },
        {
          "output_type": "stream",
          "name": "stderr",
          "text": [
            "\u001b[34m\u001b[1mwandb\u001b[0m: Agent Starting Run: 0xjwhzpp with config:\n",
            "\u001b[34m\u001b[1mwandb\u001b[0m: \tbatch_size: 64\n",
            "\u001b[34m\u001b[1mwandb\u001b[0m: \tconv_layer: 1\n",
            "\u001b[34m\u001b[1mwandb\u001b[0m: \tepochs: 20\n",
            "\u001b[34m\u001b[1mwandb\u001b[0m: \tfilters: 6\n",
            "\u001b[34m\u001b[1mwandb\u001b[0m: \theight_shift_range: 0.2\n",
            "\u001b[34m\u001b[1mwandb\u001b[0m: \tlearn_rate: 0.005\n",
            "\u001b[34m\u001b[1mwandb\u001b[0m: \trotation_range: 30\n",
            "\u001b[34m\u001b[1mwandb\u001b[0m: \tshear_range: 0.3\n",
            "\u001b[34m\u001b[1mwandb\u001b[0m: \twidth_shift_range: 0.25\n",
            "\u001b[34m\u001b[1mwandb\u001b[0m: \tzoom_range: 0.2\n"
          ]
        },
        {
          "output_type": "display_data",
          "data": {
            "text/plain": [
              "<IPython.core.display.HTML object>"
            ],
            "text/html": [
              "Tracking run with wandb version 0.13.5"
            ]
          },
          "metadata": {}
        },
        {
          "output_type": "display_data",
          "data": {
            "text/plain": [
              "<IPython.core.display.HTML object>"
            ],
            "text/html": [
              "Run data is saved locally in <code>/content/wandb/run-20221105_230900-0xjwhzpp</code>"
            ]
          },
          "metadata": {}
        },
        {
          "output_type": "display_data",
          "data": {
            "text/plain": [
              "<IPython.core.display.HTML object>"
            ],
            "text/html": [
              "Syncing run <strong><a href=\"https://wandb.ai/euripedes/lenet-5-augmentation/runs/0xjwhzpp\" target=\"_blank\">fresh-sweep-7</a></strong> to <a href=\"https://wandb.ai/euripedes/lenet-5-augmentation\" target=\"_blank\">Weights & Biases</a> (<a href=\"https://wandb.me/run\" target=\"_blank\">docs</a>)<br/>Sweep page:  <a href=\"https://wandb.ai/euripedes/lenet-5-augmentation/sweeps/6mhr7id7\" target=\"_blank\">https://wandb.ai/euripedes/lenet-5-augmentation/sweeps/6mhr7id7</a>"
            ]
          },
          "metadata": {}
        },
        {
          "output_type": "stream",
          "name": "stdout",
          "text": [
            "[INFO] compiling model...\n",
            "[INFO] training network...\n",
            "157/157 [==============================] - 0s 2ms/step\n"
          ]
        },
        {
          "output_type": "stream",
          "name": "stderr",
          "text": [
            "05-11-2022 23:14:48 Validation Evaluation metrics\n",
            "05-11-2022 23:14:49 Validation Accuracy: 0.9397\n",
            "05-11-2022 23:14:49 Validation Precision: 0.9401469525470604\n",
            "05-11-2022 23:14:49 Validation Recall: 0.9397\n",
            "05-11-2022 23:14:49 Validation F1: 0.9397863295447956\n"
          ]
        },
        {
          "output_type": "display_data",
          "data": {
            "text/plain": [
              "<IPython.core.display.HTML object>"
            ],
            "text/html": [
              "Waiting for W&B process to finish... <strong style=\"color:green\">(success).</strong>"
            ]
          },
          "metadata": {}
        },
        {
          "output_type": "display_data",
          "data": {
            "text/plain": [
              "VBox(children=(Label(value='0.001 MB of 0.001 MB uploaded (0.000 MB deduped)\\r'), FloatProgress(value=1.0, max…"
            ],
            "application/vnd.jupyter.widget-view+json": {
              "version_major": 2,
              "version_minor": 0,
              "model_id": "c6a1a4d4e3194f82a95acc0d2a7d0b47"
            }
          },
          "metadata": {}
        },
        {
          "output_type": "display_data",
          "data": {
            "text/plain": [
              "<IPython.core.display.HTML object>"
            ],
            "text/html": [
              "<style>\n",
              "    table.wandb td:nth-child(1) { padding: 0 10px; text-align: left ; width: auto;} td:nth-child(2) {text-align: left ; width: 100%}\n",
              "    .wandb-row { display: flex; flex-direction: row; flex-wrap: wrap; justify-content: flex-start; width: 100% }\n",
              "    .wandb-col { display: flex; flex-direction: column; flex-basis: 100%; flex: 1; padding: 10px; }\n",
              "    </style>\n",
              "<div class=\"wandb-row\"><div class=\"wandb-col\"><h3>Run history:</h3><br/><table class=\"wandb\"><tr><td>accuracy</td><td>▁▆▇▇▇███████████████</td></tr><tr><td>epoch</td><td>▁▁▂▂▂▃▃▄▄▄▅▅▅▆▆▇▇▇██</td></tr><tr><td>loss</td><td>█▃▂▂▂▁▁▁▁▁▁▁▁▁▁▁▁▁▁▁</td></tr><tr><td>val_accuracy</td><td>▁▅▆▄▆▅▆▇██▇▇▇▇▇▇▇█▇█</td></tr><tr><td>val_loss</td><td>█▄▃▅▃▄▃▂▁▁▂▂▁▂▂▁▂▁▁▁</td></tr></table><br/></div><div class=\"wandb-col\"><h3>Run summary:</h3><br/><table class=\"wandb\"><tr><td>Acc</td><td>0.9397</td></tr><tr><td>CO2_Emissions</td><td>0.00304</td></tr><tr><td>Count_Params</td><td>152410</td></tr><tr><td>Energy_CPU</td><td>0.00405</td></tr><tr><td>Energy_Consumed</td><td>0.00767</td></tr><tr><td>Energy_GPU</td><td>0.00317</td></tr><tr><td>Energy_RAM</td><td>0.00045</td></tr><tr><td>F1</td><td>0.93979</td></tr><tr><td>GFLOPs</td><td>0.00027</td></tr><tr><td>Precision</td><td>0.94015</td></tr><tr><td>Recall</td><td>0.9397</td></tr><tr><td>accuracy</td><td>0.85635</td></tr><tr><td>best_epoch</td><td>19</td></tr><tr><td>best_val_loss</td><td>0.19886</td></tr><tr><td>epoch</td><td>19</td></tr><tr><td>loss</td><td>0.4592</td></tr><tr><td>val_accuracy</td><td>0.9397</td></tr><tr><td>val_loss</td><td>0.19886</td></tr></table><br/></div></div>"
            ]
          },
          "metadata": {}
        },
        {
          "output_type": "display_data",
          "data": {
            "text/plain": [
              "<IPython.core.display.HTML object>"
            ],
            "text/html": [
              "Synced <strong style=\"color:#cdcd00\">fresh-sweep-7</strong>: <a href=\"https://wandb.ai/euripedes/lenet-5-augmentation/runs/0xjwhzpp\" target=\"_blank\">https://wandb.ai/euripedes/lenet-5-augmentation/runs/0xjwhzpp</a><br/>Synced 5 W&B file(s), 0 media file(s), 0 artifact file(s) and 0 other file(s)"
            ]
          },
          "metadata": {}
        },
        {
          "output_type": "display_data",
          "data": {
            "text/plain": [
              "<IPython.core.display.HTML object>"
            ],
            "text/html": [
              "Find logs at: <code>./wandb/run-20221105_230900-0xjwhzpp/logs</code>"
            ]
          },
          "metadata": {}
        },
        {
          "output_type": "stream",
          "name": "stderr",
          "text": [
            "\u001b[34m\u001b[1mwandb\u001b[0m: Agent Starting Run: jbzlfwws with config:\n",
            "\u001b[34m\u001b[1mwandb\u001b[0m: \tbatch_size: 64\n",
            "\u001b[34m\u001b[1mwandb\u001b[0m: \tconv_layer: 3\n",
            "\u001b[34m\u001b[1mwandb\u001b[0m: \tepochs: 20\n",
            "\u001b[34m\u001b[1mwandb\u001b[0m: \tfilters: 12\n",
            "\u001b[34m\u001b[1mwandb\u001b[0m: \theight_shift_range: 0.1\n",
            "\u001b[34m\u001b[1mwandb\u001b[0m: \tlearn_rate: 0.01\n",
            "\u001b[34m\u001b[1mwandb\u001b[0m: \trotation_range: 30\n",
            "\u001b[34m\u001b[1mwandb\u001b[0m: \tshear_range: 0.3\n",
            "\u001b[34m\u001b[1mwandb\u001b[0m: \twidth_shift_range: 0.35\n",
            "\u001b[34m\u001b[1mwandb\u001b[0m: \tzoom_range: 0.2\n"
          ]
        },
        {
          "output_type": "display_data",
          "data": {
            "text/plain": [
              "<IPython.core.display.HTML object>"
            ],
            "text/html": [
              "Tracking run with wandb version 0.13.5"
            ]
          },
          "metadata": {}
        },
        {
          "output_type": "display_data",
          "data": {
            "text/plain": [
              "<IPython.core.display.HTML object>"
            ],
            "text/html": [
              "Run data is saved locally in <code>/content/wandb/run-20221105_231459-jbzlfwws</code>"
            ]
          },
          "metadata": {}
        },
        {
          "output_type": "display_data",
          "data": {
            "text/plain": [
              "<IPython.core.display.HTML object>"
            ],
            "text/html": [
              "Syncing run <strong><a href=\"https://wandb.ai/euripedes/lenet-5-augmentation/runs/jbzlfwws\" target=\"_blank\">skilled-sweep-8</a></strong> to <a href=\"https://wandb.ai/euripedes/lenet-5-augmentation\" target=\"_blank\">Weights & Biases</a> (<a href=\"https://wandb.me/run\" target=\"_blank\">docs</a>)<br/>Sweep page:  <a href=\"https://wandb.ai/euripedes/lenet-5-augmentation/sweeps/6mhr7id7\" target=\"_blank\">https://wandb.ai/euripedes/lenet-5-augmentation/sweeps/6mhr7id7</a>"
            ]
          },
          "metadata": {}
        },
        {
          "output_type": "stream",
          "name": "stdout",
          "text": [
            "[INFO] compiling model...\n",
            "[INFO] training network...\n",
            "157/157 [==============================] - 0s 2ms/step\n"
          ]
        },
        {
          "output_type": "stream",
          "name": "stderr",
          "text": [
            "05-11-2022 23:21:06 Validation Evaluation metrics\n",
            "05-11-2022 23:21:06 Validation Accuracy: 0.9476\n",
            "05-11-2022 23:21:06 Validation Precision: 0.9481049342024835\n",
            "05-11-2022 23:21:06 Validation Recall: 0.9476\n",
            "05-11-2022 23:21:06 Validation F1: 0.9476311545917353\n"
          ]
        },
        {
          "output_type": "display_data",
          "data": {
            "text/plain": [
              "<IPython.core.display.HTML object>"
            ],
            "text/html": [
              "Waiting for W&B process to finish... <strong style=\"color:green\">(success).</strong>"
            ]
          },
          "metadata": {}
        },
        {
          "output_type": "display_data",
          "data": {
            "text/plain": [
              "VBox(children=(Label(value='0.001 MB of 0.001 MB uploaded (0.000 MB deduped)\\r'), FloatProgress(value=1.0, max…"
            ],
            "application/vnd.jupyter.widget-view+json": {
              "version_major": 2,
              "version_minor": 0,
              "model_id": "650b016d09ff4ea6bf52f7b3267a20d8"
            }
          },
          "metadata": {}
        },
        {
          "output_type": "display_data",
          "data": {
            "text/plain": [
              "<IPython.core.display.HTML object>"
            ],
            "text/html": [
              "<style>\n",
              "    table.wandb td:nth-child(1) { padding: 0 10px; text-align: left ; width: auto;} td:nth-child(2) {text-align: left ; width: 100%}\n",
              "    .wandb-row { display: flex; flex-direction: row; flex-wrap: wrap; justify-content: flex-start; width: 100% }\n",
              "    .wandb-col { display: flex; flex-direction: column; flex-basis: 100%; flex: 1; padding: 10px; }\n",
              "    </style>\n",
              "<div class=\"wandb-row\"><div class=\"wandb-col\"><h3>Run history:</h3><br/><table class=\"wandb\"><tr><td>accuracy</td><td>▁▇██████████▇██████▇</td></tr><tr><td>epoch</td><td>▁▁▂▂▂▃▃▄▄▄▅▅▅▆▆▇▇▇██</td></tr><tr><td>loss</td><td>█▂▁▁▁▁▁▁▁▁▁▁▂▁▁▁▁▁▂▂</td></tr><tr><td>val_accuracy</td><td>▄▃▃▅▇▄▇▅▄▅█▆▄▅▅▄▄▂▁▄</td></tr><tr><td>val_loss</td><td>▅▅▆▄▃▄▄▄▄▄▁▄▆▄▅▆▅▇█▆</td></tr></table><br/></div><div class=\"wandb-col\"><h3>Run summary:</h3><br/><table class=\"wandb\"><tr><td>Acc</td><td>0.9476</td></tr><tr><td>CO2_Emissions</td><td>0.00323</td></tr><tr><td>Count_Params</td><td>31630</td></tr><tr><td>Energy_CPU</td><td>0.00425</td></tr><tr><td>Energy_Consumed</td><td>0.00814</td></tr><tr><td>Energy_GPU</td><td>0.00341</td></tr><tr><td>Energy_RAM</td><td>0.00048</td></tr><tr><td>F1</td><td>0.94763</td></tr><tr><td>GFLOPs</td><td>0.00115</td></tr><tr><td>Precision</td><td>0.9481</td></tr><tr><td>Recall</td><td>0.9476</td></tr><tr><td>accuracy</td><td>0.83987</td></tr><tr><td>best_epoch</td><td>10</td></tr><tr><td>best_val_loss</td><td>0.13243</td></tr><tr><td>epoch</td><td>19</td></tr><tr><td>loss</td><td>0.51013</td></tr><tr><td>val_accuracy</td><td>0.9476</td></tr><tr><td>val_loss</td><td>0.18693</td></tr></table><br/></div></div>"
            ]
          },
          "metadata": {}
        },
        {
          "output_type": "display_data",
          "data": {
            "text/plain": [
              "<IPython.core.display.HTML object>"
            ],
            "text/html": [
              "Synced <strong style=\"color:#cdcd00\">skilled-sweep-8</strong>: <a href=\"https://wandb.ai/euripedes/lenet-5-augmentation/runs/jbzlfwws\" target=\"_blank\">https://wandb.ai/euripedes/lenet-5-augmentation/runs/jbzlfwws</a><br/>Synced 5 W&B file(s), 0 media file(s), 0 artifact file(s) and 0 other file(s)"
            ]
          },
          "metadata": {}
        },
        {
          "output_type": "display_data",
          "data": {
            "text/plain": [
              "<IPython.core.display.HTML object>"
            ],
            "text/html": [
              "Find logs at: <code>./wandb/run-20221105_231459-jbzlfwws/logs</code>"
            ]
          },
          "metadata": {}
        },
        {
          "output_type": "stream",
          "name": "stderr",
          "text": [
            "\u001b[34m\u001b[1mwandb\u001b[0m: Agent Starting Run: agm8g9nw with config:\n",
            "\u001b[34m\u001b[1mwandb\u001b[0m: \tbatch_size: 32\n",
            "\u001b[34m\u001b[1mwandb\u001b[0m: \tconv_layer: 2\n",
            "\u001b[34m\u001b[1mwandb\u001b[0m: \tepochs: 30\n",
            "\u001b[34m\u001b[1mwandb\u001b[0m: \tfilters: 16\n",
            "\u001b[34m\u001b[1mwandb\u001b[0m: \theight_shift_range: 0.3\n",
            "\u001b[34m\u001b[1mwandb\u001b[0m: \tlearn_rate: 0.005\n",
            "\u001b[34m\u001b[1mwandb\u001b[0m: \trotation_range: 30\n",
            "\u001b[34m\u001b[1mwandb\u001b[0m: \tshear_range: 0.2\n",
            "\u001b[34m\u001b[1mwandb\u001b[0m: \twidth_shift_range: 0.15\n",
            "\u001b[34m\u001b[1mwandb\u001b[0m: \tzoom_range: 0.7\n"
          ]
        },
        {
          "output_type": "display_data",
          "data": {
            "text/plain": [
              "<IPython.core.display.HTML object>"
            ],
            "text/html": [
              "Tracking run with wandb version 0.13.5"
            ]
          },
          "metadata": {}
        },
        {
          "output_type": "display_data",
          "data": {
            "text/plain": [
              "<IPython.core.display.HTML object>"
            ],
            "text/html": [
              "Run data is saved locally in <code>/content/wandb/run-20221105_232119-agm8g9nw</code>"
            ]
          },
          "metadata": {}
        },
        {
          "output_type": "display_data",
          "data": {
            "text/plain": [
              "<IPython.core.display.HTML object>"
            ],
            "text/html": [
              "Syncing run <strong><a href=\"https://wandb.ai/euripedes/lenet-5-augmentation/runs/agm8g9nw\" target=\"_blank\">absurd-sweep-9</a></strong> to <a href=\"https://wandb.ai/euripedes/lenet-5-augmentation\" target=\"_blank\">Weights & Biases</a> (<a href=\"https://wandb.me/run\" target=\"_blank\">docs</a>)<br/>Sweep page:  <a href=\"https://wandb.ai/euripedes/lenet-5-augmentation/sweeps/6mhr7id7\" target=\"_blank\">https://wandb.ai/euripedes/lenet-5-augmentation/sweeps/6mhr7id7</a>"
            ]
          },
          "metadata": {}
        },
        {
          "output_type": "stream",
          "name": "stdout",
          "text": [
            "[INFO] compiling model...\n",
            "[INFO] training network...\n",
            "313/313 [==============================] - 1s 2ms/step\n"
          ]
        },
        {
          "output_type": "stream",
          "name": "stderr",
          "text": [
            "05-11-2022 23:32:33 Validation Evaluation metrics\n",
            "05-11-2022 23:32:33 Validation Accuracy: 0.9294\n",
            "05-11-2022 23:32:33 Validation Precision: 0.9319225383288146\n",
            "05-11-2022 23:32:33 Validation Recall: 0.9294\n",
            "05-11-2022 23:32:33 Validation F1: 0.9294666674464832\n"
          ]
        },
        {
          "output_type": "display_data",
          "data": {
            "text/plain": [
              "<IPython.core.display.HTML object>"
            ],
            "text/html": [
              "Waiting for W&B process to finish... <strong style=\"color:green\">(success).</strong>"
            ]
          },
          "metadata": {}
        },
        {
          "output_type": "display_data",
          "data": {
            "text/plain": [
              "VBox(children=(Label(value='0.001 MB of 0.001 MB uploaded (0.000 MB deduped)\\r'), FloatProgress(value=1.0, max…"
            ],
            "application/vnd.jupyter.widget-view+json": {
              "version_major": 2,
              "version_minor": 0,
              "model_id": "a8a67eb77e4b4de995769b1851a92480"
            }
          },
          "metadata": {}
        },
        {
          "output_type": "display_data",
          "data": {
            "text/plain": [
              "<IPython.core.display.HTML object>"
            ],
            "text/html": [
              "<style>\n",
              "    table.wandb td:nth-child(1) { padding: 0 10px; text-align: left ; width: auto;} td:nth-child(2) {text-align: left ; width: 100%}\n",
              "    .wandb-row { display: flex; flex-direction: row; flex-wrap: wrap; justify-content: flex-start; width: 100% }\n",
              "    .wandb-col { display: flex; flex-direction: column; flex-basis: 100%; flex: 1; padding: 10px; }\n",
              "    </style>\n",
              "<div class=\"wandb-row\"><div class=\"wandb-col\"><h3>Run history:</h3><br/><table class=\"wandb\"><tr><td>accuracy</td><td>▁▅▆▇▇▇▇███████████████████████</td></tr><tr><td>epoch</td><td>▁▁▁▂▂▂▂▃▃▃▃▄▄▄▄▅▅▅▅▆▆▆▆▇▇▇▇███</td></tr><tr><td>loss</td><td>█▄▃▂▂▂▂▁▁▁▁▁▁▁▁▁▁▁▁▁▁▁▁▁▁▁▁▁▁▁</td></tr><tr><td>val_accuracy</td><td>▁▃▅▆▇▆▇▇▇█▇█▇▇█▇██▇▇▇▇▇█▇▇▇▇█▇</td></tr><tr><td>val_loss</td><td>█▆▄▃▂▃▂▂▂▁▂▁▂▂▂▂▁▁▂▂▂▂▂▁▂▁▂▂▁▂</td></tr></table><br/></div><div class=\"wandb-col\"><h3>Run summary:</h3><br/><table class=\"wandb\"><tr><td>Acc</td><td>0.9294</td></tr><tr><td>CO2_Emissions</td><td>0.00599</td></tr><tr><td>Count_Params</td><td>112046</td></tr><tr><td>Energy_CPU</td><td>0.00787</td></tr><tr><td>Energy_Consumed</td><td>0.01509</td></tr><tr><td>Energy_GPU</td><td>0.00634</td></tr><tr><td>Energy_RAM</td><td>0.00088</td></tr><tr><td>F1</td><td>0.92947</td></tr><tr><td>GFLOPs</td><td>0.00169</td></tr><tr><td>Precision</td><td>0.93192</td></tr><tr><td>Recall</td><td>0.9294</td></tr><tr><td>accuracy</td><td>0.69457</td></tr><tr><td>best_epoch</td><td>16</td></tr><tr><td>best_val_loss</td><td>0.19229</td></tr><tr><td>epoch</td><td>29</td></tr><tr><td>loss</td><td>0.94743</td></tr><tr><td>val_accuracy</td><td>0.9294</td></tr><tr><td>val_loss</td><td>0.23717</td></tr></table><br/></div></div>"
            ]
          },
          "metadata": {}
        },
        {
          "output_type": "display_data",
          "data": {
            "text/plain": [
              "<IPython.core.display.HTML object>"
            ],
            "text/html": [
              "Synced <strong style=\"color:#cdcd00\">absurd-sweep-9</strong>: <a href=\"https://wandb.ai/euripedes/lenet-5-augmentation/runs/agm8g9nw\" target=\"_blank\">https://wandb.ai/euripedes/lenet-5-augmentation/runs/agm8g9nw</a><br/>Synced 5 W&B file(s), 0 media file(s), 0 artifact file(s) and 0 other file(s)"
            ]
          },
          "metadata": {}
        },
        {
          "output_type": "display_data",
          "data": {
            "text/plain": [
              "<IPython.core.display.HTML object>"
            ],
            "text/html": [
              "Find logs at: <code>./wandb/run-20221105_232119-agm8g9nw/logs</code>"
            ]
          },
          "metadata": {}
        },
        {
          "output_type": "stream",
          "name": "stderr",
          "text": [
            "\u001b[34m\u001b[1mwandb\u001b[0m: Agent Starting Run: xewege4w with config:\n",
            "\u001b[34m\u001b[1mwandb\u001b[0m: \tbatch_size: 64\n",
            "\u001b[34m\u001b[1mwandb\u001b[0m: \tconv_layer: 1\n",
            "\u001b[34m\u001b[1mwandb\u001b[0m: \tepochs: 20\n",
            "\u001b[34m\u001b[1mwandb\u001b[0m: \tfilters: 16\n",
            "\u001b[34m\u001b[1mwandb\u001b[0m: \theight_shift_range: 0.3\n",
            "\u001b[34m\u001b[1mwandb\u001b[0m: \tlearn_rate: 0.001\n",
            "\u001b[34m\u001b[1mwandb\u001b[0m: \trotation_range: 40\n",
            "\u001b[34m\u001b[1mwandb\u001b[0m: \tshear_range: 0.45\n",
            "\u001b[34m\u001b[1mwandb\u001b[0m: \twidth_shift_range: 0.15\n",
            "\u001b[34m\u001b[1mwandb\u001b[0m: \tzoom_range: 0.5\n"
          ]
        },
        {
          "output_type": "display_data",
          "data": {
            "text/plain": [
              "<IPython.core.display.HTML object>"
            ],
            "text/html": [
              "Tracking run with wandb version 0.13.5"
            ]
          },
          "metadata": {}
        },
        {
          "output_type": "display_data",
          "data": {
            "text/plain": [
              "<IPython.core.display.HTML object>"
            ],
            "text/html": [
              "Run data is saved locally in <code>/content/wandb/run-20221105_233247-xewege4w</code>"
            ]
          },
          "metadata": {}
        },
        {
          "output_type": "display_data",
          "data": {
            "text/plain": [
              "<IPython.core.display.HTML object>"
            ],
            "text/html": [
              "Syncing run <strong><a href=\"https://wandb.ai/euripedes/lenet-5-augmentation/runs/xewege4w\" target=\"_blank\">copper-sweep-10</a></strong> to <a href=\"https://wandb.ai/euripedes/lenet-5-augmentation\" target=\"_blank\">Weights & Biases</a> (<a href=\"https://wandb.me/run\" target=\"_blank\">docs</a>)<br/>Sweep page:  <a href=\"https://wandb.ai/euripedes/lenet-5-augmentation/sweeps/6mhr7id7\" target=\"_blank\">https://wandb.ai/euripedes/lenet-5-augmentation/sweeps/6mhr7id7</a>"
            ]
          },
          "metadata": {}
        },
        {
          "output_type": "stream",
          "name": "stdout",
          "text": [
            "[INFO] compiling model...\n",
            "[INFO] training network...\n",
            "157/157 [==============================] - 0s 2ms/step\n"
          ]
        },
        {
          "output_type": "stream",
          "name": "stderr",
          "text": [
            "05-11-2022 23:38:37 Validation Evaluation metrics\n",
            "05-11-2022 23:38:37 Validation Accuracy: 0.9435\n",
            "05-11-2022 23:38:37 Validation Precision: 0.9449829898244072\n",
            "05-11-2022 23:38:37 Validation Recall: 0.9435\n",
            "05-11-2022 23:38:37 Validation F1: 0.9433975664327089\n"
          ]
        },
        {
          "output_type": "display_data",
          "data": {
            "text/plain": [
              "<IPython.core.display.HTML object>"
            ],
            "text/html": [
              "Waiting for W&B process to finish... <strong style=\"color:green\">(success).</strong>"
            ]
          },
          "metadata": {}
        },
        {
          "output_type": "display_data",
          "data": {
            "text/plain": [
              "VBox(children=(Label(value='0.001 MB of 0.001 MB uploaded (0.000 MB deduped)\\r'), FloatProgress(value=1.0, max…"
            ],
            "application/vnd.jupyter.widget-view+json": {
              "version_major": 2,
              "version_minor": 0,
              "model_id": "a787ea4667164134957169049cd125ee"
            }
          },
          "metadata": {}
        },
        {
          "output_type": "display_data",
          "data": {
            "text/plain": [
              "<IPython.core.display.HTML object>"
            ],
            "text/html": [
              "<style>\n",
              "    table.wandb td:nth-child(1) { padding: 0 10px; text-align: left ; width: auto;} td:nth-child(2) {text-align: left ; width: 100%}\n",
              "    .wandb-row { display: flex; flex-direction: row; flex-wrap: wrap; justify-content: flex-start; width: 100% }\n",
              "    .wandb-col { display: flex; flex-direction: column; flex-basis: 100%; flex: 1; padding: 10px; }\n",
              "    </style>\n",
              "<div class=\"wandb-row\"><div class=\"wandb-col\"><h3>Run history:</h3><br/><table class=\"wandb\"><tr><td>accuracy</td><td>▁▅▆▆▇▇▇▇▇▇██████████</td></tr><tr><td>epoch</td><td>▁▁▂▂▂▃▃▄▄▄▅▅▅▆▆▇▇▇██</td></tr><tr><td>loss</td><td>█▅▃▃▂▂▂▂▂▂▁▁▁▁▁▁▁▁▁▁</td></tr><tr><td>val_accuracy</td><td>▁▅▆▆▇▇▇▇▇█▇███████▇█</td></tr><tr><td>val_loss</td><td>█▄▃▂▂▂▂▂▁▁▂▁▁▁▁▁▁▁▁▁</td></tr></table><br/></div><div class=\"wandb-col\"><h3>Run summary:</h3><br/><table class=\"wandb\"><tr><td>Acc</td><td>0.9435</td></tr><tr><td>CO2_Emissions</td><td>0.00309</td></tr><tr><td>Count_Params</td><td>387870</td></tr><tr><td>Energy_CPU</td><td>0.00407</td></tr><tr><td>Energy_Consumed</td><td>0.00779</td></tr><tr><td>Energy_GPU</td><td>0.00327</td></tr><tr><td>Energy_RAM</td><td>0.00046</td></tr><tr><td>F1</td><td>0.9434</td></tr><tr><td>GFLOPs</td><td>0.00071</td></tr><tr><td>Precision</td><td>0.94498</td></tr><tr><td>Recall</td><td>0.9435</td></tr><tr><td>accuracy</td><td>0.84993</td></tr><tr><td>best_epoch</td><td>15</td></tr><tr><td>best_val_loss</td><td>0.15339</td></tr><tr><td>epoch</td><td>19</td></tr><tr><td>loss</td><td>0.47489</td></tr><tr><td>val_accuracy</td><td>0.9435</td></tr><tr><td>val_loss</td><td>0.18014</td></tr></table><br/></div></div>"
            ]
          },
          "metadata": {}
        },
        {
          "output_type": "display_data",
          "data": {
            "text/plain": [
              "<IPython.core.display.HTML object>"
            ],
            "text/html": [
              "Synced <strong style=\"color:#cdcd00\">copper-sweep-10</strong>: <a href=\"https://wandb.ai/euripedes/lenet-5-augmentation/runs/xewege4w\" target=\"_blank\">https://wandb.ai/euripedes/lenet-5-augmentation/runs/xewege4w</a><br/>Synced 5 W&B file(s), 0 media file(s), 0 artifact file(s) and 0 other file(s)"
            ]
          },
          "metadata": {}
        },
        {
          "output_type": "display_data",
          "data": {
            "text/plain": [
              "<IPython.core.display.HTML object>"
            ],
            "text/html": [
              "Find logs at: <code>./wandb/run-20221105_233247-xewege4w/logs</code>"
            ]
          },
          "metadata": {}
        },
        {
          "output_type": "stream",
          "name": "stderr",
          "text": [
            "\u001b[34m\u001b[1mwandb\u001b[0m: Agent Starting Run: znedrpy5 with config:\n",
            "\u001b[34m\u001b[1mwandb\u001b[0m: \tbatch_size: 32\n",
            "\u001b[34m\u001b[1mwandb\u001b[0m: \tconv_layer: 1\n",
            "\u001b[34m\u001b[1mwandb\u001b[0m: \tepochs: 30\n",
            "\u001b[34m\u001b[1mwandb\u001b[0m: \tfilters: 4\n",
            "\u001b[34m\u001b[1mwandb\u001b[0m: \theight_shift_range: 0.1\n",
            "\u001b[34m\u001b[1mwandb\u001b[0m: \tlearn_rate: 0.005\n",
            "\u001b[34m\u001b[1mwandb\u001b[0m: \trotation_range: 40\n",
            "\u001b[34m\u001b[1mwandb\u001b[0m: \tshear_range: 0.2\n",
            "\u001b[34m\u001b[1mwandb\u001b[0m: \twidth_shift_range: 0.25\n",
            "\u001b[34m\u001b[1mwandb\u001b[0m: \tzoom_range: 0.5\n"
          ]
        },
        {
          "output_type": "display_data",
          "data": {
            "text/plain": [
              "<IPython.core.display.HTML object>"
            ],
            "text/html": [
              "Tracking run with wandb version 0.13.5"
            ]
          },
          "metadata": {}
        },
        {
          "output_type": "display_data",
          "data": {
            "text/plain": [
              "<IPython.core.display.HTML object>"
            ],
            "text/html": [
              "Run data is saved locally in <code>/content/wandb/run-20221105_233851-znedrpy5</code>"
            ]
          },
          "metadata": {}
        },
        {
          "output_type": "display_data",
          "data": {
            "text/plain": [
              "<IPython.core.display.HTML object>"
            ],
            "text/html": [
              "Syncing run <strong><a href=\"https://wandb.ai/euripedes/lenet-5-augmentation/runs/znedrpy5\" target=\"_blank\">cool-sweep-11</a></strong> to <a href=\"https://wandb.ai/euripedes/lenet-5-augmentation\" target=\"_blank\">Weights & Biases</a> (<a href=\"https://wandb.me/run\" target=\"_blank\">docs</a>)<br/>Sweep page:  <a href=\"https://wandb.ai/euripedes/lenet-5-augmentation/sweeps/6mhr7id7\" target=\"_blank\">https://wandb.ai/euripedes/lenet-5-augmentation/sweeps/6mhr7id7</a>"
            ]
          },
          "metadata": {}
        },
        {
          "output_type": "stream",
          "name": "stdout",
          "text": [
            "[INFO] compiling model...\n",
            "[INFO] training network...\n",
            "313/313 [==============================] - 1s 2ms/step\n"
          ]
        },
        {
          "output_type": "stream",
          "name": "stderr",
          "text": [
            "05-11-2022 23:49:00 Validation Evaluation metrics\n",
            "05-11-2022 23:49:00 Validation Accuracy: 0.9079\n",
            "05-11-2022 23:49:00 Validation Precision: 0.9086264932173761\n",
            "05-11-2022 23:49:00 Validation Recall: 0.9079\n",
            "05-11-2022 23:49:00 Validation F1: 0.9076149604726337\n"
          ]
        },
        {
          "output_type": "display_data",
          "data": {
            "text/plain": [
              "<IPython.core.display.HTML object>"
            ],
            "text/html": [
              "Waiting for W&B process to finish... <strong style=\"color:green\">(success).</strong>"
            ]
          },
          "metadata": {}
        },
        {
          "output_type": "display_data",
          "data": {
            "text/plain": [
              "<IPython.core.display.HTML object>"
            ],
            "text/html": [
              "<style>\n",
              "    table.wandb td:nth-child(1) { padding: 0 10px; text-align: left ; width: auto;} td:nth-child(2) {text-align: left ; width: 100%}\n",
              "    .wandb-row { display: flex; flex-direction: row; flex-wrap: wrap; justify-content: flex-start; width: 100% }\n",
              "    .wandb-col { display: flex; flex-direction: column; flex-basis: 100%; flex: 1; padding: 10px; }\n",
              "    </style>\n",
              "<div class=\"wandb-row\"><div class=\"wandb-col\"><h3>Run history:</h3><br/><table class=\"wandb\"><tr><td>accuracy</td><td>▁▆▆▇▇▇▇▇▇▇▇▇▇█████████████████</td></tr><tr><td>epoch</td><td>▁▁▁▂▂▂▂▃▃▃▃▄▄▄▄▅▅▅▅▆▆▆▆▇▇▇▇███</td></tr><tr><td>loss</td><td>█▃▃▃▂▂▂▂▂▂▂▂▂▁▁▁▁▁▁▁▁▁▁▁▁▁▁▁▁▁</td></tr><tr><td>val_accuracy</td><td>▁▄▅▆▄▆▆▇▇▇▇█▇▇▇▇▇▇█▇█▇█▇▆█▇▇██</td></tr><tr><td>val_loss</td><td>█▅▄▃▅▄▃▃▂▂▂▁▁▁▂▂▂▂▁▂▁▂▁▂▃▁▂▂▁▂</td></tr></table><br/></div><div class=\"wandb-col\"><h3>Run summary:</h3><br/><table class=\"wandb\"><tr><td>Acc</td><td>0.9079</td></tr><tr><td>CO2_Emissions</td><td>0.00536</td></tr><tr><td>Count_Params</td><td>105318</td></tr><tr><td>Energy_CPU</td><td>0.00713</td></tr><tr><td>Energy_Consumed</td><td>0.0135</td></tr><tr><td>Energy_GPU</td><td>0.00558</td></tr><tr><td>Energy_RAM</td><td>0.0008</td></tr><tr><td>F1</td><td>0.90761</td></tr><tr><td>GFLOPs</td><td>0.00019</td></tr><tr><td>Precision</td><td>0.90863</td></tr><tr><td>Recall</td><td>0.9079</td></tr><tr><td>accuracy</td><td>0.74728</td></tr><tr><td>best_epoch</td><td>28</td></tr><tr><td>best_val_loss</td><td>0.2811</td></tr><tr><td>epoch</td><td>29</td></tr><tr><td>loss</td><td>0.77712</td></tr><tr><td>val_accuracy</td><td>0.9079</td></tr><tr><td>val_loss</td><td>0.30659</td></tr></table><br/></div></div>"
            ]
          },
          "metadata": {}
        },
        {
          "output_type": "display_data",
          "data": {
            "text/plain": [
              "<IPython.core.display.HTML object>"
            ],
            "text/html": [
              "Synced <strong style=\"color:#cdcd00\">cool-sweep-11</strong>: <a href=\"https://wandb.ai/euripedes/lenet-5-augmentation/runs/znedrpy5\" target=\"_blank\">https://wandb.ai/euripedes/lenet-5-augmentation/runs/znedrpy5</a><br/>Synced 5 W&B file(s), 0 media file(s), 0 artifact file(s) and 0 other file(s)"
            ]
          },
          "metadata": {}
        },
        {
          "output_type": "display_data",
          "data": {
            "text/plain": [
              "<IPython.core.display.HTML object>"
            ],
            "text/html": [
              "Find logs at: <code>./wandb/run-20221105_233851-znedrpy5/logs</code>"
            ]
          },
          "metadata": {}
        },
        {
          "output_type": "stream",
          "name": "stderr",
          "text": [
            "\u001b[34m\u001b[1mwandb\u001b[0m: Agent Starting Run: cw3w1wa3 with config:\n",
            "\u001b[34m\u001b[1mwandb\u001b[0m: \tbatch_size: 64\n",
            "\u001b[34m\u001b[1mwandb\u001b[0m: \tconv_layer: 3\n",
            "\u001b[34m\u001b[1mwandb\u001b[0m: \tepochs: 10\n",
            "\u001b[34m\u001b[1mwandb\u001b[0m: \tfilters: 4\n",
            "\u001b[34m\u001b[1mwandb\u001b[0m: \theight_shift_range: 0.3\n",
            "\u001b[34m\u001b[1mwandb\u001b[0m: \tlearn_rate: 0.005\n",
            "\u001b[34m\u001b[1mwandb\u001b[0m: \trotation_range: 20\n",
            "\u001b[34m\u001b[1mwandb\u001b[0m: \tshear_range: 0.2\n",
            "\u001b[34m\u001b[1mwandb\u001b[0m: \twidth_shift_range: 0.25\n",
            "\u001b[34m\u001b[1mwandb\u001b[0m: \tzoom_range: 0.2\n"
          ]
        },
        {
          "output_type": "display_data",
          "data": {
            "text/plain": [
              "<IPython.core.display.HTML object>"
            ],
            "text/html": [
              "Tracking run with wandb version 0.13.5"
            ]
          },
          "metadata": {}
        },
        {
          "output_type": "display_data",
          "data": {
            "text/plain": [
              "<IPython.core.display.HTML object>"
            ],
            "text/html": [
              "Run data is saved locally in <code>/content/wandb/run-20221105_234913-cw3w1wa3</code>"
            ]
          },
          "metadata": {}
        },
        {
          "output_type": "display_data",
          "data": {
            "text/plain": [
              "<IPython.core.display.HTML object>"
            ],
            "text/html": [
              "Syncing run <strong><a href=\"https://wandb.ai/euripedes/lenet-5-augmentation/runs/cw3w1wa3\" target=\"_blank\">dashing-sweep-12</a></strong> to <a href=\"https://wandb.ai/euripedes/lenet-5-augmentation\" target=\"_blank\">Weights & Biases</a> (<a href=\"https://wandb.me/run\" target=\"_blank\">docs</a>)<br/>Sweep page:  <a href=\"https://wandb.ai/euripedes/lenet-5-augmentation/sweeps/6mhr7id7\" target=\"_blank\">https://wandb.ai/euripedes/lenet-5-augmentation/sweeps/6mhr7id7</a>"
            ]
          },
          "metadata": {}
        },
        {
          "output_type": "stream",
          "name": "stdout",
          "text": [
            "[INFO] compiling model...\n",
            "[INFO] training network...\n",
            "157/157 [==============================] - 0s 2ms/step\n"
          ]
        },
        {
          "output_type": "stream",
          "name": "stderr",
          "text": [
            "05-11-2022 23:52:19 Validation Evaluation metrics\n",
            "05-11-2022 23:52:19 Validation Accuracy: 0.9623\n",
            "05-11-2022 23:52:19 Validation Precision: 0.962792347552206\n",
            "05-11-2022 23:52:19 Validation Recall: 0.9623\n",
            "05-11-2022 23:52:19 Validation F1: 0.9623354288014012\n"
          ]
        },
        {
          "output_type": "display_data",
          "data": {
            "text/plain": [
              "<IPython.core.display.HTML object>"
            ],
            "text/html": [
              "Waiting for W&B process to finish... <strong style=\"color:green\">(success).</strong>"
            ]
          },
          "metadata": {}
        },
        {
          "output_type": "display_data",
          "data": {
            "text/plain": [
              "VBox(children=(Label(value='0.001 MB of 0.001 MB uploaded (0.000 MB deduped)\\r'), FloatProgress(value=1.0, max…"
            ],
            "application/vnd.jupyter.widget-view+json": {
              "version_major": 2,
              "version_minor": 0,
              "model_id": "674e36550bfa437e93ee31e01ffe6197"
            }
          },
          "metadata": {}
        },
        {
          "output_type": "display_data",
          "data": {
            "text/plain": [
              "<IPython.core.display.HTML object>"
            ],
            "text/html": [
              "<style>\n",
              "    table.wandb td:nth-child(1) { padding: 0 10px; text-align: left ; width: auto;} td:nth-child(2) {text-align: left ; width: 100%}\n",
              "    .wandb-row { display: flex; flex-direction: row; flex-wrap: wrap; justify-content: flex-start; width: 100% }\n",
              "    .wandb-col { display: flex; flex-direction: column; flex-basis: 100%; flex: 1; padding: 10px; }\n",
              "    </style>\n",
              "<div class=\"wandb-row\"><div class=\"wandb-col\"><h3>Run history:</h3><br/><table class=\"wandb\"><tr><td>accuracy</td><td>▁▆▇▇██████</td></tr><tr><td>epoch</td><td>▁▂▃▃▄▅▆▆▇█</td></tr><tr><td>loss</td><td>█▃▂▂▂▁▁▁▁▁</td></tr><tr><td>val_accuracy</td><td>▁▅▅▇▇█▇▆▇█</td></tr><tr><td>val_loss</td><td>█▄▄▂▂▁▂▃▂▁</td></tr></table><br/></div><div class=\"wandb-col\"><h3>Run summary:</h3><br/><table class=\"wandb\"><tr><td>Acc</td><td>0.9623</td></tr><tr><td>CO2_Emissions</td><td>0.00159</td></tr><tr><td>Count_Params</td><td>16366</td></tr><tr><td>Energy_CPU</td><td>0.00212</td></tr><tr><td>Energy_Consumed</td><td>0.00402</td></tr><tr><td>Energy_GPU</td><td>0.00166</td></tr><tr><td>Energy_RAM</td><td>0.00024</td></tr><tr><td>F1</td><td>0.96234</td></tr><tr><td>GFLOPs</td><td>0.0002</td></tr><tr><td>Precision</td><td>0.96279</td></tr><tr><td>Recall</td><td>0.9623</td></tr><tr><td>accuracy</td><td>0.89722</td></tr><tr><td>best_epoch</td><td>9</td></tr><tr><td>best_val_loss</td><td>0.12001</td></tr><tr><td>epoch</td><td>9</td></tr><tr><td>loss</td><td>0.33245</td></tr><tr><td>val_accuracy</td><td>0.9622</td></tr><tr><td>val_loss</td><td>0.12001</td></tr></table><br/></div></div>"
            ]
          },
          "metadata": {}
        },
        {
          "output_type": "display_data",
          "data": {
            "text/plain": [
              "<IPython.core.display.HTML object>"
            ],
            "text/html": [
              "Synced <strong style=\"color:#cdcd00\">dashing-sweep-12</strong>: <a href=\"https://wandb.ai/euripedes/lenet-5-augmentation/runs/cw3w1wa3\" target=\"_blank\">https://wandb.ai/euripedes/lenet-5-augmentation/runs/cw3w1wa3</a><br/>Synced 5 W&B file(s), 0 media file(s), 0 artifact file(s) and 0 other file(s)"
            ]
          },
          "metadata": {}
        },
        {
          "output_type": "display_data",
          "data": {
            "text/plain": [
              "<IPython.core.display.HTML object>"
            ],
            "text/html": [
              "Find logs at: <code>./wandb/run-20221105_234913-cw3w1wa3/logs</code>"
            ]
          },
          "metadata": {}
        },
        {
          "output_type": "stream",
          "name": "stdout",
          "text": [
            "Error in callback <function _WandbInit._pause_backend at 0x7f595b1e1680> (for post_run_cell):\n"
          ]
        },
        {
          "output_type": "error",
          "ename": "BrokenPipeError",
          "evalue": "ignored",
          "traceback": [
            "\u001b[0;31m---------------------------------------------------------------------------\u001b[0m",
            "\u001b[0;31mBrokenPipeError\u001b[0m                           Traceback (most recent call last)",
            "\u001b[0;32m/usr/local/lib/python3.7/dist-packages/backcall/backcall.py\u001b[0m in \u001b[0;36madapted\u001b[0;34m(*args, **kwargs)\u001b[0m\n\u001b[1;32m    102\u001b[0m                 \u001b[0mkwargs\u001b[0m\u001b[0;34m.\u001b[0m\u001b[0mpop\u001b[0m\u001b[0;34m(\u001b[0m\u001b[0mname\u001b[0m\u001b[0;34m)\u001b[0m\u001b[0;34m\u001b[0m\u001b[0;34m\u001b[0m\u001b[0m\n\u001b[1;32m    103\u001b[0m \u001b[0;31m#            print(args, kwargs, unmatched_pos, cut_positional, unmatched_kw)\u001b[0m\u001b[0;34m\u001b[0m\u001b[0;34m\u001b[0m\u001b[0;34m\u001b[0m\u001b[0m\n\u001b[0;32m--> 104\u001b[0;31m             \u001b[0;32mreturn\u001b[0m \u001b[0mcallback\u001b[0m\u001b[0;34m(\u001b[0m\u001b[0;34m*\u001b[0m\u001b[0margs\u001b[0m\u001b[0;34m,\u001b[0m \u001b[0;34m**\u001b[0m\u001b[0mkwargs\u001b[0m\u001b[0;34m)\u001b[0m\u001b[0;34m\u001b[0m\u001b[0;34m\u001b[0m\u001b[0m\n\u001b[0m\u001b[1;32m    105\u001b[0m \u001b[0;34m\u001b[0m\u001b[0m\n\u001b[1;32m    106\u001b[0m         \u001b[0;32mreturn\u001b[0m \u001b[0madapted\u001b[0m\u001b[0;34m\u001b[0m\u001b[0;34m\u001b[0m\u001b[0m\n",
            "\u001b[0;32m/usr/local/lib/python3.7/dist-packages/wandb/sdk/wandb_init.py\u001b[0m in \u001b[0;36m_pause_backend\u001b[0;34m(self)\u001b[0m\n\u001b[1;32m    392\u001b[0m                 \u001b[0mres\u001b[0m \u001b[0;34m=\u001b[0m \u001b[0mself\u001b[0m\u001b[0;34m.\u001b[0m\u001b[0mrun\u001b[0m\u001b[0;34m.\u001b[0m\u001b[0mlog_code\u001b[0m\u001b[0;34m(\u001b[0m\u001b[0mroot\u001b[0m\u001b[0;34m=\u001b[0m\u001b[0;32mNone\u001b[0m\u001b[0;34m)\u001b[0m\u001b[0;34m\u001b[0m\u001b[0;34m\u001b[0m\u001b[0m\n\u001b[1;32m    393\u001b[0m                 \u001b[0mlogger\u001b[0m\u001b[0;34m.\u001b[0m\u001b[0minfo\u001b[0m\u001b[0;34m(\u001b[0m\u001b[0;34m\"saved code: %s\"\u001b[0m\u001b[0;34m,\u001b[0m \u001b[0mres\u001b[0m\u001b[0;34m)\u001b[0m\u001b[0;34m\u001b[0m\u001b[0;34m\u001b[0m\u001b[0m\n\u001b[0;32m--> 394\u001b[0;31m             \u001b[0mself\u001b[0m\u001b[0;34m.\u001b[0m\u001b[0mbackend\u001b[0m\u001b[0;34m.\u001b[0m\u001b[0minterface\u001b[0m\u001b[0;34m.\u001b[0m\u001b[0mpublish_pause\u001b[0m\u001b[0;34m(\u001b[0m\u001b[0;34m)\u001b[0m\u001b[0;34m\u001b[0m\u001b[0;34m\u001b[0m\u001b[0m\n\u001b[0m\u001b[1;32m    395\u001b[0m \u001b[0;34m\u001b[0m\u001b[0m\n\u001b[1;32m    396\u001b[0m     \u001b[0;32mdef\u001b[0m \u001b[0m_resume_backend\u001b[0m\u001b[0;34m(\u001b[0m\u001b[0mself\u001b[0m\u001b[0;34m)\u001b[0m\u001b[0;34m:\u001b[0m\u001b[0;34m\u001b[0m\u001b[0;34m\u001b[0m\u001b[0m\n",
            "\u001b[0;32m/usr/local/lib/python3.7/dist-packages/wandb/sdk/interface/interface.py\u001b[0m in \u001b[0;36mpublish_pause\u001b[0;34m(self)\u001b[0m\n\u001b[1;32m    634\u001b[0m     \u001b[0;32mdef\u001b[0m \u001b[0mpublish_pause\u001b[0m\u001b[0;34m(\u001b[0m\u001b[0mself\u001b[0m\u001b[0;34m)\u001b[0m \u001b[0;34m->\u001b[0m \u001b[0;32mNone\u001b[0m\u001b[0;34m:\u001b[0m\u001b[0;34m\u001b[0m\u001b[0;34m\u001b[0m\u001b[0m\n\u001b[1;32m    635\u001b[0m         \u001b[0mpause\u001b[0m \u001b[0;34m=\u001b[0m \u001b[0mpb\u001b[0m\u001b[0;34m.\u001b[0m\u001b[0mPauseRequest\u001b[0m\u001b[0;34m(\u001b[0m\u001b[0;34m)\u001b[0m\u001b[0;34m\u001b[0m\u001b[0;34m\u001b[0m\u001b[0m\n\u001b[0;32m--> 636\u001b[0;31m         \u001b[0mself\u001b[0m\u001b[0;34m.\u001b[0m\u001b[0m_publish_pause\u001b[0m\u001b[0;34m(\u001b[0m\u001b[0mpause\u001b[0m\u001b[0;34m)\u001b[0m\u001b[0;34m\u001b[0m\u001b[0;34m\u001b[0m\u001b[0m\n\u001b[0m\u001b[1;32m    637\u001b[0m \u001b[0;34m\u001b[0m\u001b[0m\n\u001b[1;32m    638\u001b[0m     \u001b[0;34m@\u001b[0m\u001b[0mabstractmethod\u001b[0m\u001b[0;34m\u001b[0m\u001b[0;34m\u001b[0m\u001b[0m\n",
            "\u001b[0;32m/usr/local/lib/python3.7/dist-packages/wandb/sdk/interface/interface_shared.py\u001b[0m in \u001b[0;36m_publish_pause\u001b[0;34m(self, pause)\u001b[0m\n\u001b[1;32m    306\u001b[0m     \u001b[0;32mdef\u001b[0m \u001b[0m_publish_pause\u001b[0m\u001b[0;34m(\u001b[0m\u001b[0mself\u001b[0m\u001b[0;34m,\u001b[0m \u001b[0mpause\u001b[0m\u001b[0;34m:\u001b[0m \u001b[0mpb\u001b[0m\u001b[0;34m.\u001b[0m\u001b[0mPauseRequest\u001b[0m\u001b[0;34m)\u001b[0m \u001b[0;34m->\u001b[0m \u001b[0;32mNone\u001b[0m\u001b[0;34m:\u001b[0m\u001b[0;34m\u001b[0m\u001b[0;34m\u001b[0m\u001b[0m\n\u001b[1;32m    307\u001b[0m         \u001b[0mrec\u001b[0m \u001b[0;34m=\u001b[0m \u001b[0mself\u001b[0m\u001b[0;34m.\u001b[0m\u001b[0m_make_request\u001b[0m\u001b[0;34m(\u001b[0m\u001b[0mpause\u001b[0m\u001b[0;34m=\u001b[0m\u001b[0mpause\u001b[0m\u001b[0;34m)\u001b[0m\u001b[0;34m\u001b[0m\u001b[0;34m\u001b[0m\u001b[0m\n\u001b[0;32m--> 308\u001b[0;31m         \u001b[0mself\u001b[0m\u001b[0;34m.\u001b[0m\u001b[0m_publish\u001b[0m\u001b[0;34m(\u001b[0m\u001b[0mrec\u001b[0m\u001b[0;34m)\u001b[0m\u001b[0;34m\u001b[0m\u001b[0;34m\u001b[0m\u001b[0m\n\u001b[0m\u001b[1;32m    309\u001b[0m \u001b[0;34m\u001b[0m\u001b[0m\n\u001b[1;32m    310\u001b[0m     \u001b[0;32mdef\u001b[0m \u001b[0m_publish_resume\u001b[0m\u001b[0;34m(\u001b[0m\u001b[0mself\u001b[0m\u001b[0;34m,\u001b[0m \u001b[0mresume\u001b[0m\u001b[0;34m:\u001b[0m \u001b[0mpb\u001b[0m\u001b[0;34m.\u001b[0m\u001b[0mResumeRequest\u001b[0m\u001b[0;34m)\u001b[0m \u001b[0;34m->\u001b[0m \u001b[0;32mNone\u001b[0m\u001b[0;34m:\u001b[0m\u001b[0;34m\u001b[0m\u001b[0;34m\u001b[0m\u001b[0m\n",
            "\u001b[0;32m/usr/local/lib/python3.7/dist-packages/wandb/sdk/interface/interface_sock.py\u001b[0m in \u001b[0;36m_publish\u001b[0;34m(self, record, local)\u001b[0m\n\u001b[1;32m     49\u001b[0m     \u001b[0;32mdef\u001b[0m \u001b[0m_publish\u001b[0m\u001b[0;34m(\u001b[0m\u001b[0mself\u001b[0m\u001b[0;34m,\u001b[0m \u001b[0mrecord\u001b[0m\u001b[0;34m:\u001b[0m \u001b[0;34m\"pb.Record\"\u001b[0m\u001b[0;34m,\u001b[0m \u001b[0mlocal\u001b[0m\u001b[0;34m:\u001b[0m \u001b[0mbool\u001b[0m \u001b[0;34m=\u001b[0m \u001b[0;32mNone\u001b[0m\u001b[0;34m)\u001b[0m \u001b[0;34m->\u001b[0m \u001b[0;32mNone\u001b[0m\u001b[0;34m:\u001b[0m\u001b[0;34m\u001b[0m\u001b[0;34m\u001b[0m\u001b[0m\n\u001b[1;32m     50\u001b[0m         \u001b[0mself\u001b[0m\u001b[0;34m.\u001b[0m\u001b[0m_assign\u001b[0m\u001b[0;34m(\u001b[0m\u001b[0mrecord\u001b[0m\u001b[0;34m)\u001b[0m\u001b[0;34m\u001b[0m\u001b[0;34m\u001b[0m\u001b[0m\n\u001b[0;32m---> 51\u001b[0;31m         \u001b[0mself\u001b[0m\u001b[0;34m.\u001b[0m\u001b[0m_sock_client\u001b[0m\u001b[0;34m.\u001b[0m\u001b[0msend_record_publish\u001b[0m\u001b[0;34m(\u001b[0m\u001b[0mrecord\u001b[0m\u001b[0;34m)\u001b[0m\u001b[0;34m\u001b[0m\u001b[0;34m\u001b[0m\u001b[0m\n\u001b[0m\u001b[1;32m     52\u001b[0m \u001b[0;34m\u001b[0m\u001b[0m\n\u001b[1;32m     53\u001b[0m     \u001b[0;32mdef\u001b[0m \u001b[0m_communicate_async\u001b[0m\u001b[0;34m(\u001b[0m\u001b[0mself\u001b[0m\u001b[0;34m,\u001b[0m \u001b[0mrec\u001b[0m\u001b[0;34m:\u001b[0m \u001b[0;34m\"pb.Record\"\u001b[0m\u001b[0;34m,\u001b[0m \u001b[0mlocal\u001b[0m\u001b[0;34m:\u001b[0m \u001b[0mbool\u001b[0m \u001b[0;34m=\u001b[0m \u001b[0;32mNone\u001b[0m\u001b[0;34m)\u001b[0m \u001b[0;34m->\u001b[0m \u001b[0mMessageFuture\u001b[0m\u001b[0;34m:\u001b[0m\u001b[0;34m\u001b[0m\u001b[0;34m\u001b[0m\u001b[0m\n",
            "\u001b[0;32m/usr/local/lib/python3.7/dist-packages/wandb/sdk/lib/sock_client.py\u001b[0m in \u001b[0;36msend_record_publish\u001b[0;34m(self, record)\u001b[0m\n\u001b[1;32m    219\u001b[0m         \u001b[0mserver_req\u001b[0m \u001b[0;34m=\u001b[0m \u001b[0mspb\u001b[0m\u001b[0;34m.\u001b[0m\u001b[0mServerRequest\u001b[0m\u001b[0;34m(\u001b[0m\u001b[0;34m)\u001b[0m\u001b[0;34m\u001b[0m\u001b[0;34m\u001b[0m\u001b[0m\n\u001b[1;32m    220\u001b[0m         \u001b[0mserver_req\u001b[0m\u001b[0;34m.\u001b[0m\u001b[0mrecord_publish\u001b[0m\u001b[0;34m.\u001b[0m\u001b[0mCopyFrom\u001b[0m\u001b[0;34m(\u001b[0m\u001b[0mrecord\u001b[0m\u001b[0;34m)\u001b[0m\u001b[0;34m\u001b[0m\u001b[0;34m\u001b[0m\u001b[0m\n\u001b[0;32m--> 221\u001b[0;31m         \u001b[0mself\u001b[0m\u001b[0;34m.\u001b[0m\u001b[0msend_server_request\u001b[0m\u001b[0;34m(\u001b[0m\u001b[0mserver_req\u001b[0m\u001b[0;34m)\u001b[0m\u001b[0;34m\u001b[0m\u001b[0;34m\u001b[0m\u001b[0m\n\u001b[0m\u001b[1;32m    222\u001b[0m \u001b[0;34m\u001b[0m\u001b[0m\n\u001b[1;32m    223\u001b[0m     \u001b[0;32mdef\u001b[0m \u001b[0m_extract_packet_bytes\u001b[0m\u001b[0;34m(\u001b[0m\u001b[0mself\u001b[0m\u001b[0;34m)\u001b[0m \u001b[0;34m->\u001b[0m \u001b[0mOptional\u001b[0m\u001b[0;34m[\u001b[0m\u001b[0mbytes\u001b[0m\u001b[0;34m]\u001b[0m\u001b[0;34m:\u001b[0m\u001b[0;34m\u001b[0m\u001b[0;34m\u001b[0m\u001b[0m\n",
            "\u001b[0;32m/usr/local/lib/python3.7/dist-packages/wandb/sdk/lib/sock_client.py\u001b[0m in \u001b[0;36msend_server_request\u001b[0;34m(self, msg)\u001b[0m\n\u001b[1;32m    153\u001b[0m \u001b[0;34m\u001b[0m\u001b[0m\n\u001b[1;32m    154\u001b[0m     \u001b[0;32mdef\u001b[0m \u001b[0msend_server_request\u001b[0m\u001b[0;34m(\u001b[0m\u001b[0mself\u001b[0m\u001b[0;34m,\u001b[0m \u001b[0mmsg\u001b[0m\u001b[0;34m:\u001b[0m \u001b[0mAny\u001b[0m\u001b[0;34m)\u001b[0m \u001b[0;34m->\u001b[0m \u001b[0;32mNone\u001b[0m\u001b[0;34m:\u001b[0m\u001b[0;34m\u001b[0m\u001b[0;34m\u001b[0m\u001b[0m\n\u001b[0;32m--> 155\u001b[0;31m         \u001b[0mself\u001b[0m\u001b[0;34m.\u001b[0m\u001b[0m_send_message\u001b[0m\u001b[0;34m(\u001b[0m\u001b[0mmsg\u001b[0m\u001b[0;34m)\u001b[0m\u001b[0;34m\u001b[0m\u001b[0;34m\u001b[0m\u001b[0m\n\u001b[0m\u001b[1;32m    156\u001b[0m \u001b[0;34m\u001b[0m\u001b[0m\n\u001b[1;32m    157\u001b[0m     \u001b[0;32mdef\u001b[0m \u001b[0msend_server_response\u001b[0m\u001b[0;34m(\u001b[0m\u001b[0mself\u001b[0m\u001b[0;34m,\u001b[0m \u001b[0mmsg\u001b[0m\u001b[0;34m:\u001b[0m \u001b[0mAny\u001b[0m\u001b[0;34m)\u001b[0m \u001b[0;34m->\u001b[0m \u001b[0;32mNone\u001b[0m\u001b[0;34m:\u001b[0m\u001b[0;34m\u001b[0m\u001b[0;34m\u001b[0m\u001b[0m\n",
            "\u001b[0;32m/usr/local/lib/python3.7/dist-packages/wandb/sdk/lib/sock_client.py\u001b[0m in \u001b[0;36m_send_message\u001b[0;34m(self, msg)\u001b[0m\n\u001b[1;32m    150\u001b[0m         \u001b[0mheader\u001b[0m \u001b[0;34m=\u001b[0m \u001b[0mstruct\u001b[0m\u001b[0;34m.\u001b[0m\u001b[0mpack\u001b[0m\u001b[0;34m(\u001b[0m\u001b[0;34m\"<BI\"\u001b[0m\u001b[0;34m,\u001b[0m \u001b[0mord\u001b[0m\u001b[0;34m(\u001b[0m\u001b[0;34m\"W\"\u001b[0m\u001b[0;34m)\u001b[0m\u001b[0;34m,\u001b[0m \u001b[0mraw_size\u001b[0m\u001b[0;34m)\u001b[0m\u001b[0;34m\u001b[0m\u001b[0;34m\u001b[0m\u001b[0m\n\u001b[1;32m    151\u001b[0m         \u001b[0;32mwith\u001b[0m \u001b[0mself\u001b[0m\u001b[0;34m.\u001b[0m\u001b[0m_lock\u001b[0m\u001b[0;34m:\u001b[0m\u001b[0;34m\u001b[0m\u001b[0;34m\u001b[0m\u001b[0m\n\u001b[0;32m--> 152\u001b[0;31m             \u001b[0mself\u001b[0m\u001b[0;34m.\u001b[0m\u001b[0m_sendall_with_error_handle\u001b[0m\u001b[0;34m(\u001b[0m\u001b[0mheader\u001b[0m \u001b[0;34m+\u001b[0m \u001b[0mdata\u001b[0m\u001b[0;34m)\u001b[0m\u001b[0;34m\u001b[0m\u001b[0;34m\u001b[0m\u001b[0m\n\u001b[0m\u001b[1;32m    153\u001b[0m \u001b[0;34m\u001b[0m\u001b[0m\n\u001b[1;32m    154\u001b[0m     \u001b[0;32mdef\u001b[0m \u001b[0msend_server_request\u001b[0m\u001b[0;34m(\u001b[0m\u001b[0mself\u001b[0m\u001b[0;34m,\u001b[0m \u001b[0mmsg\u001b[0m\u001b[0;34m:\u001b[0m \u001b[0mAny\u001b[0m\u001b[0;34m)\u001b[0m \u001b[0;34m->\u001b[0m \u001b[0;32mNone\u001b[0m\u001b[0;34m:\u001b[0m\u001b[0;34m\u001b[0m\u001b[0;34m\u001b[0m\u001b[0m\n",
            "\u001b[0;32m/usr/local/lib/python3.7/dist-packages/wandb/sdk/lib/sock_client.py\u001b[0m in \u001b[0;36m_sendall_with_error_handle\u001b[0;34m(self, data)\u001b[0m\n\u001b[1;32m    128\u001b[0m             \u001b[0mstart_time\u001b[0m \u001b[0;34m=\u001b[0m \u001b[0mtime\u001b[0m\u001b[0;34m.\u001b[0m\u001b[0mmonotonic\u001b[0m\u001b[0;34m(\u001b[0m\u001b[0;34m)\u001b[0m\u001b[0;34m\u001b[0m\u001b[0;34m\u001b[0m\u001b[0m\n\u001b[1;32m    129\u001b[0m             \u001b[0;32mtry\u001b[0m\u001b[0;34m:\u001b[0m\u001b[0;34m\u001b[0m\u001b[0;34m\u001b[0m\u001b[0m\n\u001b[0;32m--> 130\u001b[0;31m                 \u001b[0msent\u001b[0m \u001b[0;34m=\u001b[0m \u001b[0mself\u001b[0m\u001b[0;34m.\u001b[0m\u001b[0m_sock\u001b[0m\u001b[0;34m.\u001b[0m\u001b[0msend\u001b[0m\u001b[0;34m(\u001b[0m\u001b[0mdata\u001b[0m\u001b[0;34m)\u001b[0m\u001b[0;34m\u001b[0m\u001b[0;34m\u001b[0m\u001b[0m\n\u001b[0m\u001b[1;32m    131\u001b[0m                 \u001b[0;31m# sent equal to 0 indicates a closed socket\u001b[0m\u001b[0;34m\u001b[0m\u001b[0;34m\u001b[0m\u001b[0;34m\u001b[0m\u001b[0m\n\u001b[1;32m    132\u001b[0m                 \u001b[0;32mif\u001b[0m \u001b[0msent\u001b[0m \u001b[0;34m==\u001b[0m \u001b[0;36m0\u001b[0m\u001b[0;34m:\u001b[0m\u001b[0;34m\u001b[0m\u001b[0;34m\u001b[0m\u001b[0m\n",
            "\u001b[0;31mBrokenPipeError\u001b[0m: [Errno 32] Broken pipe"
          ]
        }
      ]
    },
    {
      "cell_type": "markdown",
      "source": [
        "### Step 05: Train and Export the best model to W&B"
      ],
      "metadata": {
        "id": "GRB2rnGJuMM9"
      }
    },
    {
      "cell_type": "markdown",
      "source": [
        "With the results of Sweeps we know which configuration is the best and now we need to save it in our W&B project."
      ],
      "metadata": {
        "id": "lPibpCDCzXYT"
      }
    },
    {
      "cell_type": "markdown",
      "source": [
        "* It's important to understand that since we used the \"random\" method from WandB this model its not necessarily the best possible, it means that it was the best from all the combinations formed during the hyperparameter tuning process.  "
      ],
      "metadata": {
        "id": "gUxMniwA9-Ry"
      }
    },
    {
      "cell_type": "markdown",
      "source": [
        "Speak of it, that's the best configuration that Sweeps showed us:"
      ],
      "metadata": {
        "id": "0UtdwQad-2Za"
      }
    },
    {
      "cell_type": "markdown",
      "source": [
        "* batch_size: 64\n",
        "* conv_layer: 3\n",
        "* epochs: 10\n",
        "* filters: 4\n",
        "* learn_rate: 0.005\n",
        "* height_shift: 0.3\n",
        "* width_shift: 0.25\n",
        "* rotation: 20\n",
        "* shear: 0.2\n",
        "* zoom: 0.2"
      ],
      "metadata": {
        "id": "jTRbUk4x9661"
      }
    },
    {
      "cell_type": "markdown",
      "source": [
        "#### Creating the Best Model"
      ],
      "metadata": {
        "id": "fau36fA5zlou"
      }
    },
    {
      "cell_type": "code",
      "source": [
        "args = {\n",
        "  \"project_name\": \"lenet-5-augmentation\",\n",
        "  \"encoder\": \"target_encoder\"\n",
        "}"
      ],
      "metadata": {
        "id": "YFU7Mq2I_vno"
      },
      "execution_count": null,
      "outputs": []
    },
    {
      "cell_type": "code",
      "source": [
        "run = wandb.init(entity=\"euripedes\",\n",
        "                 project=args[\"project_name\"], \n",
        "                 job_type=\"Final_model\")"
      ],
      "metadata": {
        "colab": {
          "base_uri": "https://localhost:8080/",
          "height": 89
        },
        "id": "hanPKU2B_vd_",
        "outputId": "459b7e61-bcf2-4fc0-9340-195dbaadde2a"
      },
      "execution_count": null,
      "outputs": [
        {
          "output_type": "stream",
          "name": "stderr",
          "text": [
            "\u001b[34m\u001b[1mwandb\u001b[0m: Currently logged in as: \u001b[33meuripedes\u001b[0m. Use \u001b[1m`wandb login --relogin`\u001b[0m to force relogin\n"
          ]
        },
        {
          "output_type": "display_data",
          "data": {
            "text/plain": [
              "<IPython.core.display.HTML object>"
            ],
            "text/html": [
              "Tracking run with wandb version 0.13.5"
            ]
          },
          "metadata": {}
        },
        {
          "output_type": "display_data",
          "data": {
            "text/plain": [
              "<IPython.core.display.HTML object>"
            ],
            "text/html": [
              "Run data is saved locally in <code>/content/wandb/run-20221106_000512-f46xu63m</code>"
            ]
          },
          "metadata": {}
        },
        {
          "output_type": "display_data",
          "data": {
            "text/plain": [
              "<IPython.core.display.HTML object>"
            ],
            "text/html": [
              "Syncing run <strong><a href=\"https://wandb.ai/euripedes/lenet-5-augmentation/runs/f46xu63m\" target=\"_blank\">morning-pond-6</a></strong> to <a href=\"https://wandb.ai/euripedes/lenet-5-augmentation\" target=\"_blank\">Weights & Biases</a> (<a href=\"https://wandb.me/run\" target=\"_blank\">docs</a>)<br/>"
            ]
          },
          "metadata": {}
        }
      ]
    },
    {
      "cell_type": "markdown",
      "source": [
        "#### Fetch, Preprocessing and Data Segregation"
      ],
      "metadata": {
        "id": "ScpyYXFJzppm"
      }
    },
    {
      "cell_type": "markdown",
      "source": [
        "***Run the same process we did before!***"
      ],
      "metadata": {
        "id": "gX_Q2kbJC4IR"
      }
    },
    {
      "cell_type": "markdown",
      "source": [
        "#### Training"
      ],
      "metadata": {
        "id": "VuAopDShDBBK"
      }
    },
    {
      "cell_type": "code",
      "source": [
        "class UpdatedLeNet:\n",
        "  @staticmethod\n",
        "  def build(width, height, depth, classes):\n",
        "    # initialize the model\n",
        "    model = Sequential()\n",
        "    inputShape = (height, width, depth)\n",
        "    \n",
        "    # if we are using \"channels first\", update the input shape\n",
        "    if K.image_data_format() == \"channels_first\":\n",
        "      inputShape = (depth, height, width)\n",
        "   \n",
        "    # first set of CONV => TANH => POOL layers\n",
        "    for i in range(3):\n",
        "      model.add(Conv2D(4, (5, 5), strides=1, padding='same',\n",
        "                      activation='tanh', input_shape=(28,28,1), ))\n",
        "      model.add(AveragePooling2D()) \n",
        "\n",
        "    # a flatten and two set of FC => TANH layers\n",
        "    model.add(Flatten()) #Flatten\n",
        "    model.add(Dense(120, activation='tanh'))\n",
        "    model.add(Dense(84, activation='tanh'))\n",
        "\n",
        "    # softmax classifier\n",
        "    model.add(Dense(10, activation='softmax')) #Output layer\n",
        "    \n",
        "    # return the constructed network architecture\n",
        "    return model"
      ],
      "metadata": {
        "id": "k4JUjDYaPIit"
      },
      "execution_count": null,
      "outputs": []
    },
    {
      "cell_type": "code",
      "source": [
        "# create codecarbon tracker\n",
        "# codecarbon is too much verbose, change the log level for more info\n",
        "tracker = EmissionsTracker(log_level=\"critical\")\n",
        "tracker.start()\n",
        "\n",
        "# initialize the optimizer and model\n",
        "logger.info(\"[INFO] compiling model...\")\n",
        "opt = Adam(learning_rate=0.005)\n",
        "model = UpdatedLeNet.build(width=28, height=28, depth=1, classes=10)\n",
        "model.compile(loss=\"categorical_crossentropy\", optimizer=opt,\n",
        "              metrics=[\"accuracy\"])\n",
        "\n",
        "# construct the image generator for data augmentation then\n",
        "# initialize the total number of images generated thus far\n",
        "aug = ImageDataGenerator(rotation_range=20, width_shift_range=0.25,\n",
        "                         height_shift_range=0.3, shear_range=0.2, \n",
        "                         zoom_range=0.2,\n",
        "                         horizontal_flip=False, fill_mode=\"nearest\")\n",
        "\n",
        "# train the network\n",
        "logger.info(\"[INFO] training network...\")\n",
        "history = model.fit(aug.flow(train_x, train_y, batch_size=64),\n",
        "                    validation_data=(test_x, test_y),\n",
        "                    epochs=10, \n",
        "                    verbose=0,\n",
        "                    callbacks=[wandb.keras.WandbCallback(save_model=False,\n",
        "                                                         compute_flops=True)])\n",
        "\n",
        "# get co2 emissions from tracker\n",
        "# \"CO2 emission (in Kg)\"\n",
        "emissions = tracker.stop()"
      ],
      "metadata": {
        "colab": {
          "base_uri": "https://localhost:8080/"
        },
        "id": "ZyvbK7HRPYEh",
        "outputId": "9bd753a0-a6d0-4e9c-b40b-32ff70496216"
      },
      "execution_count": null,
      "outputs": [
        {
          "output_type": "stream",
          "name": "stderr",
          "text": [
            "06-11-2022 00:06:53 [INFO] compiling model...\n",
            "06-11-2022 00:06:53 [INFO] training network...\n",
            "06-11-2022 00:06:53 From /usr/local/lib/python3.7/dist-packages/tensorflow/python/ops/nn_ops.py:5219: tensor_shape_from_node_def_name (from tensorflow.python.framework.graph_util_impl) is deprecated and will be removed in a future version.\n",
            "Instructions for updating:\n",
            "Use `tf.compat.v1.graph_util.tensor_shape_from_node_def_name`\n"
          ]
        }
      ]
    },
    {
      "cell_type": "markdown",
      "source": [
        "#### Evaluation Metrics"
      ],
      "metadata": {
        "id": "UXpSgu1oRlWG"
      }
    },
    {
      "cell_type": "code",
      "source": [
        "# plot the training loss and accuracy\n",
        "plt.style.use(\"ggplot\")\n",
        "fig, ax = plt.subplots(1,1,figsize=(10,8))\n",
        "\n",
        "ax.plot(np.arange(0, 10), history.history[\"loss\"], label=\"train_loss\",linestyle='--')\n",
        "ax.plot(np.arange(0, 10), history.history[\"val_loss\"], label=\"val_loss\",linestyle='--')\n",
        "ax.plot(np.arange(0, 10), history.history[\"accuracy\"], label=\"train_acc\")\n",
        "ax.plot(np.arange(0, 10), history.history[\"val_accuracy\"], label=\"val_acc\")\n",
        "ax.set_title(\"Training Loss and Accuracy\")\n",
        "ax.set_xlabel(\"Epoch #\")\n",
        "ax.set_ylabel(\"Loss/Accuracy\")\n",
        "ax.legend()\n",
        "plt.show()"
      ],
      "metadata": {
        "colab": {
          "base_uri": "https://localhost:8080/",
          "height": 517
        },
        "id": "UTvpUDGrRnjK",
        "outputId": "5fbd7931-071f-496e-b11a-ca21c5dfd46b"
      },
      "execution_count": null,
      "outputs": [
        {
          "output_type": "display_data",
          "data": {
            "text/plain": [
              "<Figure size 720x576 with 1 Axes>"
            ],
            "image/png": "[encoded data removed]"
          },
          "metadata": {}
        }
      ]
    },
    {
      "cell_type": "code",
      "source": [
        "print(\"[INFO] {} kWh of electricity used since the begining\".format(tracker.final_emissions_data.energy_consumed))\n",
        "print(\"[INFO] Energy consumed for RAM: {} kWh\".format(tracker.final_emissions_data.ram_energy))\n",
        "print(\"[INFO] Energy consumed for all GPU: {} kWh\".format(tracker.final_emissions_data.gpu_energy))\n",
        "print(\"[INFO] Energy consumed for all CPU: {} kWh\".format(tracker.final_emissions_data.cpu_energy))\n",
        "print(\"[INFO] CO2 emission {}(in Kg)\".format(tracker.final_emissions_data.emissions))\n"
      ],
      "metadata": {
        "colab": {
          "base_uri": "https://localhost:8080/"
        },
        "id": "XzAbAhQKRvaX",
        "outputId": "35dfbe03-1979-4aae-9c25-b545e3c702fb"
      },
      "execution_count": null,
      "outputs": [
        {
          "output_type": "stream",
          "name": "stdout",
          "text": [
            "[INFO] 0.00401040381418897 kWh of electricity used since the begining\n",
            "[INFO] Energy consumed for RAM: 0.000252571246478027 kWh\n",
            "[INFO] Energy consumed for all GPU: 0.0014988372699942193 kWh\n",
            "[INFO] Energy consumed for all CPU: 0.0022589952977167243 kWh\n",
            "[INFO] CO2 emission 0.0025304972853051723(in Kg)\n"
          ]
        }
      ]
    },
    {
      "cell_type": "code",
      "source": [
        "# evaluate the network\n",
        "print(\"[INFO] evaluating network...\")\n",
        "predictions = model.predict(test_x, batch_size=32)\n",
        "print(classification_report(test_y.argmax(axis=1),\n",
        "                            predictions.argmax(axis=1),\n",
        "                            target_names=[str(i) for i in lb.classes_]))"
      ],
      "metadata": {
        "colab": {
          "base_uri": "https://localhost:8080/"
        },
        "id": "Zja5xCqmR7fQ",
        "outputId": "66625aa7-da78-48e5-b5d0-f9e967c6e746"
      },
      "execution_count": null,
      "outputs": [
        {
          "output_type": "stream",
          "name": "stdout",
          "text": [
            "[INFO] evaluating network...\n",
            "313/313 [==============================] - 1s 2ms/step\n",
            "              precision    recall  f1-score   support\n",
            "\n",
            "           0       0.98      0.98      0.98       980\n",
            "           1       1.00      0.98      0.99      1135\n",
            "           2       0.95      0.98      0.96      1032\n",
            "           3       0.98      0.95      0.96      1010\n",
            "           4       0.96      0.96      0.96       982\n",
            "           5       0.98      0.92      0.95       892\n",
            "           6       0.99      0.93      0.96       958\n",
            "           7       0.95      0.97      0.96      1028\n",
            "           8       0.93      0.95      0.94       974\n",
            "           9       0.91      0.97      0.94      1009\n",
            "\n",
            "    accuracy                           0.96     10000\n",
            "   macro avg       0.96      0.96      0.96     10000\n",
            "weighted avg       0.96      0.96      0.96     10000\n",
            "\n"
          ]
        }
      ]
    },
    {
      "cell_type": "code",
      "source": [
        "fig_confusion_matrix, ax = plt.subplots(1,1,figsize=(12,6))\n",
        "ConfusionMatrixDisplay(confusion_matrix(predictions.argmax(axis=1),\n",
        "                                        test_y.argmax(axis=1)),\n",
        "                       display_labels=lb.classes_).plot(values_format=\".0f\",ax=ax)\n",
        "\n",
        "ax.set_xlabel(\"True Label\")\n",
        "ax.set_ylabel(\"Predicted Label\")\n",
        "ax.grid(False)\n",
        "plt.show()"
      ],
      "metadata": {
        "colab": {
          "base_uri": "https://localhost:8080/",
          "height": 391
        },
        "id": "Sc4zLu3zR_bo",
        "outputId": "6082b159-0ed5-4310-dc80-909d1cccb3f8"
      },
      "execution_count": null,
      "outputs": [
        {
          "output_type": "display_data",
          "data": {
            "text/plain": [
              "<Figure size 864x432 with 2 Axes>"
            ],
            "image/png": "[encoded data removed]"
          },
          "metadata": {}
        }
      ]
    },
    {
      "cell_type": "code",
      "source": [
        "# Uploading figures\n",
        "logger.info(\"Uploading figures\")\n",
        "run.log(\n",
        "    {\n",
        "        \"confusion_matrix\": wandb.Image(fig_confusion_matrix),\n",
        "        # \"other_figure\": wandb.Image(other_fig)\n",
        "    }\n",
        ")"
      ],
      "metadata": {
        "colab": {
          "base_uri": "https://localhost:8080/"
        },
        "id": "Cl-5ZWETSE9S",
        "outputId": "4d1a7c44-109e-417e-d3fe-14160552e2ec"
      },
      "execution_count": null,
      "outputs": [
        {
          "output_type": "stream",
          "name": "stderr",
          "text": [
            "06-11-2022 00:12:47 Uploading figures\n"
          ]
        }
      ]
    },
    {
      "cell_type": "code",
      "source": [
        "# Evaluation Metrics\n",
        "logger.info(\"Validation Evaluation metrics\")\n",
        "fbeta = fbeta_score(test_y.argmax(axis=1), \n",
        "                    predictions.argmax(axis=1), \n",
        "                    beta=1, zero_division=1,average='weighted')\n",
        "precision = precision_score(test_y.argmax(axis=1),\n",
        "                            predictions.argmax(axis=1),\n",
        "                            zero_division=1,average='weighted')\n",
        "recall = recall_score(test_y.argmax(axis=1),\n",
        "                      predictions.argmax(axis=1),\n",
        "                      zero_division=1,average='weighted')\n",
        "acc = accuracy_score(test_y.argmax(axis=1),\n",
        "                     predictions.argmax(axis=1))\n",
        "\n",
        "logger.info(\"Validation Accuracy: {}\".format(acc))\n",
        "logger.info(\"Validation Precision: {}\".format(precision))\n",
        "logger.info(\"Validation Recall: {}\".format(recall))\n",
        "logger.info(\"Validation F1: {}\".format(fbeta))\n",
        "\n",
        "run.summary[\"Acc\"] = acc\n",
        "run.summary[\"Precision\"] = precision\n",
        "run.summary[\"Recall\"] = recall\n",
        "run.summary[\"F1\"] = fbeta\n",
        "# number of parameters\n",
        "run.summary[\"Count_Params\"] = model.count_params()\n",
        "# energy unit is kWh\n",
        "run.summary[\"Energy_Consumed\"] = tracker.final_emissions_data.energy_consumed\n",
        "run.summary[\"Energy_RAM\"] = tracker.final_emissions_data.ram_energy\n",
        "run.summary[\"Energy_GPU\"] = tracker.final_emissions_data.gpu_energy\n",
        "run.summary[\"Energy_CPU\"] = tracker.final_emissions_data.cpu_energy\n",
        "# kg\n",
        "run.summary[\"CO2_Emissions\"] = tracker.final_emissions_data.emissions"
      ],
      "metadata": {
        "colab": {
          "base_uri": "https://localhost:8080/"
        },
        "id": "tPfh6jeZSHkS",
        "outputId": "5081f772-3a38-4ea2-cf94-e28def85ff15"
      },
      "execution_count": null,
      "outputs": [
        {
          "output_type": "stream",
          "name": "stderr",
          "text": [
            "06-11-2022 00:12:57 Validation Evaluation metrics\n",
            "06-11-2022 00:12:57 Validation Accuracy: 0.9607\n",
            "06-11-2022 00:12:57 Validation Precision: 0.9615428118319694\n",
            "06-11-2022 00:12:58 Validation Recall: 0.9607\n",
            "06-11-2022 00:12:58 Validation F1: 0.9607780495135098\n"
          ]
        }
      ]
    },
    {
      "cell_type": "markdown",
      "source": [
        "Now we can finish our process! ✅"
      ],
      "metadata": {
        "id": "gX1UC-EJKRZT"
      }
    },
    {
      "cell_type": "code",
      "source": [
        "run.finish()"
      ],
      "metadata": {
        "colab": {
          "base_uri": "https://localhost:8080/",
          "height": 616,
          "referenced_widgets": [
            "36c922a2f5544c8f9467cea1959bb33e",
            "b268610eff65449eaea45eefa0d37812",
            "35ad92fb828e41d4b05a6d9bf4969734",
            "d1950dfcc1e84f7d96463c2aa437f80f",
            "fbbd1e1382ef47d9abd6979447208219",
            "99acfa91f0dc4f928c60c7a1d8b1d9bc",
            "f9c79ada64ca43759ba7a6b060fe1452",
            "41eca158c4094849a56b74fd3a817a23"
          ]
        },
        "id": "ZmYDRmZ-SLIN",
        "outputId": "d4434dfe-8e24-4482-c13e-b2665c52e1b7"
      },
      "execution_count": null,
      "outputs": [
        {
          "output_type": "display_data",
          "data": {
            "text/plain": [
              "<IPython.core.display.HTML object>"
            ],
            "text/html": [
              "Waiting for W&B process to finish... <strong style=\"color:green\">(success).</strong>"
            ]
          },
          "metadata": {}
        },
        {
          "output_type": "display_data",
          "data": {
            "text/plain": [
              "VBox(children=(Label(value='0.027 MB of 0.027 MB uploaded (0.000 MB deduped)\\r'), FloatProgress(value=1.0, max…"
            ],
            "application/vnd.jupyter.widget-view+json": {
              "version_major": 2,
              "version_minor": 0,
              "model_id": "36c922a2f5544c8f9467cea1959bb33e"
            }
          },
          "metadata": {}
        },
        {
          "output_type": "display_data",
          "data": {
            "text/plain": [
              "<IPython.core.display.HTML object>"
            ],
            "text/html": [
              "<style>\n",
              "    table.wandb td:nth-child(1) { padding: 0 10px; text-align: left ; width: auto;} td:nth-child(2) {text-align: left ; width: 100%}\n",
              "    .wandb-row { display: flex; flex-direction: row; flex-wrap: wrap; justify-content: flex-start; width: 100% }\n",
              "    .wandb-col { display: flex; flex-direction: column; flex-basis: 100%; flex: 1; padding: 10px; }\n",
              "    </style>\n",
              "<div class=\"wandb-row\"><div class=\"wandb-col\"><h3>Run history:</h3><br/><table class=\"wandb\"><tr><td>accuracy</td><td>▁▆▇▇██████</td></tr><tr><td>epoch</td><td>▁▂▃▃▄▅▆▆▇█</td></tr><tr><td>loss</td><td>█▃▂▂▂▁▁▁▁▁</td></tr><tr><td>val_accuracy</td><td>▁▄▇▇▇▇████</td></tr><tr><td>val_loss</td><td>█▅▃▂▂▂▁▁▁▂</td></tr></table><br/></div><div class=\"wandb-col\"><h3>Run summary:</h3><br/><table class=\"wandb\"><tr><td>Acc</td><td>0.9607</td></tr><tr><td>CO2_Emissions</td><td>0.00253</td></tr><tr><td>Count_Params</td><td>16366</td></tr><tr><td>Energy_CPU</td><td>0.00226</td></tr><tr><td>Energy_Consumed</td><td>0.00401</td></tr><tr><td>Energy_GPU</td><td>0.0015</td></tr><tr><td>Energy_RAM</td><td>0.00025</td></tr><tr><td>F1</td><td>0.96078</td></tr><tr><td>GFLOPs</td><td>0.0002</td></tr><tr><td>Precision</td><td>0.96154</td></tr><tr><td>Recall</td><td>0.9607</td></tr><tr><td>accuracy</td><td>0.89563</td></tr><tr><td>best_epoch</td><td>8</td></tr><tr><td>best_val_loss</td><td>0.12242</td></tr><tr><td>epoch</td><td>9</td></tr><tr><td>loss</td><td>0.33654</td></tr><tr><td>val_accuracy</td><td>0.9607</td></tr><tr><td>val_loss</td><td>0.13537</td></tr></table><br/></div></div>"
            ]
          },
          "metadata": {}
        },
        {
          "output_type": "display_data",
          "data": {
            "text/plain": [
              "<IPython.core.display.HTML object>"
            ],
            "text/html": [
              "Synced <strong style=\"color:#cdcd00\">morning-pond-6</strong>: <a href=\"https://wandb.ai/euripedes/lenet-5-augmentation/runs/f46xu63m\" target=\"_blank\">https://wandb.ai/euripedes/lenet-5-augmentation/runs/f46xu63m</a><br/>Synced 5 W&B file(s), 1 media file(s), 0 artifact file(s) and 0 other file(s)"
            ]
          },
          "metadata": {}
        },
        {
          "output_type": "display_data",
          "data": {
            "text/plain": [
              "<IPython.core.display.HTML object>"
            ],
            "text/html": [
              "Find logs at: <code>./wandb/run-20221106_000512-f46xu63m/logs</code>"
            ]
          },
          "metadata": {}
        }
      ]
    }
  ]
}