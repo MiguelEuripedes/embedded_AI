{
  "nbformat": 4,
  "nbformat_minor": 0,
  "metadata": {
    "colab": {
      "provenance": [],
      "authorship_tag": "ABX9TyNETqYWX8d1LCgtE7xFnHIz",
      "include_colab_link": true
    },
    "kernelspec": {
      "name": "python3",
      "display_name": "Python 3"
    },
    "language_info": {
      "name": "python"
    },
    "widgets": {
      "application/vnd.jupyter.widget-state+json": {
        "5a877bfc47ad415cae4efab875ea05a6": {
          "model_module": "@jupyter-widgets/controls",
          "model_name": "VBoxModel",
          "model_module_version": "1.5.0",
          "state": {
            "_dom_classes": [],
            "_model_module": "@jupyter-widgets/controls",
            "_model_module_version": "1.5.0",
            "_model_name": "VBoxModel",
            "_view_count": null,
            "_view_module": "@jupyter-widgets/controls",
            "_view_module_version": "1.5.0",
            "_view_name": "VBoxView",
            "box_style": "",
            "children": [
              "IPY_MODEL_51e5c9f363004e8d958a95defe5b640a",
              "IPY_MODEL_6cd9ecc7c2df43cc807e1267de8757a5"
            ],
            "layout": "IPY_MODEL_bc278bbac80c4cb4af6d990703c3a906"
          }
        },
        "51e5c9f363004e8d958a95defe5b640a": {
          "model_module": "@jupyter-widgets/controls",
          "model_name": "LabelModel",
          "model_module_version": "1.5.0",
          "state": {
            "_dom_classes": [],
            "_model_module": "@jupyter-widgets/controls",
            "_model_module_version": "1.5.0",
            "_model_name": "LabelModel",
            "_view_count": null,
            "_view_module": "@jupyter-widgets/controls",
            "_view_module_version": "1.5.0",
            "_view_name": "LabelView",
            "description": "",
            "description_tooltip": null,
            "layout": "IPY_MODEL_dbc182b8ae764cf8884b12c6bf500a6f",
            "placeholder": "​",
            "style": "IPY_MODEL_c67c6715731c4f46afafe876a3ccf303",
            "value": "0.000 MB of 0.008 MB uploaded (0.000 MB deduped)\r"
          }
        },
        "6cd9ecc7c2df43cc807e1267de8757a5": {
          "model_module": "@jupyter-widgets/controls",
          "model_name": "FloatProgressModel",
          "model_module_version": "1.5.0",
          "state": {
            "_dom_classes": [],
            "_model_module": "@jupyter-widgets/controls",
            "_model_module_version": "1.5.0",
            "_model_name": "FloatProgressModel",
            "_view_count": null,
            "_view_module": "@jupyter-widgets/controls",
            "_view_module_version": "1.5.0",
            "_view_name": "ProgressView",
            "bar_style": "",
            "description": "",
            "description_tooltip": null,
            "layout": "IPY_MODEL_6f1fd43bd8f7499e8c6b4a048747550e",
            "max": 1,
            "min": 0,
            "orientation": "horizontal",
            "style": "IPY_MODEL_a5e5d4bb3b4a466087a210d3c1956889",
            "value": 0.04929411764705882
          }
        },
        "bc278bbac80c4cb4af6d990703c3a906": {
          "model_module": "@jupyter-widgets/base",
          "model_name": "LayoutModel",
          "model_module_version": "1.2.0",
          "state": {
            "_model_module": "@jupyter-widgets/base",
            "_model_module_version": "1.2.0",
            "_model_name": "LayoutModel",
            "_view_count": null,
            "_view_module": "@jupyter-widgets/base",
            "_view_module_version": "1.2.0",
            "_view_name": "LayoutView",
            "align_content": null,
            "align_items": null,
            "align_self": null,
            "border": null,
            "bottom": null,
            "display": null,
            "flex": null,
            "flex_flow": null,
            "grid_area": null,
            "grid_auto_columns": null,
            "grid_auto_flow": null,
            "grid_auto_rows": null,
            "grid_column": null,
            "grid_gap": null,
            "grid_row": null,
            "grid_template_areas": null,
            "grid_template_columns": null,
            "grid_template_rows": null,
            "height": null,
            "justify_content": null,
            "justify_items": null,
            "left": null,
            "margin": null,
            "max_height": null,
            "max_width": null,
            "min_height": null,
            "min_width": null,
            "object_fit": null,
            "object_position": null,
            "order": null,
            "overflow": null,
            "overflow_x": null,
            "overflow_y": null,
            "padding": null,
            "right": null,
            "top": null,
            "visibility": null,
            "width": null
          }
        },
        "dbc182b8ae764cf8884b12c6bf500a6f": {
          "model_module": "@jupyter-widgets/base",
          "model_name": "LayoutModel",
          "model_module_version": "1.2.0",
          "state": {
            "_model_module": "@jupyter-widgets/base",
            "_model_module_version": "1.2.0",
            "_model_name": "LayoutModel",
            "_view_count": null,
            "_view_module": "@jupyter-widgets/base",
            "_view_module_version": "1.2.0",
            "_view_name": "LayoutView",
            "align_content": null,
            "align_items": null,
            "align_self": null,
            "border": null,
            "bottom": null,
            "display": null,
            "flex": null,
            "flex_flow": null,
            "grid_area": null,
            "grid_auto_columns": null,
            "grid_auto_flow": null,
            "grid_auto_rows": null,
            "grid_column": null,
            "grid_gap": null,
            "grid_row": null,
            "grid_template_areas": null,
            "grid_template_columns": null,
            "grid_template_rows": null,
            "height": null,
            "justify_content": null,
            "justify_items": null,
            "left": null,
            "margin": null,
            "max_height": null,
            "max_width": null,
            "min_height": null,
            "min_width": null,
            "object_fit": null,
            "object_position": null,
            "order": null,
            "overflow": null,
            "overflow_x": null,
            "overflow_y": null,
            "padding": null,
            "right": null,
            "top": null,
            "visibility": null,
            "width": null
          }
        },
        "c67c6715731c4f46afafe876a3ccf303": {
          "model_module": "@jupyter-widgets/controls",
          "model_name": "DescriptionStyleModel",
          "model_module_version": "1.5.0",
          "state": {
            "_model_module": "@jupyter-widgets/controls",
            "_model_module_version": "1.5.0",
            "_model_name": "DescriptionStyleModel",
            "_view_count": null,
            "_view_module": "@jupyter-widgets/base",
            "_view_module_version": "1.2.0",
            "_view_name": "StyleView",
            "description_width": ""
          }
        },
        "6f1fd43bd8f7499e8c6b4a048747550e": {
          "model_module": "@jupyter-widgets/base",
          "model_name": "LayoutModel",
          "model_module_version": "1.2.0",
          "state": {
            "_model_module": "@jupyter-widgets/base",
            "_model_module_version": "1.2.0",
            "_model_name": "LayoutModel",
            "_view_count": null,
            "_view_module": "@jupyter-widgets/base",
            "_view_module_version": "1.2.0",
            "_view_name": "LayoutView",
            "align_content": null,
            "align_items": null,
            "align_self": null,
            "border": null,
            "bottom": null,
            "display": null,
            "flex": null,
            "flex_flow": null,
            "grid_area": null,
            "grid_auto_columns": null,
            "grid_auto_flow": null,
            "grid_auto_rows": null,
            "grid_column": null,
            "grid_gap": null,
            "grid_row": null,
            "grid_template_areas": null,
            "grid_template_columns": null,
            "grid_template_rows": null,
            "height": null,
            "justify_content": null,
            "justify_items": null,
            "left": null,
            "margin": null,
            "max_height": null,
            "max_width": null,
            "min_height": null,
            "min_width": null,
            "object_fit": null,
            "object_position": null,
            "order": null,
            "overflow": null,
            "overflow_x": null,
            "overflow_y": null,
            "padding": null,
            "right": null,
            "top": null,
            "visibility": null,
            "width": null
          }
        },
        "a5e5d4bb3b4a466087a210d3c1956889": {
          "model_module": "@jupyter-widgets/controls",
          "model_name": "ProgressStyleModel",
          "model_module_version": "1.5.0",
          "state": {
            "_model_module": "@jupyter-widgets/controls",
            "_model_module_version": "1.5.0",
            "_model_name": "ProgressStyleModel",
            "_view_count": null,
            "_view_module": "@jupyter-widgets/base",
            "_view_module_version": "1.2.0",
            "_view_name": "StyleView",
            "bar_color": null,
            "description_width": ""
          }
        }
      }
    }
  },
  "cells": [
    {
      "cell_type": "markdown",
      "metadata": {
        "id": "view-in-github",
        "colab_type": "text"
      },
      "source": [
        "<a href=\"https://colab.research.google.com/github/MiguelEuripedes/embedded_AI/blob/main/Projects/first_image_classifier/mlp_classifier/preprocessing_MLP.ipynb\" target=\"_parent\"><img src=\"https://colab.research.google.com/assets/colab-badge.svg\" alt=\"Open In Colab\"/></a>"
      ]
    },
    {
      "cell_type": "markdown",
      "source": [
        "# Your First Image Classifier: Using MLP to Classify Images"
      ],
      "metadata": {
        "id": "xMqU9N5eOqRJ"
      }
    },
    {
      "cell_type": "markdown",
      "source": [
        "## Pre-processing\n",
        "\n",
        "The purpose of this dataset is to correctly classify an image as containing a dog, cat, or panda. Containing only 3,000 images, the Animals dataset is meant to be another introductory dataset that we can quickly train a Multilayer Perceptron (MLP) model and obtain results that can be compared with the previously trained KNN model and the future CNN model.\n",
        "\n",
        "Let's take the following steps:\n",
        "\n",
        "1. Fetch Data (reuse of the previous project)\n",
        "2. Pre-processing\n",
        "3. Clean data"
      ],
      "metadata": {
        "id": "2KpkuIcQPCQ_"
      }
    },
    {
      "cell_type": "markdown",
      "source": [
        "### Step 01: Setup\n",
        "\n",
        "Start out by installing the experiment tracking library and setting up your free W&B account:\n",
        "\n",
        "* **pip install wandb** – Install the W&B library\n",
        "* **import wandb** – Import the wandb library\n",
        "* **wandb login** – Login to your W&B account so you can log all your metrics in one place"
      ],
      "metadata": {
        "id": "jjE4uF8aOqI7"
      }
    },
    {
      "cell_type": "code",
      "execution_count": null,
      "metadata": {
        "colab": {
          "base_uri": "https://localhost:8080/"
        },
        "id": "o-iZ6uq6OXdI",
        "outputId": "a36838bc-0129-44fe-a7a3-7bc83c187da1"
      },
      "outputs": [
        {
          "output_type": "stream",
          "name": "stdout",
          "text": [
            "\u001b[K     |████████████████████████████████| 1.9 MB 29.1 MB/s \n",
            "\u001b[K     |████████████████████████████████| 182 kB 56.3 MB/s \n",
            "\u001b[K     |████████████████████████████████| 162 kB 55.6 MB/s \n",
            "\u001b[K     |████████████████████████████████| 63 kB 1.4 MB/s \n",
            "\u001b[K     |████████████████████████████████| 162 kB 60.0 MB/s \n",
            "\u001b[K     |████████████████████████████████| 158 kB 74.5 MB/s \n",
            "\u001b[K     |████████████████████████████████| 157 kB 61.0 MB/s \n",
            "\u001b[K     |████████████████████████████████| 157 kB 54.0 MB/s \n",
            "\u001b[K     |████████████████████████████████| 157 kB 74.1 MB/s \n",
            "\u001b[K     |████████████████████████████████| 157 kB 57.7 MB/s \n",
            "\u001b[K     |████████████████████████████████| 157 kB 61.3 MB/s \n",
            "\u001b[K     |████████████████████████████████| 157 kB 61.0 MB/s \n",
            "\u001b[K     |████████████████████████████████| 157 kB 57.7 MB/s \n",
            "\u001b[K     |████████████████████████████████| 156 kB 50.6 MB/s \n",
            "\u001b[?25h  Building wheel for pathtools (setup.py) ... \u001b[?25l\u001b[?25hdone\n"
          ]
        }
      ],
      "source": [
        "!pip install wandb -qU"
      ]
    },
    {
      "cell_type": "code",
      "source": [
        "import wandb\n",
        "wandb.login()"
      ],
      "metadata": {
        "colab": {
          "base_uri": "https://localhost:8080/",
          "height": 139
        },
        "id": "yvfsd-S4P0U2",
        "outputId": "9fa533b2-494f-4c49-cfe2-84e6fb4784e1"
      },
      "execution_count": null,
      "outputs": [
        {
          "output_type": "stream",
          "name": "stderr",
          "text": [
            "ERROR:wandb.jupyter:Failed to detect the name of this notebook, you can set it manually with the WANDB_NOTEBOOK_NAME environment variable to enable code saving.\n"
          ]
        },
        {
          "output_type": "display_data",
          "data": {
            "text/plain": [
              "<IPython.core.display.Javascript object>"
            ],
            "application/javascript": [
              "\n",
              "        window._wandbApiKey = new Promise((resolve, reject) => {\n",
              "            function loadScript(url) {\n",
              "            return new Promise(function(resolve, reject) {\n",
              "                let newScript = document.createElement(\"script\");\n",
              "                newScript.onerror = reject;\n",
              "                newScript.onload = resolve;\n",
              "                document.body.appendChild(newScript);\n",
              "                newScript.src = url;\n",
              "            });\n",
              "            }\n",
              "            loadScript(\"https://cdn.jsdelivr.net/npm/postmate/build/postmate.min.js\").then(() => {\n",
              "            const iframe = document.createElement('iframe')\n",
              "            iframe.style.cssText = \"width:0;height:0;border:none\"\n",
              "            document.body.appendChild(iframe)\n",
              "            const handshake = new Postmate({\n",
              "                container: iframe,\n",
              "                url: 'https://wandb.ai/authorize'\n",
              "            });\n",
              "            const timeout = setTimeout(() => reject(\"Couldn't auto authenticate\"), 5000)\n",
              "            handshake.then(function(child) {\n",
              "                child.on('authorize', data => {\n",
              "                    clearTimeout(timeout)\n",
              "                    resolve(data)\n",
              "                });\n",
              "            });\n",
              "            })\n",
              "        });\n",
              "    "
            ]
          },
          "metadata": {}
        },
        {
          "output_type": "stream",
          "name": "stderr",
          "text": [
            "\u001b[34m\u001b[1mwandb\u001b[0m: Logging into wandb.ai. (Learn how to deploy a W&B server locally: https://wandb.me/wandb-server)\n",
            "\u001b[34m\u001b[1mwandb\u001b[0m: You can find your API key in your browser here: https://wandb.ai/authorize\n",
            "wandb: Paste an API key from your profile and hit enter, or press ctrl+c to quit: "
          ]
        },
        {
          "name": "stdout",
          "output_type": "stream",
          "text": [
            "··········\n"
          ]
        },
        {
          "output_type": "stream",
          "name": "stderr",
          "text": [
            "\u001b[34m\u001b[1mwandb\u001b[0m: Appending key for api.wandb.ai to your netrc file: /root/.netrc\n"
          ]
        },
        {
          "output_type": "execute_result",
          "data": {
            "text/plain": [
              "True"
            ]
          },
          "metadata": {},
          "execution_count": 2
        }
      ]
    },
    {
      "cell_type": "markdown",
      "source": [
        "**Import the packages**"
      ],
      "metadata": {
        "id": "GrHaE7i3P2rc"
      }
    },
    {
      "cell_type": "code",
      "source": [
        "# import the necessary packages\n",
        "from imutils import paths\n",
        "import logging\n",
        "import os\n",
        "import cv2\n",
        "import numpy as np\n",
        "import joblib\n",
        "import tensorflow as tf\n",
        "import wandb"
      ],
      "metadata": {
        "id": "A2oDxqI5QzJj"
      },
      "execution_count": null,
      "outputs": []
    },
    {
      "cell_type": "markdown",
      "source": [
        "Configure logging reference for a logging object"
      ],
      "metadata": {
        "id": "L0jh4qCKRB2p"
      }
    },
    {
      "cell_type": "code",
      "source": [
        "logger = logging.getLogger()"
      ],
      "metadata": {
        "id": "x7X9NBHSRKOg"
      },
      "execution_count": null,
      "outputs": []
    },
    {
      "cell_type": "markdown",
      "source": [
        "Set level of logging:"
      ],
      "metadata": {
        "id": "NfVhPkZlRB0T"
      }
    },
    {
      "cell_type": "code",
      "source": [
        "logger.setLevel(logging.INFO)"
      ],
      "metadata": {
        "id": "jR9dKkOORA9D"
      },
      "execution_count": null,
      "outputs": []
    },
    {
      "cell_type": "markdown",
      "source": [
        "Create handlers:"
      ],
      "metadata": {
        "id": "T4IrJnDpRRjt"
      }
    },
    {
      "cell_type": "code",
      "source": [
        "c_handler = logging.StreamHandler()\n",
        "c_format = logging.Formatter(fmt=\"%(asctime)s %(message)s\",datefmt='%d-%m-%Y %H:%M:%S')\n",
        "c_handler.setFormatter(c_format)"
      ],
      "metadata": {
        "id": "kCSnX2iiRXmL"
      },
      "execution_count": null,
      "outputs": []
    },
    {
      "cell_type": "markdown",
      "source": [
        "Add handler to the logger:"
      ],
      "metadata": {
        "id": "Z2mwCBSAQ-Yk"
      }
    },
    {
      "cell_type": "code",
      "source": [
        "logger.handlers[0] = c_handler"
      ],
      "metadata": {
        "id": "kin3z3GZRkRQ"
      },
      "execution_count": null,
      "outputs": []
    },
    {
      "cell_type": "markdown",
      "source": [
        "### Step 02: Fetch Data\n",
        "\n",
        "We'll be using the same strategy as before and replace our argument\n",
        "parsing code with *hard coded* arguments and values"
      ],
      "metadata": {
        "id": "ilRDEAMQRqTx"
      }
    },
    {
      "cell_type": "code",
      "source": [
        "args = {\n",
        "    \"dataset\": \"animals\",\n",
        "    \"project_name\": \"first_image_classifier\",\n",
        "    \"artifact_name\": \"animals_raw_data:latest\",\n",
        "}"
      ],
      "metadata": {
        "id": "kM1bMaIXSD42"
      },
      "execution_count": null,
      "outputs": []
    },
    {
      "cell_type": "markdown",
      "source": [
        "Since we used the Fetch data step before, lets use it here. \n",
        "Lets open the W&B project created in the Fetch step"
      ],
      "metadata": {
        "id": "P13LIyJnSZjX"
      }
    },
    {
      "cell_type": "code",
      "source": [
        "run = wandb.init(entity=\"euripedes\",project=args[\"project_name\"], job_type=\"preprocessing\")"
      ],
      "metadata": {
        "colab": {
          "base_uri": "https://localhost:8080/",
          "height": 86
        },
        "id": "3Ycvxi4CSVLL",
        "outputId": "e7f7e9cd-daf5-4c71-9dec-b2e1803551c2"
      },
      "execution_count": null,
      "outputs": [
        {
          "output_type": "stream",
          "name": "stderr",
          "text": [
            "\u001b[34m\u001b[1mwandb\u001b[0m: Currently logged in as: \u001b[33meuripedes\u001b[0m. Use \u001b[1m`wandb login --relogin`\u001b[0m to force relogin\n"
          ]
        },
        {
          "output_type": "display_data",
          "data": {
            "text/plain": [
              "<IPython.core.display.HTML object>"
            ],
            "text/html": [
              "Tracking run with wandb version 0.13.4"
            ]
          },
          "metadata": {}
        },
        {
          "output_type": "display_data",
          "data": {
            "text/plain": [
              "<IPython.core.display.HTML object>"
            ],
            "text/html": [
              "Run data is saved locally in <code>/content/wandb/run-20221016_023706-3jj7skyx</code>"
            ]
          },
          "metadata": {}
        },
        {
          "output_type": "display_data",
          "data": {
            "text/plain": [
              "<IPython.core.display.HTML object>"
            ],
            "text/html": [
              "Syncing run <strong><a href=\"https://wandb.ai/euripedes/first_image_classifier/runs/3jj7skyx\" target=\"_blank\">sandy-firefly-6</a></strong> to <a href=\"https://wandb.ai/euripedes/first_image_classifier\" target=\"_blank\">Weights & Biases</a> (<a href=\"https://wandb.me/run\" target=\"_blank\">docs</a>)<br/>"
            ]
          },
          "metadata": {}
        }
      ]
    },
    {
      "cell_type": "markdown",
      "source": [
        "Download the raw data from W&B"
      ],
      "metadata": {
        "id": "kXhwMF1BSdUa"
      }
    },
    {
      "cell_type": "code",
      "source": [
        "raw_data = run.use_artifact(args[\"artifact_name\"])\n",
        "data_dir = raw_data.download()\n",
        "logger.info(\"Path: {}\".format(data_dir))"
      ],
      "metadata": {
        "colab": {
          "base_uri": "https://localhost:8080/"
        },
        "id": "L-9TaVmySdld",
        "outputId": "7b630df6-ac3e-49fe-bf2f-b8c8d243dba1"
      },
      "execution_count": null,
      "outputs": [
        {
          "output_type": "stream",
          "name": "stderr",
          "text": [
            "\u001b[34m\u001b[1mwandb\u001b[0m: Downloading large artifact animals_raw_data:latest, 187.97MB. 3000 files... \n",
            "\u001b[34m\u001b[1mwandb\u001b[0m:   3000 of 3000 files downloaded.  \n",
            "Done. 0:0:24.3\n",
            "16-10-2022 02:37:37 Path: ./artifacts/animals_raw_data:v0\n"
          ]
        }
      ]
    },
    {
      "cell_type": "code",
      "source": [
        "run.finish()"
      ],
      "metadata": {
        "colab": {
          "base_uri": "https://localhost:8080/",
          "height": 150,
          "referenced_widgets": [
            "5a877bfc47ad415cae4efab875ea05a6",
            "51e5c9f363004e8d958a95defe5b640a",
            "6cd9ecc7c2df43cc807e1267de8757a5",
            "bc278bbac80c4cb4af6d990703c3a906",
            "dbc182b8ae764cf8884b12c6bf500a6f",
            "c67c6715731c4f46afafe876a3ccf303",
            "6f1fd43bd8f7499e8c6b4a048747550e",
            "a5e5d4bb3b4a466087a210d3c1956889"
          ]
        },
        "id": "zobdeaXyS8er",
        "outputId": "e41debee-33ad-4790-d547-275e30ab8659"
      },
      "execution_count": null,
      "outputs": [
        {
          "output_type": "display_data",
          "data": {
            "text/plain": [
              "<IPython.core.display.HTML object>"
            ],
            "text/html": [
              "Waiting for W&B process to finish... <strong style=\"color:green\">(success).</strong>"
            ]
          },
          "metadata": {}
        },
        {
          "output_type": "display_data",
          "data": {
            "text/plain": [
              "VBox(children=(Label(value='0.000 MB of 0.008 MB uploaded (0.000 MB deduped)\\r'), FloatProgress(value=0.049294…"
            ],
            "application/vnd.jupyter.widget-view+json": {
              "version_major": 2,
              "version_minor": 0,
              "model_id": "5a877bfc47ad415cae4efab875ea05a6"
            }
          },
          "metadata": {}
        },
        {
          "output_type": "display_data",
          "data": {
            "text/plain": [
              "<IPython.core.display.HTML object>"
            ],
            "text/html": [
              "Synced <strong style=\"color:#cdcd00\">sandy-firefly-6</strong>: <a href=\"https://wandb.ai/euripedes/first_image_classifier/runs/3jj7skyx\" target=\"_blank\">https://wandb.ai/euripedes/first_image_classifier/runs/3jj7skyx</a><br/>Synced 5 W&B file(s), 0 media file(s), 0 artifact file(s) and 0 other file(s)"
            ]
          },
          "metadata": {}
        },
        {
          "output_type": "display_data",
          "data": {
            "text/plain": [
              "<IPython.core.display.HTML object>"
            ],
            "text/html": [
              "Find logs at: <code>./wandb/run-20221016_023706-3jj7skyx/logs</code>"
            ]
          },
          "metadata": {}
        }
      ]
    },
    {
      "cell_type": "markdown",
      "source": [
        "### Step 03: Clean Data"
      ],
      "metadata": {
        "id": "2wtY3BmbS9Tr"
      }
    },
    {
      "cell_type": "markdown",
      "source": [
        "Now lets create the proper MLP classifier. We start the project config with:"
      ],
      "metadata": {
        "id": "8bIOjUVlTBzz"
      }
    },
    {
      "cell_type": "code",
      "source": [
        "data_dir"
      ],
      "metadata": {
        "colab": {
          "base_uri": "https://localhost:8080/",
          "height": 35
        },
        "id": "vQ3DQKkMTPlX",
        "outputId": "a3e2e563-d45c-402a-ae2c-048a88dcddbc"
      },
      "execution_count": null,
      "outputs": [
        {
          "output_type": "execute_result",
          "data": {
            "text/plain": [
              "'./artifacts/animals_raw_data:v0'"
            ],
            "application/vnd.google.colaboratory.intrinsic+json": {
              "type": "string"
            }
          },
          "metadata": {},
          "execution_count": 12
        }
      ]
    },
    {
      "cell_type": "markdown",
      "source": [
        "Replacing our arguments parsing code with *hard coded* arguments and values"
      ],
      "metadata": {
        "id": "QWUeBgfVTRtW"
      }
    },
    {
      "cell_type": "code",
      "source": [
        "args = {\n",
        "    \"features\": \"clean_features\",\n",
        "    \"target\": \"labels\",\n",
        "    \"project_name\": \"mlp_classifier\",\n",
        "}"
      ],
      "metadata": {
        "id": "wg-vVogATY_i"
      },
      "execution_count": null,
      "outputs": []
    },
    {
      "cell_type": "markdown",
      "source": [
        "Connecting to WandB with the new MLP project"
      ],
      "metadata": {
        "id": "W4MswhGFTo6T"
      }
    },
    {
      "cell_type": "code",
      "source": [
        "run = wandb.init(entity=\"euripedes\",project=args[\"project_name\"], job_type=\"preprocessing\")"
      ],
      "metadata": {
        "colab": {
          "base_uri": "https://localhost:8080/",
          "height": 69
        },
        "id": "uTVQCzSQTpPA",
        "outputId": "91476a5e-e430-4395-bea8-e772baf6f1ab"
      },
      "execution_count": null,
      "outputs": [
        {
          "output_type": "display_data",
          "data": {
            "text/plain": [
              "<IPython.core.display.HTML object>"
            ],
            "text/html": [
              "Tracking run with wandb version 0.13.4"
            ]
          },
          "metadata": {}
        },
        {
          "output_type": "display_data",
          "data": {
            "text/plain": [
              "<IPython.core.display.HTML object>"
            ],
            "text/html": [
              "Run data is saved locally in <code>/content/wandb/run-20221016_023801-tcqjpqxa</code>"
            ]
          },
          "metadata": {}
        },
        {
          "output_type": "display_data",
          "data": {
            "text/plain": [
              "<IPython.core.display.HTML object>"
            ],
            "text/html": [
              "Syncing run <strong><a href=\"https://wandb.ai/euripedes/mlp_classifier/runs/tcqjpqxa\" target=\"_blank\">iconic-violet-1</a></strong> to <a href=\"https://wandb.ai/euripedes/mlp_classifier\" target=\"_blank\">Weights & Biases</a> (<a href=\"https://wandb.me/run\" target=\"_blank\">docs</a>)<br/>"
            ]
          },
          "metadata": {}
        }
      ]
    },
    {
      "cell_type": "markdown",
      "source": [
        "**Loader and Preprocessing Classes**\n",
        "\n",
        "Source code based on Rosebrock, Adrian. Deep Learning For Computer vision with Python, 2019 [link](https://pyimagesearch.com/deep-learning-computer-vision-python-book/)"
      ],
      "metadata": {
        "id": "ogRKSK5VUPBP"
      }
    },
    {
      "cell_type": "code",
      "source": [
        "# A basic simple preprocessor that resize a image\n",
        "\n",
        "class SimplePreprocessor:\n",
        "\tdef __init__(self, width, height, inter=cv2.INTER_AREA):\n",
        "\t\t# store the target image width, height, and interpolation\n",
        "\t\t# method used when resizing\n",
        "\t\tself.width = width\n",
        "\t\tself.height = height\n",
        "\t\tself.inter = inter\n",
        "\n",
        "\tdef preprocess(self, image):\n",
        "\t\t# resize the image to a fixed size, ignoring the aspect\n",
        "\t\t# ratio\n",
        "\t\treturn cv2.resize(image, (self.width, self.height),interpolation=self.inter)"
      ],
      "metadata": {
        "id": "xAnvLLxfUKVI"
      },
      "execution_count": null,
      "outputs": []
    },
    {
      "cell_type": "code",
      "source": [
        "# Building an image loader\n",
        "class SimpleDatasetLoader:\n",
        "  def __init__(self, preprocessors=None, logger=None):\n",
        "\t\t# store the image preprocessor\n",
        "    self.preprocessors = preprocessors\n",
        "    self.logger = logger\n",
        "\n",
        "\t\t# if the preprocessors are None, initialize them as an\n",
        "\t\t# empty list\n",
        "    if self.preprocessors is None:\n",
        "      self.preprocessors = []\n",
        "\n",
        "  def load(self, imagePaths, verbose=-1):\n",
        "\t\t# initialize the list of features and labels\n",
        "    data = []\n",
        "    labels = []\n",
        "\n",
        "\t\t# loop over the input images\n",
        "    for (i, imagePath) in enumerate(imagePaths):\n",
        "\t\t\t# load the image and extract the class label assuming\n",
        "\t\t\t# that our path has the following format:\n",
        "\t\t\t# /path/to/dataset/{class}/{image}.jpg\n",
        "\t\t\t# e.g \"img example: ./artifacts/animals_raw_data:v0/dogs/dogs_00892.jpg\"\n",
        "\t\t\t# imagePath.split(os.path.sep)[-2] will return \"dogs\"\n",
        "      image = cv2.imread(imagePath)\n",
        "      label = imagePath.split(os.path.sep)[-2]\n",
        "\n",
        "      # check to see if our preprocessors are not None\n",
        "      if self.preprocessors is not None:\n",
        "\t\t\t\t# loop over the preprocessors and apply each to\n",
        "\t\t\t\t# the image\n",
        "        for p in self.preprocessors:\n",
        "          image = p.preprocess(image)\n",
        "\n",
        "\t\t\t# treat our processed image as a \"feature vector\"\n",
        "\t\t\t# by updating the data list followed by the labels\n",
        "      data.append(image)\n",
        "      labels.append(label)\n",
        "   \n",
        "\t\t\t# show an update every `verbose` images\n",
        "      if verbose > 0 and i > 0 and (i + 1) % verbose == 0:\n",
        "        logger.info(\"[INFO] processed {}/{}\".format(i + 1,len(imagePaths)))\n",
        "\n",
        "\t\t# return a tuple of the data and labels\n",
        "    return (np.array(data), np.array(labels))"
      ],
      "metadata": {
        "id": "_es8oeTSUjyp"
      },
      "execution_count": null,
      "outputs": []
    },
    {
      "cell_type": "markdown",
      "source": [
        "**Cleaning the data**"
      ],
      "metadata": {
        "id": "wPIuEGk_UvEw"
      }
    },
    {
      "cell_type": "markdown",
      "source": [
        "Grab the list of images that we'll be describing"
      ],
      "metadata": {
        "id": "BGOww18UU0G9"
      }
    },
    {
      "cell_type": "code",
      "source": [
        "logger.info(\"[INFO] preprocessing images...\")\n",
        "imagePaths = list(paths.list_images(data_dir))"
      ],
      "metadata": {
        "colab": {
          "base_uri": "https://localhost:8080/"
        },
        "id": "geE000_mVkhC",
        "outputId": "396fd25b-01d3-412d-b7c4-6a4458ab1b1b"
      },
      "execution_count": null,
      "outputs": [
        {
          "output_type": "stream",
          "name": "stderr",
          "text": [
            "16-10-2022 02:40:18 [INFO] preprocessing images...\n"
          ]
        }
      ]
    },
    {
      "cell_type": "markdown",
      "source": [
        "Initialize the image preprocessor, load the dataset from disk, and reshape the data matrix"
      ],
      "metadata": {
        "id": "J9GTK0DdVNSh"
      }
    },
    {
      "cell_type": "code",
      "source": [
        "sp = SimplePreprocessor(32, 32)\n",
        "sdl = SimpleDatasetLoader(preprocessors=[sp],logger=logger)\n",
        "(data, labels) = sdl.load(imagePaths, verbose=500)\n",
        "# 32 x 32 x 3 = 3072\n",
        "data = data.reshape((data.shape[0], 3072))"
      ],
      "metadata": {
        "colab": {
          "base_uri": "https://localhost:8080/"
        },
        "id": "maOaSqsPUsFt",
        "outputId": "fb81c87f-9964-49b3-f31d-d1cf47f1b0a9"
      },
      "execution_count": null,
      "outputs": [
        {
          "output_type": "stream",
          "name": "stderr",
          "text": [
            "16-10-2022 02:40:21 [INFO] processed 500/3000\n",
            "16-10-2022 02:40:23 [INFO] processed 1000/3000\n",
            "16-10-2022 02:40:24 [INFO] processed 1500/3000\n",
            "16-10-2022 02:40:25 [INFO] processed 2000/3000\n",
            "16-10-2022 02:40:27 [INFO] processed 2500/3000\n",
            "16-10-2022 02:40:29 [INFO] processed 3000/3000\n"
          ]
        }
      ]
    },
    {
      "cell_type": "markdown",
      "source": [
        "Show some information on memory consumption of the images"
      ],
      "metadata": {
        "id": "ekgNPveWVVb2"
      }
    },
    {
      "cell_type": "code",
      "source": [
        "logger.info(\"[INFO] features matrix: {:.1f}MB\".format(data.nbytes / (1024 * 1024)))"
      ],
      "metadata": {
        "colab": {
          "base_uri": "https://localhost:8080/"
        },
        "id": "9_jstVMaVZBX",
        "outputId": "ed9ec212-25b0-4a6c-9413-990d4acbe57e"
      },
      "execution_count": null,
      "outputs": [
        {
          "output_type": "stream",
          "name": "stderr",
          "text": [
            "16-10-2022 02:40:33 [INFO] features matrix: 8.8MB\n"
          ]
        }
      ]
    },
    {
      "cell_type": "markdown",
      "source": [
        "Check the data shape and labels shape"
      ],
      "metadata": {
        "id": "mW83VVd6V-rE"
      }
    },
    {
      "cell_type": "code",
      "source": [
        "logger.info(\"Data shape: {}\".format(data.shape))\n",
        "logger.info(\"Label shape: {}\".format(labels.shape))"
      ],
      "metadata": {
        "colab": {
          "base_uri": "https://localhost:8080/"
        },
        "id": "iUhVCKmbWCrA",
        "outputId": "102e82ec-0131-4d2f-b0d1-4ac8d2d320ce"
      },
      "execution_count": null,
      "outputs": [
        {
          "output_type": "stream",
          "name": "stderr",
          "text": [
            "16-10-2022 02:40:36 Data shape: (3000, 3072)\n",
            "16-10-2022 02:40:36 Label shape: (3000,)\n"
          ]
        }
      ]
    },
    {
      "cell_type": "markdown",
      "source": [
        "### Dumping the clean data artifacts to disk and upload to W&B"
      ],
      "metadata": {
        "id": "n1ftcFXhWDbX"
      }
    },
    {
      "cell_type": "markdown",
      "source": [
        "Save the feature artifacts and save the target, both using joblib"
      ],
      "metadata": {
        "id": "hzqTZToXWade"
      }
    },
    {
      "cell_type": "code",
      "source": [
        "joblib.dump(data, args[\"features\"])\n",
        "joblib.dump(labels, args[\"target\"])\n",
        "logger.info(\"Dumping the clean data artifacts to disk\")"
      ],
      "metadata": {
        "colab": {
          "base_uri": "https://localhost:8080/"
        },
        "id": "BlJxAp4oWrvi",
        "outputId": "3ec40711-d644-4a34-ffad-9cb483396b4d"
      },
      "execution_count": null,
      "outputs": [
        {
          "output_type": "stream",
          "name": "stderr",
          "text": [
            "16-10-2022 02:40:40 Dumping the clean data artifacts to disk\n"
          ]
        }
      ]
    },
    {
      "cell_type": "markdown",
      "source": [
        "**Clean data artifact:**"
      ],
      "metadata": {
        "id": "fGUgXfsjW6IB"
      }
    },
    {
      "cell_type": "code",
      "source": [
        "artifact = wandb.Artifact(args[\"features\"],\n",
        "                          type=\"CLEAN_DATA\",\n",
        "                          description=\"A json file representing the clean features data\"\n",
        "                          )\n",
        "\n",
        "logger.info(\"Logging clean data artifact\")\n",
        "artifact.add_file(args[\"features\"])\n",
        "run.log_artifact(artifact)"
      ],
      "metadata": {
        "colab": {
          "base_uri": "https://localhost:8080/"
        },
        "id": "f1UqL9NZW33E",
        "outputId": "214a4bcf-1637-460d-f5ad-4239a553da38"
      },
      "execution_count": null,
      "outputs": [
        {
          "output_type": "stream",
          "name": "stderr",
          "text": [
            "16-10-2022 02:40:43 Logging clean data artifact\n"
          ]
        },
        {
          "output_type": "execute_result",
          "data": {
            "text/plain": [
              "<wandb.sdk.wandb_artifacts.Artifact at 0x7fdc7366e690>"
            ]
          },
          "metadata": {},
          "execution_count": 28
        }
      ]
    },
    {
      "cell_type": "markdown",
      "source": [
        "**Clean label artifact:**"
      ],
      "metadata": {
        "id": "oMbALDJNWhBN"
      }
    },
    {
      "cell_type": "code",
      "source": [
        "artifact = wandb.Artifact(args[\"target\"],\n",
        "                          type=\"CLEAN_DATA\",\n",
        "                          description=\"A json file representing the clean target\"\n",
        "                          )\n",
        "\n",
        "logger.info(\"Logging clean target artifact\")\n",
        "artifact.add_file(args[\"target\"])\n",
        "run.log_artifact(artifact)"
      ],
      "metadata": {
        "colab": {
          "base_uri": "https://localhost:8080/"
        },
        "id": "-1PsCMCRXDQ8",
        "outputId": "3e09224f-e7c4-434c-895d-761b9d6852db"
      },
      "execution_count": null,
      "outputs": [
        {
          "output_type": "stream",
          "name": "stderr",
          "text": [
            "16-10-2022 02:40:46 Logging clean target artifact\n"
          ]
        },
        {
          "output_type": "execute_result",
          "data": {
            "text/plain": [
              "<wandb.sdk.wandb_artifacts.Artifact at 0x7fdc7364b8d0>"
            ]
          },
          "metadata": {},
          "execution_count": 29
        }
      ]
    },
    {
      "cell_type": "markdown",
      "source": [
        "End the part of the project"
      ],
      "metadata": {
        "id": "dAs38D56XFPF"
      }
    },
    {
      "cell_type": "code",
      "source": [
        "run.finish()"
      ],
      "metadata": {
        "colab": {
          "base_uri": "https://localhost:8080/",
          "height": 86
        },
        "id": "m3ao5cr5XJ8j",
        "outputId": "02d05668-8bfe-4f80-8d4f-2539569df6bb"
      },
      "execution_count": null,
      "outputs": [
        {
          "output_type": "display_data",
          "data": {
            "text/plain": [
              "<IPython.core.display.HTML object>"
            ],
            "text/html": [
              "Waiting for W&B process to finish... <strong style=\"color:green\">(success).</strong>"
            ]
          },
          "metadata": {}
        },
        {
          "output_type": "display_data",
          "data": {
            "text/plain": [
              "<IPython.core.display.HTML object>"
            ],
            "text/html": [
              "Synced <strong style=\"color:#cdcd00\">iconic-violet-1</strong>: <a href=\"https://wandb.ai/euripedes/mlp_classifier/runs/tcqjpqxa\" target=\"_blank\">https://wandb.ai/euripedes/mlp_classifier/runs/tcqjpqxa</a><br/>Synced 5 W&B file(s), 0 media file(s), 2 artifact file(s) and 0 other file(s)"
            ]
          },
          "metadata": {}
        },
        {
          "output_type": "display_data",
          "data": {
            "text/plain": [
              "<IPython.core.display.HTML object>"
            ],
            "text/html": [
              "Find logs at: <code>./wandb/run-20221016_023801-tcqjpqxa/logs</code>"
            ]
          },
          "metadata": {}
        }
      ]
    }
  ]
}