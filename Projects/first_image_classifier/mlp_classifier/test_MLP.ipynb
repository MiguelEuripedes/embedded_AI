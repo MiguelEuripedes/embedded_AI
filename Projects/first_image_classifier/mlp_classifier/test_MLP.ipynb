{
  "nbformat": 4,
  "nbformat_minor": 0,
  "metadata": {
    "colab": {
      "provenance": [],
      "collapsed_sections": [],
      "authorship_tag": "ABX9TyMfZVFgBV+7OPCQQQw97Jh8",
      "include_colab_link": true
    },
    "kernelspec": {
      "name": "python3",
      "display_name": "Python 3"
    },
    "language_info": {
      "name": "python"
    }
  },
  "cells": [
    {
      "cell_type": "markdown",
      "metadata": {
        "id": "view-in-github",
        "colab_type": "text"
      },
      "source": [
        "<a href=\"https://colab.research.google.com/github/MiguelEuripedes/embedded_AI/blob/main/Projects/first_image_classifier/mlp_classifier/test_MLP.ipynb\" target=\"_parent\"><img src=\"https://colab.research.google.com/assets/colab-badge.svg\" alt=\"Open In Colab\"/></a>"
      ]
    },
    {
      "cell_type": "markdown",
      "source": [
        "## Test\n",
        "\n",
        "The purpose of this dataset is to correctly classify an image as containing a dog, cat, or panda. Containing only 3,000 images, the Animals dataset is meant to be another introductory dataset that we can quickly train a Multilayer Perceptron (MLP) model and obtain results that can be compared with the previously trained KNN model and the future CNN model.\n",
        "\n",
        "Let's take the following steps:\n",
        "\n",
        "1. Download the inference model and Encoder artifact\n",
        "2. Test the inference model\n",
        "3. Create an interactive table"
      ],
      "metadata": {
        "id": "4j75s9-wmaxa"
      }
    },
    {
      "cell_type": "markdown",
      "source": [
        "### Step 01: Setup\n",
        "Start out by installing the experiment tracking library and setting up your free W&B account:\n",
        "\n",
        "* **pip install wandb** – Install the W&B library\n",
        "* **import wandb** – Import the wandb library\n",
        "* **wandb login** – Login to your W&B account so you can log all your metrics in one placeStep\n"
      ],
      "metadata": {
        "id": "m4JJlMmpmldV"
      }
    },
    {
      "cell_type": "code",
      "execution_count": null,
      "metadata": {
        "colab": {
          "base_uri": "https://localhost:8080/"
        },
        "id": "_sSlVqur71uG",
        "outputId": "366b64a1-de26-4325-bdb7-260e7f853ca4"
      },
      "outputs": [
        {
          "output_type": "stream",
          "name": "stdout",
          "text": [
            "\u001b[K     |████████████████████████████████| 1.9 MB 5.3 MB/s \n",
            "\u001b[K     |████████████████████████████████| 162 kB 47.3 MB/s \n",
            "\u001b[K     |████████████████████████████████| 182 kB 54.0 MB/s \n",
            "\u001b[K     |████████████████████████████████| 63 kB 1.6 MB/s \n",
            "\u001b[K     |████████████████████████████████| 162 kB 58.1 MB/s \n",
            "\u001b[K     |████████████████████████████████| 158 kB 59.7 MB/s \n",
            "\u001b[K     |████████████████████████████████| 157 kB 74.8 MB/s \n",
            "\u001b[K     |████████████████████████████████| 157 kB 60.3 MB/s \n",
            "\u001b[K     |████████████████████████████████| 157 kB 38.9 MB/s \n",
            "\u001b[K     |████████████████████████████████| 157 kB 76.6 MB/s \n",
            "\u001b[K     |████████████████████████████████| 157 kB 75.1 MB/s \n",
            "\u001b[K     |████████████████████████████████| 157 kB 74.9 MB/s \n",
            "\u001b[K     |████████████████████████████████| 157 kB 77.2 MB/s \n",
            "\u001b[K     |████████████████████████████████| 156 kB 74.3 MB/s \n",
            "\u001b[?25h  Building wheel for pathtools (setup.py) ... \u001b[?25l\u001b[?25hdone\n"
          ]
        }
      ],
      "source": [
        "!pip install wandb -qU"
      ]
    },
    {
      "cell_type": "code",
      "source": [
        "import wandb\n",
        "wandb.login()"
      ],
      "metadata": {
        "colab": {
          "base_uri": "https://localhost:8080/",
          "height": 139
        },
        "id": "7g3xDeb37-mn",
        "outputId": "3c1d4b98-4ab1-4b17-c528-3774d575ec5a"
      },
      "execution_count": null,
      "outputs": [
        {
          "output_type": "stream",
          "name": "stderr",
          "text": [
            "ERROR:wandb.jupyter:Failed to detect the name of this notebook, you can set it manually with the WANDB_NOTEBOOK_NAME environment variable to enable code saving.\n"
          ]
        },
        {
          "output_type": "display_data",
          "data": {
            "text/plain": [
              "<IPython.core.display.Javascript object>"
            ],
            "application/javascript": [
              "\n",
              "        window._wandbApiKey = new Promise((resolve, reject) => {\n",
              "            function loadScript(url) {\n",
              "            return new Promise(function(resolve, reject) {\n",
              "                let newScript = document.createElement(\"script\");\n",
              "                newScript.onerror = reject;\n",
              "                newScript.onload = resolve;\n",
              "                document.body.appendChild(newScript);\n",
              "                newScript.src = url;\n",
              "            });\n",
              "            }\n",
              "            loadScript(\"https://cdn.jsdelivr.net/npm/postmate/build/postmate.min.js\").then(() => {\n",
              "            const iframe = document.createElement('iframe')\n",
              "            iframe.style.cssText = \"width:0;height:0;border:none\"\n",
              "            document.body.appendChild(iframe)\n",
              "            const handshake = new Postmate({\n",
              "                container: iframe,\n",
              "                url: 'https://wandb.ai/authorize'\n",
              "            });\n",
              "            const timeout = setTimeout(() => reject(\"Couldn't auto authenticate\"), 5000)\n",
              "            handshake.then(function(child) {\n",
              "                child.on('authorize', data => {\n",
              "                    clearTimeout(timeout)\n",
              "                    resolve(data)\n",
              "                });\n",
              "            });\n",
              "            })\n",
              "        });\n",
              "    "
            ]
          },
          "metadata": {}
        },
        {
          "output_type": "stream",
          "name": "stderr",
          "text": [
            "\u001b[34m\u001b[1mwandb\u001b[0m: Logging into wandb.ai. (Learn how to deploy a W&B server locally: https://wandb.me/wandb-server)\n",
            "\u001b[34m\u001b[1mwandb\u001b[0m: You can find your API key in your browser here: https://wandb.ai/authorize\n",
            "wandb: Paste an API key from your profile and hit enter, or press ctrl+c to quit: "
          ]
        },
        {
          "name": "stdout",
          "output_type": "stream",
          "text": [
            "··········\n"
          ]
        },
        {
          "output_type": "stream",
          "name": "stderr",
          "text": [
            "\u001b[34m\u001b[1mwandb\u001b[0m: Appending key for api.wandb.ai to your netrc file: /root/.netrc\n"
          ]
        },
        {
          "output_type": "execute_result",
          "data": {
            "text/plain": [
              "True"
            ]
          },
          "metadata": {},
          "execution_count": 2
        }
      ]
    },
    {
      "cell_type": "markdown",
      "source": [
        "**Import the packages**"
      ],
      "metadata": {
        "id": "RiIvvtMIyamv"
      }
    },
    {
      "cell_type": "code",
      "source": [
        "import logging\n",
        "import joblib\n",
        "from sklearn.neural_network import MLPClassifier\n",
        "from sklearn.preprocessing import LabelEncoder\n",
        "from sklearn.metrics import classification_report\n",
        "import matplotlib.pyplot as plt\n",
        "import numpy as np\n",
        "from sklearn.metrics import classification_report\n",
        "from sklearn.metrics import fbeta_score, precision_score, recall_score, accuracy_score\n",
        "from sklearn.metrics import confusion_matrix\n",
        "from sklearn.metrics import ConfusionMatrixDisplay\n",
        "import os\n",
        "import cv2\n",
        "from imutils import paths\n",
        "import re"
      ],
      "metadata": {
        "id": "9jBmhw_Cyjqw"
      },
      "execution_count": null,
      "outputs": []
    },
    {
      "cell_type": "markdown",
      "source": [
        "Configure logging reference for a logging object"
      ],
      "metadata": {
        "id": "L0jh4qCKRB2p"
      }
    },
    {
      "cell_type": "code",
      "source": [
        "logger = logging.getLogger()"
      ],
      "metadata": {
        "id": "x7X9NBHSRKOg"
      },
      "execution_count": null,
      "outputs": []
    },
    {
      "cell_type": "markdown",
      "source": [
        "Set level of logging:"
      ],
      "metadata": {
        "id": "NfVhPkZlRB0T"
      }
    },
    {
      "cell_type": "code",
      "source": [
        "logger.setLevel(logging.INFO)"
      ],
      "metadata": {
        "id": "jR9dKkOORA9D"
      },
      "execution_count": null,
      "outputs": []
    },
    {
      "cell_type": "markdown",
      "source": [
        "Create handlers:"
      ],
      "metadata": {
        "id": "T4IrJnDpRRjt"
      }
    },
    {
      "cell_type": "code",
      "source": [
        "c_handler = logging.StreamHandler()\n",
        "c_format = logging.Formatter(fmt=\"%(asctime)s %(message)s\",datefmt='%d-%m-%Y %H:%M:%S')\n",
        "c_handler.setFormatter(c_format)"
      ],
      "metadata": {
        "id": "kCSnX2iiRXmL"
      },
      "execution_count": null,
      "outputs": []
    },
    {
      "cell_type": "markdown",
      "source": [
        "Add handler to the logger:"
      ],
      "metadata": {
        "id": "Z2mwCBSAQ-Yk"
      }
    },
    {
      "cell_type": "code",
      "source": [
        "logger.handlers[0] = c_handler"
      ],
      "metadata": {
        "id": "kin3z3GZRkRQ"
      },
      "execution_count": null,
      "outputs": []
    },
    {
      "cell_type": "markdown",
      "source": [
        "### Step 02: Test evaluation"
      ],
      "metadata": {
        "id": "xtbBVMZ9nVXt"
      }
    },
    {
      "cell_type": "markdown",
      "source": [
        "With the same strategy as before, we'll replace our argument parsing code with hard coded arguments and values"
      ],
      "metadata": {
        "id": "4Sa-eo69niFH"
      }
    },
    {
      "cell_type": "code",
      "source": [
        "args = {\n",
        "  \"project_name\": \"mlp_classifier\",\n",
        "  \"test_feature_artifact\": \"test_x:latest\",\n",
        "  \"test_target_artifact\": \"test_y:latest\",\n",
        "  \"encoder\": \"target_encoder:latest\",\n",
        "  \"inference_model\": \"model:latest\",\n",
        "  \"deploy\": \"inference_result\"\n",
        "}"
      ],
      "metadata": {
        "id": "yj4TizHX8mPM"
      },
      "execution_count": null,
      "outputs": []
    },
    {
      "cell_type": "markdown",
      "source": [
        "Since we did the training before, lets use it here. Lets start by downloading the inference model and encoder object from W&B, that was created in our previous notebook.\n",
        "\n",
        "First lets connect properly with W&B"
      ],
      "metadata": {
        "id": "JtLiXOoNoWI1"
      }
    },
    {
      "cell_type": "code",
      "source": [
        "run = wandb.init(entity=\"euripedes\",project=args[\"project_name\"], job_type=\"Test\")"
      ],
      "metadata": {
        "colab": {
          "base_uri": "https://localhost:8080/",
          "height": 86
        },
        "id": "RBQEr-HV8f-R",
        "outputId": "7bdc144b-398c-44cd-9706-4f1f85cf1f5a"
      },
      "execution_count": null,
      "outputs": [
        {
          "output_type": "stream",
          "name": "stderr",
          "text": [
            "\u001b[34m\u001b[1mwandb\u001b[0m: Currently logged in as: \u001b[33meuripedes\u001b[0m. Use \u001b[1m`wandb login --relogin`\u001b[0m to force relogin\n"
          ]
        },
        {
          "output_type": "display_data",
          "data": {
            "text/plain": [
              "<IPython.core.display.HTML object>"
            ],
            "text/html": [
              "Tracking run with wandb version 0.13.4"
            ]
          },
          "metadata": {}
        },
        {
          "output_type": "display_data",
          "data": {
            "text/plain": [
              "<IPython.core.display.HTML object>"
            ],
            "text/html": [
              "Run data is saved locally in <code>/content/wandb/run-20221016_183700-2qnuo3m9</code>"
            ]
          },
          "metadata": {}
        },
        {
          "output_type": "display_data",
          "data": {
            "text/plain": [
              "<IPython.core.display.HTML object>"
            ],
            "text/html": [
              "Syncing run <strong><a href=\"https://wandb.ai/euripedes/mlp_classifier/runs/2qnuo3m9\" target=\"_blank\">worthy-smoke-121</a></strong> to <a href=\"https://wandb.ai/euripedes/mlp_classifier\" target=\"_blank\">Weights & Biases</a> (<a href=\"https://wandb.me/run\" target=\"_blank\">docs</a>)<br/>"
            ]
          },
          "metadata": {}
        }
      ]
    },
    {
      "cell_type": "markdown",
      "source": [
        "Now lets download the data"
      ],
      "metadata": {
        "id": "CgZwW6FspJ9Y"
      }
    },
    {
      "cell_type": "code",
      "source": [
        "logger.info(\"Downloading the test data\")\n",
        "# test x\n",
        "test_x_artifact = run.use_artifact(args[\"test_feature_artifact\"])\n",
        "test_x_path = test_x_artifact.file()\n",
        "\n",
        "# test y\n",
        "test_y_artifact = run.use_artifact(args[\"test_target_artifact\"])\n",
        "test_y_path = test_y_artifact.file()\n",
        "\n",
        "# unpacking the artifacts\n",
        "test_x = joblib.load(test_x_path)\n",
        "test_y = joblib.load(test_y_path)"
      ],
      "metadata": {
        "colab": {
          "base_uri": "https://localhost:8080/"
        },
        "id": "iVhfLJR-86Gx",
        "outputId": "3509804f-8f88-4041-af63-2f4e53a3004c"
      },
      "execution_count": null,
      "outputs": [
        {
          "output_type": "stream",
          "name": "stderr",
          "text": [
            "16-10-2022 18:37:06 Downloading the test data\n"
          ]
        }
      ]
    },
    {
      "cell_type": "markdown",
      "source": [
        "Take a look at its shape"
      ],
      "metadata": {
        "id": "sm8ZrHCmpRHZ"
      }
    },
    {
      "cell_type": "code",
      "source": [
        "logger.info(\"Test x: {}\".format(test_x.shape))\n",
        "logger.info(\"Test y: {}\".format(test_y.shape))"
      ],
      "metadata": {
        "colab": {
          "base_uri": "https://localhost:8080/"
        },
        "id": "3Qf-avWU9BIx",
        "outputId": "09b1bbfe-dd82-4bab-db58-cb14b40936c1"
      },
      "execution_count": null,
      "outputs": [
        {
          "output_type": "stream",
          "name": "stderr",
          "text": [
            "16-10-2022 18:37:10 Test x: (750, 3072)\n",
            "16-10-2022 18:37:10 Test y: (750,)\n"
          ]
        }
      ]
    },
    {
      "cell_type": "markdown",
      "source": [
        "**Download the inference model and encoder object**"
      ],
      "metadata": {
        "id": "2W-U9cvRpUIj"
      }
    },
    {
      "cell_type": "code",
      "source": [
        "logger.info(\"Downloading the inference model and encoder object\")\n",
        "# encoder\n",
        "encoder_artifact = run.use_artifact(args[\"encoder\"])\n",
        "encoder_path = encoder_artifact.file()\n",
        "\n",
        "# inference model\n",
        "model_artifact = run.use_artifact(args[\"inference_model\"])\n",
        "model_path = model_artifact.file()"
      ],
      "metadata": {
        "colab": {
          "base_uri": "https://localhost:8080/"
        },
        "id": "iQLWcsO69Egl",
        "outputId": "200c2a7a-3978-45e0-bc57-8e67bdc2a134"
      },
      "execution_count": null,
      "outputs": [
        {
          "output_type": "stream",
          "name": "stderr",
          "text": [
            "16-10-2022 18:37:26 Downloading the inference model and encoder object\n"
          ]
        }
      ]
    },
    {
      "cell_type": "markdown",
      "source": [
        "Now we can **unpack the artifacts**"
      ],
      "metadata": {
        "id": "djggY7BJCkGA"
      }
    },
    {
      "cell_type": "code",
      "source": [
        "# unpacking the artifacts\n",
        "encoder = joblib.load(encoder_path)\n",
        "model = joblib.load(model_path)"
      ],
      "metadata": {
        "id": "EQOEF_Px9I-T"
      },
      "execution_count": null,
      "outputs": []
    },
    {
      "cell_type": "code",
      "source": [
        "encoder.classes_"
      ],
      "metadata": {
        "colab": {
          "base_uri": "https://localhost:8080/"
        },
        "id": "Jwb7Ugd99QQ9",
        "outputId": "bd121437-455e-4bc9-b8db-45f635134428"
      },
      "execution_count": null,
      "outputs": [
        {
          "output_type": "execute_result",
          "data": {
            "text/plain": [
              "array(['cats', 'dogs', 'panda'], dtype='<U5')"
            ]
          },
          "metadata": {},
          "execution_count": 16
        }
      ]
    },
    {
      "cell_type": "markdown",
      "source": [
        "### Step 03: Evaluating the model"
      ],
      "metadata": {
        "id": "BTVGhFpdDSLS"
      }
    },
    {
      "cell_type": "code",
      "source": [
        "# encode the labels as integers\n",
        "test_y = encoder.transform(test_y)\n",
        "\n",
        "# train a mlp classifier on the raw pixel intensities\n",
        "logger.info(\"[INFO] evaluating MLP classifier...\")\n",
        "predict = model.predict(test_x)"
      ],
      "metadata": {
        "colab": {
          "base_uri": "https://localhost:8080/"
        },
        "id": "wXYaSvaJ9SFd",
        "outputId": "20cd5da4-8b84-402f-9935-55dcd176b7a4"
      },
      "execution_count": null,
      "outputs": [
        {
          "output_type": "stream",
          "name": "stderr",
          "text": [
            "16-10-2022 18:37:37 [INFO] evaluating MLP classifier...\n"
          ]
        }
      ]
    },
    {
      "cell_type": "markdown",
      "source": [
        "With it we can now look at the results"
      ],
      "metadata": {
        "id": "UxgSZhH4DjLp"
      }
    },
    {
      "cell_type": "code",
      "source": [
        "print(classification_report(test_y, predict,target_names=encoder.classes_))"
      ],
      "metadata": {
        "colab": {
          "base_uri": "https://localhost:8080/"
        },
        "id": "Cq69ap2MDTIn",
        "outputId": "f9daaad2-b684-4fd6-f389-5bec0be5a417"
      },
      "execution_count": null,
      "outputs": [
        {
          "output_type": "stream",
          "name": "stdout",
          "text": [
            "              precision    recall  f1-score   support\n",
            "\n",
            "        cats       0.55      0.45      0.50       258\n",
            "        dogs       0.49      0.43      0.46       248\n",
            "       panda       0.64      0.83      0.72       244\n",
            "\n",
            "    accuracy                           0.57       750\n",
            "   macro avg       0.56      0.57      0.56       750\n",
            "weighted avg       0.56      0.57      0.56       750\n",
            "\n"
          ]
        }
      ]
    },
    {
      "cell_type": "code",
      "source": [
        "# Evaluation Metrics\n",
        "logger.info(\"Test Evaluation metrics\")\n",
        "fbeta = fbeta_score(test_y, predict, beta=1, zero_division=1,average='weighted')\n",
        "precision = precision_score(test_y, predict, zero_division=1,average='weighted')\n",
        "recall = recall_score(test_y, predict, zero_division=1,average='weighted')\n",
        "acc = accuracy_score(test_y, predict)\n",
        "\n",
        "logger.info(\"Test Accuracy: {}\".format(acc))\n",
        "logger.info(\"Test Precision: {}\".format(precision))\n",
        "logger.info(\"Test Recall: {}\".format(recall))\n",
        "logger.info(\"Test F1: {}\".format(fbeta))\n",
        "\n",
        "run.summary[\"Acc\"] = acc\n",
        "run.summary[\"Precision\"] = precision\n",
        "run.summary[\"Recall\"] = recall\n",
        "run.summary[\"F1\"] = fbeta"
      ],
      "metadata": {
        "colab": {
          "base_uri": "https://localhost:8080/"
        },
        "id": "siUzdwobDiZs",
        "outputId": "aa36197c-0b73-497b-9c82-656f9a744a18"
      },
      "execution_count": null,
      "outputs": [
        {
          "output_type": "stream",
          "name": "stderr",
          "text": [
            "16-10-2022 18:37:49 Test Evaluation metrics\n",
            "16-10-2022 18:37:49 Test Accuracy: 0.5693333333333334\n",
            "16-10-2022 18:37:49 Test Precision: 0.557969853958192\n",
            "16-10-2022 18:37:49 Test Recall: 0.5693333333333334\n",
            "16-10-2022 18:37:49 Test F1: 0.5575146526764094\n"
          ]
        }
      ]
    },
    {
      "cell_type": "markdown",
      "source": [
        "Just to check"
      ],
      "metadata": {
        "id": "eunnz2HSC5oC"
      }
    },
    {
      "cell_type": "code",
      "source": [
        "encoder.classes_"
      ],
      "metadata": {
        "colab": {
          "base_uri": "https://localhost:8080/"
        },
        "id": "pbL63aiQDrzk",
        "outputId": "f7b4c032-68e7-447d-fb46-0a68a182dbdd"
      },
      "execution_count": null,
      "outputs": [
        {
          "output_type": "execute_result",
          "data": {
            "text/plain": [
              "array(['cats', 'dogs', 'panda'], dtype='<U5')"
            ]
          },
          "metadata": {},
          "execution_count": 20
        }
      ]
    },
    {
      "cell_type": "markdown",
      "source": [
        "Lets take a look at the Confusion Matrix"
      ],
      "metadata": {
        "id": "3eMs2046DwZQ"
      }
    },
    {
      "cell_type": "code",
      "source": [
        "fig_confusion_matrix, ax = plt.subplots(1,1,figsize=(7,4))\n",
        "ConfusionMatrixDisplay(confusion_matrix(predict,test_y),\n",
        "                       display_labels=encoder.classes_).plot(values_format=\".0f\",ax=ax)\n",
        "\n",
        "ax.set_xlabel(\"True Label\")\n",
        "ax.set_ylabel(\"Predicted Label\")\n",
        "plt.show()"
      ],
      "metadata": {
        "colab": {
          "base_uri": "https://localhost:8080/",
          "height": 280
        },
        "id": "yJGM3zAlDten",
        "outputId": "91d9b9c9-5a47-4e87-ccae-f543ac71ae8c"
      },
      "execution_count": null,
      "outputs": [
        {
          "output_type": "display_data",
          "data": {
            "text/plain": [
              "<Figure size 504x288 with 2 Axes>"
            ],
            "image/png": "[encoded data removed]"
          },
          "metadata": {
            "needs_background": "light"
          }
        }
      ]
    },
    {
      "cell_type": "markdown",
      "source": [
        "Lets upload this figure to W&B"
      ],
      "metadata": {
        "id": "YfeGPLUbD5Qd"
      }
    },
    {
      "cell_type": "code",
      "source": [
        "logger.info(\"Uploading figures\")\n",
        "run.log(\n",
        "    {\n",
        "        \"confusion_matrix\": wandb.Image(fig_confusion_matrix),\n",
        "        # \"other_figure\": wandb.Image(other_fig)\n",
        "    }\n",
        ")"
      ],
      "metadata": {
        "colab": {
          "base_uri": "https://localhost:8080/"
        },
        "id": "SeWnveJTD5Bc",
        "outputId": "33f93c0f-f75f-445d-e075-a7ff76ee5d6c"
      },
      "execution_count": null,
      "outputs": [
        {
          "output_type": "stream",
          "name": "stderr",
          "text": [
            "16-10-2022 18:38:12 Uploading figures\n"
          ]
        }
      ]
    },
    {
      "cell_type": "markdown",
      "source": [
        "### Step 04: Create an interactive table"
      ],
      "metadata": {
        "id": "1JgMGinDD-6o"
      }
    },
    {
      "cell_type": "markdown",
      "source": [
        "In order to compare the true labls with the predict and visualize it better we can create a table and store it in W&B."
      ],
      "metadata": {
        "id": "8davvdzZEquJ"
      }
    },
    {
      "cell_type": "code",
      "source": [
        "# create a folder named 'test'\n",
        "dirname = 'test'\n",
        "os.mkdir(dirname)\n",
        "\n",
        "# re-generate test images and put all of them in test/ folder\n",
        "for i in range(test_x.shape[0]):\n",
        "  img = test_x[i].reshape(32,32,3)\n",
        "  cv2.imwrite(os.path.join(dirname,''.join([str(i),'.jpg'])),img)"
      ],
      "metadata": {
        "id": "p5cPzVf7D0C7"
      },
      "execution_count": null,
      "outputs": []
    },
    {
      "cell_type": "code",
      "source": [
        "# sort image Paths by name\n",
        "# 0.jpg, 1.jpg, 2.jpg, ....\n",
        "imagePaths = list(paths.list_images(\"test\"))\n",
        "imagePaths = sorted(imagePaths, key=lambda x: int(re.search(r\"(\\d+)\\.[a-z]+$\", x).group(1)))"
      ],
      "metadata": {
        "id": "FXTkoC4rETY1"
      },
      "execution_count": null,
      "outputs": []
    },
    {
      "cell_type": "code",
      "source": [
        "# create a table with columns we want to track/compare\n",
        "preview_dt = wandb.Table(columns=[\"test id\",\"image\", \"target\",\"predict\"])\n",
        "\n",
        "# create a new artifact to store the EDA data\n",
        "inference_result = wandb.Artifact(args[\"deploy\"], type=\"INFERENCE\")"
      ],
      "metadata": {
        "id": "XKnks7vrEVNV"
      },
      "execution_count": null,
      "outputs": []
    },
    {
      "cell_type": "code",
      "source": [
        "# append all images to the artifact\n",
        "for i,img in enumerate(imagePaths):\n",
        "  image = cv2.imread(img)\n",
        "  preview_dt.add_data(i, \n",
        "                      wandb.Image(img), \n",
        "                      encoder.inverse_transform([test_y[i]])[0], \n",
        "                      encoder.inverse_transform([predict[i]])[0])"
      ],
      "metadata": {
        "id": "uJR7yh5qEYG7"
      },
      "execution_count": null,
      "outputs": []
    },
    {
      "cell_type": "code",
      "source": [
        "# save artifact to W&B\n",
        "inference_result.add(preview_dt, \"Inference_Table\")\n",
        "run.log_artifact(inference_result)"
      ],
      "metadata": {
        "colab": {
          "base_uri": "https://localhost:8080/"
        },
        "id": "l309vXAGEcus",
        "outputId": "f7ad308f-0ec1-4d37-d3c4-f64158078b84"
      },
      "execution_count": null,
      "outputs": [
        {
          "output_type": "execute_result",
          "data": {
            "text/plain": [
              "<wandb.sdk.wandb_artifacts.Artifact at 0x7f5074753110>"
            ]
          },
          "metadata": {},
          "execution_count": 32
        }
      ]
    },
    {
      "cell_type": "code",
      "source": [
        "run.finish()"
      ],
      "metadata": {
        "colab": {
          "base_uri": "https://localhost:8080/",
          "height": 266
        },
        "id": "M6vLo2ZbEfvf",
        "outputId": "f3cada81-96bb-4aa0-92b4-24ba3d2c8a02"
      },
      "execution_count": null,
      "outputs": [
        {
          "output_type": "display_data",
          "data": {
            "text/plain": [
              "<IPython.core.display.HTML object>"
            ],
            "text/html": [
              "Waiting for W&B process to finish... <strong style=\"color:green\">(success).</strong>"
            ]
          },
          "metadata": {}
        },
        {
          "output_type": "display_data",
          "data": {
            "text/plain": [
              "<IPython.core.display.HTML object>"
            ],
            "text/html": [
              "<style>\n",
              "    table.wandb td:nth-child(1) { padding: 0 10px; text-align: left ; width: auto;} td:nth-child(2) {text-align: left ; width: 100%}\n",
              "    .wandb-row { display: flex; flex-direction: row; flex-wrap: wrap; justify-content: flex-start; width: 100% }\n",
              "    .wandb-col { display: flex; flex-direction: column; flex-basis: 100%; flex: 1; padding: 10px; }\n",
              "    </style>\n",
              "<div class=\"wandb-row\"><div class=\"wandb-col\"><h3>Run summary:</h3><br/><table class=\"wandb\"><tr><td>Acc</td><td>0.56933</td></tr><tr><td>F1</td><td>0.55751</td></tr><tr><td>Precision</td><td>0.55797</td></tr><tr><td>Recall</td><td>0.56933</td></tr></table><br/></div></div>"
            ]
          },
          "metadata": {}
        },
        {
          "output_type": "display_data",
          "data": {
            "text/plain": [
              "<IPython.core.display.HTML object>"
            ],
            "text/html": [
              "Synced <strong style=\"color:#cdcd00\">worthy-smoke-121</strong>: <a href=\"https://wandb.ai/euripedes/mlp_classifier/runs/2qnuo3m9\" target=\"_blank\">https://wandb.ai/euripedes/mlp_classifier/runs/2qnuo3m9</a><br/>Synced 5 W&B file(s), 1 media file(s), 751 artifact file(s) and 0 other file(s)"
            ]
          },
          "metadata": {}
        },
        {
          "output_type": "display_data",
          "data": {
            "text/plain": [
              "<IPython.core.display.HTML object>"
            ],
            "text/html": [
              "Find logs at: <code>./wandb/run-20221016_183700-2qnuo3m9/logs</code>"
            ]
          },
          "metadata": {}
        }
      ]
    }
  ]
}