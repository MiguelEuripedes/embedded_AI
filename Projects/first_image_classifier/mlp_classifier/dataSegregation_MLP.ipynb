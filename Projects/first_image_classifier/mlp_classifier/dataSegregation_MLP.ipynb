{
  "nbformat": 4,
  "nbformat_minor": 0,
  "metadata": {
    "colab": {
      "provenance": [],
      "collapsed_sections": [],
      "authorship_tag": "ABX9TyPVxU8+aGRIkeF0aNlrD20n",
      "include_colab_link": true
    },
    "kernelspec": {
      "name": "python3",
      "display_name": "Python 3"
    },
    "language_info": {
      "name": "python"
    },
    "widgets": {
      "application/vnd.jupyter.widget-state+json": {
        "a1744d6063674058bcf86761b0bc1f8f": {
          "model_module": "@jupyter-widgets/controls",
          "model_name": "VBoxModel",
          "model_module_version": "1.5.0",
          "state": {
            "_dom_classes": [],
            "_model_module": "@jupyter-widgets/controls",
            "_model_module_version": "1.5.0",
            "_model_name": "VBoxModel",
            "_view_count": null,
            "_view_module": "@jupyter-widgets/controls",
            "_view_module_version": "1.5.0",
            "_view_name": "VBoxView",
            "box_style": "",
            "children": [
              "IPY_MODEL_3bcd4f27583b4e56929840340eb8f741",
              "IPY_MODEL_5d0ab93baa1240f8a697ae6b15adf933"
            ],
            "layout": "IPY_MODEL_1484e6a3b7d34c9eac032f9a5b1f144e"
          }
        },
        "3bcd4f27583b4e56929840340eb8f741": {
          "model_module": "@jupyter-widgets/controls",
          "model_name": "LabelModel",
          "model_module_version": "1.5.0",
          "state": {
            "_dom_classes": [],
            "_model_module": "@jupyter-widgets/controls",
            "_model_module_version": "1.5.0",
            "_model_name": "LabelModel",
            "_view_count": null,
            "_view_module": "@jupyter-widgets/controls",
            "_view_module_version": "1.5.0",
            "_view_name": "LabelView",
            "description": "",
            "description_tooltip": null,
            "layout": "IPY_MODEL_9fc5d281b1ab4e9fb54950d2229daa58",
            "placeholder": "​",
            "style": "IPY_MODEL_3d2682408cff43c291e5501342aa1705",
            "value": "8.848 MB of 8.848 MB uploaded (0.000 MB deduped)\r"
          }
        },
        "5d0ab93baa1240f8a697ae6b15adf933": {
          "model_module": "@jupyter-widgets/controls",
          "model_name": "FloatProgressModel",
          "model_module_version": "1.5.0",
          "state": {
            "_dom_classes": [],
            "_model_module": "@jupyter-widgets/controls",
            "_model_module_version": "1.5.0",
            "_model_name": "FloatProgressModel",
            "_view_count": null,
            "_view_module": "@jupyter-widgets/controls",
            "_view_module_version": "1.5.0",
            "_view_name": "ProgressView",
            "bar_style": "",
            "description": "",
            "description_tooltip": null,
            "layout": "IPY_MODEL_288e92abfbca445b8d949b06d9a0eb3d",
            "max": 1,
            "min": 0,
            "orientation": "horizontal",
            "style": "IPY_MODEL_9cc770d450a24f469566b2bb4696d14b",
            "value": 1
          }
        },
        "1484e6a3b7d34c9eac032f9a5b1f144e": {
          "model_module": "@jupyter-widgets/base",
          "model_name": "LayoutModel",
          "model_module_version": "1.2.0",
          "state": {
            "_model_module": "@jupyter-widgets/base",
            "_model_module_version": "1.2.0",
            "_model_name": "LayoutModel",
            "_view_count": null,
            "_view_module": "@jupyter-widgets/base",
            "_view_module_version": "1.2.0",
            "_view_name": "LayoutView",
            "align_content": null,
            "align_items": null,
            "align_self": null,
            "border": null,
            "bottom": null,
            "display": null,
            "flex": null,
            "flex_flow": null,
            "grid_area": null,
            "grid_auto_columns": null,
            "grid_auto_flow": null,
            "grid_auto_rows": null,
            "grid_column": null,
            "grid_gap": null,
            "grid_row": null,
            "grid_template_areas": null,
            "grid_template_columns": null,
            "grid_template_rows": null,
            "height": null,
            "justify_content": null,
            "justify_items": null,
            "left": null,
            "margin": null,
            "max_height": null,
            "max_width": null,
            "min_height": null,
            "min_width": null,
            "object_fit": null,
            "object_position": null,
            "order": null,
            "overflow": null,
            "overflow_x": null,
            "overflow_y": null,
            "padding": null,
            "right": null,
            "top": null,
            "visibility": null,
            "width": null
          }
        },
        "9fc5d281b1ab4e9fb54950d2229daa58": {
          "model_module": "@jupyter-widgets/base",
          "model_name": "LayoutModel",
          "model_module_version": "1.2.0",
          "state": {
            "_model_module": "@jupyter-widgets/base",
            "_model_module_version": "1.2.0",
            "_model_name": "LayoutModel",
            "_view_count": null,
            "_view_module": "@jupyter-widgets/base",
            "_view_module_version": "1.2.0",
            "_view_name": "LayoutView",
            "align_content": null,
            "align_items": null,
            "align_self": null,
            "border": null,
            "bottom": null,
            "display": null,
            "flex": null,
            "flex_flow": null,
            "grid_area": null,
            "grid_auto_columns": null,
            "grid_auto_flow": null,
            "grid_auto_rows": null,
            "grid_column": null,
            "grid_gap": null,
            "grid_row": null,
            "grid_template_areas": null,
            "grid_template_columns": null,
            "grid_template_rows": null,
            "height": null,
            "justify_content": null,
            "justify_items": null,
            "left": null,
            "margin": null,
            "max_height": null,
            "max_width": null,
            "min_height": null,
            "min_width": null,
            "object_fit": null,
            "object_position": null,
            "order": null,
            "overflow": null,
            "overflow_x": null,
            "overflow_y": null,
            "padding": null,
            "right": null,
            "top": null,
            "visibility": null,
            "width": null
          }
        },
        "3d2682408cff43c291e5501342aa1705": {
          "model_module": "@jupyter-widgets/controls",
          "model_name": "DescriptionStyleModel",
          "model_module_version": "1.5.0",
          "state": {
            "_model_module": "@jupyter-widgets/controls",
            "_model_module_version": "1.5.0",
            "_model_name": "DescriptionStyleModel",
            "_view_count": null,
            "_view_module": "@jupyter-widgets/base",
            "_view_module_version": "1.2.0",
            "_view_name": "StyleView",
            "description_width": ""
          }
        },
        "288e92abfbca445b8d949b06d9a0eb3d": {
          "model_module": "@jupyter-widgets/base",
          "model_name": "LayoutModel",
          "model_module_version": "1.2.0",
          "state": {
            "_model_module": "@jupyter-widgets/base",
            "_model_module_version": "1.2.0",
            "_model_name": "LayoutModel",
            "_view_count": null,
            "_view_module": "@jupyter-widgets/base",
            "_view_module_version": "1.2.0",
            "_view_name": "LayoutView",
            "align_content": null,
            "align_items": null,
            "align_self": null,
            "border": null,
            "bottom": null,
            "display": null,
            "flex": null,
            "flex_flow": null,
            "grid_area": null,
            "grid_auto_columns": null,
            "grid_auto_flow": null,
            "grid_auto_rows": null,
            "grid_column": null,
            "grid_gap": null,
            "grid_row": null,
            "grid_template_areas": null,
            "grid_template_columns": null,
            "grid_template_rows": null,
            "height": null,
            "justify_content": null,
            "justify_items": null,
            "left": null,
            "margin": null,
            "max_height": null,
            "max_width": null,
            "min_height": null,
            "min_width": null,
            "object_fit": null,
            "object_position": null,
            "order": null,
            "overflow": null,
            "overflow_x": null,
            "overflow_y": null,
            "padding": null,
            "right": null,
            "top": null,
            "visibility": null,
            "width": null
          }
        },
        "9cc770d450a24f469566b2bb4696d14b": {
          "model_module": "@jupyter-widgets/controls",
          "model_name": "ProgressStyleModel",
          "model_module_version": "1.5.0",
          "state": {
            "_model_module": "@jupyter-widgets/controls",
            "_model_module_version": "1.5.0",
            "_model_name": "ProgressStyleModel",
            "_view_count": null,
            "_view_module": "@jupyter-widgets/base",
            "_view_module_version": "1.2.0",
            "_view_name": "StyleView",
            "bar_color": null,
            "description_width": ""
          }
        }
      }
    }
  },
  "cells": [
    {
      "cell_type": "markdown",
      "metadata": {
        "id": "view-in-github",
        "colab_type": "text"
      },
      "source": [
        "<a href=\"https://colab.research.google.com/github/MiguelEuripedes/embedded_AI/blob/main/Projects/first_image_classifier/mlp_classifier/dataSegregation_MLP.ipynb\" target=\"_parent\"><img src=\"https://colab.research.google.com/assets/colab-badge.svg\" alt=\"Open In Colab\"/></a>"
      ]
    },
    {
      "cell_type": "markdown",
      "source": [
        "#Your First Image Classifier: Using MLP to Classify Images"
      ],
      "metadata": {
        "id": "nC5B7g9Rq-kW"
      }
    },
    {
      "cell_type": "markdown",
      "source": [
        "## Data Segregation\n",
        "\n",
        "The purpose of this dataset is to correctly classify an image as containing a dog, cat, or panda. Containing only 3,000 images, the Animals dataset is meant to be another introductory dataset that we can quickly train a Multilayer Perceptron (MLP) model and obtain results that can be compared with the previously trained KNN model and the future CNN model.\n",
        "\n",
        "Now let's take the following steps:\n",
        "\n",
        "1. Data segregation\n",
        "2. Split clean data into train, validation and test"
      ],
      "metadata": {
        "id": "_dpU33uTrByS"
      }
    },
    {
      "cell_type": "markdown",
      "source": [
        "### Step 01: Setup\n",
        "\n",
        "Start out by installing the experiment tracking library and setting up your free W&B account:\n",
        "\n",
        "* **pip install wandb** – Install the W&B library\n",
        "* **import wandb** – Import the wandb library\n",
        "* **wandb login** – Login to your W&B account so you can log all your metrics in one place"
      ],
      "metadata": {
        "id": "2IbyXqowrZg7"
      }
    },
    {
      "cell_type": "code",
      "source": [
        "!pip install wandb -qU"
      ],
      "metadata": {
        "colab": {
          "base_uri": "https://localhost:8080/"
        },
        "id": "Hso6_qb-ri_h",
        "outputId": "d82705ec-b880-4659-afdc-bc27e192ad56"
      },
      "execution_count": null,
      "outputs": [
        {
          "output_type": "stream",
          "name": "stdout",
          "text": [
            "\u001b[K     |████████████████████████████████| 1.9 MB 5.3 MB/s \n",
            "\u001b[K     |████████████████████████████████| 162 kB 44.7 MB/s \n",
            "\u001b[K     |████████████████████████████████| 182 kB 21.4 MB/s \n",
            "\u001b[K     |████████████████████████████████| 63 kB 1.5 MB/s \n",
            "\u001b[K     |████████████████████████████████| 162 kB 47.4 MB/s \n",
            "\u001b[K     |████████████████████████████████| 158 kB 49.6 MB/s \n",
            "\u001b[K     |████████████████████████████████| 157 kB 8.6 MB/s \n",
            "\u001b[K     |████████████████████████████████| 157 kB 46.1 MB/s \n",
            "\u001b[K     |████████████████████████████████| 157 kB 51.7 MB/s \n",
            "\u001b[K     |████████████████████████████████| 157 kB 42.9 MB/s \n",
            "\u001b[K     |████████████████████████████████| 157 kB 48.3 MB/s \n",
            "\u001b[K     |████████████████████████████████| 157 kB 43.4 MB/s \n",
            "\u001b[K     |████████████████████████████████| 157 kB 46.2 MB/s \n",
            "\u001b[K     |████████████████████████████████| 156 kB 45.1 MB/s \n",
            "\u001b[?25h  Building wheel for pathtools (setup.py) ... \u001b[?25l\u001b[?25hdone\n"
          ]
        }
      ]
    },
    {
      "cell_type": "code",
      "execution_count": null,
      "metadata": {
        "colab": {
          "base_uri": "https://localhost:8080/",
          "height": 139
        },
        "id": "8NNfRSWNq4zy",
        "outputId": "43ace6e5-d2f8-4117-98cd-8c446051ab6f"
      },
      "outputs": [
        {
          "output_type": "stream",
          "name": "stderr",
          "text": [
            "ERROR:wandb.jupyter:Failed to detect the name of this notebook, you can set it manually with the WANDB_NOTEBOOK_NAME environment variable to enable code saving.\n"
          ]
        },
        {
          "output_type": "display_data",
          "data": {
            "text/plain": [
              "<IPython.core.display.Javascript object>"
            ],
            "application/javascript": [
              "\n",
              "        window._wandbApiKey = new Promise((resolve, reject) => {\n",
              "            function loadScript(url) {\n",
              "            return new Promise(function(resolve, reject) {\n",
              "                let newScript = document.createElement(\"script\");\n",
              "                newScript.onerror = reject;\n",
              "                newScript.onload = resolve;\n",
              "                document.body.appendChild(newScript);\n",
              "                newScript.src = url;\n",
              "            });\n",
              "            }\n",
              "            loadScript(\"https://cdn.jsdelivr.net/npm/postmate/build/postmate.min.js\").then(() => {\n",
              "            const iframe = document.createElement('iframe')\n",
              "            iframe.style.cssText = \"width:0;height:0;border:none\"\n",
              "            document.body.appendChild(iframe)\n",
              "            const handshake = new Postmate({\n",
              "                container: iframe,\n",
              "                url: 'https://wandb.ai/authorize'\n",
              "            });\n",
              "            const timeout = setTimeout(() => reject(\"Couldn't auto authenticate\"), 5000)\n",
              "            handshake.then(function(child) {\n",
              "                child.on('authorize', data => {\n",
              "                    clearTimeout(timeout)\n",
              "                    resolve(data)\n",
              "                });\n",
              "            });\n",
              "            })\n",
              "        });\n",
              "    "
            ]
          },
          "metadata": {}
        },
        {
          "output_type": "stream",
          "name": "stderr",
          "text": [
            "\u001b[34m\u001b[1mwandb\u001b[0m: Logging into wandb.ai. (Learn how to deploy a W&B server locally: https://wandb.me/wandb-server)\n",
            "\u001b[34m\u001b[1mwandb\u001b[0m: You can find your API key in your browser here: https://wandb.ai/authorize\n",
            "wandb: Paste an API key from your profile and hit enter, or press ctrl+c to quit: "
          ]
        },
        {
          "name": "stdout",
          "output_type": "stream",
          "text": [
            "··········\n"
          ]
        },
        {
          "output_type": "stream",
          "name": "stderr",
          "text": [
            "\u001b[34m\u001b[1mwandb\u001b[0m: Appending key for api.wandb.ai to your netrc file: /root/.netrc\n"
          ]
        },
        {
          "output_type": "execute_result",
          "data": {
            "text/plain": [
              "True"
            ]
          },
          "metadata": {},
          "execution_count": 2
        }
      ],
      "source": [
        "import wandb\n",
        "wandb.login()"
      ]
    },
    {
      "cell_type": "markdown",
      "source": [
        "**Import the packages**"
      ],
      "metadata": {
        "id": "q-WhtqZOrrNz"
      }
    },
    {
      "cell_type": "code",
      "source": [
        "# import the necessary packages\n",
        "import logging\n",
        "import joblib\n",
        "from sklearn.model_selection import train_test_split\n",
        "import wandb"
      ],
      "metadata": {
        "id": "K6JGHDbkrtBI"
      },
      "execution_count": null,
      "outputs": []
    },
    {
      "cell_type": "markdown",
      "source": [
        "Configure logging reference for a logging object"
      ],
      "metadata": {
        "id": "U_NIdkkFrzpN"
      }
    },
    {
      "cell_type": "code",
      "source": [
        "logger = logging.getLogger()"
      ],
      "metadata": {
        "id": "IUYv6jEmrz_y"
      },
      "execution_count": null,
      "outputs": []
    },
    {
      "cell_type": "markdown",
      "source": [
        "Set level of logging:"
      ],
      "metadata": {
        "id": "TXuSDf2Er2mr"
      }
    },
    {
      "cell_type": "code",
      "source": [
        "logger.setLevel(logging.INFO)"
      ],
      "metadata": {
        "id": "60NEop9nr7Ze"
      },
      "execution_count": null,
      "outputs": []
    },
    {
      "cell_type": "markdown",
      "source": [
        "Create handler:"
      ],
      "metadata": {
        "id": "2Y6HXLZSr70N"
      }
    },
    {
      "cell_type": "code",
      "source": [
        "c_handler = logging.StreamHandler()\n",
        "c_format = logging.Formatter(fmt=\"%(asctime)s %(message)s\",datefmt='%d-%m-%Y %H:%M:%S')\n",
        "c_handler.setFormatter(c_format)"
      ],
      "metadata": {
        "id": "o_WBwlzNr8FI"
      },
      "execution_count": null,
      "outputs": []
    },
    {
      "cell_type": "markdown",
      "source": [
        "Add handler to the logger"
      ],
      "metadata": {
        "id": "UrT8DGQCsKnc"
      }
    },
    {
      "cell_type": "code",
      "source": [
        "logger.handlers[0] = c_handler"
      ],
      "metadata": {
        "id": "gZ4Vj7tzsNAy"
      },
      "execution_count": null,
      "outputs": []
    },
    {
      "cell_type": "markdown",
      "source": [
        "### Step 02: Data Segregation\n",
        "\n",
        "We'll be using the same strategy as before and replace our argument parsing code with hard coded arguments and values"
      ],
      "metadata": {
        "id": "estfCKqmsRrD"
      }
    },
    {
      "cell_type": "code",
      "source": [
        "args = {\n",
        "  \"project_name\": \"mlp_classifier\",\n",
        "  \"artifact_name_feature\": \"clean_features:latest\",\n",
        "  \"artifact_name_target\": \"labels:latest\",\n",
        "  \"train_feature_artifact\": \"train_x\",\n",
        "  \"train_target_artifact\": \"train_y\",\n",
        "  \"val_feature_artifact\": \"val_x\",\n",
        "  \"val_target_artifact\": \"val_y\",\n",
        "  \"test_feature_artifact\": \"test_x\",\n",
        "  \"test_target_artifact\": \"test_y\",\n",
        "}"
      ],
      "metadata": {
        "id": "qMlWc1NcsXqj"
      },
      "execution_count": null,
      "outputs": []
    },
    {
      "cell_type": "markdown",
      "source": [
        "Lets open the W&B project created in the last step"
      ],
      "metadata": {
        "id": "xszHLEm5s4Qj"
      }
    },
    {
      "cell_type": "code",
      "source": [
        "run = wandb.init(entity=\"euripedes\",project=args[\"project_name\"], job_type=\"data_segregation\")"
      ],
      "metadata": {
        "colab": {
          "base_uri": "https://localhost:8080/",
          "height": 86
        },
        "id": "lUFTEaS1sh0Q",
        "outputId": "e58f7d88-e324-4ef3-c9c8-d64c09189a28"
      },
      "execution_count": null,
      "outputs": [
        {
          "output_type": "stream",
          "name": "stderr",
          "text": [
            "\u001b[34m\u001b[1mwandb\u001b[0m: Currently logged in as: \u001b[33meuripedes\u001b[0m. Use \u001b[1m`wandb login --relogin`\u001b[0m to force relogin\n"
          ]
        },
        {
          "output_type": "display_data",
          "data": {
            "text/plain": [
              "<IPython.core.display.HTML object>"
            ],
            "text/html": [
              "Tracking run with wandb version 0.13.4"
            ]
          },
          "metadata": {}
        },
        {
          "output_type": "display_data",
          "data": {
            "text/plain": [
              "<IPython.core.display.HTML object>"
            ],
            "text/html": [
              "Run data is saved locally in <code>/content/wandb/run-20221016_030641-27lgs2ya</code>"
            ]
          },
          "metadata": {}
        },
        {
          "output_type": "display_data",
          "data": {
            "text/plain": [
              "<IPython.core.display.HTML object>"
            ],
            "text/html": [
              "Syncing run <strong><a href=\"https://wandb.ai/euripedes/mlp_classifier/runs/27lgs2ya\" target=\"_blank\">restful-breeze-2</a></strong> to <a href=\"https://wandb.ai/euripedes/mlp_classifier\" target=\"_blank\">Weights & Biases</a> (<a href=\"https://wandb.me/run\" target=\"_blank\">docs</a>)<br/>"
            ]
          },
          "metadata": {}
        }
      ]
    },
    {
      "cell_type": "markdown",
      "source": [
        "Now we can download the clean data from last notebook. Lets get the features and the labels from it."
      ],
      "metadata": {
        "id": "ofCQhTWltPsQ"
      }
    },
    {
      "cell_type": "code",
      "source": [
        "logger.info(\"Downloading and reading clean data artifact\")\n",
        "clean_data = run.use_artifact(args[\"artifact_name_feature\"])\n",
        "clean_data_path = clean_data.file()\n",
        "\n",
        "logger.info(\"Downloading and reading label data artifact\")\n",
        "label_data = run.use_artifact(args[\"artifact_name_target\"])\n",
        "label_data_path = label_data.file()"
      ],
      "metadata": {
        "colab": {
          "base_uri": "https://localhost:8080/"
        },
        "id": "Wn12e4h5tKki",
        "outputId": "055f1593-f64f-4b26-b61b-dd2f03f1f807"
      },
      "execution_count": null,
      "outputs": [
        {
          "output_type": "stream",
          "name": "stderr",
          "text": [
            "16-10-2022 03:06:46 Downloading and reading clean data artifact\n",
            "16-10-2022 03:06:47 Downloading and reading label data artifact\n"
          ]
        }
      ]
    },
    {
      "cell_type": "markdown",
      "source": [
        "Now unpacking the artifacts"
      ],
      "metadata": {
        "id": "u4Hh7mcKtuTv"
      }
    },
    {
      "cell_type": "code",
      "source": [
        "data = joblib.load(clean_data_path)\n",
        "label = joblib.load(label_data_path)"
      ],
      "metadata": {
        "id": "eW6H1yqjtwmv"
      },
      "execution_count": null,
      "outputs": []
    },
    {
      "cell_type": "markdown",
      "source": [
        "Now that we have the data, lets start to partition the data into training, validation and test.\n",
        "\n",
        "First we'll divide the data in 75% for traing and validation purposes and the rest 25% we can use for tests latter on."
      ],
      "metadata": {
        "id": "LlejehpCt1br"
      }
    },
    {
      "cell_type": "code",
      "source": [
        "(train_x, test_x, train_y, test_y) = train_test_split(data, label,test_size=0.25, random_state=26)"
      ],
      "metadata": {
        "id": "fs8YVuA7tzPj"
      },
      "execution_count": null,
      "outputs": []
    },
    {
      "cell_type": "markdown",
      "source": [
        "Now from the train_x and train_y we'll obtain the validation data, that will come from 25% of the total train data."
      ],
      "metadata": {
        "id": "2A015pEJuXC1"
      }
    },
    {
      "cell_type": "code",
      "source": [
        "(train_x, val_x, train_y, val_y) = train_test_split(train_x, train_y,test_size=0.25, random_state=26)"
      ],
      "metadata": {
        "id": "YWpYQ8IpuucP"
      },
      "execution_count": null,
      "outputs": []
    },
    {
      "cell_type": "markdown",
      "source": [
        "Lets see the shape of each partition"
      ],
      "metadata": {
        "id": "ATZU44Yzu5S3"
      }
    },
    {
      "cell_type": "code",
      "source": [
        "logger.info(\"Train x: {}\".format(train_x.shape))\n",
        "logger.info(\"Train y: {}\".format(train_y.shape))\n",
        "logger.info(\"Validation x: {}\".format(val_x.shape))\n",
        "logger.info(\"Validation y: {}\".format(val_y.shape))\n",
        "logger.info(\"Test x: {}\".format(test_x.shape))\n",
        "logger.info(\"Test y: {}\".format(test_y.shape))"
      ],
      "metadata": {
        "colab": {
          "base_uri": "https://localhost:8080/"
        },
        "id": "HasRk4N6u3eW",
        "outputId": "40ffbb98-5e2f-4320-f621-e515b833c73f"
      },
      "execution_count": null,
      "outputs": [
        {
          "output_type": "stream",
          "name": "stderr",
          "text": [
            "16-10-2022 03:07:01 Train x: (1687, 3072)\n",
            "16-10-2022 03:07:01 Train y: (1687,)\n",
            "16-10-2022 03:07:01 Validation x: (563, 3072)\n",
            "16-10-2022 03:07:01 Validation y: (563,)\n",
            "16-10-2022 03:07:01 Test x: (750, 3072)\n",
            "16-10-2022 03:07:01 Test y: (750,)\n"
          ]
        }
      ]
    },
    {
      "cell_type": "markdown",
      "source": [
        "So we have train data as 75% of the total data, validation data as 25% and the rest 25% for the test data"
      ],
      "metadata": {
        "id": "p3IOBYAhwuzR"
      }
    },
    {
      "cell_type": "markdown",
      "source": [
        "### Dumping the train, validation and test data artifacts to disk and upload to W&B"
      ],
      "metadata": {
        "id": "wv3jWa9xvxHY"
      }
    },
    {
      "cell_type": "markdown",
      "source": [
        "Now that we are done, we can save the artifacts using joblib"
      ],
      "metadata": {
        "id": "OKEj4-wHvB8A"
      }
    },
    {
      "cell_type": "code",
      "source": [
        "joblib.dump(train_x, args[\"train_feature_artifact\"])\n",
        "joblib.dump(train_y, args[\"train_target_artifact\"])\n",
        "joblib.dump(val_x, args[\"val_feature_artifact\"])\n",
        "joblib.dump(val_y, args[\"val_target_artifact\"])\n",
        "joblib.dump(test_x, args[\"test_feature_artifact\"])\n",
        "joblib.dump(test_y, args[\"test_target_artifact\"])\n",
        "\n",
        "logger.info(\"Dumping the train and validation data artifacts to the disk\")"
      ],
      "metadata": {
        "colab": {
          "base_uri": "https://localhost:8080/"
        },
        "id": "b8Y5iRNJvBkE",
        "outputId": "69a75e91-5c75-475a-e7f4-b6d040e5c85e"
      },
      "execution_count": null,
      "outputs": [
        {
          "output_type": "stream",
          "name": "stderr",
          "text": [
            "16-10-2022 03:08:30 Dumping the train and validation data artifacts to the disk\n"
          ]
        }
      ]
    },
    {
      "cell_type": "markdown",
      "source": [
        "**Train X Artifact:**"
      ],
      "metadata": {
        "id": "grNMwLywvNSl"
      }
    },
    {
      "cell_type": "code",
      "source": [
        "# train_x artifact\n",
        "artifact = wandb.Artifact(args[\"train_feature_artifact\"],\n",
        "                          type=\"TRAIN_DATA\",\n",
        "                          description=\"A json file representing the train_x\"\n",
        "                          )\n",
        "\n",
        "logger.info(\"Logging train_x artifact\")\n",
        "artifact.add_file(args[\"train_feature_artifact\"])\n",
        "run.log_artifact(artifact)"
      ],
      "metadata": {
        "colab": {
          "base_uri": "https://localhost:8080/"
        },
        "id": "Ri5DDlK0vRD7",
        "outputId": "5f3d0791-2f11-4493-83bb-a6d5bbb5b191"
      },
      "execution_count": null,
      "outputs": [
        {
          "output_type": "stream",
          "name": "stderr",
          "text": [
            "16-10-2022 03:08:37 Logging train_x artifact\n"
          ]
        },
        {
          "output_type": "execute_result",
          "data": {
            "text/plain": [
              "<wandb.sdk.wandb_artifacts.Artifact at 0x7fa9a31b31d0>"
            ]
          },
          "metadata": {},
          "execution_count": 16
        }
      ]
    },
    {
      "cell_type": "markdown",
      "source": [
        "**Train Y Artifact:**"
      ],
      "metadata": {
        "id": "EKgiGCONvRQi"
      }
    },
    {
      "cell_type": "code",
      "source": [
        "# train_y artifact\n",
        "artifact = wandb.Artifact(args[\"train_target_artifact\"],\n",
        "                          type=\"TRAIN_DATA\",\n",
        "                          description=\"A json file representing the train_y\"\n",
        "                          )\n",
        "\n",
        "logger.info(\"Logging train_y artifact\")\n",
        "artifact.add_file(args[\"train_target_artifact\"])\n",
        "run.log_artifact(artifact)"
      ],
      "metadata": {
        "colab": {
          "base_uri": "https://localhost:8080/"
        },
        "id": "lLfz8vlNvXZ2",
        "outputId": "a0fccee1-70c4-4251-9a48-d2be5b0e67dd"
      },
      "execution_count": null,
      "outputs": [
        {
          "output_type": "stream",
          "name": "stderr",
          "text": [
            "16-10-2022 03:08:56 Logging train_y artifact\n"
          ]
        },
        {
          "output_type": "execute_result",
          "data": {
            "text/plain": [
              "<wandb.sdk.wandb_artifacts.Artifact at 0x7fa9a31ac750>"
            ]
          },
          "metadata": {},
          "execution_count": 17
        }
      ]
    },
    {
      "cell_type": "markdown",
      "source": [
        "**Validation X Artifact:**"
      ],
      "metadata": {
        "id": "GydbiSpdvXxj"
      }
    },
    {
      "cell_type": "code",
      "source": [
        "# val_x artifact\n",
        "artifact = wandb.Artifact(args[\"val_feature_artifact\"],\n",
        "                          type=\"VAL_DATA\",\n",
        "                          description=\"A json file representing the val_x\"\n",
        "                          )\n",
        "\n",
        "logger.info(\"Logging val_x artifact\")\n",
        "artifact.add_file(args[\"val_feature_artifact\"])\n",
        "run.log_artifact(artifact)"
      ],
      "metadata": {
        "colab": {
          "base_uri": "https://localhost:8080/"
        },
        "id": "PuYCFUltvbQF",
        "outputId": "016e12a9-5ab4-4a09-965e-a6b0e9f1c030"
      },
      "execution_count": null,
      "outputs": [
        {
          "output_type": "stream",
          "name": "stderr",
          "text": [
            "16-10-2022 03:08:59 Logging val_x artifact\n"
          ]
        },
        {
          "output_type": "execute_result",
          "data": {
            "text/plain": [
              "<wandb.sdk.wandb_artifacts.Artifact at 0x7fa9a31ac410>"
            ]
          },
          "metadata": {},
          "execution_count": 18
        }
      ]
    },
    {
      "cell_type": "markdown",
      "source": [
        "**Validation Y Artifact:**"
      ],
      "metadata": {
        "id": "43RduXFwvdLj"
      }
    },
    {
      "cell_type": "code",
      "source": [
        "# val_y artifact\n",
        "artifact = wandb.Artifact(args[\"val_target_artifact\"],\n",
        "                          type=\"VAL_DATA\",\n",
        "                          description=\"A json file representing the val_y\"\n",
        "                          )\n",
        "\n",
        "logger.info(\"Logging val_y artifact\")\n",
        "artifact.add_file(args[\"val_target_artifact\"])\n",
        "run.log_artifact(artifact)"
      ],
      "metadata": {
        "colab": {
          "base_uri": "https://localhost:8080/"
        },
        "id": "Yds4SSv0vcSK",
        "outputId": "c17f51a6-263c-4570-864e-c7346db96da8"
      },
      "execution_count": null,
      "outputs": [
        {
          "output_type": "stream",
          "name": "stderr",
          "text": [
            "16-10-2022 03:09:06 Logging val_y artifact\n"
          ]
        },
        {
          "output_type": "execute_result",
          "data": {
            "text/plain": [
              "<wandb.sdk.wandb_artifacts.Artifact at 0x7fa9a31acad0>"
            ]
          },
          "metadata": {},
          "execution_count": 19
        }
      ]
    },
    {
      "cell_type": "markdown",
      "source": [
        "**Test X Artifact:**"
      ],
      "metadata": {
        "id": "gK3cm4EFvbls"
      }
    },
    {
      "cell_type": "code",
      "source": [
        "# test_x artifact\n",
        "artifact = wandb.Artifact(args[\"test_feature_artifact\"],\n",
        "                          type=\"TEST_DATA\",\n",
        "                          description=\"A json file representing the test_x\"\n",
        "                          )\n",
        "\n",
        "logger.info(\"Logging test_x artifact\")\n",
        "artifact.add_file(args[\"test_feature_artifact\"])\n",
        "run.log_artifact(artifact)"
      ],
      "metadata": {
        "colab": {
          "base_uri": "https://localhost:8080/"
        },
        "id": "aAwEMQW9vkxd",
        "outputId": "682f4c3c-c71c-4354-9e94-e8a492a7542a"
      },
      "execution_count": null,
      "outputs": [
        {
          "output_type": "stream",
          "name": "stderr",
          "text": [
            "16-10-2022 03:09:08 Logging test_x artifact\n"
          ]
        },
        {
          "output_type": "execute_result",
          "data": {
            "text/plain": [
              "<wandb.sdk.wandb_artifacts.Artifact at 0x7fa9a31d41d0>"
            ]
          },
          "metadata": {},
          "execution_count": 20
        }
      ]
    },
    {
      "cell_type": "markdown",
      "source": [
        "**Test Y Artifact:**"
      ],
      "metadata": {
        "id": "WUWieebHvk_-"
      }
    },
    {
      "cell_type": "code",
      "source": [
        "# test_y artifact\n",
        "artifact = wandb.Artifact(args[\"test_target_artifact\"],\n",
        "                          type=\"TEST_DATA\",\n",
        "                          description=\"A json file representing the test_y\"\n",
        "                          )\n",
        "\n",
        "logger.info(\"Logging test_y artifact\")\n",
        "artifact.add_file(args[\"test_target_artifact\"])\n",
        "run.log_artifact(artifact)"
      ],
      "metadata": {
        "colab": {
          "base_uri": "https://localhost:8080/"
        },
        "id": "rxN_eDy7vodC",
        "outputId": "ab684eaf-c6a4-4e49-daf2-8db6d02bad27"
      },
      "execution_count": null,
      "outputs": [
        {
          "output_type": "stream",
          "name": "stderr",
          "text": [
            "16-10-2022 03:09:12 Logging test_y artifact\n"
          ]
        },
        {
          "output_type": "execute_result",
          "data": {
            "text/plain": [
              "<wandb.sdk.wandb_artifacts.Artifact at 0x7fa9a31e5450>"
            ]
          },
          "metadata": {},
          "execution_count": 21
        }
      ]
    },
    {
      "cell_type": "markdown",
      "source": [
        "End the part of the project"
      ],
      "metadata": {
        "id": "dAs38D56XFPF"
      }
    },
    {
      "cell_type": "code",
      "source": [
        "run.finish()"
      ],
      "metadata": {
        "colab": {
          "base_uri": "https://localhost:8080/",
          "height": 150,
          "referenced_widgets": [
            "a1744d6063674058bcf86761b0bc1f8f",
            "3bcd4f27583b4e56929840340eb8f741",
            "5d0ab93baa1240f8a697ae6b15adf933",
            "1484e6a3b7d34c9eac032f9a5b1f144e",
            "9fc5d281b1ab4e9fb54950d2229daa58",
            "3d2682408cff43c291e5501342aa1705",
            "288e92abfbca445b8d949b06d9a0eb3d",
            "9cc770d450a24f469566b2bb4696d14b"
          ]
        },
        "id": "_xBRnU9-wFAC",
        "outputId": "a1fa2398-37e6-4181-b32f-446dcc3dd0b5"
      },
      "execution_count": null,
      "outputs": [
        {
          "output_type": "display_data",
          "data": {
            "text/plain": [
              "<IPython.core.display.HTML object>"
            ],
            "text/html": [
              "Waiting for W&B process to finish... <strong style=\"color:green\">(success).</strong>"
            ]
          },
          "metadata": {}
        },
        {
          "output_type": "display_data",
          "data": {
            "text/plain": [
              "VBox(children=(Label(value='8.848 MB of 8.848 MB uploaded (0.000 MB deduped)\\r'), FloatProgress(value=1.0, max…"
            ],
            "application/vnd.jupyter.widget-view+json": {
              "version_major": 2,
              "version_minor": 0,
              "model_id": "a1744d6063674058bcf86761b0bc1f8f"
            }
          },
          "metadata": {}
        },
        {
          "output_type": "display_data",
          "data": {
            "text/plain": [
              "<IPython.core.display.HTML object>"
            ],
            "text/html": [
              "Synced <strong style=\"color:#cdcd00\">restful-breeze-2</strong>: <a href=\"https://wandb.ai/euripedes/mlp_classifier/runs/27lgs2ya\" target=\"_blank\">https://wandb.ai/euripedes/mlp_classifier/runs/27lgs2ya</a><br/>Synced 5 W&B file(s), 0 media file(s), 6 artifact file(s) and 0 other file(s)"
            ]
          },
          "metadata": {}
        },
        {
          "output_type": "display_data",
          "data": {
            "text/plain": [
              "<IPython.core.display.HTML object>"
            ],
            "text/html": [
              "Find logs at: <code>./wandb/run-20221016_030641-27lgs2ya/logs</code>"
            ]
          },
          "metadata": {}
        }
      ]
    }
  ]
}