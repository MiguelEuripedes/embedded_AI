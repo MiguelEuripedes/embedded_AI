{
  "nbformat": 4,
  "nbformat_minor": 0,
  "metadata": {
    "colab": {
      "provenance": [],
      "authorship_tag": "ABX9TyOlSGN1WMJDaPVA+s92B3Wi",
      "include_colab_link": true
    },
    "kernelspec": {
      "name": "python3",
      "display_name": "Python 3"
    },
    "language_info": {
      "name": "python"
    }
  },
  "cells": [
    {
      "cell_type": "markdown",
      "metadata": {
        "id": "view-in-github",
        "colab_type": "text"
      },
      "source": [
        "<a href=\"https://colab.research.google.com/github/MiguelEuripedes/embedded_AI/blob/main/Projects/first_image_classifier/knn_classifier/Train_KNN.ipynb\" target=\"_parent\"><img src=\"https://colab.research.google.com/assets/colab-badge.svg\" alt=\"Open In Colab\"/></a>"
      ]
    },
    {
      "cell_type": "markdown",
      "source": [
        "# Your First Image Classifier: Using k-NN to Classify Images"
      ],
      "metadata": {
        "id": "EnhbTS99-SO7"
      }
    },
    {
      "cell_type": "markdown",
      "source": [
        "## Train\n",
        "\n",
        "The purpose of this dataset is to correctly classify an image as containing a dog, cat, or panda. Containing only 3,000 images, the Animals dataset is meant to be another introductory dataset that we can quickly train a KNN model and obtain initial results (no so good accuracy) that has potential to be used as a baseline.\n",
        "\n",
        "Let's take the following steps:\n",
        "\n",
        "1. Encoding target variable\n",
        "2. Training the KNN model\n",
        "3. Export the model\n"
      ],
      "metadata": {
        "id": "m50Kvu-Q-Soy"
      }
    },
    {
      "cell_type": "markdown",
      "source": [
        "### Step 01: Setup"
      ],
      "metadata": {
        "id": "a_jy755G-nGL"
      }
    },
    {
      "cell_type": "markdown",
      "source": [
        "Start out by installing the experiment tracking library and setting up your free W&B account:\n",
        "\n",
        "* **pip install wandb** – Install the W&B library\n",
        "* **import wandb** – Import the wandb library\n",
        "* **wandb login** – Login to your W&B account so you can log all your metrics in one place"
      ],
      "metadata": {
        "id": "_X6xLz0M_AoS"
      }
    },
    {
      "cell_type": "code",
      "source": [
        "!pip install wandb -qU"
      ],
      "metadata": {
        "colab": {
          "base_uri": "https://localhost:8080/"
        },
        "id": "L2KvvTcM--3V",
        "outputId": "ca362810-6cf3-4f07-ac3c-6e95903d2da3"
      },
      "execution_count": null,
      "outputs": [
        {
          "output_type": "stream",
          "name": "stdout",
          "text": [
            "\u001b[K     |████████████████████████████████| 1.9 MB 5.3 MB/s \n",
            "\u001b[K     |████████████████████████████████| 162 kB 71.8 MB/s \n",
            "\u001b[K     |████████████████████████████████| 182 kB 49.3 MB/s \n",
            "\u001b[K     |████████████████████████████████| 63 kB 1.6 MB/s \n",
            "\u001b[K     |████████████████████████████████| 162 kB 71.9 MB/s \n",
            "\u001b[K     |████████████████████████████████| 158 kB 74.0 MB/s \n",
            "\u001b[K     |████████████████████████████████| 157 kB 60.7 MB/s \n",
            "\u001b[K     |████████████████████████████████| 157 kB 55.7 MB/s \n",
            "\u001b[K     |████████████████████████████████| 157 kB 68.6 MB/s \n",
            "\u001b[K     |████████████████████████████████| 157 kB 66.7 MB/s \n",
            "\u001b[K     |████████████████████████████████| 157 kB 60.9 MB/s \n",
            "\u001b[K     |████████████████████████████████| 157 kB 55.3 MB/s \n",
            "\u001b[K     |████████████████████████████████| 157 kB 56.6 MB/s \n",
            "\u001b[K     |████████████████████████████████| 156 kB 74.3 MB/s \n",
            "\u001b[?25h  Building wheel for pathtools (setup.py) ... \u001b[?25l\u001b[?25hdone\n"
          ]
        }
      ]
    },
    {
      "cell_type": "code",
      "source": [
        "import wandb\n",
        "wandb.login()"
      ],
      "metadata": {
        "colab": {
          "base_uri": "https://localhost:8080/",
          "height": 139
        },
        "id": "LYjW8YQD_Hzs",
        "outputId": "1a273729-d5bf-4ae9-8fde-6e7ee9acca75"
      },
      "execution_count": null,
      "outputs": [
        {
          "output_type": "stream",
          "name": "stderr",
          "text": [
            "ERROR:wandb.jupyter:Failed to detect the name of this notebook, you can set it manually with the WANDB_NOTEBOOK_NAME environment variable to enable code saving.\n"
          ]
        },
        {
          "output_type": "display_data",
          "data": {
            "text/plain": [
              "<IPython.core.display.Javascript object>"
            ],
            "application/javascript": [
              "\n",
              "        window._wandbApiKey = new Promise((resolve, reject) => {\n",
              "            function loadScript(url) {\n",
              "            return new Promise(function(resolve, reject) {\n",
              "                let newScript = document.createElement(\"script\");\n",
              "                newScript.onerror = reject;\n",
              "                newScript.onload = resolve;\n",
              "                document.body.appendChild(newScript);\n",
              "                newScript.src = url;\n",
              "            });\n",
              "            }\n",
              "            loadScript(\"https://cdn.jsdelivr.net/npm/postmate/build/postmate.min.js\").then(() => {\n",
              "            const iframe = document.createElement('iframe')\n",
              "            iframe.style.cssText = \"width:0;height:0;border:none\"\n",
              "            document.body.appendChild(iframe)\n",
              "            const handshake = new Postmate({\n",
              "                container: iframe,\n",
              "                url: 'https://wandb.ai/authorize'\n",
              "            });\n",
              "            const timeout = setTimeout(() => reject(\"Couldn't auto authenticate\"), 5000)\n",
              "            handshake.then(function(child) {\n",
              "                child.on('authorize', data => {\n",
              "                    clearTimeout(timeout)\n",
              "                    resolve(data)\n",
              "                });\n",
              "            });\n",
              "            })\n",
              "        });\n",
              "    "
            ]
          },
          "metadata": {}
        },
        {
          "output_type": "stream",
          "name": "stderr",
          "text": [
            "\u001b[34m\u001b[1mwandb\u001b[0m: Logging into wandb.ai. (Learn how to deploy a W&B server locally: https://wandb.me/wandb-server)\n",
            "\u001b[34m\u001b[1mwandb\u001b[0m: You can find your API key in your browser here: https://wandb.ai/authorize\n",
            "wandb: Paste an API key from your profile and hit enter, or press ctrl+c to quit: "
          ]
        },
        {
          "name": "stdout",
          "output_type": "stream",
          "text": [
            "··········\n"
          ]
        },
        {
          "output_type": "stream",
          "name": "stderr",
          "text": [
            "\u001b[34m\u001b[1mwandb\u001b[0m: Appending key for api.wandb.ai to your netrc file: /root/.netrc\n"
          ]
        },
        {
          "output_type": "execute_result",
          "data": {
            "text/plain": [
              "True"
            ]
          },
          "metadata": {},
          "execution_count": 2
        }
      ]
    },
    {
      "cell_type": "markdown",
      "source": [
        "#### Import Packeges"
      ],
      "metadata": {
        "id": "mAxC3AQp_IpL"
      }
    },
    {
      "cell_type": "markdown",
      "source": [
        "Import the necessary packages"
      ],
      "metadata": {
        "id": "VMcZKM5c_OMS"
      }
    },
    {
      "cell_type": "code",
      "execution_count": null,
      "metadata": {
        "id": "ovwVBRvd-CHe"
      },
      "outputs": [],
      "source": [
        "from imutils import paths\n",
        "import logging\n",
        "import os\n",
        "import cv2\n",
        "import numpy as np\n",
        "import joblib\n",
        "from sklearn.preprocessing import LabelEncoder\n",
        "from sklearn.neighbors import KNeighborsClassifier"
      ]
    },
    {
      "cell_type": "markdown",
      "source": [
        "Configure logging reference for a logging object"
      ],
      "metadata": {
        "id": "M88CXPhL_ZNv"
      }
    },
    {
      "cell_type": "code",
      "source": [
        "logger = logging.getLogger()"
      ],
      "metadata": {
        "id": "R5bYPWMt_dY4"
      },
      "execution_count": null,
      "outputs": []
    },
    {
      "cell_type": "markdown",
      "source": [
        "Set level of logging"
      ],
      "metadata": {
        "id": "g16hqc-b_dmb"
      }
    },
    {
      "cell_type": "code",
      "source": [
        "logger.setLevel(logging.INFO)"
      ],
      "metadata": {
        "id": "vHmL5pvE_f-v"
      },
      "execution_count": null,
      "outputs": []
    },
    {
      "cell_type": "markdown",
      "source": [
        "Create handlers"
      ],
      "metadata": {
        "id": "SMMG7iai_gqS"
      }
    },
    {
      "cell_type": "code",
      "source": [
        "c_handler = logging.StreamHandler()\n",
        "c_format = logging.Formatter(fmt=\"%(asctime)s %(message)s\",datefmt='%d-%m-%Y %H:%M:%S')\n",
        "c_handler.setFormatter(c_format)"
      ],
      "metadata": {
        "id": "Wwyxa3d3_isF"
      },
      "execution_count": null,
      "outputs": []
    },
    {
      "cell_type": "markdown",
      "source": [
        "Add handler to the logger"
      ],
      "metadata": {
        "id": "wNu27FVp_i_j"
      }
    },
    {
      "cell_type": "code",
      "source": [
        "logger.handlers[0] = c_handler"
      ],
      "metadata": {
        "id": "e6p_82hn_ldw"
      },
      "execution_count": null,
      "outputs": []
    },
    {
      "cell_type": "markdown",
      "source": [
        "### Step 02: Trainning"
      ],
      "metadata": {
        "id": "Fk9pFpVk-rMS"
      }
    },
    {
      "cell_type": "markdown",
      "source": [
        "Since we are using Jupyter Notebooks we can replace our argument parsing code with *hard coded* arguments and values"
      ],
      "metadata": {
        "id": "84cBEHQL_rwT"
      }
    },
    {
      "cell_type": "code",
      "source": [
        "args = {\n",
        "  \"project_name\": \"first_image_classifier\",\n",
        "  \"train_feature_artifact\": \"train_x:latest\",\n",
        "  \"train_target_artifact\": \"train_y:latest\",\n",
        "  \"neighbors\": 1,\n",
        "  \"jobs\": -1,\n",
        "  \"encoder\": \"target_encoder\",\n",
        "  \"inference_model\": \"model\"\n",
        "}"
      ],
      "metadata": {
        "id": "OZvlHxDE_Lpm"
      },
      "execution_count": null,
      "outputs": []
    },
    {
      "cell_type": "markdown",
      "source": [
        "Open the W&B project created in the Fetch step"
      ],
      "metadata": {
        "id": "uYcaUF73_u0F"
      }
    },
    {
      "cell_type": "code",
      "source": [
        "run = wandb.init(entity=\"euripedes\",project=args[\"project_name\"], job_type=\"Train\")"
      ],
      "metadata": {
        "colab": {
          "base_uri": "https://localhost:8080/",
          "height": 86
        },
        "id": "LTxdwIzK_wmQ",
        "outputId": "4fe1a1be-4d5b-4159-b637-679ce333d8b9"
      },
      "execution_count": null,
      "outputs": [
        {
          "output_type": "stream",
          "name": "stderr",
          "text": [
            "\u001b[34m\u001b[1mwandb\u001b[0m: Currently logged in as: \u001b[33meuripedes\u001b[0m. Use \u001b[1m`wandb login --relogin`\u001b[0m to force relogin\n"
          ]
        },
        {
          "output_type": "display_data",
          "data": {
            "text/plain": [
              "<IPython.core.display.HTML object>"
            ],
            "text/html": [
              "Tracking run with wandb version 0.13.4"
            ]
          },
          "metadata": {}
        },
        {
          "output_type": "display_data",
          "data": {
            "text/plain": [
              "<IPython.core.display.HTML object>"
            ],
            "text/html": [
              "Run data is saved locally in <code>/content/wandb/run-20221013_014410-3lxrwonx</code>"
            ]
          },
          "metadata": {}
        },
        {
          "output_type": "display_data",
          "data": {
            "text/plain": [
              "<IPython.core.display.HTML object>"
            ],
            "text/html": [
              "Syncing run <strong><a href=\"https://wandb.ai/euripedes/first_image_classifier/runs/3lxrwonx\" target=\"_blank\">wandering-glitter-4</a></strong> to <a href=\"https://wandb.ai/euripedes/first_image_classifier\" target=\"_blank\">Weights & Biases</a> (<a href=\"https://wandb.me/run\" target=\"_blank\">docs</a>)<br/>"
            ]
          },
          "metadata": {}
        }
      ]
    },
    {
      "cell_type": "code",
      "source": [
        "logger.info(\"Downloading the training data\")\n",
        "train_x_artifact = run.use_artifact(args[\"train_feature_artifact\"])\n",
        "train_x_path = train_x_artifact.file()\n",
        "train_y_artifact = run.use_artifact(args[\"train_target_artifact\"])\n",
        "train_y_path = train_y_artifact.file()"
      ],
      "metadata": {
        "colab": {
          "base_uri": "https://localhost:8080/"
        },
        "id": "AWIihSEN_x_5",
        "outputId": "67d9c9f9-9c56-431f-8083-b8fa44723a60"
      },
      "execution_count": null,
      "outputs": [
        {
          "output_type": "stream",
          "name": "stderr",
          "text": [
            "13-10-2022 01:44:17 Downloading the training data\n"
          ]
        }
      ]
    },
    {
      "cell_type": "markdown",
      "source": [
        "Unpacking the artifacts"
      ],
      "metadata": {
        "id": "V8JjuSsC_yYC"
      }
    },
    {
      "cell_type": "code",
      "source": [
        "train_x = joblib.load(train_x_path)\n",
        "train_y = joblib.load(train_y_path)"
      ],
      "metadata": {
        "id": "tMvpoG1k_yt8"
      },
      "execution_count": null,
      "outputs": []
    },
    {
      "cell_type": "markdown",
      "source": [
        " Encode the labels as integers"
      ],
      "metadata": {
        "id": "W1zHsZgsABNf"
      }
    },
    {
      "cell_type": "code",
      "source": [
        "le = LabelEncoder()"
      ],
      "metadata": {
        "id": "TgNaJ4c-AECS"
      },
      "execution_count": null,
      "outputs": []
    },
    {
      "cell_type": "code",
      "source": [
        "train_y = le.fit_transform(train_y)"
      ],
      "metadata": {
        "id": "rnQNoZRsAHup"
      },
      "execution_count": null,
      "outputs": []
    },
    {
      "cell_type": "markdown",
      "source": [
        "Train a k-NN classifier on the raw pixel intensities"
      ],
      "metadata": {
        "id": "r4i0WkBqAJfO"
      }
    },
    {
      "cell_type": "code",
      "source": [
        "logger.info(\"[INFO] training k-NN classifier...\")"
      ],
      "metadata": {
        "colab": {
          "base_uri": "https://localhost:8080/"
        },
        "id": "_Jj06ncaANgI",
        "outputId": "877f8f87-aaea-474e-ca5b-8a5212c82f9e"
      },
      "execution_count": null,
      "outputs": [
        {
          "output_type": "stream",
          "name": "stderr",
          "text": [
            "13-10-2022 01:44:34 [INFO] training k-NN classifier...\n"
          ]
        }
      ]
    },
    {
      "cell_type": "code",
      "source": [
        "model = KNeighborsClassifier(n_neighbors=args[\"neighbors\"],n_jobs=args[\"jobs\"])\n",
        "model.fit(train_x, train_y)"
      ],
      "metadata": {
        "colab": {
          "base_uri": "https://localhost:8080/"
        },
        "id": "I00h_FwCAPjz",
        "outputId": "cc6f52d1-924e-4a27-b13f-714d6dec0c18"
      },
      "execution_count": null,
      "outputs": [
        {
          "output_type": "execute_result",
          "data": {
            "text/plain": [
              "KNeighborsClassifier(n_jobs=-1, n_neighbors=1)"
            ]
          },
          "metadata": {},
          "execution_count": 15
        }
      ]
    },
    {
      "cell_type": "code",
      "source": [
        "logger.info(\"Dumping the model and encoder artifacts to the disk\")"
      ],
      "metadata": {
        "colab": {
          "base_uri": "https://localhost:8080/"
        },
        "id": "FU7Uws6TASdZ",
        "outputId": "4e9ac9e5-a7cd-47c9-834c-6f4097ca609a"
      },
      "execution_count": null,
      "outputs": [
        {
          "output_type": "stream",
          "name": "stderr",
          "text": [
            "13-10-2022 01:44:38 Dumping the model and encoder artifacts to the disk\n"
          ]
        }
      ]
    },
    {
      "cell_type": "markdown",
      "source": [
        "Save the artifacts using joblib"
      ],
      "metadata": {
        "id": "T8_aoP6KAU3f"
      }
    },
    {
      "cell_type": "code",
      "source": [
        "joblib.dump(le, args[\"encoder\"])\n",
        "joblib.dump(model, args[\"inference_model\"])"
      ],
      "metadata": {
        "colab": {
          "base_uri": "https://localhost:8080/"
        },
        "id": "CyytOGwJAWSW",
        "outputId": "2f97f8ae-d3f3-4aca-d17a-5ef0677168e1"
      },
      "execution_count": null,
      "outputs": [
        {
          "output_type": "execute_result",
          "data": {
            "text/plain": [
              "['model']"
            ]
          },
          "metadata": {},
          "execution_count": 17
        }
      ]
    },
    {
      "cell_type": "markdown",
      "source": [
        "Encoder artifact"
      ],
      "metadata": {
        "id": "DHI9A-dWAYcP"
      }
    },
    {
      "cell_type": "code",
      "source": [
        "artifact = wandb.Artifact(args[\"encoder\"],\n",
        "                          type=\"INFERENCE_MODEL\",\n",
        "                          description=\"A json file representing the target encoder\"\n",
        "                          )\n",
        "\n",
        "logger.info(\"Logging the target encoder artifact\")\n",
        "artifact.add_file(args[\"encoder\"])\n",
        "run.log_artifact(artifact)"
      ],
      "metadata": {
        "colab": {
          "base_uri": "https://localhost:8080/"
        },
        "id": "29lyOg-3AZfE",
        "outputId": "581ba98d-8f25-4556-ca59-f8f33bb32d1f"
      },
      "execution_count": null,
      "outputs": [
        {
          "output_type": "stream",
          "name": "stderr",
          "text": [
            "13-10-2022 01:44:50 Logging the target encoder artifact\n"
          ]
        },
        {
          "output_type": "execute_result",
          "data": {
            "text/plain": [
              "<wandb.sdk.wandb_artifacts.Artifact at 0x7f32b4cb40d0>"
            ]
          },
          "metadata": {},
          "execution_count": 18
        }
      ]
    },
    {
      "cell_type": "markdown",
      "source": [
        "Inference model artifact"
      ],
      "metadata": {
        "id": "dipiTudNAa7y"
      }
    },
    {
      "cell_type": "code",
      "source": [
        "artifact = wandb.Artifact(args[\"inference_model\"],\n",
        "                          type=\"INFERENCE_MODEL\",\n",
        "                          description=\"A json file representing the inference model\"\n",
        "                          )\n",
        "\n",
        "logger.info(\"Logging the inference model artifact\")\n",
        "artifact.add_file(args[\"inference_model\"])\n",
        "run.log_artifact(artifact)"
      ],
      "metadata": {
        "colab": {
          "base_uri": "https://localhost:8080/"
        },
        "id": "CpuDC5I7ActK",
        "outputId": "39d78282-d45d-4d27-e9bf-5eee34267b66"
      },
      "execution_count": null,
      "outputs": [
        {
          "output_type": "stream",
          "name": "stderr",
          "text": [
            "13-10-2022 01:44:52 Logging the inference model artifact\n"
          ]
        },
        {
          "output_type": "execute_result",
          "data": {
            "text/plain": [
              "<wandb.sdk.wandb_artifacts.Artifact at 0x7f32b5d09d50>"
            ]
          },
          "metadata": {},
          "execution_count": 19
        }
      ]
    },
    {
      "cell_type": "code",
      "source": [
        "run.finish()"
      ],
      "metadata": {
        "colab": {
          "base_uri": "https://localhost:8080/",
          "height": 86
        },
        "id": "syPtOdVcAe64",
        "outputId": "ddfc86db-d55a-4c68-b885-f2989cb60257"
      },
      "execution_count": null,
      "outputs": [
        {
          "output_type": "display_data",
          "data": {
            "text/plain": [
              "<IPython.core.display.HTML object>"
            ],
            "text/html": [
              "Waiting for W&B process to finish... <strong style=\"color:green\">(success).</strong>"
            ]
          },
          "metadata": {}
        },
        {
          "output_type": "display_data",
          "data": {
            "text/plain": [
              "<IPython.core.display.HTML object>"
            ],
            "text/html": [
              "Synced <strong style=\"color:#cdcd00\">wandering-glitter-4</strong>: <a href=\"https://wandb.ai/euripedes/first_image_classifier/runs/3lxrwonx\" target=\"_blank\">https://wandb.ai/euripedes/first_image_classifier/runs/3lxrwonx</a><br/>Synced 5 W&B file(s), 0 media file(s), 2 artifact file(s) and 0 other file(s)"
            ]
          },
          "metadata": {}
        },
        {
          "output_type": "display_data",
          "data": {
            "text/plain": [
              "<IPython.core.display.HTML object>"
            ],
            "text/html": [
              "Find logs at: <code>./wandb/run-20221013_014410-3lxrwonx/logs</code>"
            ]
          },
          "metadata": {}
        }
      ]
    }
  ]
}