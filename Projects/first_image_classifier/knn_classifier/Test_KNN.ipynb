{
  "nbformat": 4,
  "nbformat_minor": 0,
  "metadata": {
    "colab": {
      "provenance": [],
      "authorship_tag": "ABX9TyNuCcqq8G1ZcZ2/IFvuYU+n",
      "include_colab_link": true
    },
    "kernelspec": {
      "name": "python3",
      "display_name": "Python 3"
    },
    "language_info": {
      "name": "python"
    }
  },
  "cells": [
    {
      "cell_type": "markdown",
      "metadata": {
        "id": "view-in-github",
        "colab_type": "text"
      },
      "source": [
        "<a href=\"https://colab.research.google.com/github/MiguelEuripedes/embedded_AI/blob/main/Projects/first_image_classifier/knn_classifier/Test_KNN.ipynb\" target=\"_parent\"><img src=\"https://colab.research.google.com/assets/colab-badge.svg\" alt=\"Open In Colab\"/></a>"
      ]
    },
    {
      "cell_type": "markdown",
      "source": [
        "# Your First Image Classifier: Using k-NN to Classify Images"
      ],
      "metadata": {
        "id": "CUE3ZJVZBbhQ"
      }
    },
    {
      "cell_type": "markdown",
      "source": [
        "## Test\n",
        "\n",
        "The purpose of this dataset is to correctly classify an image as containing a dog, cat, or panda. Containing only 3,000 images, the Animals dataset is meant to be another introductory dataset that we can quickly train a KNN model and obtain initial results (no so good accuracy) that has potential to be used as a baseline.\n",
        "\n",
        "Let's take the following steps:\n",
        "\n",
        "1. Download the encoder and model artifacts\n",
        "2. Evaluate the model using the test dataset\n",
        "3. Create an interactive table\n"
      ],
      "metadata": {
        "id": "qUk5XihYBeD2"
      }
    },
    {
      "cell_type": "markdown",
      "source": [
        "### Step 01: Setup\n",
        "\n",
        "Start out by installing the experiment tracking library and setting up your free W&B account:\n",
        "\n",
        "* **pip install wandb** – Install the W&B library\n",
        "* **import wandb** – Import the wandb library\n",
        "* **wandb login** – Login to your W&B account so you can log all your metrics in one place"
      ],
      "metadata": {
        "id": "2Ujpe2yyBl1b"
      }
    },
    {
      "cell_type": "code",
      "execution_count": null,
      "metadata": {
        "colab": {
          "base_uri": "https://localhost:8080/"
        },
        "id": "fdEvazFPBTTE",
        "outputId": "8d554a6a-ce69-415a-8a76-d1af2343fbb3"
      },
      "outputs": [
        {
          "output_type": "stream",
          "name": "stdout",
          "text": [
            "\u001b[K     |████████████████████████████████| 1.9 MB 5.3 MB/s \n",
            "\u001b[K     |████████████████████████████████| 182 kB 65.3 MB/s \n",
            "\u001b[K     |████████████████████████████████| 162 kB 45.9 MB/s \n",
            "\u001b[K     |████████████████████████████████| 63 kB 1.6 MB/s \n",
            "\u001b[K     |████████████████████████████████| 162 kB 47.6 MB/s \n",
            "\u001b[K     |████████████████████████████████| 158 kB 50.4 MB/s \n",
            "\u001b[K     |████████████████████████████████| 157 kB 48.9 MB/s \n",
            "\u001b[K     |████████████████████████████████| 157 kB 62.0 MB/s \n",
            "\u001b[K     |████████████████████████████████| 157 kB 66.5 MB/s \n",
            "\u001b[K     |████████████████████████████████| 157 kB 59.8 MB/s \n",
            "\u001b[K     |████████████████████████████████| 157 kB 66.9 MB/s \n",
            "\u001b[K     |████████████████████████████████| 157 kB 54.8 MB/s \n",
            "\u001b[K     |████████████████████████████████| 157 kB 64.0 MB/s \n",
            "\u001b[K     |████████████████████████████████| 156 kB 42.4 MB/s \n",
            "\u001b[?25h  Building wheel for pathtools (setup.py) ... \u001b[?25l\u001b[?25hdone\n"
          ]
        }
      ],
      "source": [
        "!pip install wandb -qU"
      ]
    },
    {
      "cell_type": "code",
      "source": [
        "import wandb\n",
        "wandb.login()"
      ],
      "metadata": {
        "colab": {
          "base_uri": "https://localhost:8080/",
          "height": 86
        },
        "id": "3C28pkfLBw5x",
        "outputId": "a61937e9-4bf7-4be6-b99a-5653d7e15571"
      },
      "execution_count": null,
      "outputs": [
        {
          "output_type": "stream",
          "name": "stderr",
          "text": [
            "ERROR:wandb.jupyter:Failed to detect the name of this notebook, you can set it manually with the WANDB_NOTEBOOK_NAME environment variable to enable code saving.\n"
          ]
        },
        {
          "output_type": "display_data",
          "data": {
            "text/plain": [
              "<IPython.core.display.Javascript object>"
            ],
            "application/javascript": [
              "\n",
              "        window._wandbApiKey = new Promise((resolve, reject) => {\n",
              "            function loadScript(url) {\n",
              "            return new Promise(function(resolve, reject) {\n",
              "                let newScript = document.createElement(\"script\");\n",
              "                newScript.onerror = reject;\n",
              "                newScript.onload = resolve;\n",
              "                document.body.appendChild(newScript);\n",
              "                newScript.src = url;\n",
              "            });\n",
              "            }\n",
              "            loadScript(\"https://cdn.jsdelivr.net/npm/postmate/build/postmate.min.js\").then(() => {\n",
              "            const iframe = document.createElement('iframe')\n",
              "            iframe.style.cssText = \"width:0;height:0;border:none\"\n",
              "            document.body.appendChild(iframe)\n",
              "            const handshake = new Postmate({\n",
              "                container: iframe,\n",
              "                url: 'https://wandb.ai/authorize'\n",
              "            });\n",
              "            const timeout = setTimeout(() => reject(\"Couldn't auto authenticate\"), 5000)\n",
              "            handshake.then(function(child) {\n",
              "                child.on('authorize', data => {\n",
              "                    clearTimeout(timeout)\n",
              "                    resolve(data)\n",
              "                });\n",
              "            });\n",
              "            })\n",
              "        });\n",
              "    "
            ]
          },
          "metadata": {}
        },
        {
          "output_type": "stream",
          "name": "stderr",
          "text": [
            "\u001b[34m\u001b[1mwandb\u001b[0m: Appending key for api.wandb.ai to your netrc file: /root/.netrc\n"
          ]
        },
        {
          "output_type": "execute_result",
          "data": {
            "text/plain": [
              "True"
            ]
          },
          "metadata": {},
          "execution_count": 2
        }
      ]
    },
    {
      "cell_type": "markdown",
      "source": [
        "#### Import Packages"
      ],
      "metadata": {
        "id": "7d4J7w9qBzS7"
      }
    },
    {
      "cell_type": "code",
      "source": [
        "from imutils import paths\n",
        "import logging\n",
        "import os\n",
        "import cv2\n",
        "import numpy as np\n",
        "import joblib\n",
        "from sklearn.preprocessing import LabelEncoder\n",
        "from sklearn.neighbors import KNeighborsClassifier\n",
        "from sklearn.metrics import classification_report\n",
        "from sklearn.metrics import fbeta_score, precision_score, recall_score, accuracy_score\n",
        "from sklearn.metrics import confusion_matrix\n",
        "from sklearn.metrics import ConfusionMatrixDisplay\n",
        "import matplotlib.pyplot as plt\n",
        "import re"
      ],
      "metadata": {
        "id": "-EsTIRlNB1jz"
      },
      "execution_count": null,
      "outputs": []
    },
    {
      "cell_type": "markdown",
      "source": [
        "Configure logging reference for a logging object"
      ],
      "metadata": {
        "id": "37DnBZjyB412"
      }
    },
    {
      "cell_type": "code",
      "source": [
        "logger = logging.getLogger()"
      ],
      "metadata": {
        "id": "Ek4RFRVlB9yU"
      },
      "execution_count": null,
      "outputs": []
    },
    {
      "cell_type": "markdown",
      "source": [
        "Set the level of logging"
      ],
      "metadata": {
        "id": "Hrr9abbaB_jG"
      }
    },
    {
      "cell_type": "code",
      "source": [
        "logger.setLevel(logging.INFO)"
      ],
      "metadata": {
        "id": "_Fob5_7JCBrY"
      },
      "execution_count": null,
      "outputs": []
    },
    {
      "cell_type": "markdown",
      "source": [
        "Create handler"
      ],
      "metadata": {
        "id": "f6QNkGk3CCOV"
      }
    },
    {
      "cell_type": "code",
      "source": [
        "c_handler = logging.StreamHandler()\n",
        "c_format = logging.Formatter(fmt=\"%(asctime)s %(message)s\",datefmt='%d-%m-%Y %H:%M:%S')\n",
        "c_handler.setFormatter(c_format)"
      ],
      "metadata": {
        "id": "F7TXbJ3GCFJg"
      },
      "execution_count": null,
      "outputs": []
    },
    {
      "cell_type": "markdown",
      "source": [
        "Add handler to the Logger"
      ],
      "metadata": {
        "id": "Zuue3WNqCFVA"
      }
    },
    {
      "cell_type": "code",
      "source": [
        "logger.handlers[0] = c_handler"
      ],
      "metadata": {
        "id": "TvonQyXuCIYt"
      },
      "execution_count": null,
      "outputs": []
    },
    {
      "cell_type": "markdown",
      "source": [
        "### Step 02: Test Evaluation"
      ],
      "metadata": {
        "id": "HnB-WiU7COQ2"
      }
    },
    {
      "cell_type": "markdown",
      "source": [
        "since we are using Jupyter Notebooks we can replace our argument parsing code with *hard coded* arguments and values"
      ],
      "metadata": {
        "id": "ALWd_ENcCRya"
      }
    },
    {
      "cell_type": "code",
      "source": [
        "args = {\n",
        "  \"project_name\": \"first_image_classifier\",\n",
        "  \"test_feature_artifact\": \"test_x:latest\",\n",
        "  \"test_target_artifact\": \"test_y:latest\",\n",
        "  \"encoder\": \"target_encoder:latest\",\n",
        "  \"inference_model\": \"model:latest\",\n",
        "  \"deploy\": \"inference_result\"\n",
        "}"
      ],
      "metadata": {
        "id": "CO5rhuzhCT0i"
      },
      "execution_count": null,
      "outputs": []
    },
    {
      "cell_type": "markdown",
      "source": [
        "Open the W&B project created in the Fetch step"
      ],
      "metadata": {
        "id": "eDsv-RtWCVXf"
      }
    },
    {
      "cell_type": "code",
      "source": [
        "run = wandb.init(entity=\"euripedes\",project=args[\"project_name\"], job_type=\"Test\")"
      ],
      "metadata": {
        "colab": {
          "base_uri": "https://localhost:8080/",
          "height": 86
        },
        "id": "76A_OteUCYSR",
        "outputId": "ce71dd5f-0e4f-4299-b8e9-0e88bc952694"
      },
      "execution_count": null,
      "outputs": [
        {
          "output_type": "stream",
          "name": "stderr",
          "text": [
            "\u001b[34m\u001b[1mwandb\u001b[0m: Currently logged in as: \u001b[33meuripedes\u001b[0m. Use \u001b[1m`wandb login --relogin`\u001b[0m to force relogin\n"
          ]
        },
        {
          "output_type": "display_data",
          "data": {
            "text/plain": [
              "<IPython.core.display.HTML object>"
            ],
            "text/html": [
              "Tracking run with wandb version 0.13.4"
            ]
          },
          "metadata": {}
        },
        {
          "output_type": "display_data",
          "data": {
            "text/plain": [
              "<IPython.core.display.HTML object>"
            ],
            "text/html": [
              "Run data is saved locally in <code>/content/wandb/run-20221013_020022-1sc557k5</code>"
            ]
          },
          "metadata": {}
        },
        {
          "output_type": "display_data",
          "data": {
            "text/plain": [
              "<IPython.core.display.HTML object>"
            ],
            "text/html": [
              "Syncing run <strong><a href=\"https://wandb.ai/euripedes/first_image_classifier/runs/1sc557k5\" target=\"_blank\">comfy-universe-5</a></strong> to <a href=\"https://wandb.ai/euripedes/first_image_classifier\" target=\"_blank\">Weights & Biases</a> (<a href=\"https://wandb.me/run\" target=\"_blank\">docs</a>)<br/>"
            ]
          },
          "metadata": {}
        }
      ]
    },
    {
      "cell_type": "code",
      "source": [
        "logger.info(\"Downloading the test data\")"
      ],
      "metadata": {
        "colab": {
          "base_uri": "https://localhost:8080/"
        },
        "id": "xW9-Qtx1C3fz",
        "outputId": "f12f5b8e-f85c-4037-e7b2-33e990d2fe4c"
      },
      "execution_count": null,
      "outputs": [
        {
          "output_type": "stream",
          "name": "stderr",
          "text": [
            "13-10-2022 02:00:27 Downloading the test data\n"
          ]
        }
      ]
    },
    {
      "cell_type": "code",
      "source": [
        "test_x_artifact = run.use_artifact(args[\"test_feature_artifact\"])\n",
        "test_x_path = test_x_artifact.file()\n",
        "test_y_artifact = run.use_artifact(args[\"test_target_artifact\"])\n",
        "test_y_path = test_y_artifact.file()"
      ],
      "metadata": {
        "id": "Qy6wQhsUCZ7j"
      },
      "execution_count": null,
      "outputs": []
    },
    {
      "cell_type": "markdown",
      "source": [
        "Unpacking the artifacts"
      ],
      "metadata": {
        "id": "q5-hxEn8ChGd"
      }
    },
    {
      "cell_type": "code",
      "source": [
        "test_x = joblib.load(test_x_path)\n",
        "test_y = joblib.load(test_y_path)"
      ],
      "metadata": {
        "id": "UVhjmRcVChZm"
      },
      "execution_count": null,
      "outputs": []
    },
    {
      "cell_type": "markdown",
      "source": [
        "---"
      ],
      "metadata": {
        "id": "6k2mVSjaCxaj"
      }
    },
    {
      "cell_type": "code",
      "source": [
        "logger.info(\"Downloading the encoder and inference model\")"
      ],
      "metadata": {
        "colab": {
          "base_uri": "https://localhost:8080/"
        },
        "id": "khWMGR1sClh7",
        "outputId": "ae2441f3-cc9c-494f-f0c2-7206b0c35913"
      },
      "execution_count": null,
      "outputs": [
        {
          "output_type": "stream",
          "name": "stderr",
          "text": [
            "13-10-2022 02:00:37 Downloading the encoder and inference model\n"
          ]
        }
      ]
    },
    {
      "cell_type": "code",
      "source": [
        "encoder_artifact = run.use_artifact(args[\"encoder\"])\n",
        "encoder_path = encoder_artifact.file()"
      ],
      "metadata": {
        "id": "t5F73CUtCp-c"
      },
      "execution_count": null,
      "outputs": []
    },
    {
      "cell_type": "code",
      "source": [
        "model_artifact = run.use_artifact(args[\"inference_model\"])\n",
        "model_path = model_artifact.file()"
      ],
      "metadata": {
        "id": "G5AfR0aKCsdx"
      },
      "execution_count": null,
      "outputs": []
    },
    {
      "cell_type": "markdown",
      "source": [
        "Unpacking the artifacts "
      ],
      "metadata": {
        "id": "T-sLX1b_C_Qu"
      }
    },
    {
      "cell_type": "code",
      "source": [
        "encoder = joblib.load(encoder_path)\n",
        "model = joblib.load(model_path)"
      ],
      "metadata": {
        "id": "0TObaGNrDD2-"
      },
      "execution_count": null,
      "outputs": []
    },
    {
      "cell_type": "markdown",
      "source": [
        "Encode the labels as integers"
      ],
      "metadata": {
        "id": "eMygfb-WDG1a"
      }
    },
    {
      "cell_type": "code",
      "source": [
        "test_y = encoder.transform(test_y)"
      ],
      "metadata": {
        "id": "tdL_3hgGDJEf"
      },
      "execution_count": null,
      "outputs": []
    },
    {
      "cell_type": "markdown",
      "source": [
        "Train a k-NN classifier on the raw pixel intensities"
      ],
      "metadata": {
        "id": "pFUarPRVDKXz"
      }
    },
    {
      "cell_type": "code",
      "source": [
        "logger.info(\"[INFO] evaluating k-NN classifier...\")\n",
        "predict = model.predict(test_x)"
      ],
      "metadata": {
        "colab": {
          "base_uri": "https://localhost:8080/"
        },
        "id": "uGIDTm7eDMeI",
        "outputId": "64347369-9377-4374-ee82-8783188d72ed"
      },
      "execution_count": null,
      "outputs": [
        {
          "output_type": "stream",
          "name": "stderr",
          "text": [
            "13-10-2022 02:00:46 [INFO] evaluating k-NN classifier...\n"
          ]
        }
      ]
    },
    {
      "cell_type": "code",
      "source": [
        "print(classification_report(test_y, predict,target_names=encoder.classes_))"
      ],
      "metadata": {
        "colab": {
          "base_uri": "https://localhost:8080/"
        },
        "id": "8vMSVwl7DVIN",
        "outputId": "4c13a007-d9b8-4f12-a89f-0f49ed9ee581"
      },
      "execution_count": null,
      "outputs": [
        {
          "output_type": "stream",
          "name": "stdout",
          "text": [
            "              precision    recall  f1-score   support\n",
            "\n",
            "        cats       0.42      0.53      0.47       239\n",
            "        dogs       0.37      0.51      0.43       249\n",
            "       panda       0.82      0.33      0.47       262\n",
            "\n",
            "    accuracy                           0.45       750\n",
            "   macro avg       0.54      0.46      0.46       750\n",
            "weighted avg       0.54      0.45      0.46       750\n",
            "\n"
          ]
        }
      ]
    },
    {
      "cell_type": "markdown",
      "source": [
        "#### Evaluation Metrics"
      ],
      "metadata": {
        "id": "RkeNkWjtDXLT"
      }
    },
    {
      "cell_type": "code",
      "source": [
        "logger.info(\"Test Evaluation metrics\")\n",
        "fbeta = fbeta_score(test_y, predict, beta=1, zero_division=1,average='weighted')\n",
        "precision = precision_score(test_y, predict, zero_division=1,average='weighted')\n",
        "recall = recall_score(test_y, predict, zero_division=1,average='weighted')\n",
        "acc = accuracy_score(test_y, predict)"
      ],
      "metadata": {
        "colab": {
          "base_uri": "https://localhost:8080/"
        },
        "id": "pZoUYUmYDZhx",
        "outputId": "b49a374d-5d4d-470a-9caf-274d2132f8bc"
      },
      "execution_count": null,
      "outputs": [
        {
          "output_type": "stream",
          "name": "stderr",
          "text": [
            "13-10-2022 02:00:55 Test Evaluation metrics\n"
          ]
        }
      ]
    },
    {
      "cell_type": "code",
      "source": [
        "logger.info(\"Test Accuracy: {}\".format(acc))\n",
        "logger.info(\"Test Precision: {}\".format(precision))\n",
        "logger.info(\"Test Recall: {}\".format(recall))\n",
        "logger.info(\"Test F1: {}\".format(fbeta))"
      ],
      "metadata": {
        "colab": {
          "base_uri": "https://localhost:8080/"
        },
        "id": "dE5UAddRDhbx",
        "outputId": "b00f7d42-b3a0-4843-853e-349ff1c64abc"
      },
      "execution_count": null,
      "outputs": [
        {
          "output_type": "stream",
          "name": "stderr",
          "text": [
            "13-10-2022 02:00:58 Test Accuracy: 0.45466666666666666\n",
            "13-10-2022 02:00:58 Test Precision: 0.5441814181443386\n",
            "13-10-2022 02:00:58 Test Recall: 0.45466666666666666\n",
            "13-10-2022 02:00:58 Test F1: 0.45752202864809943\n"
          ]
        }
      ]
    },
    {
      "cell_type": "code",
      "source": [
        "run.summary[\"Acc\"] = acc\n",
        "run.summary[\"Precision\"] = precision\n",
        "run.summary[\"Recall\"] = recall\n",
        "run.summary[\"F1\"] = fbeta"
      ],
      "metadata": {
        "id": "VDRfSosKDh8C"
      },
      "execution_count": null,
      "outputs": []
    },
    {
      "cell_type": "code",
      "source": [
        "encoder.classes_"
      ],
      "metadata": {
        "colab": {
          "base_uri": "https://localhost:8080/"
        },
        "id": "Vob5q7MSDj-V",
        "outputId": "b9ab3043-23df-4251-cc4d-1431457767ba"
      },
      "execution_count": null,
      "outputs": [
        {
          "output_type": "execute_result",
          "data": {
            "text/plain": [
              "array(['cats', 'dogs', 'panda'], dtype='<U5')"
            ]
          },
          "metadata": {},
          "execution_count": 23
        }
      ]
    },
    {
      "cell_type": "markdown",
      "source": [
        "Confusion matrix plot"
      ],
      "metadata": {
        "id": "T77fH7oaDm55"
      }
    },
    {
      "cell_type": "code",
      "source": [
        "fig_confusion_matrix, ax = plt.subplots(1,1,figsize=(7,4))\n",
        "ConfusionMatrixDisplay(confusion_matrix(predict,test_y),\n",
        "                       display_labels=encoder.classes_).plot(values_format=\".0f\",ax=ax)\n",
        "\n",
        "ax.set_xlabel(\"True Label\")\n",
        "ax.set_ylabel(\"Predicted Label\")\n",
        "plt.show()"
      ],
      "metadata": {
        "colab": {
          "base_uri": "https://localhost:8080/",
          "height": 279
        },
        "id": "gbx1iSWPDmDZ",
        "outputId": "e63909dd-0e14-4f7d-8417-deb7ef398a15"
      },
      "execution_count": null,
      "outputs": [
        {
          "output_type": "display_data",
          "data": {
            "text/plain": [
              "<Figure size 504x288 with 2 Axes>"
            ],
            "image/png": "[encoded data removed]"
          },
          "metadata": {
            "needs_background": "light"
          }
        }
      ]
    },
    {
      "cell_type": "markdown",
      "source": [
        "Uploading figures "
      ],
      "metadata": {
        "id": "FyNOp_zNDqD9"
      }
    },
    {
      "cell_type": "code",
      "source": [
        "logger.info(\"Uploading figures\")\n",
        "run.log(\n",
        "    {\n",
        "        \"confusion_matrix\": wandb.Image(fig_confusion_matrix),\n",
        "        # \"other_figure\": wandb.Image(other_fig)\n",
        "    }\n",
        ")"
      ],
      "metadata": {
        "colab": {
          "base_uri": "https://localhost:8080/"
        },
        "id": "S_TkkfQZDr21",
        "outputId": "f6e29c10-0590-4991-9060-883b2c9c23ff"
      },
      "execution_count": null,
      "outputs": [
        {
          "output_type": "stream",
          "name": "stderr",
          "text": [
            "13-10-2022 02:01:30 Uploading figures\n"
          ]
        }
      ]
    },
    {
      "cell_type": "markdown",
      "source": [
        "Create a folder named 'test'"
      ],
      "metadata": {
        "id": "A2fyaxvnDv0h"
      }
    },
    {
      "cell_type": "code",
      "source": [
        "dirname = 'test'\n",
        "os.mkdir(dirname)"
      ],
      "metadata": {
        "id": "33xsJ7oaDzEP"
      },
      "execution_count": null,
      "outputs": []
    },
    {
      "cell_type": "markdown",
      "source": [
        "Re-generate test images and put all of them in test/ folder"
      ],
      "metadata": {
        "id": "rVp6pMR4D05a"
      }
    },
    {
      "cell_type": "code",
      "source": [
        "for i in range(test_x.shape[0]):\n",
        "  img = test_x[i].reshape(32,32,3)\n",
        "  cv2.imwrite(os.path.join(dirname,''.join([str(i),'.jpg'])),img)"
      ],
      "metadata": {
        "id": "jWCM3EU5D3OQ"
      },
      "execution_count": null,
      "outputs": []
    },
    {
      "cell_type": "markdown",
      "source": [
        "Sort image Paths by name: 0.jpg, 1.jpg, 2.jpg, ...."
      ],
      "metadata": {
        "id": "dkjkhaJBD5Gw"
      }
    },
    {
      "cell_type": "code",
      "source": [
        "imagePaths = list(paths.list_images(\"test\"))\n",
        "imagePaths = sorted(imagePaths, key=lambda x: int(re.search(r\"(\\d+)\\.[a-z]+$\", x).group(1)))"
      ],
      "metadata": {
        "id": "b88vHs61D7Bq"
      },
      "execution_count": null,
      "outputs": []
    },
    {
      "cell_type": "markdown",
      "source": [
        "Create a table with columns we want to track/compare"
      ],
      "metadata": {
        "id": "oW0eD39ED9Fu"
      }
    },
    {
      "cell_type": "code",
      "source": [
        "preview_dt = wandb.Table(columns=[\"test id\",\"image\", \"target\",\"predict\"])"
      ],
      "metadata": {
        "id": "QGmKQ8p-ECpj"
      },
      "execution_count": null,
      "outputs": []
    },
    {
      "cell_type": "markdown",
      "source": [
        "Create a new artifact to store the EDA data"
      ],
      "metadata": {
        "id": "OGQQWvioEDHP"
      }
    },
    {
      "cell_type": "code",
      "source": [
        "inference_result = wandb.Artifact(args[\"deploy\"], type=\"INFERENCE\")"
      ],
      "metadata": {
        "id": "m8XfossvEFO_"
      },
      "execution_count": null,
      "outputs": []
    },
    {
      "cell_type": "markdown",
      "source": [
        "Append all images to the artifact"
      ],
      "metadata": {
        "id": "2CcXf3bbEIT9"
      }
    },
    {
      "cell_type": "code",
      "source": [
        "for i,img in enumerate(imagePaths):\n",
        "  image = cv2.imread(img)\n",
        "  preview_dt.add_data(i, \n",
        "                      wandb.Image(img), \n",
        "                      encoder.inverse_transform([test_y[i]])[0], \n",
        "                      encoder.inverse_transform([predict[i]])[0])"
      ],
      "metadata": {
        "id": "RzEfJMlXEKQB"
      },
      "execution_count": null,
      "outputs": []
    },
    {
      "cell_type": "markdown",
      "source": [
        "Save artifact to W&B"
      ],
      "metadata": {
        "id": "V2TCKFqJELFN"
      }
    },
    {
      "cell_type": "code",
      "source": [
        "inference_result.add(preview_dt, \"Inference_Table\")\n",
        "run.log_artifact(inference_result)"
      ],
      "metadata": {
        "colab": {
          "base_uri": "https://localhost:8080/"
        },
        "id": "VZ6AFhqTENuG",
        "outputId": "e013f2c9-7068-4988-e8af-9583069fa485"
      },
      "execution_count": null,
      "outputs": [
        {
          "output_type": "execute_result",
          "data": {
            "text/plain": [
              "<wandb.sdk.wandb_artifacts.Artifact at 0x7f4b2d892d90>"
            ]
          },
          "metadata": {},
          "execution_count": 32
        }
      ]
    },
    {
      "cell_type": "code",
      "source": [
        "run.finish()"
      ],
      "metadata": {
        "colab": {
          "base_uri": "https://localhost:8080/",
          "height": 269
        },
        "id": "8Djn7VztEPO7",
        "outputId": "ac0c6b86-4653-4c6f-8887-6d79a8b51174"
      },
      "execution_count": null,
      "outputs": [
        {
          "output_type": "display_data",
          "data": {
            "text/plain": [
              "<IPython.core.display.HTML object>"
            ],
            "text/html": [
              "Waiting for W&B process to finish... <strong style=\"color:green\">(success).</strong>"
            ]
          },
          "metadata": {}
        },
        {
          "output_type": "display_data",
          "data": {
            "text/plain": [
              "<IPython.core.display.HTML object>"
            ],
            "text/html": [
              "<style>\n",
              "    table.wandb td:nth-child(1) { padding: 0 10px; text-align: left ; width: auto;} td:nth-child(2) {text-align: left ; width: 100%}\n",
              "    .wandb-row { display: flex; flex-direction: row; flex-wrap: wrap; justify-content: flex-start; width: 100% }\n",
              "    .wandb-col { display: flex; flex-direction: column; flex-basis: 100%; flex: 1; padding: 10px; }\n",
              "    </style>\n",
              "<div class=\"wandb-row\"><div class=\"wandb-col\"><h3>Run summary:</h3><br/><table class=\"wandb\"><tr><td>Acc</td><td>0.45467</td></tr><tr><td>F1</td><td>0.45752</td></tr><tr><td>Precision</td><td>0.54418</td></tr><tr><td>Recall</td><td>0.45467</td></tr></table><br/></div></div>"
            ]
          },
          "metadata": {}
        },
        {
          "output_type": "display_data",
          "data": {
            "text/plain": [
              "<IPython.core.display.HTML object>"
            ],
            "text/html": [
              "Synced <strong style=\"color:#cdcd00\">comfy-universe-5</strong>: <a href=\"https://wandb.ai/euripedes/first_image_classifier/runs/1sc557k5\" target=\"_blank\">https://wandb.ai/euripedes/first_image_classifier/runs/1sc557k5</a><br/>Synced 5 W&B file(s), 1 media file(s), 751 artifact file(s) and 0 other file(s)"
            ]
          },
          "metadata": {}
        },
        {
          "output_type": "display_data",
          "data": {
            "text/plain": [
              "<IPython.core.display.HTML object>"
            ],
            "text/html": [
              "Find logs at: <code>./wandb/run-20221013_020022-1sc557k5/logs</code>"
            ]
          },
          "metadata": {}
        }
      ]
    }
  ]
}