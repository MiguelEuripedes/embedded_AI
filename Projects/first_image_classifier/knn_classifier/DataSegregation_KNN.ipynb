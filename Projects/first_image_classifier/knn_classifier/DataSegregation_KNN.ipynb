{
  "nbformat": 4,
  "nbformat_minor": 0,
  "metadata": {
    "colab": {
      "provenance": [],
      "authorship_tag": "ABX9TyPZDxD6V7yunqj7a+lOl4dh",
      "include_colab_link": true
    },
    "kernelspec": {
      "name": "python3",
      "display_name": "Python 3"
    },
    "language_info": {
      "name": "python"
    },
    "widgets": {
      "application/vnd.jupyter.widget-state+json": {
        "5cb3e16c5916417ea0fe5923b6fe520d": {
          "model_module": "@jupyter-widgets/controls",
          "model_name": "VBoxModel",
          "model_module_version": "1.5.0",
          "state": {
            "_dom_classes": [],
            "_model_module": "@jupyter-widgets/controls",
            "_model_module_version": "1.5.0",
            "_model_name": "VBoxModel",
            "_view_count": null,
            "_view_module": "@jupyter-widgets/controls",
            "_view_module_version": "1.5.0",
            "_view_name": "VBoxView",
            "box_style": "",
            "children": [
              "IPY_MODEL_1b46feeeac564cef811c848c75796cd4",
              "IPY_MODEL_01a2bf06ea074644a864da06ccb1f41a"
            ],
            "layout": "IPY_MODEL_1d00d87e8b6a4142a5ac55fff6223162"
          }
        },
        "1b46feeeac564cef811c848c75796cd4": {
          "model_module": "@jupyter-widgets/controls",
          "model_name": "LabelModel",
          "model_module_version": "1.5.0",
          "state": {
            "_dom_classes": [],
            "_model_module": "@jupyter-widgets/controls",
            "_model_module_version": "1.5.0",
            "_model_name": "LabelModel",
            "_view_count": null,
            "_view_module": "@jupyter-widgets/controls",
            "_view_module_version": "1.5.0",
            "_view_name": "LabelView",
            "description": "",
            "description_tooltip": null,
            "layout": "IPY_MODEL_7b02246ecb174d0dbe15951584bd3da4",
            "placeholder": "​",
            "style": "IPY_MODEL_47cf1659419e4954934a70df5732db3e",
            "value": "8.848 MB of 8.848 MB uploaded (0.000 MB deduped)\r"
          }
        },
        "01a2bf06ea074644a864da06ccb1f41a": {
          "model_module": "@jupyter-widgets/controls",
          "model_name": "FloatProgressModel",
          "model_module_version": "1.5.0",
          "state": {
            "_dom_classes": [],
            "_model_module": "@jupyter-widgets/controls",
            "_model_module_version": "1.5.0",
            "_model_name": "FloatProgressModel",
            "_view_count": null,
            "_view_module": "@jupyter-widgets/controls",
            "_view_module_version": "1.5.0",
            "_view_name": "ProgressView",
            "bar_style": "",
            "description": "",
            "description_tooltip": null,
            "layout": "IPY_MODEL_4d0660a468454bea9e2ca1f0a6f516de",
            "max": 1,
            "min": 0,
            "orientation": "horizontal",
            "style": "IPY_MODEL_3af3962b63874d7fb7301b6f5dfcd634",
            "value": 1
          }
        },
        "1d00d87e8b6a4142a5ac55fff6223162": {
          "model_module": "@jupyter-widgets/base",
          "model_name": "LayoutModel",
          "model_module_version": "1.2.0",
          "state": {
            "_model_module": "@jupyter-widgets/base",
            "_model_module_version": "1.2.0",
            "_model_name": "LayoutModel",
            "_view_count": null,
            "_view_module": "@jupyter-widgets/base",
            "_view_module_version": "1.2.0",
            "_view_name": "LayoutView",
            "align_content": null,
            "align_items": null,
            "align_self": null,
            "border": null,
            "bottom": null,
            "display": null,
            "flex": null,
            "flex_flow": null,
            "grid_area": null,
            "grid_auto_columns": null,
            "grid_auto_flow": null,
            "grid_auto_rows": null,
            "grid_column": null,
            "grid_gap": null,
            "grid_row": null,
            "grid_template_areas": null,
            "grid_template_columns": null,
            "grid_template_rows": null,
            "height": null,
            "justify_content": null,
            "justify_items": null,
            "left": null,
            "margin": null,
            "max_height": null,
            "max_width": null,
            "min_height": null,
            "min_width": null,
            "object_fit": null,
            "object_position": null,
            "order": null,
            "overflow": null,
            "overflow_x": null,
            "overflow_y": null,
            "padding": null,
            "right": null,
            "top": null,
            "visibility": null,
            "width": null
          }
        },
        "7b02246ecb174d0dbe15951584bd3da4": {
          "model_module": "@jupyter-widgets/base",
          "model_name": "LayoutModel",
          "model_module_version": "1.2.0",
          "state": {
            "_model_module": "@jupyter-widgets/base",
            "_model_module_version": "1.2.0",
            "_model_name": "LayoutModel",
            "_view_count": null,
            "_view_module": "@jupyter-widgets/base",
            "_view_module_version": "1.2.0",
            "_view_name": "LayoutView",
            "align_content": null,
            "align_items": null,
            "align_self": null,
            "border": null,
            "bottom": null,
            "display": null,
            "flex": null,
            "flex_flow": null,
            "grid_area": null,
            "grid_auto_columns": null,
            "grid_auto_flow": null,
            "grid_auto_rows": null,
            "grid_column": null,
            "grid_gap": null,
            "grid_row": null,
            "grid_template_areas": null,
            "grid_template_columns": null,
            "grid_template_rows": null,
            "height": null,
            "justify_content": null,
            "justify_items": null,
            "left": null,
            "margin": null,
            "max_height": null,
            "max_width": null,
            "min_height": null,
            "min_width": null,
            "object_fit": null,
            "object_position": null,
            "order": null,
            "overflow": null,
            "overflow_x": null,
            "overflow_y": null,
            "padding": null,
            "right": null,
            "top": null,
            "visibility": null,
            "width": null
          }
        },
        "47cf1659419e4954934a70df5732db3e": {
          "model_module": "@jupyter-widgets/controls",
          "model_name": "DescriptionStyleModel",
          "model_module_version": "1.5.0",
          "state": {
            "_model_module": "@jupyter-widgets/controls",
            "_model_module_version": "1.5.0",
            "_model_name": "DescriptionStyleModel",
            "_view_count": null,
            "_view_module": "@jupyter-widgets/base",
            "_view_module_version": "1.2.0",
            "_view_name": "StyleView",
            "description_width": ""
          }
        },
        "4d0660a468454bea9e2ca1f0a6f516de": {
          "model_module": "@jupyter-widgets/base",
          "model_name": "LayoutModel",
          "model_module_version": "1.2.0",
          "state": {
            "_model_module": "@jupyter-widgets/base",
            "_model_module_version": "1.2.0",
            "_model_name": "LayoutModel",
            "_view_count": null,
            "_view_module": "@jupyter-widgets/base",
            "_view_module_version": "1.2.0",
            "_view_name": "LayoutView",
            "align_content": null,
            "align_items": null,
            "align_self": null,
            "border": null,
            "bottom": null,
            "display": null,
            "flex": null,
            "flex_flow": null,
            "grid_area": null,
            "grid_auto_columns": null,
            "grid_auto_flow": null,
            "grid_auto_rows": null,
            "grid_column": null,
            "grid_gap": null,
            "grid_row": null,
            "grid_template_areas": null,
            "grid_template_columns": null,
            "grid_template_rows": null,
            "height": null,
            "justify_content": null,
            "justify_items": null,
            "left": null,
            "margin": null,
            "max_height": null,
            "max_width": null,
            "min_height": null,
            "min_width": null,
            "object_fit": null,
            "object_position": null,
            "order": null,
            "overflow": null,
            "overflow_x": null,
            "overflow_y": null,
            "padding": null,
            "right": null,
            "top": null,
            "visibility": null,
            "width": null
          }
        },
        "3af3962b63874d7fb7301b6f5dfcd634": {
          "model_module": "@jupyter-widgets/controls",
          "model_name": "ProgressStyleModel",
          "model_module_version": "1.5.0",
          "state": {
            "_model_module": "@jupyter-widgets/controls",
            "_model_module_version": "1.5.0",
            "_model_name": "ProgressStyleModel",
            "_view_count": null,
            "_view_module": "@jupyter-widgets/base",
            "_view_module_version": "1.2.0",
            "_view_name": "StyleView",
            "bar_color": null,
            "description_width": ""
          }
        }
      }
    }
  },
  "cells": [
    {
      "cell_type": "markdown",
      "metadata": {
        "id": "view-in-github",
        "colab_type": "text"
      },
      "source": [
        "<a href=\"https://colab.research.google.com/github/MiguelEuripedes/embedded_AI/blob/main/Projects/first_image_classifier/knn_classifier/DataSegregation_KNN.ipynb\" target=\"_parent\"><img src=\"https://colab.research.google.com/assets/colab-badge.svg\" alt=\"Open In Colab\"/></a>"
      ]
    },
    {
      "cell_type": "markdown",
      "source": [
        "#Your First Image Classifier: Using k-NN to Classify Images"
      ],
      "metadata": {
        "id": "ZFuh8va-2_1r"
      }
    },
    {
      "cell_type": "markdown",
      "source": [
        "## Data Segregation\n",
        "\n",
        "The purpose of this dataset is to correctly classify an image as containing a dog, cat, or panda. Containing only 3,000 images, the Animals dataset is meant to be another introductory dataset that we can quickly train a KNN model and obtain initial results (no so good accuracy) that has potential to be used as a baseline.\n",
        "\n",
        "Let's take the following steps:\n",
        "\n",
        "1. Data segregation\n",
        "2. Split clean data into train and test"
      ],
      "metadata": {
        "id": "CF5DPYYw5-TM"
      }
    },
    {
      "cell_type": "markdown",
      "source": [
        "### Step 01: Setup\n",
        "\n",
        "Start out by installing the experiment tracking library and setting up your free W&B account:\n",
        "\n",
        "* **pip install wandb** – Install the W&B library\n",
        "* **import wandb** – Import the wandb library\n",
        "* **wandb login** – Login to your W&B account so you can log all your metrics in one place"
      ],
      "metadata": {
        "id": "TxTN9z5U6JGa"
      }
    },
    {
      "cell_type": "code",
      "source": [
        "!pip install wandb -qU"
      ],
      "metadata": {
        "colab": {
          "base_uri": "https://localhost:8080/"
        },
        "id": "cACJDle06Ylk",
        "outputId": "305d0ca2-4730-484f-ba4f-e284174f35e8"
      },
      "execution_count": null,
      "outputs": [
        {
          "output_type": "stream",
          "name": "stdout",
          "text": [
            "\u001b[K     |████████████████████████████████| 1.9 MB 4.9 MB/s \n",
            "\u001b[K     |████████████████████████████████| 182 kB 45.1 MB/s \n",
            "\u001b[K     |████████████████████████████████| 162 kB 42.5 MB/s \n",
            "\u001b[K     |████████████████████████████████| 63 kB 713 kB/s \n",
            "\u001b[K     |████████████████████████████████| 162 kB 47.4 MB/s \n",
            "\u001b[K     |████████████████████████████████| 158 kB 43.2 MB/s \n",
            "\u001b[K     |████████████████████████████████| 157 kB 21.6 MB/s \n",
            "\u001b[K     |████████████████████████████████| 157 kB 8.3 MB/s \n",
            "\u001b[K     |████████████████████████████████| 157 kB 39.6 MB/s \n",
            "\u001b[K     |████████████████████████████████| 157 kB 45.8 MB/s \n",
            "\u001b[K     |████████████████████████████████| 157 kB 45.2 MB/s \n",
            "\u001b[K     |████████████████████████████████| 157 kB 46.5 MB/s \n",
            "\u001b[K     |████████████████████████████████| 157 kB 54.5 MB/s \n",
            "\u001b[K     |████████████████████████████████| 156 kB 41.8 MB/s \n",
            "\u001b[?25h  Building wheel for pathtools (setup.py) ... \u001b[?25l\u001b[?25hdone\n"
          ]
        }
      ]
    },
    {
      "cell_type": "code",
      "execution_count": null,
      "metadata": {
        "colab": {
          "base_uri": "https://localhost:8080/",
          "height": 139
        },
        "id": "FJcrEe2228CN",
        "outputId": "af89b989-89aa-4d22-ba62-716685796a97"
      },
      "outputs": [
        {
          "output_type": "stream",
          "name": "stderr",
          "text": [
            "ERROR:wandb.jupyter:Failed to detect the name of this notebook, you can set it manually with the WANDB_NOTEBOOK_NAME environment variable to enable code saving.\n"
          ]
        },
        {
          "output_type": "display_data",
          "data": {
            "text/plain": [
              "<IPython.core.display.Javascript object>"
            ],
            "application/javascript": [
              "\n",
              "        window._wandbApiKey = new Promise((resolve, reject) => {\n",
              "            function loadScript(url) {\n",
              "            return new Promise(function(resolve, reject) {\n",
              "                let newScript = document.createElement(\"script\");\n",
              "                newScript.onerror = reject;\n",
              "                newScript.onload = resolve;\n",
              "                document.body.appendChild(newScript);\n",
              "                newScript.src = url;\n",
              "            });\n",
              "            }\n",
              "            loadScript(\"https://cdn.jsdelivr.net/npm/postmate/build/postmate.min.js\").then(() => {\n",
              "            const iframe = document.createElement('iframe')\n",
              "            iframe.style.cssText = \"width:0;height:0;border:none\"\n",
              "            document.body.appendChild(iframe)\n",
              "            const handshake = new Postmate({\n",
              "                container: iframe,\n",
              "                url: 'https://wandb.ai/authorize'\n",
              "            });\n",
              "            const timeout = setTimeout(() => reject(\"Couldn't auto authenticate\"), 5000)\n",
              "            handshake.then(function(child) {\n",
              "                child.on('authorize', data => {\n",
              "                    clearTimeout(timeout)\n",
              "                    resolve(data)\n",
              "                });\n",
              "            });\n",
              "            })\n",
              "        });\n",
              "    "
            ]
          },
          "metadata": {}
        },
        {
          "output_type": "stream",
          "name": "stderr",
          "text": [
            "\u001b[34m\u001b[1mwandb\u001b[0m: Logging into wandb.ai. (Learn how to deploy a W&B server locally: https://wandb.me/wandb-server)\n",
            "\u001b[34m\u001b[1mwandb\u001b[0m: You can find your API key in your browser here: https://wandb.ai/authorize\n",
            "wandb: Paste an API key from your profile and hit enter, or press ctrl+c to quit: "
          ]
        },
        {
          "name": "stdout",
          "output_type": "stream",
          "text": [
            "··········\n"
          ]
        },
        {
          "output_type": "stream",
          "name": "stderr",
          "text": [
            "\u001b[34m\u001b[1mwandb\u001b[0m: Appending key for api.wandb.ai to your netrc file: /root/.netrc\n"
          ]
        },
        {
          "output_type": "execute_result",
          "data": {
            "text/plain": [
              "True"
            ]
          },
          "metadata": {},
          "execution_count": 2
        }
      ],
      "source": [
        "import wandb\n",
        "wandb.login()"
      ]
    },
    {
      "cell_type": "markdown",
      "source": [
        "#### Import Packages"
      ],
      "metadata": {
        "id": "obk1jcpw6f58"
      }
    },
    {
      "cell_type": "markdown",
      "source": [
        "Import the necessary packages"
      ],
      "metadata": {
        "id": "3k51TRSn6lcU"
      }
    },
    {
      "cell_type": "code",
      "source": [
        "from imutils import paths\n",
        "import logging\n",
        "import os\n",
        "import cv2\n",
        "import numpy as np\n",
        "import joblib\n",
        "from sklearn.model_selection import train_test_split\n",
        "from sklearn.preprocessing import LabelEncoder"
      ],
      "metadata": {
        "id": "lYImossz6okH"
      },
      "execution_count": null,
      "outputs": []
    },
    {
      "cell_type": "markdown",
      "source": [
        "configure logging reference for a logging object"
      ],
      "metadata": {
        "id": "GpTfr6lK6q5F"
      }
    },
    {
      "cell_type": "code",
      "source": [
        "logger = logging.getLogger()"
      ],
      "metadata": {
        "id": "A8OZMt0j6vFu"
      },
      "execution_count": null,
      "outputs": []
    },
    {
      "cell_type": "markdown",
      "source": [
        "Set level of logging"
      ],
      "metadata": {
        "id": "1nwY99k86vR1"
      }
    },
    {
      "cell_type": "code",
      "source": [
        "logger.setLevel(logging.INFO)"
      ],
      "metadata": {
        "id": "fPGQBKRh6x5n"
      },
      "execution_count": null,
      "outputs": []
    },
    {
      "cell_type": "markdown",
      "source": [
        "Create handlers"
      ],
      "metadata": {
        "id": "urSF9CeE6yS2"
      }
    },
    {
      "cell_type": "code",
      "source": [
        "c_handler = logging.StreamHandler()\n",
        "c_format = logging.Formatter(fmt=\"%(asctime)s %(message)s\",datefmt='%d-%m-%Y %H:%M:%S')\n",
        "c_handler.setFormatter(c_format)"
      ],
      "metadata": {
        "id": "6R9HGfyp62Fm"
      },
      "execution_count": null,
      "outputs": []
    },
    {
      "cell_type": "markdown",
      "source": [
        "Add handler to the logger"
      ],
      "metadata": {
        "id": "wyIIUrUc62TK"
      }
    },
    {
      "cell_type": "code",
      "source": [
        "logger.handlers[0] = c_handler"
      ],
      "metadata": {
        "id": "In9rNbLi64DG"
      },
      "execution_count": null,
      "outputs": []
    },
    {
      "cell_type": "markdown",
      "source": [
        "### Step 02: Data Segregation"
      ],
      "metadata": {
        "id": "9X2MsdfC64pZ"
      }
    },
    {
      "cell_type": "markdown",
      "source": [
        "Since we are using Jupyter Notebooks we can replace our argument parsing code with *hard coded* arguments and values"
      ],
      "metadata": {
        "id": "MBMRRm_q7FEN"
      }
    },
    {
      "cell_type": "code",
      "source": [
        "args = {\n",
        "  \"project_name\": \"first_image_classifier\",\n",
        "  \"artifact_name_feature\": \"clean_data:latest\",\n",
        "  \"artifact_name_target\": \"label:latest\",\n",
        "  \"train_feature_artifact\": \"train_x\",\n",
        "  \"train_target_artifact\": \"train_y\",\n",
        "  \"test_feature_artifact\": \"test_x\",\n",
        "  \"test_target_artifact\": \"test_y\"\n",
        "}"
      ],
      "metadata": {
        "id": "M9Myj7jR7HxT"
      },
      "execution_count": null,
      "outputs": []
    },
    {
      "cell_type": "markdown",
      "source": [
        "Open the W&B project created in the Fetch step"
      ],
      "metadata": {
        "id": "aX-JrOTF7NuF"
      }
    },
    {
      "cell_type": "code",
      "source": [
        "run = wandb.init(entity=\"euripedes\",project=args[\"project_name\"], job_type=\"data_segregation\")"
      ],
      "metadata": {
        "colab": {
          "base_uri": "https://localhost:8080/",
          "height": 86
        },
        "id": "oYf3pVqB7NCY",
        "outputId": "ba8a3db2-ce0c-4a03-d0f3-c4e06fb408d8"
      },
      "execution_count": null,
      "outputs": [
        {
          "output_type": "stream",
          "name": "stderr",
          "text": [
            "\u001b[34m\u001b[1mwandb\u001b[0m: Currently logged in as: \u001b[33meuripedes\u001b[0m. Use \u001b[1m`wandb login --relogin`\u001b[0m to force relogin\n"
          ]
        },
        {
          "output_type": "display_data",
          "data": {
            "text/plain": [
              "<IPython.core.display.HTML object>"
            ],
            "text/html": [
              "Tracking run with wandb version 0.13.4"
            ]
          },
          "metadata": {}
        },
        {
          "output_type": "display_data",
          "data": {
            "text/plain": [
              "<IPython.core.display.HTML object>"
            ],
            "text/html": [
              "Run data is saved locally in <code>/content/wandb/run-20221013_012642-2qvmnt1m</code>"
            ]
          },
          "metadata": {}
        },
        {
          "output_type": "display_data",
          "data": {
            "text/plain": [
              "<IPython.core.display.HTML object>"
            ],
            "text/html": [
              "Syncing run <strong><a href=\"https://wandb.ai/euripedes/first_image_classifier/runs/2qvmnt1m\" target=\"_blank\">stoic-mountain-3</a></strong> to <a href=\"https://wandb.ai/euripedes/first_image_classifier\" target=\"_blank\">Weights & Biases</a> (<a href=\"https://wandb.me/run\" target=\"_blank\">docs</a>)<br/>"
            ]
          },
          "metadata": {}
        }
      ]
    },
    {
      "cell_type": "code",
      "source": [
        "logger.info(\"Downloading and reading clean data artifact\")\n",
        "clean_data = run.use_artifact(args[\"artifact_name_feature\"])\n",
        "clean_data_path = clean_data.file()"
      ],
      "metadata": {
        "colab": {
          "base_uri": "https://localhost:8080/"
        },
        "id": "Yv3BGK7x7Zgm",
        "outputId": "8ace286c-2a63-4c83-9cc8-74a146d44bfa"
      },
      "execution_count": null,
      "outputs": [
        {
          "output_type": "stream",
          "name": "stderr",
          "text": [
            "13-10-2022 01:26:46 Downloading and reading clean data artifact\n"
          ]
        }
      ]
    },
    {
      "cell_type": "code",
      "source": [
        "logger.info(\"Downloading and reading label data artifact\")\n",
        "label_data = run.use_artifact(args[\"artifact_name_target\"])\n",
        "label_data_path = label_data.file()"
      ],
      "metadata": {
        "colab": {
          "base_uri": "https://localhost:8080/"
        },
        "id": "Gw8hf2F17ZxI",
        "outputId": "eaa16a5b-cd05-4b2f-f693-051ff651202e"
      },
      "execution_count": null,
      "outputs": [
        {
          "output_type": "stream",
          "name": "stderr",
          "text": [
            "13-10-2022 01:26:54 Downloading and reading label data artifact\n"
          ]
        }
      ]
    },
    {
      "cell_type": "markdown",
      "source": [
        "Unpacking the artifacts"
      ],
      "metadata": {
        "id": "JVRsW2O57T-S"
      }
    },
    {
      "cell_type": "code",
      "source": [
        "data = joblib.load(clean_data_path)"
      ],
      "metadata": {
        "id": "WGZ7C8Tr7d3i"
      },
      "execution_count": null,
      "outputs": []
    },
    {
      "cell_type": "code",
      "source": [
        "label = joblib.load(label_data_path)"
      ],
      "metadata": {
        "id": "qmxtILcK7hmG"
      },
      "execution_count": null,
      "outputs": []
    },
    {
      "cell_type": "markdown",
      "source": [
        "Partition the data into training and testing splits using 75% of the data for training and the remaining 25% for testing"
      ],
      "metadata": {
        "id": "cjtTuqUo7i-D"
      }
    },
    {
      "cell_type": "code",
      "source": [
        "(train_x, test_x, train_y, test_y) = train_test_split(data, label,test_size=0.25, random_state=42)"
      ],
      "metadata": {
        "id": "hTDV9E3q7mue"
      },
      "execution_count": null,
      "outputs": []
    },
    {
      "cell_type": "code",
      "source": [
        "logger.info(\"Train x: {}\".format(train_x.shape))\n",
        "logger.info(\"Train y: {}\".format(train_y.shape))\n",
        "logger.info(\"Test x: {}\".format(test_x.shape))\n",
        "logger.info(\"Test y: {}\".format(test_y.shape))"
      ],
      "metadata": {
        "colab": {
          "base_uri": "https://localhost:8080/"
        },
        "id": "KKdZAtY37qdz",
        "outputId": "3f394555-0c07-430b-abd5-7aa84a4e3c02"
      },
      "execution_count": null,
      "outputs": [
        {
          "output_type": "stream",
          "name": "stderr",
          "text": [
            "13-10-2022 01:27:07 Train x: (2250, 3072)\n",
            "13-10-2022 01:27:07 Train y: (2250,)\n",
            "13-10-2022 01:27:07 Test x: (750, 3072)\n",
            "13-10-2022 01:27:07 Test y: (750,)\n"
          ]
        }
      ]
    },
    {
      "cell_type": "code",
      "source": [
        "logger.info(\"Dumping the train and test data artifacts to the disk\")"
      ],
      "metadata": {
        "colab": {
          "base_uri": "https://localhost:8080/"
        },
        "id": "WlQjnVOg7u8d",
        "outputId": "9d738a1b-ff39-4bd7-f668-db4a17ea7cbe"
      },
      "execution_count": null,
      "outputs": [
        {
          "output_type": "stream",
          "name": "stderr",
          "text": [
            "13-10-2022 01:27:11 Dumping the train and test data artifacts to the disk\n"
          ]
        }
      ]
    },
    {
      "cell_type": "markdown",
      "source": [
        "Save the artifacts using joblib"
      ],
      "metadata": {
        "id": "dw6afDw17uk7"
      }
    },
    {
      "cell_type": "code",
      "source": [
        "joblib.dump(train_x, args[\"train_feature_artifact\"])\n",
        "joblib.dump(train_y, args[\"train_target_artifact\"])\n",
        "joblib.dump(test_x, args[\"test_feature_artifact\"])\n",
        "joblib.dump(test_y, args[\"test_target_artifact\"])"
      ],
      "metadata": {
        "colab": {
          "base_uri": "https://localhost:8080/"
        },
        "id": "68lRcsBZ7w__",
        "outputId": "7f165c18-0c79-4572-d44f-e9854fbca225"
      },
      "execution_count": null,
      "outputs": [
        {
          "output_type": "execute_result",
          "data": {
            "text/plain": [
              "['test_y']"
            ]
          },
          "metadata": {},
          "execution_count": 17
        }
      ]
    },
    {
      "cell_type": "markdown",
      "source": [
        "**Train_x artifact**"
      ],
      "metadata": {
        "id": "GH4nQbLX71US"
      }
    },
    {
      "cell_type": "code",
      "source": [
        "artifact = wandb.Artifact(args[\"train_feature_artifact\"],\n",
        "                          type=\"TRAIN_DATA\",\n",
        "                          description=\"A json file representing the train_x\"\n",
        "                          )\n",
        "\n",
        "logger.info(\"Logging train_x artifact\")\n",
        "artifact.add_file(args[\"train_feature_artifact\"])\n",
        "run.log_artifact(artifact)"
      ],
      "metadata": {
        "colab": {
          "base_uri": "https://localhost:8080/"
        },
        "id": "q-VISjEA74SE",
        "outputId": "162b9b9a-1aee-4d43-e530-6382ba8edb23"
      },
      "execution_count": null,
      "outputs": [
        {
          "output_type": "stream",
          "name": "stderr",
          "text": [
            "13-10-2022 01:27:26 Logging train_x artifact\n"
          ]
        },
        {
          "output_type": "execute_result",
          "data": {
            "text/plain": [
              "<wandb.sdk.wandb_artifacts.Artifact at 0x7fd6d3bd3550>"
            ]
          },
          "metadata": {},
          "execution_count": 18
        }
      ]
    },
    {
      "cell_type": "markdown",
      "source": [
        "**Train_y artifact**"
      ],
      "metadata": {
        "id": "psVwMUb-8AIS"
      }
    },
    {
      "cell_type": "code",
      "source": [
        "artifact = wandb.Artifact(args[\"train_target_artifact\"],\n",
        "                          type=\"TRAIN_DATA\",\n",
        "                          description=\"A json file representing the train_y\"\n",
        "                          )\n",
        "\n",
        "logger.info(\"Logging train_y artifact\")\n",
        "artifact.add_file(args[\"train_target_artifact\"])\n",
        "run.log_artifact(artifact)"
      ],
      "metadata": {
        "colab": {
          "base_uri": "https://localhost:8080/"
        },
        "id": "PkT3KR2_7877",
        "outputId": "b6e443a4-a0bb-411e-925d-62a902b5d5c5"
      },
      "execution_count": null,
      "outputs": [
        {
          "output_type": "stream",
          "name": "stderr",
          "text": [
            "13-10-2022 01:27:29 Logging train_y artifact\n"
          ]
        },
        {
          "output_type": "execute_result",
          "data": {
            "text/plain": [
              "<wandb.sdk.wandb_artifacts.Artifact at 0x7fd6d3bdce90>"
            ]
          },
          "metadata": {},
          "execution_count": 19
        }
      ]
    },
    {
      "cell_type": "markdown",
      "source": [
        "**Test_x artifact**"
      ],
      "metadata": {
        "id": "SyDHSOr077gV"
      }
    },
    {
      "cell_type": "code",
      "source": [
        "artifact = wandb.Artifact(args[\"test_feature_artifact\"],\n",
        "                          type=\"TEST_DATA\",\n",
        "                          description=\"A json file representing the test_x\"\n",
        "                          )\n",
        "\n",
        "logger.info(\"Logging test_x artifact\")\n",
        "artifact.add_file(args[\"test_feature_artifact\"])\n",
        "run.log_artifact(artifact)"
      ],
      "metadata": {
        "colab": {
          "base_uri": "https://localhost:8080/"
        },
        "id": "qsIuqcWa8Ar5",
        "outputId": "ea445208-3d9d-4efe-e2c7-581310307fe1"
      },
      "execution_count": null,
      "outputs": [
        {
          "output_type": "stream",
          "name": "stderr",
          "text": [
            "13-10-2022 01:27:32 Logging test_x artifact\n"
          ]
        },
        {
          "output_type": "execute_result",
          "data": {
            "text/plain": [
              "<wandb.sdk.wandb_artifacts.Artifact at 0x7fd6d3be39d0>"
            ]
          },
          "metadata": {},
          "execution_count": 20
        }
      ]
    },
    {
      "cell_type": "markdown",
      "source": [
        "**Test_y artifact**"
      ],
      "metadata": {
        "id": "Zn3YJE_j8BHt"
      }
    },
    {
      "cell_type": "code",
      "source": [
        "artifact = wandb.Artifact(args[\"test_target_artifact\"],\n",
        "                          type=\"TEST_DATA\",\n",
        "                          description=\"A json file representing the test_y\"\n",
        "                          )\n",
        "\n",
        "logger.info(\"Logging test_y artifact\")\n",
        "artifact.add_file(args[\"test_target_artifact\"])\n",
        "run.log_artifact(artifact)"
      ],
      "metadata": {
        "colab": {
          "base_uri": "https://localhost:8080/"
        },
        "id": "qRHgYjG08Bfh",
        "outputId": "442e7a9d-deb4-4e2d-b86a-dc2885cb21ab"
      },
      "execution_count": null,
      "outputs": [
        {
          "output_type": "stream",
          "name": "stderr",
          "text": [
            "13-10-2022 01:27:35 Logging test_y artifact\n"
          ]
        },
        {
          "output_type": "execute_result",
          "data": {
            "text/plain": [
              "<wandb.sdk.wandb_artifacts.Artifact at 0x7fd6d3bf36d0>"
            ]
          },
          "metadata": {},
          "execution_count": 21
        }
      ]
    },
    {
      "cell_type": "code",
      "source": [
        "run.finish()"
      ],
      "metadata": {
        "colab": {
          "base_uri": "https://localhost:8080/",
          "height": 150,
          "referenced_widgets": [
            "5cb3e16c5916417ea0fe5923b6fe520d",
            "1b46feeeac564cef811c848c75796cd4",
            "01a2bf06ea074644a864da06ccb1f41a",
            "1d00d87e8b6a4142a5ac55fff6223162",
            "7b02246ecb174d0dbe15951584bd3da4",
            "47cf1659419e4954934a70df5732db3e",
            "4d0660a468454bea9e2ca1f0a6f516de",
            "3af3962b63874d7fb7301b6f5dfcd634"
          ]
        },
        "id": "bKnL4PDn8B8E",
        "outputId": "3d281716-9bfc-4343-d0ca-87deb4053a3b"
      },
      "execution_count": null,
      "outputs": [
        {
          "output_type": "display_data",
          "data": {
            "text/plain": [
              "<IPython.core.display.HTML object>"
            ],
            "text/html": [
              "Waiting for W&B process to finish... <strong style=\"color:green\">(success).</strong>"
            ]
          },
          "metadata": {}
        },
        {
          "output_type": "display_data",
          "data": {
            "text/plain": [
              "VBox(children=(Label(value='8.848 MB of 8.848 MB uploaded (0.000 MB deduped)\\r'), FloatProgress(value=1.0, max…"
            ],
            "application/vnd.jupyter.widget-view+json": {
              "version_major": 2,
              "version_minor": 0,
              "model_id": "5cb3e16c5916417ea0fe5923b6fe520d"
            }
          },
          "metadata": {}
        },
        {
          "output_type": "display_data",
          "data": {
            "text/plain": [
              "<IPython.core.display.HTML object>"
            ],
            "text/html": [
              "Synced <strong style=\"color:#cdcd00\">stoic-mountain-3</strong>: <a href=\"https://wandb.ai/euripedes/first_image_classifier/runs/2qvmnt1m\" target=\"_blank\">https://wandb.ai/euripedes/first_image_classifier/runs/2qvmnt1m</a><br/>Synced 5 W&B file(s), 0 media file(s), 4 artifact file(s) and 0 other file(s)"
            ]
          },
          "metadata": {}
        },
        {
          "output_type": "display_data",
          "data": {
            "text/plain": [
              "<IPython.core.display.HTML object>"
            ],
            "text/html": [
              "Find logs at: <code>./wandb/run-20221013_012642-2qvmnt1m/logs</code>"
            ]
          },
          "metadata": {}
        }
      ]
    }
  ]
}