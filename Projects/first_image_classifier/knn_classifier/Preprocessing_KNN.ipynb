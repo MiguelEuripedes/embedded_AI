{
  "nbformat": 4,
  "nbformat_minor": 0,
  "metadata": {
    "colab": {
      "provenance": [],
      "authorship_tag": "ABX9TyPRpWJDqcGLbXYsWamqXB6D",
      "include_colab_link": true
    },
    "kernelspec": {
      "name": "python3",
      "display_name": "Python 3"
    },
    "language_info": {
      "name": "python"
    },
    "widgets": {
      "application/vnd.jupyter.widget-state+json": {
        "36be51f6c5c54a109a69e72cbc4441b7": {
          "model_module": "@jupyter-widgets/controls",
          "model_name": "VBoxModel",
          "model_module_version": "1.5.0",
          "state": {
            "_dom_classes": [],
            "_model_module": "@jupyter-widgets/controls",
            "_model_module_version": "1.5.0",
            "_model_name": "VBoxModel",
            "_view_count": null,
            "_view_module": "@jupyter-widgets/controls",
            "_view_module_version": "1.5.0",
            "_view_name": "VBoxView",
            "box_style": "",
            "children": [
              "IPY_MODEL_c5c511758f3e471283372b3224a24475",
              "IPY_MODEL_74a99a64a7af4e43b376e47cf145764d"
            ],
            "layout": "IPY_MODEL_748b2291ec1e44b8ac30ee893ed9fa05"
          }
        },
        "c5c511758f3e471283372b3224a24475": {
          "model_module": "@jupyter-widgets/controls",
          "model_name": "LabelModel",
          "model_module_version": "1.5.0",
          "state": {
            "_dom_classes": [],
            "_model_module": "@jupyter-widgets/controls",
            "_model_module_version": "1.5.0",
            "_model_name": "LabelModel",
            "_view_count": null,
            "_view_module": "@jupyter-widgets/controls",
            "_view_module_version": "1.5.0",
            "_view_name": "LabelView",
            "description": "",
            "description_tooltip": null,
            "layout": "IPY_MODEL_8bcc7459a1854a5f8cf72a9f46e16381",
            "placeholder": "​",
            "style": "IPY_MODEL_cb7815824433417db93dd76d8b0e6efa",
            "value": "8.847 MB of 8.847 MB uploaded (0.000 MB deduped)\r"
          }
        },
        "74a99a64a7af4e43b376e47cf145764d": {
          "model_module": "@jupyter-widgets/controls",
          "model_name": "FloatProgressModel",
          "model_module_version": "1.5.0",
          "state": {
            "_dom_classes": [],
            "_model_module": "@jupyter-widgets/controls",
            "_model_module_version": "1.5.0",
            "_model_name": "FloatProgressModel",
            "_view_count": null,
            "_view_module": "@jupyter-widgets/controls",
            "_view_module_version": "1.5.0",
            "_view_name": "ProgressView",
            "bar_style": "",
            "description": "",
            "description_tooltip": null,
            "layout": "IPY_MODEL_57e7ce02b5c14271b49bbc10e290a8fe",
            "max": 1,
            "min": 0,
            "orientation": "horizontal",
            "style": "IPY_MODEL_c459c0e5600d4c75a103aada64afa289",
            "value": 1
          }
        },
        "748b2291ec1e44b8ac30ee893ed9fa05": {
          "model_module": "@jupyter-widgets/base",
          "model_name": "LayoutModel",
          "model_module_version": "1.2.0",
          "state": {
            "_model_module": "@jupyter-widgets/base",
            "_model_module_version": "1.2.0",
            "_model_name": "LayoutModel",
            "_view_count": null,
            "_view_module": "@jupyter-widgets/base",
            "_view_module_version": "1.2.0",
            "_view_name": "LayoutView",
            "align_content": null,
            "align_items": null,
            "align_self": null,
            "border": null,
            "bottom": null,
            "display": null,
            "flex": null,
            "flex_flow": null,
            "grid_area": null,
            "grid_auto_columns": null,
            "grid_auto_flow": null,
            "grid_auto_rows": null,
            "grid_column": null,
            "grid_gap": null,
            "grid_row": null,
            "grid_template_areas": null,
            "grid_template_columns": null,
            "grid_template_rows": null,
            "height": null,
            "justify_content": null,
            "justify_items": null,
            "left": null,
            "margin": null,
            "max_height": null,
            "max_width": null,
            "min_height": null,
            "min_width": null,
            "object_fit": null,
            "object_position": null,
            "order": null,
            "overflow": null,
            "overflow_x": null,
            "overflow_y": null,
            "padding": null,
            "right": null,
            "top": null,
            "visibility": null,
            "width": null
          }
        },
        "8bcc7459a1854a5f8cf72a9f46e16381": {
          "model_module": "@jupyter-widgets/base",
          "model_name": "LayoutModel",
          "model_module_version": "1.2.0",
          "state": {
            "_model_module": "@jupyter-widgets/base",
            "_model_module_version": "1.2.0",
            "_model_name": "LayoutModel",
            "_view_count": null,
            "_view_module": "@jupyter-widgets/base",
            "_view_module_version": "1.2.0",
            "_view_name": "LayoutView",
            "align_content": null,
            "align_items": null,
            "align_self": null,
            "border": null,
            "bottom": null,
            "display": null,
            "flex": null,
            "flex_flow": null,
            "grid_area": null,
            "grid_auto_columns": null,
            "grid_auto_flow": null,
            "grid_auto_rows": null,
            "grid_column": null,
            "grid_gap": null,
            "grid_row": null,
            "grid_template_areas": null,
            "grid_template_columns": null,
            "grid_template_rows": null,
            "height": null,
            "justify_content": null,
            "justify_items": null,
            "left": null,
            "margin": null,
            "max_height": null,
            "max_width": null,
            "min_height": null,
            "min_width": null,
            "object_fit": null,
            "object_position": null,
            "order": null,
            "overflow": null,
            "overflow_x": null,
            "overflow_y": null,
            "padding": null,
            "right": null,
            "top": null,
            "visibility": null,
            "width": null
          }
        },
        "cb7815824433417db93dd76d8b0e6efa": {
          "model_module": "@jupyter-widgets/controls",
          "model_name": "DescriptionStyleModel",
          "model_module_version": "1.5.0",
          "state": {
            "_model_module": "@jupyter-widgets/controls",
            "_model_module_version": "1.5.0",
            "_model_name": "DescriptionStyleModel",
            "_view_count": null,
            "_view_module": "@jupyter-widgets/base",
            "_view_module_version": "1.2.0",
            "_view_name": "StyleView",
            "description_width": ""
          }
        },
        "57e7ce02b5c14271b49bbc10e290a8fe": {
          "model_module": "@jupyter-widgets/base",
          "model_name": "LayoutModel",
          "model_module_version": "1.2.0",
          "state": {
            "_model_module": "@jupyter-widgets/base",
            "_model_module_version": "1.2.0",
            "_model_name": "LayoutModel",
            "_view_count": null,
            "_view_module": "@jupyter-widgets/base",
            "_view_module_version": "1.2.0",
            "_view_name": "LayoutView",
            "align_content": null,
            "align_items": null,
            "align_self": null,
            "border": null,
            "bottom": null,
            "display": null,
            "flex": null,
            "flex_flow": null,
            "grid_area": null,
            "grid_auto_columns": null,
            "grid_auto_flow": null,
            "grid_auto_rows": null,
            "grid_column": null,
            "grid_gap": null,
            "grid_row": null,
            "grid_template_areas": null,
            "grid_template_columns": null,
            "grid_template_rows": null,
            "height": null,
            "justify_content": null,
            "justify_items": null,
            "left": null,
            "margin": null,
            "max_height": null,
            "max_width": null,
            "min_height": null,
            "min_width": null,
            "object_fit": null,
            "object_position": null,
            "order": null,
            "overflow": null,
            "overflow_x": null,
            "overflow_y": null,
            "padding": null,
            "right": null,
            "top": null,
            "visibility": null,
            "width": null
          }
        },
        "c459c0e5600d4c75a103aada64afa289": {
          "model_module": "@jupyter-widgets/controls",
          "model_name": "ProgressStyleModel",
          "model_module_version": "1.5.0",
          "state": {
            "_model_module": "@jupyter-widgets/controls",
            "_model_module_version": "1.5.0",
            "_model_name": "ProgressStyleModel",
            "_view_count": null,
            "_view_module": "@jupyter-widgets/base",
            "_view_module_version": "1.2.0",
            "_view_name": "StyleView",
            "bar_color": null,
            "description_width": ""
          }
        }
      }
    }
  },
  "cells": [
    {
      "cell_type": "markdown",
      "metadata": {
        "id": "view-in-github",
        "colab_type": "text"
      },
      "source": [
        "<a href=\"https://colab.research.google.com/github/MiguelEuripedes/embedded_AI/blob/main/Projects/first_image_classifier/knn_classifier/Preprocessing_KNN.ipynb\" target=\"_parent\"><img src=\"https://colab.research.google.com/assets/colab-badge.svg\" alt=\"Open In Colab\"/></a>"
      ]
    },
    {
      "cell_type": "markdown",
      "source": [
        "# Your First Image Classifier: Using k-NN to Classify Images"
      ],
      "metadata": {
        "id": "e4HTPaykwZyB"
      }
    },
    {
      "cell_type": "markdown",
      "source": [
        "## Exploratory Data Analysis and Pre-processing\n",
        "\n",
        "The purpose of this dataset is to correctly classify an image as containing a dog, cat, or panda. Containing only 3,000 images, the Animals dataset is meant to be another introductory dataset that we can quickly train a KNN model and obtain initial results (no so good accuracy) that has potential to be used as a baseline.\n",
        "\n",
        "Let's take the following steps:\n",
        "1. Exploratory Data Analysis (EDA)\n",
        "2. Pre-processing"
      ],
      "metadata": {
        "id": "EbjLBge7we5o"
      }
    },
    {
      "cell_type": "markdown",
      "source": [
        "### Step 01: Setup\n",
        "\n",
        "Start out by installing the experiment tracking library and setting up your free W&B account:\n",
        "\n",
        "* **pip install wandb** – Install the W&B library\n",
        "* **import wandb** – Import the wandb library\n",
        "* **wandb login** – Login to your W&B account so you can log all your metrics in one place"
      ],
      "metadata": {
        "id": "ZNHlrIfewmrK"
      }
    },
    {
      "cell_type": "code",
      "execution_count": null,
      "metadata": {
        "colab": {
          "base_uri": "https://localhost:8080/"
        },
        "id": "xohrnocSwQBa",
        "outputId": "4cf526a0-86a3-4af3-f5e9-e3eb1e614851"
      },
      "outputs": [
        {
          "output_type": "stream",
          "name": "stdout",
          "text": [
            "\u001b[K     |████████████████████████████████| 1.9 MB 5.2 MB/s \n",
            "\u001b[K     |████████████████████████████████| 182 kB 59.5 MB/s \n",
            "\u001b[K     |████████████████████████████████| 162 kB 56.9 MB/s \n",
            "\u001b[K     |████████████████████████████████| 63 kB 1.6 MB/s \n",
            "\u001b[K     |████████████████████████████████| 162 kB 47.6 MB/s \n",
            "\u001b[K     |████████████████████████████████| 158 kB 58.3 MB/s \n",
            "\u001b[K     |████████████████████████████████| 157 kB 46.2 MB/s \n",
            "\u001b[K     |████████████████████████████████| 157 kB 59.6 MB/s \n",
            "\u001b[K     |████████████████████████████████| 157 kB 55.3 MB/s \n",
            "\u001b[K     |████████████████████████████████| 157 kB 58.3 MB/s \n",
            "\u001b[K     |████████████████████████████████| 157 kB 55.5 MB/s \n",
            "\u001b[K     |████████████████████████████████| 157 kB 50.9 MB/s \n",
            "\u001b[K     |████████████████████████████████| 157 kB 62.5 MB/s \n",
            "\u001b[K     |████████████████████████████████| 156 kB 48.7 MB/s \n",
            "\u001b[?25h  Building wheel for pathtools (setup.py) ... \u001b[?25l\u001b[?25hdone\n"
          ]
        }
      ],
      "source": [
        "!pip install wandb -qU"
      ]
    },
    {
      "cell_type": "code",
      "source": [
        "import wandb\n",
        "wandb.login()"
      ],
      "metadata": {
        "colab": {
          "base_uri": "https://localhost:8080/",
          "height": 139
        },
        "id": "bdhn_gwbwz0N",
        "outputId": "e53de54d-8e43-41bd-c56f-6d77689e6a00"
      },
      "execution_count": null,
      "outputs": [
        {
          "output_type": "stream",
          "name": "stderr",
          "text": [
            "ERROR:wandb.jupyter:Failed to detect the name of this notebook, you can set it manually with the WANDB_NOTEBOOK_NAME environment variable to enable code saving.\n"
          ]
        },
        {
          "output_type": "display_data",
          "data": {
            "text/plain": [
              "<IPython.core.display.Javascript object>"
            ],
            "application/javascript": [
              "\n",
              "        window._wandbApiKey = new Promise((resolve, reject) => {\n",
              "            function loadScript(url) {\n",
              "            return new Promise(function(resolve, reject) {\n",
              "                let newScript = document.createElement(\"script\");\n",
              "                newScript.onerror = reject;\n",
              "                newScript.onload = resolve;\n",
              "                document.body.appendChild(newScript);\n",
              "                newScript.src = url;\n",
              "            });\n",
              "            }\n",
              "            loadScript(\"https://cdn.jsdelivr.net/npm/postmate/build/postmate.min.js\").then(() => {\n",
              "            const iframe = document.createElement('iframe')\n",
              "            iframe.style.cssText = \"width:0;height:0;border:none\"\n",
              "            document.body.appendChild(iframe)\n",
              "            const handshake = new Postmate({\n",
              "                container: iframe,\n",
              "                url: 'https://wandb.ai/authorize'\n",
              "            });\n",
              "            const timeout = setTimeout(() => reject(\"Couldn't auto authenticate\"), 5000)\n",
              "            handshake.then(function(child) {\n",
              "                child.on('authorize', data => {\n",
              "                    clearTimeout(timeout)\n",
              "                    resolve(data)\n",
              "                });\n",
              "            });\n",
              "            })\n",
              "        });\n",
              "    "
            ]
          },
          "metadata": {}
        },
        {
          "output_type": "stream",
          "name": "stderr",
          "text": [
            "\u001b[34m\u001b[1mwandb\u001b[0m: Logging into wandb.ai. (Learn how to deploy a W&B server locally: https://wandb.me/wandb-server)\n",
            "\u001b[34m\u001b[1mwandb\u001b[0m: You can find your API key in your browser here: https://wandb.ai/authorize\n",
            "wandb: Paste an API key from your profile and hit enter, or press ctrl+c to quit: "
          ]
        },
        {
          "name": "stdout",
          "output_type": "stream",
          "text": [
            "··········\n"
          ]
        },
        {
          "output_type": "stream",
          "name": "stderr",
          "text": [
            "\u001b[34m\u001b[1mwandb\u001b[0m: Appending key for api.wandb.ai to your netrc file: /root/.netrc\n"
          ]
        },
        {
          "output_type": "execute_result",
          "data": {
            "text/plain": [
              "True"
            ]
          },
          "metadata": {},
          "execution_count": 2
        }
      ]
    },
    {
      "cell_type": "markdown",
      "source": [
        "#### Import Packages"
      ],
      "metadata": {
        "id": "2bNSeqS0w1ya"
      }
    },
    {
      "cell_type": "markdown",
      "source": [
        "Import the necessary packages"
      ],
      "metadata": {
        "id": "DagBVSdbw80h"
      }
    },
    {
      "cell_type": "code",
      "source": [
        "from imutils import paths\n",
        "import logging\n",
        "import os"
      ],
      "metadata": {
        "id": "oQv2lIEDxMRH"
      },
      "execution_count": null,
      "outputs": []
    },
    {
      "cell_type": "code",
      "source": [
        "import cv2\n",
        "import numpy as np\n",
        "import joblib"
      ],
      "metadata": {
        "id": "LLFWOSRkxPXp"
      },
      "execution_count": null,
      "outputs": []
    },
    {
      "cell_type": "markdown",
      "source": [
        "Configure logging:"
      ],
      "metadata": {
        "id": "D6Mymw7oxQkA"
      }
    },
    {
      "cell_type": "markdown",
      "source": [
        "Reference to a logging object"
      ],
      "metadata": {
        "id": "kegsU1iCxVk1"
      }
    },
    {
      "cell_type": "code",
      "source": [
        "logger = logging.getLogger()"
      ],
      "metadata": {
        "id": "3lMgQl9jxZFb"
      },
      "execution_count": null,
      "outputs": []
    },
    {
      "cell_type": "markdown",
      "source": [
        "Set the level of logging"
      ],
      "metadata": {
        "id": "DnTbb3KPxefy"
      }
    },
    {
      "cell_type": "code",
      "source": [
        "logger.setLevel(logging.INFO)"
      ],
      "metadata": {
        "id": "eQaCBw3Wxdh1"
      },
      "execution_count": null,
      "outputs": []
    },
    {
      "cell_type": "markdown",
      "source": [
        "Create handlers"
      ],
      "metadata": {
        "id": "UUI6DlRmxjzt"
      }
    },
    {
      "cell_type": "code",
      "source": [
        "c_handler = logging.StreamHandler()\n",
        "c_format = logging.Formatter(fmt=\"%(asctime)s %(message)s\",datefmt='%d-%m-%Y %H:%M:%S')\n",
        "c_handler.setFormatter(c_format)"
      ],
      "metadata": {
        "id": "91s1SIePxmik"
      },
      "execution_count": null,
      "outputs": []
    },
    {
      "cell_type": "markdown",
      "source": [
        "Add handler to the Logger"
      ],
      "metadata": {
        "id": "VxvdV1fsxr1y"
      }
    },
    {
      "cell_type": "code",
      "source": [
        "logger.handlers[0] = c_handler"
      ],
      "metadata": {
        "id": "qB3Mx-bSxuBK"
      },
      "execution_count": null,
      "outputs": []
    },
    {
      "cell_type": "markdown",
      "source": [
        "### Step 02: EDA"
      ],
      "metadata": {
        "id": "OXORl5n5xxiN"
      }
    },
    {
      "cell_type": "markdown",
      "source": [
        "Since we are using Jupyter Notebooks we can replace our argument parsing code with *hard coded* arguments and values"
      ],
      "metadata": {
        "id": "cCQzglXGx2nx"
      }
    },
    {
      "cell_type": "code",
      "source": [
        "args = {\n",
        "\t\"dataset\": \"animals\",\n",
        "  \"project_name\": \"first_image_classifier\",\n",
        "  \"artifact_name\": \"animals_raw_data:latest\",\n",
        "  \"eda_name\": \"eda_animals\"\n",
        "}"
      ],
      "metadata": {
        "id": "oenEfs2Cx7VV"
      },
      "execution_count": null,
      "outputs": []
    },
    {
      "cell_type": "markdown",
      "source": [
        "Open the W&B project created in the Fetch step"
      ],
      "metadata": {
        "id": "4sNzT7yeyEgv"
      }
    },
    {
      "cell_type": "code",
      "source": [
        "run = wandb.init(entity=\"euripedes\",project=args[\"project_name\"], job_type=\"preprocessing\")"
      ],
      "metadata": {
        "colab": {
          "base_uri": "https://localhost:8080/",
          "height": 86
        },
        "id": "XNr8yKjnyGyB",
        "outputId": "50bacddf-080c-48b3-d5f2-cc1e0ff4d810"
      },
      "execution_count": null,
      "outputs": [
        {
          "output_type": "stream",
          "name": "stderr",
          "text": [
            "\u001b[34m\u001b[1mwandb\u001b[0m: Currently logged in as: \u001b[33meuripedes\u001b[0m. Use \u001b[1m`wandb login --relogin`\u001b[0m to force relogin\n"
          ]
        },
        {
          "output_type": "display_data",
          "data": {
            "text/plain": [
              "<IPython.core.display.HTML object>"
            ],
            "text/html": [
              "Tracking run with wandb version 0.13.4"
            ]
          },
          "metadata": {}
        },
        {
          "output_type": "display_data",
          "data": {
            "text/plain": [
              "<IPython.core.display.HTML object>"
            ],
            "text/html": [
              "Run data is saved locally in <code>/content/wandb/run-20221013_005404-3pjk545g</code>"
            ]
          },
          "metadata": {}
        },
        {
          "output_type": "display_data",
          "data": {
            "text/plain": [
              "<IPython.core.display.HTML object>"
            ],
            "text/html": [
              "Syncing run <strong><a href=\"https://wandb.ai/euripedes/first_image_classifier/runs/3pjk545g\" target=\"_blank\">fanciful-disco-2</a></strong> to <a href=\"https://wandb.ai/euripedes/first_image_classifier\" target=\"_blank\">Weights & Biases</a> (<a href=\"https://wandb.me/run\" target=\"_blank\">docs</a>)<br/>"
            ]
          },
          "metadata": {}
        }
      ]
    },
    {
      "cell_type": "markdown",
      "source": [
        "Download the raw data from W&B"
      ],
      "metadata": {
        "id": "7em5WOrTyHZF"
      }
    },
    {
      "cell_type": "code",
      "source": [
        "raw_data = run.use_artifact(args[\"artifact_name\"])\n",
        "data_dir = raw_data.download()\n",
        "logger.info(\"Path: {}\".format(data_dir))"
      ],
      "metadata": {
        "colab": {
          "base_uri": "https://localhost:8080/"
        },
        "id": "9OHN-vWfyLqq",
        "outputId": "a2798bcb-9688-4d4a-e97f-8448e0010d21"
      },
      "execution_count": null,
      "outputs": [
        {
          "output_type": "stream",
          "name": "stderr",
          "text": [
            "\u001b[34m\u001b[1mwandb\u001b[0m: Downloading large artifact animals_raw_data:latest, 187.97MB. 3000 files... \n",
            "\u001b[34m\u001b[1mwandb\u001b[0m:   3000 of 3000 files downloaded.  \n",
            "Done. 0:0:28.1\n",
            "13-10-2022 00:54:38 Path: ./artifacts/animals_raw_data:v0\n"
          ]
        }
      ]
    },
    {
      "cell_type": "markdown",
      "source": [
        "Create a table with columns we want to track/compare"
      ],
      "metadata": {
        "id": "WJYG6UM7yXtq"
      }
    },
    {
      "cell_type": "code",
      "source": [
        "preview_dt = wandb.Table(columns=[\"id\", \"image\", \"label\",\"size\"])"
      ],
      "metadata": {
        "id": "9W_g5SkNycHY"
      },
      "execution_count": null,
      "outputs": []
    },
    {
      "cell_type": "markdown",
      "source": [
        "Create a **new artifact** to store the EDA data"
      ],
      "metadata": {
        "id": "DwlnyAeMycWW"
      }
    },
    {
      "cell_type": "code",
      "source": [
        "eda_data = wandb.Artifact(args[\"eda_name\"], type=\"eda_data\")"
      ],
      "metadata": {
        "id": "GHGeD7m3yfkf"
      },
      "execution_count": null,
      "outputs": []
    },
    {
      "cell_type": "markdown",
      "source": [
        "Grab the list of images that we'll be describing"
      ],
      "metadata": {
        "id": "dM1JAVWKyi37"
      }
    },
    {
      "cell_type": "code",
      "source": [
        "imagePaths = list(paths.list_images(data_dir))"
      ],
      "metadata": {
        "id": "ccU3G-g4ympx"
      },
      "execution_count": null,
      "outputs": []
    },
    {
      "cell_type": "markdown",
      "source": [
        "Append all images to the artifact"
      ],
      "metadata": {
        "id": "D7HR7g1ryoJh"
      }
    },
    {
      "cell_type": "code",
      "source": [
        "for img in imagePaths:\n",
        "  \"img example: ./artifacts/animals_raw_data:v0/dogs/dogs_00892.jpg\"\n",
        "  label = img.split(os.path.sep)\n",
        "  image = cv2.imread(img)\n",
        "  preview_dt.add_data(label[-1], wandb.Image(img), label[-2], str(image.shape[0]) + \" X \" + str(image.shape[1]))"
      ],
      "metadata": {
        "id": "vAQaGfpJyrPK"
      },
      "execution_count": null,
      "outputs": []
    },
    {
      "cell_type": "markdown",
      "source": [
        "Save artifact to W&B"
      ],
      "metadata": {
        "id": "uMNuMHkXyv2O"
      }
    },
    {
      "cell_type": "code",
      "source": [
        "eda_data.add(preview_dt, \"EDA_Table\")\n",
        "run.log_artifact(eda_data)"
      ],
      "metadata": {
        "colab": {
          "base_uri": "https://localhost:8080/"
        },
        "id": "Xrzc6kqxytYK",
        "outputId": "1684688d-c5cd-4aff-f93c-4673471e41b7"
      },
      "execution_count": null,
      "outputs": [
        {
          "output_type": "execute_result",
          "data": {
            "text/plain": [
              "<wandb.sdk.wandb_artifacts.Artifact at 0x7f391afb2750>"
            ]
          },
          "metadata": {},
          "execution_count": 16
        }
      ]
    },
    {
      "cell_type": "markdown",
      "source": [
        "---"
      ],
      "metadata": {
        "id": "aC6Y8imyzmEv"
      }
    },
    {
      "cell_type": "markdown",
      "source": [
        "### Step 03: Clean Data"
      ],
      "metadata": {
        "id": "MMijEj_pyzgQ"
      }
    },
    {
      "cell_type": "markdown",
      "source": [
        "New args dictionary to cleaning the data"
      ],
      "metadata": {
        "id": "khcmNLo3y-Yf"
      }
    },
    {
      "cell_type": "code",
      "source": [
        "args = {\n",
        "\t\"dataset\": \"clean_data\",\n",
        "  \"label\": \"label\",\n",
        "  \"project_name\": \"first_image_classifier\",\n",
        "  \"artifact_name\": \"animals_raw_data:latest\"\n",
        "}"
      ],
      "metadata": {
        "id": "HLbu8vXsyy7X"
      },
      "execution_count": null,
      "outputs": []
    },
    {
      "cell_type": "markdown",
      "source": [
        "Download the raw data from W&B"
      ],
      "metadata": {
        "id": "-Wm7uZmIzIDL"
      }
    },
    {
      "cell_type": "code",
      "source": [
        "raw_data = run.use_artifact(args[\"artifact_name\"])\n",
        "data_dir = raw_data.download()\n",
        "logger.info(\"Path: {}\".format(data_dir))"
      ],
      "metadata": {
        "colab": {
          "base_uri": "https://localhost:8080/"
        },
        "id": "WU4qZIQnzMKq",
        "outputId": "b563290d-f0c0-4bb8-a7a8-6047c0e9a176"
      },
      "execution_count": null,
      "outputs": [
        {
          "output_type": "stream",
          "name": "stderr",
          "text": [
            "\u001b[34m\u001b[1mwandb\u001b[0m: \u001b[33mWARNING\u001b[0m A graphql request initiated by the public wandb API timed out (timeout=9 sec). Create a new API with an integer timeout larger than 9, e.g., `api = wandb.Api(timeout=19)` to increase the graphql timeout.\n",
            "\u001b[34m\u001b[1mwandb\u001b[0m: \u001b[33mWARNING\u001b[0m A graphql request initiated by the public wandb API timed out (timeout=9 sec). Create a new API with an integer timeout larger than 9, e.g., `api = wandb.Api(timeout=19)` to increase the graphql timeout.\n",
            "\u001b[34m\u001b[1mwandb\u001b[0m: Downloading large artifact animals_raw_data:latest, 187.97MB. 3000 files... \n",
            "\u001b[34m\u001b[1mwandb\u001b[0m:   3000 of 3000 files downloaded.  \n",
            "Done. 0:0:0.4\n",
            "13-10-2022 00:56:15 Path: ./artifacts/animals_raw_data:v0\n"
          ]
        }
      ]
    },
    {
      "cell_type": "markdown",
      "source": [
        "**A basic simple preprocessor:**"
      ],
      "metadata": {
        "id": "rl83QR4MzO4g"
      }
    },
    {
      "cell_type": "code",
      "source": [
        "class SimplePreprocessor:\n",
        "\tdef __init__(self, width, height, inter=cv2.INTER_AREA):\n",
        "\t\t# store the target image width, height, and interpolation\n",
        "\t\t# method used when resizing\n",
        "\t\tself.width = width\n",
        "\t\tself.height = height\n",
        "\t\tself.inter = inter\n",
        "\n",
        "\tdef preprocess(self, image):\n",
        "\t\t# resize the image to a fixed size, ignoring the aspect\n",
        "\t\t# ratio\n",
        "\t\treturn cv2.resize(image, (self.width, self.height),interpolation=self.inter)"
      ],
      "metadata": {
        "id": "db4K8BevzSpv"
      },
      "execution_count": null,
      "outputs": []
    },
    {
      "cell_type": "markdown",
      "source": [
        "**Building an image loader:**"
      ],
      "metadata": {
        "id": "Hh2_5n9SzUAL"
      }
    },
    {
      "cell_type": "code",
      "source": [
        "class SimpleDatasetLoader:\n",
        "  def __init__(self, preprocessors=None, logger=None):\n",
        "\t\t# store the image preprocessor\n",
        "    self.preprocessors = preprocessors\n",
        "    self.logger = logger\n",
        "\n",
        "\t\t# if the preprocessors are None, initialize them as an\n",
        "\t\t# empty list\n",
        "    if self.preprocessors is None:\n",
        "      self.preprocessors = []\n",
        "\n",
        "  def load(self, imagePaths, verbose=-1):\n",
        "\t\t# initialize the list of features and labels\n",
        "    data = []\n",
        "    labels = []\n",
        "\n",
        "\t\t# loop over the input images\n",
        "    for (i, imagePath) in enumerate(imagePaths):\n",
        "\t\t\t# load the image and extract the class label assuming\n",
        "\t\t\t# that our path has the following format:\n",
        "\t\t\t# /path/to/dataset/{class}/{image}.jpg\n",
        "\t\t\t# e.g \"img example: ./artifacts/animals_raw_data:v0/dogs/dogs_00892.jpg\"\n",
        "\t\t\t# imagePath.split(os.path.sep)[-2] will return \"dogs\"\n",
        "      image = cv2.imread(imagePath)\n",
        "      label = imagePath.split(os.path.sep)[-2]\n",
        "\n",
        "      # check to see if our preprocessors are not None\n",
        "      if self.preprocessors is not None:\n",
        "\t\t\t\t# loop over the preprocessors and apply each to\n",
        "\t\t\t\t# the image\n",
        "        for p in self.preprocessors:\n",
        "          image = p.preprocess(image)\n",
        "\n",
        "\t\t\t# treat our processed image as a \"feature vector\"\n",
        "\t\t\t# by updating the data list followed by the labels\n",
        "      data.append(image)\n",
        "      labels.append(label)\n",
        "   \n",
        "\t\t\t# show an update every `verbose` images\n",
        "      if verbose > 0 and i > 0 and (i + 1) % verbose == 0:\n",
        "        logger.info(\"[INFO] processed {}/{}\".format(i + 1,len(imagePaths)))\n",
        "\n",
        "\t\t# return a tuple of the data and labels\n",
        "    return (np.array(data), np.array(labels))"
      ],
      "metadata": {
        "id": "9EaLNNrwzX4a"
      },
      "execution_count": null,
      "outputs": []
    },
    {
      "cell_type": "markdown",
      "source": [
        "Grab the list of images that we'll be describing"
      ],
      "metadata": {
        "id": "wJz0zY7GzeTg"
      }
    },
    {
      "cell_type": "code",
      "source": [
        "logger.info(\"[INFO] preprocessing images...\")\n",
        "imagePaths = list(paths.list_images(data_dir))"
      ],
      "metadata": {
        "colab": {
          "base_uri": "https://localhost:8080/"
        },
        "id": "fCLBHfDdzjrB",
        "outputId": "a31e5cdf-d716-41ad-c462-de5e453b2171"
      },
      "execution_count": null,
      "outputs": [
        {
          "output_type": "stream",
          "name": "stderr",
          "text": [
            "13-10-2022 00:56:29 [INFO] preprocessing images...\n"
          ]
        }
      ]
    },
    {
      "cell_type": "markdown",
      "source": [
        "initialize the ***image preprocessor***, load the dataset from disk, and reshape the data matrix"
      ],
      "metadata": {
        "id": "tkybyVUSzse_"
      }
    },
    {
      "cell_type": "code",
      "source": [
        "sp = SimplePreprocessor(32, 32)\n",
        "sdl = SimpleDatasetLoader(preprocessors=[sp],logger=logger)\n",
        "(data, labels) = sdl.load(imagePaths, verbose=500)\n",
        "# 32 x 32 x 3 = 3072\n",
        "data = data.reshape((data.shape[0], 3072))"
      ],
      "metadata": {
        "colab": {
          "base_uri": "https://localhost:8080/"
        },
        "id": "PB3W-gHgzu2Q",
        "outputId": "021a4207-1e92-44e1-e432-6f87ac564aca"
      },
      "execution_count": null,
      "outputs": [
        {
          "output_type": "stream",
          "name": "stderr",
          "text": [
            "13-10-2022 00:56:36 [INFO] processed 500/3000\n",
            "13-10-2022 00:56:40 [INFO] processed 1000/3000\n",
            "13-10-2022 00:56:41 [INFO] processed 1500/3000\n",
            "13-10-2022 00:56:43 [INFO] processed 2000/3000\n",
            "13-10-2022 00:56:44 [INFO] processed 2500/3000\n",
            "13-10-2022 00:56:46 [INFO] processed 3000/3000\n"
          ]
        }
      ]
    },
    {
      "cell_type": "markdown",
      "source": [
        "Show some information on memory consumption of the images"
      ],
      "metadata": {
        "id": "5ZRotnojz1PS"
      }
    },
    {
      "cell_type": "code",
      "source": [
        "logger.info(\"[INFO] features matrix: {:.1f}MB\".format(data.nbytes / (1024 * 1024)))"
      ],
      "metadata": {
        "colab": {
          "base_uri": "https://localhost:8080/"
        },
        "id": "7qSLMOEVz3CP",
        "outputId": "af8340fb-753e-4129-80a4-8329b1d8bec9"
      },
      "execution_count": null,
      "outputs": [
        {
          "output_type": "stream",
          "name": "stderr",
          "text": [
            "13-10-2022 00:56:51 [INFO] features matrix: 8.8MB\n"
          ]
        }
      ]
    },
    {
      "cell_type": "markdown",
      "source": [
        "Show some information about the images and the data:"
      ],
      "metadata": {
        "id": "c4iMMgK5z4-W"
      }
    },
    {
      "cell_type": "code",
      "source": [
        "logger.info(\"Data shape: {}\".format(data.shape))"
      ],
      "metadata": {
        "colab": {
          "base_uri": "https://localhost:8080/"
        },
        "id": "Zdyw2unf0GDu",
        "outputId": "ec82ce3c-63e9-44ae-b690-934d41b6dff6"
      },
      "execution_count": null,
      "outputs": [
        {
          "output_type": "stream",
          "name": "stderr",
          "text": [
            "13-10-2022 00:56:53 Data shape: (3000, 3072)\n"
          ]
        }
      ]
    },
    {
      "cell_type": "code",
      "source": [
        "logger.info(\"Label shape: {}\".format(labels.shape))"
      ],
      "metadata": {
        "colab": {
          "base_uri": "https://localhost:8080/"
        },
        "id": "CsW10vyA0NfY",
        "outputId": "dbcee7c1-508b-4bc4-c9e2-3100e8257a55"
      },
      "execution_count": null,
      "outputs": [
        {
          "output_type": "stream",
          "name": "stderr",
          "text": [
            "13-10-2022 00:56:55 Label shape: (3000,)\n"
          ]
        }
      ]
    },
    {
      "cell_type": "code",
      "source": [
        "logger.info(\"Dumping the clean data artifacts to disk\")"
      ],
      "metadata": {
        "colab": {
          "base_uri": "https://localhost:8080/"
        },
        "id": "2C4NCOCH0Hle",
        "outputId": "3581207d-48f8-48e2-807e-3d85a5355b16"
      },
      "execution_count": null,
      "outputs": [
        {
          "output_type": "stream",
          "name": "stderr",
          "text": [
            "13-10-2022 00:56:56 Dumping the clean data artifacts to disk\n"
          ]
        }
      ]
    },
    {
      "cell_type": "markdown",
      "source": [
        "Save the feature artifacts using joblib"
      ],
      "metadata": {
        "id": "GvPuNbTL0RB5"
      }
    },
    {
      "cell_type": "code",
      "source": [
        "joblib.dump(data, args[\"dataset\"])"
      ],
      "metadata": {
        "colab": {
          "base_uri": "https://localhost:8080/"
        },
        "id": "4qRxx2mv0QZ6",
        "outputId": "d099fac7-01c8-4245-91fb-63b5983889b8"
      },
      "execution_count": null,
      "outputs": [
        {
          "output_type": "execute_result",
          "data": {
            "text/plain": [
              "['clean_data']"
            ]
          },
          "metadata": {},
          "execution_count": 27
        }
      ]
    },
    {
      "cell_type": "markdown",
      "source": [
        "Save the target using joblib"
      ],
      "metadata": {
        "id": "l2h6YAx-0Yxc"
      }
    },
    {
      "cell_type": "code",
      "source": [
        "joblib.dump(labels, args[\"label\"])"
      ],
      "metadata": {
        "colab": {
          "base_uri": "https://localhost:8080/"
        },
        "id": "51n0T78f0dSc",
        "outputId": "96160363-62b5-486f-9905-18447ab303dd"
      },
      "execution_count": null,
      "outputs": [
        {
          "output_type": "execute_result",
          "data": {
            "text/plain": [
              "['label']"
            ]
          },
          "metadata": {},
          "execution_count": 28
        }
      ]
    },
    {
      "cell_type": "markdown",
      "source": [
        "Clean data artifact"
      ],
      "metadata": {
        "id": "jb2KUxWM0ru4"
      }
    },
    {
      "cell_type": "code",
      "source": [
        "artifact = wandb.Artifact(args[\"dataset\"],\n",
        "                          type=\"CLEAN_DATA\",\n",
        "                          description=\"A json file representing the clean and preprocessed data\"\n",
        "                          )"
      ],
      "metadata": {
        "id": "7QuZRvO40t6G"
      },
      "execution_count": null,
      "outputs": []
    },
    {
      "cell_type": "code",
      "source": [
        "logger.info(\"Logging clean data artifact\")\n",
        "artifact.add_file(args[\"dataset\"])\n",
        "run.log_artifact(artifact)"
      ],
      "metadata": {
        "colab": {
          "base_uri": "https://localhost:8080/"
        },
        "id": "huc7ZJMb0x0s",
        "outputId": "2c4c0090-ed08-4f0a-91e5-8b9c7abb0221"
      },
      "execution_count": null,
      "outputs": [
        {
          "output_type": "stream",
          "name": "stderr",
          "text": [
            "13-10-2022 00:57:07 Logging clean data artifact\n"
          ]
        },
        {
          "output_type": "execute_result",
          "data": {
            "text/plain": [
              "<wandb.sdk.wandb_artifacts.Artifact at 0x7f392b2bf910>"
            ]
          },
          "metadata": {},
          "execution_count": 30
        }
      ]
    },
    {
      "cell_type": "markdown",
      "source": [
        "Clean labal artifact"
      ],
      "metadata": {
        "id": "enCc4vgJ0yyR"
      }
    },
    {
      "cell_type": "code",
      "source": [
        "artifact = wandb.Artifact(args[\"label\"],\n",
        "                          type=\"CLEAN_DATA\",\n",
        "                          description=\"A json file representing the clean label\"\n",
        "                          )"
      ],
      "metadata": {
        "id": "_k55X1py01F3"
      },
      "execution_count": null,
      "outputs": []
    },
    {
      "cell_type": "code",
      "source": [
        "logger.info(\"Logging clean label artifact\")\n",
        "artifact.add_file(args[\"label\"])\n",
        "run.log_artifact(artifact)"
      ],
      "metadata": {
        "colab": {
          "base_uri": "https://localhost:8080/"
        },
        "id": "v4BnY-qn04ew",
        "outputId": "20efcd37-cc52-413a-f360-b65ec9274278"
      },
      "execution_count": null,
      "outputs": [
        {
          "output_type": "stream",
          "name": "stderr",
          "text": [
            "13-10-2022 00:57:12 Logging clean label artifact\n"
          ]
        },
        {
          "output_type": "execute_result",
          "data": {
            "text/plain": [
              "<wandb.sdk.wandb_artifacts.Artifact at 0x7f392b297210>"
            ]
          },
          "metadata": {},
          "execution_count": 32
        }
      ]
    },
    {
      "cell_type": "code",
      "source": [
        "run.finish()"
      ],
      "metadata": {
        "colab": {
          "base_uri": "https://localhost:8080/",
          "height": 150,
          "referenced_widgets": [
            "36be51f6c5c54a109a69e72cbc4441b7",
            "c5c511758f3e471283372b3224a24475",
            "74a99a64a7af4e43b376e47cf145764d",
            "748b2291ec1e44b8ac30ee893ed9fa05",
            "8bcc7459a1854a5f8cf72a9f46e16381",
            "cb7815824433417db93dd76d8b0e6efa",
            "57e7ce02b5c14271b49bbc10e290a8fe",
            "c459c0e5600d4c75a103aada64afa289"
          ]
        },
        "id": "nn1MqJTZ05CB",
        "outputId": "be744e13-1029-4a5f-dcb3-f360794c1239"
      },
      "execution_count": null,
      "outputs": [
        {
          "output_type": "display_data",
          "data": {
            "text/plain": [
              "<IPython.core.display.HTML object>"
            ],
            "text/html": [
              "Waiting for W&B process to finish... <strong style=\"color:green\">(success).</strong>"
            ]
          },
          "metadata": {}
        },
        {
          "output_type": "display_data",
          "data": {
            "text/plain": [
              "VBox(children=(Label(value='8.847 MB of 8.847 MB uploaded (0.000 MB deduped)\\r'), FloatProgress(value=1.0, max…"
            ],
            "application/vnd.jupyter.widget-view+json": {
              "version_major": 2,
              "version_minor": 0,
              "model_id": "36be51f6c5c54a109a69e72cbc4441b7"
            }
          },
          "metadata": {}
        },
        {
          "output_type": "display_data",
          "data": {
            "text/plain": [
              "<IPython.core.display.HTML object>"
            ],
            "text/html": [
              "Synced <strong style=\"color:#cdcd00\">fanciful-disco-2</strong>: <a href=\"https://wandb.ai/euripedes/first_image_classifier/runs/3pjk545g\" target=\"_blank\">https://wandb.ai/euripedes/first_image_classifier/runs/3pjk545g</a><br/>Synced 5 W&B file(s), 0 media file(s), 2 artifact file(s) and 0 other file(s)"
            ]
          },
          "metadata": {}
        },
        {
          "output_type": "display_data",
          "data": {
            "text/plain": [
              "<IPython.core.display.HTML object>"
            ],
            "text/html": [
              "Find logs at: <code>./wandb/run-20221013_005404-3pjk545g/logs</code>"
            ]
          },
          "metadata": {}
        }
      ]
    }
  ]
}