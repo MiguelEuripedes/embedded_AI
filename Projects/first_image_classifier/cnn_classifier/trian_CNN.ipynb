{
  "nbformat": 4,
  "nbformat_minor": 0,
  "metadata": {
    "colab": {
      "provenance": [],
      "authorship_tag": "ABX9TyO5MlwlSBXVK1zP2P0cf1c4",
      "include_colab_link": true
    },
    "kernelspec": {
      "name": "python3",
      "display_name": "Python 3"
    },
    "language_info": {
      "name": "python"
    },
    "accelerator": "GPU",
    "widgets": {
      "application/vnd.jupyter.widget-state+json": {
        "2209d36d4a3940bfa89d7cdea49b6815": {
          "model_module": "@jupyter-widgets/controls",
          "model_name": "VBoxModel",
          "model_module_version": "1.5.0",
          "state": {
            "_dom_classes": [],
            "_model_module": "@jupyter-widgets/controls",
            "_model_module_version": "1.5.0",
            "_model_name": "VBoxModel",
            "_view_count": null,
            "_view_module": "@jupyter-widgets/controls",
            "_view_module_version": "1.5.0",
            "_view_name": "VBoxView",
            "box_style": "",
            "children": [
              "IPY_MODEL_854345bb7d274cfe893807ebeda5fb08",
              "IPY_MODEL_fac1cd11cce24dfcbb303efb73313735"
            ],
            "layout": "IPY_MODEL_e39929b231454387b9f0ff01164c9707"
          }
        },
        "854345bb7d274cfe893807ebeda5fb08": {
          "model_module": "@jupyter-widgets/controls",
          "model_name": "LabelModel",
          "model_module_version": "1.5.0",
          "state": {
            "_dom_classes": [],
            "_model_module": "@jupyter-widgets/controls",
            "_model_module_version": "1.5.0",
            "_model_name": "LabelModel",
            "_view_count": null,
            "_view_module": "@jupyter-widgets/controls",
            "_view_module_version": "1.5.0",
            "_view_name": "LabelView",
            "description": "",
            "description_tooltip": null,
            "layout": "IPY_MODEL_aaea732dac484d9e9809f09fe83f97fb",
            "placeholder": "​",
            "style": "IPY_MODEL_1a384b0ab3474d599c6833477faeea96",
            "value": "0.412 MB of 0.415 MB uploaded (0.000 MB deduped)\r"
          }
        },
        "fac1cd11cce24dfcbb303efb73313735": {
          "model_module": "@jupyter-widgets/controls",
          "model_name": "FloatProgressModel",
          "model_module_version": "1.5.0",
          "state": {
            "_dom_classes": [],
            "_model_module": "@jupyter-widgets/controls",
            "_model_module_version": "1.5.0",
            "_model_name": "FloatProgressModel",
            "_view_count": null,
            "_view_module": "@jupyter-widgets/controls",
            "_view_module_version": "1.5.0",
            "_view_name": "ProgressView",
            "bar_style": "",
            "description": "",
            "description_tooltip": null,
            "layout": "IPY_MODEL_7656cb704c604f14bc1b1f8031fd24a0",
            "max": 1,
            "min": 0,
            "orientation": "horizontal",
            "style": "IPY_MODEL_f4fcaad287664dbcac5d90a1b5effadb",
            "value": 0.9908644242911262
          }
        },
        "e39929b231454387b9f0ff01164c9707": {
          "model_module": "@jupyter-widgets/base",
          "model_name": "LayoutModel",
          "model_module_version": "1.2.0",
          "state": {
            "_model_module": "@jupyter-widgets/base",
            "_model_module_version": "1.2.0",
            "_model_name": "LayoutModel",
            "_view_count": null,
            "_view_module": "@jupyter-widgets/base",
            "_view_module_version": "1.2.0",
            "_view_name": "LayoutView",
            "align_content": null,
            "align_items": null,
            "align_self": null,
            "border": null,
            "bottom": null,
            "display": null,
            "flex": null,
            "flex_flow": null,
            "grid_area": null,
            "grid_auto_columns": null,
            "grid_auto_flow": null,
            "grid_auto_rows": null,
            "grid_column": null,
            "grid_gap": null,
            "grid_row": null,
            "grid_template_areas": null,
            "grid_template_columns": null,
            "grid_template_rows": null,
            "height": null,
            "justify_content": null,
            "justify_items": null,
            "left": null,
            "margin": null,
            "max_height": null,
            "max_width": null,
            "min_height": null,
            "min_width": null,
            "object_fit": null,
            "object_position": null,
            "order": null,
            "overflow": null,
            "overflow_x": null,
            "overflow_y": null,
            "padding": null,
            "right": null,
            "top": null,
            "visibility": null,
            "width": null
          }
        },
        "aaea732dac484d9e9809f09fe83f97fb": {
          "model_module": "@jupyter-widgets/base",
          "model_name": "LayoutModel",
          "model_module_version": "1.2.0",
          "state": {
            "_model_module": "@jupyter-widgets/base",
            "_model_module_version": "1.2.0",
            "_model_name": "LayoutModel",
            "_view_count": null,
            "_view_module": "@jupyter-widgets/base",
            "_view_module_version": "1.2.0",
            "_view_name": "LayoutView",
            "align_content": null,
            "align_items": null,
            "align_self": null,
            "border": null,
            "bottom": null,
            "display": null,
            "flex": null,
            "flex_flow": null,
            "grid_area": null,
            "grid_auto_columns": null,
            "grid_auto_flow": null,
            "grid_auto_rows": null,
            "grid_column": null,
            "grid_gap": null,
            "grid_row": null,
            "grid_template_areas": null,
            "grid_template_columns": null,
            "grid_template_rows": null,
            "height": null,
            "justify_content": null,
            "justify_items": null,
            "left": null,
            "margin": null,
            "max_height": null,
            "max_width": null,
            "min_height": null,
            "min_width": null,
            "object_fit": null,
            "object_position": null,
            "order": null,
            "overflow": null,
            "overflow_x": null,
            "overflow_y": null,
            "padding": null,
            "right": null,
            "top": null,
            "visibility": null,
            "width": null
          }
        },
        "1a384b0ab3474d599c6833477faeea96": {
          "model_module": "@jupyter-widgets/controls",
          "model_name": "DescriptionStyleModel",
          "model_module_version": "1.5.0",
          "state": {
            "_model_module": "@jupyter-widgets/controls",
            "_model_module_version": "1.5.0",
            "_model_name": "DescriptionStyleModel",
            "_view_count": null,
            "_view_module": "@jupyter-widgets/base",
            "_view_module_version": "1.2.0",
            "_view_name": "StyleView",
            "description_width": ""
          }
        },
        "7656cb704c604f14bc1b1f8031fd24a0": {
          "model_module": "@jupyter-widgets/base",
          "model_name": "LayoutModel",
          "model_module_version": "1.2.0",
          "state": {
            "_model_module": "@jupyter-widgets/base",
            "_model_module_version": "1.2.0",
            "_model_name": "LayoutModel",
            "_view_count": null,
            "_view_module": "@jupyter-widgets/base",
            "_view_module_version": "1.2.0",
            "_view_name": "LayoutView",
            "align_content": null,
            "align_items": null,
            "align_self": null,
            "border": null,
            "bottom": null,
            "display": null,
            "flex": null,
            "flex_flow": null,
            "grid_area": null,
            "grid_auto_columns": null,
            "grid_auto_flow": null,
            "grid_auto_rows": null,
            "grid_column": null,
            "grid_gap": null,
            "grid_row": null,
            "grid_template_areas": null,
            "grid_template_columns": null,
            "grid_template_rows": null,
            "height": null,
            "justify_content": null,
            "justify_items": null,
            "left": null,
            "margin": null,
            "max_height": null,
            "max_width": null,
            "min_height": null,
            "min_width": null,
            "object_fit": null,
            "object_position": null,
            "order": null,
            "overflow": null,
            "overflow_x": null,
            "overflow_y": null,
            "padding": null,
            "right": null,
            "top": null,
            "visibility": null,
            "width": null
          }
        },
        "f4fcaad287664dbcac5d90a1b5effadb": {
          "model_module": "@jupyter-widgets/controls",
          "model_name": "ProgressStyleModel",
          "model_module_version": "1.5.0",
          "state": {
            "_model_module": "@jupyter-widgets/controls",
            "_model_module_version": "1.5.0",
            "_model_name": "ProgressStyleModel",
            "_view_count": null,
            "_view_module": "@jupyter-widgets/base",
            "_view_module_version": "1.2.0",
            "_view_name": "StyleView",
            "bar_color": null,
            "description_width": ""
          }
        },
        "030c98df3e504fb0aaa242dad64f6633": {
          "model_module": "@jupyter-widgets/controls",
          "model_name": "VBoxModel",
          "model_module_version": "1.5.0",
          "state": {
            "_dom_classes": [],
            "_model_module": "@jupyter-widgets/controls",
            "_model_module_version": "1.5.0",
            "_model_name": "VBoxModel",
            "_view_count": null,
            "_view_module": "@jupyter-widgets/controls",
            "_view_module_version": "1.5.0",
            "_view_name": "VBoxView",
            "box_style": "",
            "children": [
              "IPY_MODEL_aa07e394920e4f428fd0b38fa16bd64b",
              "IPY_MODEL_e7833fe52270455f9f283db8b905b1dd"
            ],
            "layout": "IPY_MODEL_a82804bf7b4c4078a8260da9d69785f4"
          }
        },
        "aa07e394920e4f428fd0b38fa16bd64b": {
          "model_module": "@jupyter-widgets/controls",
          "model_name": "LabelModel",
          "model_module_version": "1.5.0",
          "state": {
            "_dom_classes": [],
            "_model_module": "@jupyter-widgets/controls",
            "_model_module_version": "1.5.0",
            "_model_name": "LabelModel",
            "_view_count": null,
            "_view_module": "@jupyter-widgets/controls",
            "_view_module_version": "1.5.0",
            "_view_name": "LabelView",
            "description": "",
            "description_tooltip": null,
            "layout": "IPY_MODEL_16ad34b6ff7044229f1f4dae5fbb4567",
            "placeholder": "​",
            "style": "IPY_MODEL_381ea2c9dfba4023a0d4bcdab33659ce",
            "value": "0.000 MB of 0.002 MB uploaded (0.000 MB deduped)\r"
          }
        },
        "e7833fe52270455f9f283db8b905b1dd": {
          "model_module": "@jupyter-widgets/controls",
          "model_name": "FloatProgressModel",
          "model_module_version": "1.5.0",
          "state": {
            "_dom_classes": [],
            "_model_module": "@jupyter-widgets/controls",
            "_model_module_version": "1.5.0",
            "_model_name": "FloatProgressModel",
            "_view_count": null,
            "_view_module": "@jupyter-widgets/controls",
            "_view_module_version": "1.5.0",
            "_view_name": "ProgressView",
            "bar_style": "",
            "description": "",
            "description_tooltip": null,
            "layout": "IPY_MODEL_b3fde9dcdeeb4c29a436d3f163e41cad",
            "max": 1,
            "min": 0,
            "orientation": "horizontal",
            "style": "IPY_MODEL_6d3039d720494a68a3a7d69128ce281a",
            "value": 0.2129032258064516
          }
        },
        "a82804bf7b4c4078a8260da9d69785f4": {
          "model_module": "@jupyter-widgets/base",
          "model_name": "LayoutModel",
          "model_module_version": "1.2.0",
          "state": {
            "_model_module": "@jupyter-widgets/base",
            "_model_module_version": "1.2.0",
            "_model_name": "LayoutModel",
            "_view_count": null,
            "_view_module": "@jupyter-widgets/base",
            "_view_module_version": "1.2.0",
            "_view_name": "LayoutView",
            "align_content": null,
            "align_items": null,
            "align_self": null,
            "border": null,
            "bottom": null,
            "display": null,
            "flex": null,
            "flex_flow": null,
            "grid_area": null,
            "grid_auto_columns": null,
            "grid_auto_flow": null,
            "grid_auto_rows": null,
            "grid_column": null,
            "grid_gap": null,
            "grid_row": null,
            "grid_template_areas": null,
            "grid_template_columns": null,
            "grid_template_rows": null,
            "height": null,
            "justify_content": null,
            "justify_items": null,
            "left": null,
            "margin": null,
            "max_height": null,
            "max_width": null,
            "min_height": null,
            "min_width": null,
            "object_fit": null,
            "object_position": null,
            "order": null,
            "overflow": null,
            "overflow_x": null,
            "overflow_y": null,
            "padding": null,
            "right": null,
            "top": null,
            "visibility": null,
            "width": null
          }
        },
        "16ad34b6ff7044229f1f4dae5fbb4567": {
          "model_module": "@jupyter-widgets/base",
          "model_name": "LayoutModel",
          "model_module_version": "1.2.0",
          "state": {
            "_model_module": "@jupyter-widgets/base",
            "_model_module_version": "1.2.0",
            "_model_name": "LayoutModel",
            "_view_count": null,
            "_view_module": "@jupyter-widgets/base",
            "_view_module_version": "1.2.0",
            "_view_name": "LayoutView",
            "align_content": null,
            "align_items": null,
            "align_self": null,
            "border": null,
            "bottom": null,
            "display": null,
            "flex": null,
            "flex_flow": null,
            "grid_area": null,
            "grid_auto_columns": null,
            "grid_auto_flow": null,
            "grid_auto_rows": null,
            "grid_column": null,
            "grid_gap": null,
            "grid_row": null,
            "grid_template_areas": null,
            "grid_template_columns": null,
            "grid_template_rows": null,
            "height": null,
            "justify_content": null,
            "justify_items": null,
            "left": null,
            "margin": null,
            "max_height": null,
            "max_width": null,
            "min_height": null,
            "min_width": null,
            "object_fit": null,
            "object_position": null,
            "order": null,
            "overflow": null,
            "overflow_x": null,
            "overflow_y": null,
            "padding": null,
            "right": null,
            "top": null,
            "visibility": null,
            "width": null
          }
        },
        "381ea2c9dfba4023a0d4bcdab33659ce": {
          "model_module": "@jupyter-widgets/controls",
          "model_name": "DescriptionStyleModel",
          "model_module_version": "1.5.0",
          "state": {
            "_model_module": "@jupyter-widgets/controls",
            "_model_module_version": "1.5.0",
            "_model_name": "DescriptionStyleModel",
            "_view_count": null,
            "_view_module": "@jupyter-widgets/base",
            "_view_module_version": "1.2.0",
            "_view_name": "StyleView",
            "description_width": ""
          }
        },
        "b3fde9dcdeeb4c29a436d3f163e41cad": {
          "model_module": "@jupyter-widgets/base",
          "model_name": "LayoutModel",
          "model_module_version": "1.2.0",
          "state": {
            "_model_module": "@jupyter-widgets/base",
            "_model_module_version": "1.2.0",
            "_model_name": "LayoutModel",
            "_view_count": null,
            "_view_module": "@jupyter-widgets/base",
            "_view_module_version": "1.2.0",
            "_view_name": "LayoutView",
            "align_content": null,
            "align_items": null,
            "align_self": null,
            "border": null,
            "bottom": null,
            "display": null,
            "flex": null,
            "flex_flow": null,
            "grid_area": null,
            "grid_auto_columns": null,
            "grid_auto_flow": null,
            "grid_auto_rows": null,
            "grid_column": null,
            "grid_gap": null,
            "grid_row": null,
            "grid_template_areas": null,
            "grid_template_columns": null,
            "grid_template_rows": null,
            "height": null,
            "justify_content": null,
            "justify_items": null,
            "left": null,
            "margin": null,
            "max_height": null,
            "max_width": null,
            "min_height": null,
            "min_width": null,
            "object_fit": null,
            "object_position": null,
            "order": null,
            "overflow": null,
            "overflow_x": null,
            "overflow_y": null,
            "padding": null,
            "right": null,
            "top": null,
            "visibility": null,
            "width": null
          }
        },
        "6d3039d720494a68a3a7d69128ce281a": {
          "model_module": "@jupyter-widgets/controls",
          "model_name": "ProgressStyleModel",
          "model_module_version": "1.5.0",
          "state": {
            "_model_module": "@jupyter-widgets/controls",
            "_model_module_version": "1.5.0",
            "_model_name": "ProgressStyleModel",
            "_view_count": null,
            "_view_module": "@jupyter-widgets/base",
            "_view_module_version": "1.2.0",
            "_view_name": "StyleView",
            "bar_color": null,
            "description_width": ""
          }
        },
        "056a52adee0e471481e52ef187b9cccd": {
          "model_module": "@jupyter-widgets/controls",
          "model_name": "VBoxModel",
          "model_module_version": "1.5.0",
          "state": {
            "_dom_classes": [],
            "_model_module": "@jupyter-widgets/controls",
            "_model_module_version": "1.5.0",
            "_model_name": "VBoxModel",
            "_view_count": null,
            "_view_module": "@jupyter-widgets/controls",
            "_view_module_version": "1.5.0",
            "_view_name": "VBoxView",
            "box_style": "",
            "children": [
              "IPY_MODEL_d02a0ae8b289400ea473cf7e5d4d1971",
              "IPY_MODEL_d4f884861ea04781bf0d0d1702bbf9d3"
            ],
            "layout": "IPY_MODEL_eaa7595f22b84d3c91f9e680038ef10b"
          }
        },
        "d02a0ae8b289400ea473cf7e5d4d1971": {
          "model_module": "@jupyter-widgets/controls",
          "model_name": "LabelModel",
          "model_module_version": "1.5.0",
          "state": {
            "_dom_classes": [],
            "_model_module": "@jupyter-widgets/controls",
            "_model_module_version": "1.5.0",
            "_model_name": "LabelModel",
            "_view_count": null,
            "_view_module": "@jupyter-widgets/controls",
            "_view_module_version": "1.5.0",
            "_view_name": "LabelView",
            "description": "",
            "description_tooltip": null,
            "layout": "IPY_MODEL_69395c59bc284fb5912066d41fa7779c",
            "placeholder": "​",
            "style": "IPY_MODEL_a9c4ca25794047f28c9cd1d28fcacc21",
            "value": "0.000 MB of 0.002 MB uploaded (0.000 MB deduped)\r"
          }
        },
        "d4f884861ea04781bf0d0d1702bbf9d3": {
          "model_module": "@jupyter-widgets/controls",
          "model_name": "FloatProgressModel",
          "model_module_version": "1.5.0",
          "state": {
            "_dom_classes": [],
            "_model_module": "@jupyter-widgets/controls",
            "_model_module_version": "1.5.0",
            "_model_name": "FloatProgressModel",
            "_view_count": null,
            "_view_module": "@jupyter-widgets/controls",
            "_view_module_version": "1.5.0",
            "_view_name": "ProgressView",
            "bar_style": "",
            "description": "",
            "description_tooltip": null,
            "layout": "IPY_MODEL_b3d9fc99476249f586c2c323a8a1ed28",
            "max": 1,
            "min": 0,
            "orientation": "horizontal",
            "style": "IPY_MODEL_1720f184c0a7498b91c9fc277542ac57",
            "value": 0.2126092959042798
          }
        },
        "eaa7595f22b84d3c91f9e680038ef10b": {
          "model_module": "@jupyter-widgets/base",
          "model_name": "LayoutModel",
          "model_module_version": "1.2.0",
          "state": {
            "_model_module": "@jupyter-widgets/base",
            "_model_module_version": "1.2.0",
            "_model_name": "LayoutModel",
            "_view_count": null,
            "_view_module": "@jupyter-widgets/base",
            "_view_module_version": "1.2.0",
            "_view_name": "LayoutView",
            "align_content": null,
            "align_items": null,
            "align_self": null,
            "border": null,
            "bottom": null,
            "display": null,
            "flex": null,
            "flex_flow": null,
            "grid_area": null,
            "grid_auto_columns": null,
            "grid_auto_flow": null,
            "grid_auto_rows": null,
            "grid_column": null,
            "grid_gap": null,
            "grid_row": null,
            "grid_template_areas": null,
            "grid_template_columns": null,
            "grid_template_rows": null,
            "height": null,
            "justify_content": null,
            "justify_items": null,
            "left": null,
            "margin": null,
            "max_height": null,
            "max_width": null,
            "min_height": null,
            "min_width": null,
            "object_fit": null,
            "object_position": null,
            "order": null,
            "overflow": null,
            "overflow_x": null,
            "overflow_y": null,
            "padding": null,
            "right": null,
            "top": null,
            "visibility": null,
            "width": null
          }
        },
        "69395c59bc284fb5912066d41fa7779c": {
          "model_module": "@jupyter-widgets/base",
          "model_name": "LayoutModel",
          "model_module_version": "1.2.0",
          "state": {
            "_model_module": "@jupyter-widgets/base",
            "_model_module_version": "1.2.0",
            "_model_name": "LayoutModel",
            "_view_count": null,
            "_view_module": "@jupyter-widgets/base",
            "_view_module_version": "1.2.0",
            "_view_name": "LayoutView",
            "align_content": null,
            "align_items": null,
            "align_self": null,
            "border": null,
            "bottom": null,
            "display": null,
            "flex": null,
            "flex_flow": null,
            "grid_area": null,
            "grid_auto_columns": null,
            "grid_auto_flow": null,
            "grid_auto_rows": null,
            "grid_column": null,
            "grid_gap": null,
            "grid_row": null,
            "grid_template_areas": null,
            "grid_template_columns": null,
            "grid_template_rows": null,
            "height": null,
            "justify_content": null,
            "justify_items": null,
            "left": null,
            "margin": null,
            "max_height": null,
            "max_width": null,
            "min_height": null,
            "min_width": null,
            "object_fit": null,
            "object_position": null,
            "order": null,
            "overflow": null,
            "overflow_x": null,
            "overflow_y": null,
            "padding": null,
            "right": null,
            "top": null,
            "visibility": null,
            "width": null
          }
        },
        "a9c4ca25794047f28c9cd1d28fcacc21": {
          "model_module": "@jupyter-widgets/controls",
          "model_name": "DescriptionStyleModel",
          "model_module_version": "1.5.0",
          "state": {
            "_model_module": "@jupyter-widgets/controls",
            "_model_module_version": "1.5.0",
            "_model_name": "DescriptionStyleModel",
            "_view_count": null,
            "_view_module": "@jupyter-widgets/base",
            "_view_module_version": "1.2.0",
            "_view_name": "StyleView",
            "description_width": ""
          }
        },
        "b3d9fc99476249f586c2c323a8a1ed28": {
          "model_module": "@jupyter-widgets/base",
          "model_name": "LayoutModel",
          "model_module_version": "1.2.0",
          "state": {
            "_model_module": "@jupyter-widgets/base",
            "_model_module_version": "1.2.0",
            "_model_name": "LayoutModel",
            "_view_count": null,
            "_view_module": "@jupyter-widgets/base",
            "_view_module_version": "1.2.0",
            "_view_name": "LayoutView",
            "align_content": null,
            "align_items": null,
            "align_self": null,
            "border": null,
            "bottom": null,
            "display": null,
            "flex": null,
            "flex_flow": null,
            "grid_area": null,
            "grid_auto_columns": null,
            "grid_auto_flow": null,
            "grid_auto_rows": null,
            "grid_column": null,
            "grid_gap": null,
            "grid_row": null,
            "grid_template_areas": null,
            "grid_template_columns": null,
            "grid_template_rows": null,
            "height": null,
            "justify_content": null,
            "justify_items": null,
            "left": null,
            "margin": null,
            "max_height": null,
            "max_width": null,
            "min_height": null,
            "min_width": null,
            "object_fit": null,
            "object_position": null,
            "order": null,
            "overflow": null,
            "overflow_x": null,
            "overflow_y": null,
            "padding": null,
            "right": null,
            "top": null,
            "visibility": null,
            "width": null
          }
        },
        "1720f184c0a7498b91c9fc277542ac57": {
          "model_module": "@jupyter-widgets/controls",
          "model_name": "ProgressStyleModel",
          "model_module_version": "1.5.0",
          "state": {
            "_model_module": "@jupyter-widgets/controls",
            "_model_module_version": "1.5.0",
            "_model_name": "ProgressStyleModel",
            "_view_count": null,
            "_view_module": "@jupyter-widgets/base",
            "_view_module_version": "1.2.0",
            "_view_name": "StyleView",
            "bar_color": null,
            "description_width": ""
          }
        }
      }
    }
  },
  "cells": [
    {
      "cell_type": "markdown",
      "metadata": {
        "id": "view-in-github",
        "colab_type": "text"
      },
      "source": [
        "<a href=\"https://colab.research.google.com/github/MiguelEuripedes/embedded_AI/blob/main/Projects/first_image_classifier/cnn_classifier/trian_CNN.ipynb\" target=\"_parent\"><img src=\"https://colab.research.google.com/assets/colab-badge.svg\" alt=\"Open In Colab\"/></a>"
      ]
    },
    {
      "cell_type": "markdown",
      "source": [
        "# Your First Image Classifier: Using CNN to Classify Images"
      ],
      "metadata": {
        "id": "RIHeqjppODCb"
      }
    },
    {
      "cell_type": "markdown",
      "source": [
        "## Train\n",
        "\n",
        "The purpose of this dataset is to correctly classify an image as containing a dog, cat, or panda. Containing only 3,000 images, the Animals dataset is meant to be another introductory dataset that we can quickly train a CNN model and obtain a comparative results with the previous KNN model.\n",
        "\n",
        "Let's take the following steps:\n",
        "\n",
        "1. Encoding target variable\n",
        "2. Training the CNN model\n",
        "3. Export the model and the encoder object"
      ],
      "metadata": {
        "id": "d5EZKHPkOHHo"
      }
    },
    {
      "cell_type": "markdown",
      "source": [
        "![image.png](data:image/png;base64,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)"
      ],
      "metadata": {
        "id": "8CdADhbjONvq"
      }
    },
    {
      "cell_type": "markdown",
      "source": [
        "## Step 01: Setup\n",
        "Start out by installing the experiment tracking library and setting up your free W&B account:\n",
        "\n",
        "* **pip install wandb** – Install the W&B library\n",
        "* **import wandb** – Import the wandb library\n",
        "* **wandb login** – Login to your W&B account so you can log all your metrics in one place"
      ],
      "metadata": {
        "id": "EOgx0g7NOQyN"
      }
    },
    {
      "cell_type": "code",
      "execution_count": null,
      "metadata": {
        "colab": {
          "base_uri": "https://localhost:8080/"
        },
        "id": "1K_DjrsLNoR-",
        "outputId": "26863a21-9c04-4e55-d9ed-623e11a124bc"
      },
      "outputs": [
        {
          "output_type": "stream",
          "name": "stdout",
          "text": [
            "\u001b[K     |████████████████████████████████| 1.9 MB 13.9 MB/s \n",
            "\u001b[K     |████████████████████████████████| 162 kB 72.6 MB/s \n",
            "\u001b[K     |████████████████████████████████| 182 kB 67.1 MB/s \n",
            "\u001b[K     |████████████████████████████████| 63 kB 1.9 MB/s \n",
            "\u001b[K     |████████████████████████████████| 162 kB 57.7 MB/s \n",
            "\u001b[K     |████████████████████████████████| 158 kB 53.5 MB/s \n",
            "\u001b[K     |████████████████████████████████| 157 kB 58.3 MB/s \n",
            "\u001b[K     |████████████████████████████████| 157 kB 57.6 MB/s \n",
            "\u001b[K     |████████████████████████████████| 157 kB 29.5 MB/s \n",
            "\u001b[K     |████████████████████████████████| 157 kB 44.5 MB/s \n",
            "\u001b[K     |████████████████████████████████| 157 kB 48.7 MB/s \n",
            "\u001b[K     |████████████████████████████████| 157 kB 27.0 MB/s \n",
            "\u001b[K     |████████████████████████████████| 157 kB 51.5 MB/s \n",
            "\u001b[K     |████████████████████████████████| 156 kB 58.3 MB/s \n",
            "\u001b[?25h  Building wheel for pathtools (setup.py) ... \u001b[?25l\u001b[?25hdone\n"
          ]
        }
      ],
      "source": [
        "!pip install wandb -qU"
      ]
    },
    {
      "cell_type": "code",
      "source": [
        "# a Python package for tracking the carbon emissions produced by various\n",
        "# kinds of computer programs, from straightforward algorithms to deep neural networks.\n",
        "!pip install codecarbon"
      ],
      "metadata": {
        "colab": {
          "base_uri": "https://localhost:8080/"
        },
        "id": "8idhYAJJOCHp",
        "outputId": "325aa2a2-cb29-4a57-9b95-f23c8f4848b4"
      },
      "execution_count": null,
      "outputs": [
        {
          "output_type": "stream",
          "name": "stdout",
          "text": [
            "Looking in indexes: https://pypi.org/simple, https://us-python.pkg.dev/colab-wheels/public/simple/\n",
            "Collecting codecarbon\n",
            "  Downloading codecarbon-2.1.4-py3-none-any.whl (174 kB)\n",
            "\u001b[K     |████████████████████████████████| 174 kB 14.2 MB/s \n",
            "\u001b[?25hCollecting pynvml\n",
            "  Downloading pynvml-11.4.1-py3-none-any.whl (46 kB)\n",
            "\u001b[K     |████████████████████████████████| 46 kB 5.4 MB/s \n",
            "\u001b[?25hRequirement already satisfied: click in /usr/local/lib/python3.7/dist-packages (from codecarbon) (7.1.2)\n",
            "Collecting py-cpuinfo\n",
            "  Downloading py-cpuinfo-8.0.0.tar.gz (99 kB)\n",
            "\u001b[K     |████████████████████████████████| 99 kB 10.8 MB/s \n",
            "\u001b[?25hCollecting fuzzywuzzy\n",
            "  Downloading fuzzywuzzy-0.18.0-py2.py3-none-any.whl (18 kB)\n",
            "Requirement already satisfied: requests in /usr/local/lib/python3.7/dist-packages (from codecarbon) (2.23.0)\n",
            "Collecting arrow\n",
            "  Downloading arrow-1.2.3-py3-none-any.whl (66 kB)\n",
            "\u001b[K     |████████████████████████████████| 66 kB 5.3 MB/s \n",
            "\u001b[?25hRequirement already satisfied: pandas in /usr/local/lib/python3.7/dist-packages (from codecarbon) (1.3.5)\n",
            "Requirement already satisfied: psutil in /usr/local/lib/python3.7/dist-packages (from codecarbon) (5.4.8)\n",
            "Requirement already satisfied: typing-extensions in /usr/local/lib/python3.7/dist-packages (from arrow->codecarbon) (4.1.1)\n",
            "Requirement already satisfied: python-dateutil>=2.7.0 in /usr/local/lib/python3.7/dist-packages (from arrow->codecarbon) (2.8.2)\n",
            "Requirement already satisfied: six>=1.5 in /usr/local/lib/python3.7/dist-packages (from python-dateutil>=2.7.0->arrow->codecarbon) (1.15.0)\n",
            "Requirement already satisfied: pytz>=2017.3 in /usr/local/lib/python3.7/dist-packages (from pandas->codecarbon) (2022.4)\n",
            "Requirement already satisfied: numpy>=1.17.3 in /usr/local/lib/python3.7/dist-packages (from pandas->codecarbon) (1.21.6)\n",
            "Requirement already satisfied: certifi>=2017.4.17 in /usr/local/lib/python3.7/dist-packages (from requests->codecarbon) (2022.9.24)\n",
            "Requirement already satisfied: idna<3,>=2.5 in /usr/local/lib/python3.7/dist-packages (from requests->codecarbon) (2.10)\n",
            "Requirement already satisfied: chardet<4,>=3.0.2 in /usr/local/lib/python3.7/dist-packages (from requests->codecarbon) (3.0.4)\n",
            "Requirement already satisfied: urllib3!=1.25.0,!=1.25.1,<1.26,>=1.21.1 in /usr/local/lib/python3.7/dist-packages (from requests->codecarbon) (1.24.3)\n",
            "Building wheels for collected packages: py-cpuinfo\n",
            "  Building wheel for py-cpuinfo (setup.py) ... \u001b[?25l\u001b[?25hdone\n",
            "  Created wheel for py-cpuinfo: filename=py_cpuinfo-8.0.0-py3-none-any.whl size=22257 sha256=669ebda8fe0c8f78693b93466132b94e4a203cfba0714cd0172d54e9df0d4cbc\n",
            "  Stored in directory: /root/.cache/pip/wheels/d2/f1/1f/041add21dc9c4220157f1bd2bd6afe1f1a49524c3396b94401\n",
            "Successfully built py-cpuinfo\n",
            "Installing collected packages: pynvml, py-cpuinfo, fuzzywuzzy, arrow, codecarbon\n",
            "Successfully installed arrow-1.2.3 codecarbon-2.1.4 fuzzywuzzy-0.18.0 py-cpuinfo-8.0.0 pynvml-11.4.1\n"
          ]
        }
      ]
    },
    {
      "cell_type": "markdown",
      "source": [
        "### Important Packages"
      ],
      "metadata": {
        "id": "OGHc1925Od23"
      }
    },
    {
      "cell_type": "code",
      "source": [
        "import logging\n",
        "import joblib\n",
        "from sklearn.preprocessing import LabelBinarizer\n",
        "from sklearn.metrics import classification_report\n",
        "from tensorflow.keras.models import Sequential\n",
        "from tensorflow.keras.layers import Conv2D\n",
        "from tensorflow.keras.layers import Activation\n",
        "from tensorflow.keras.layers import Flatten\n",
        "from tensorflow.keras.layers import Dense\n",
        "from tensorflow.keras import backend as K\n",
        "from tensorflow.keras.optimizers import SGD\n",
        "import matplotlib.pyplot as plt\n",
        "import numpy as np\n",
        "from codecarbon import EmissionsTracker\n",
        "from tensorflow.keras.callbacks import Callback\n",
        "from wandb.keras import WandbCallback\n",
        "import os\n",
        "from sklearn.metrics import classification_report\n",
        "from sklearn.metrics import fbeta_score, precision_score, recall_score, accuracy_score\n",
        "from sklearn.metrics import confusion_matrix\n",
        "from sklearn.metrics import ConfusionMatrixDisplay\n",
        "import wandb"
      ],
      "metadata": {
        "id": "blFzyiqQOeYj"
      },
      "execution_count": null,
      "outputs": []
    },
    {
      "cell_type": "code",
      "source": [
        "wandb.login()"
      ],
      "metadata": {
        "colab": {
          "base_uri": "https://localhost:8080/",
          "height": 139
        },
        "id": "zNBzKC5ROio5",
        "outputId": "75991d10-02dc-453c-e15e-0b99a32bec29"
      },
      "execution_count": null,
      "outputs": [
        {
          "output_type": "stream",
          "name": "stderr",
          "text": [
            "ERROR:wandb.jupyter:Failed to detect the name of this notebook, you can set it manually with the WANDB_NOTEBOOK_NAME environment variable to enable code saving.\n"
          ]
        },
        {
          "output_type": "display_data",
          "data": {
            "text/plain": [
              "<IPython.core.display.Javascript object>"
            ],
            "application/javascript": [
              "\n",
              "        window._wandbApiKey = new Promise((resolve, reject) => {\n",
              "            function loadScript(url) {\n",
              "            return new Promise(function(resolve, reject) {\n",
              "                let newScript = document.createElement(\"script\");\n",
              "                newScript.onerror = reject;\n",
              "                newScript.onload = resolve;\n",
              "                document.body.appendChild(newScript);\n",
              "                newScript.src = url;\n",
              "            });\n",
              "            }\n",
              "            loadScript(\"https://cdn.jsdelivr.net/npm/postmate/build/postmate.min.js\").then(() => {\n",
              "            const iframe = document.createElement('iframe')\n",
              "            iframe.style.cssText = \"width:0;height:0;border:none\"\n",
              "            document.body.appendChild(iframe)\n",
              "            const handshake = new Postmate({\n",
              "                container: iframe,\n",
              "                url: 'https://wandb.ai/authorize'\n",
              "            });\n",
              "            const timeout = setTimeout(() => reject(\"Couldn't auto authenticate\"), 5000)\n",
              "            handshake.then(function(child) {\n",
              "                child.on('authorize', data => {\n",
              "                    clearTimeout(timeout)\n",
              "                    resolve(data)\n",
              "                });\n",
              "            });\n",
              "            })\n",
              "        });\n",
              "    "
            ]
          },
          "metadata": {}
        },
        {
          "output_type": "stream",
          "name": "stderr",
          "text": [
            "\u001b[34m\u001b[1mwandb\u001b[0m: Logging into wandb.ai. (Learn how to deploy a W&B server locally: https://wandb.me/wandb-server)\n",
            "\u001b[34m\u001b[1mwandb\u001b[0m: You can find your API key in your browser here: https://wandb.ai/authorize\n",
            "wandb: Paste an API key from your profile and hit enter, or press ctrl+c to quit: "
          ]
        },
        {
          "name": "stdout",
          "output_type": "stream",
          "text": [
            "··········\n"
          ]
        },
        {
          "output_type": "stream",
          "name": "stderr",
          "text": [
            "\u001b[34m\u001b[1mwandb\u001b[0m: Appending key for api.wandb.ai to your netrc file: /root/.netrc\n"
          ]
        },
        {
          "output_type": "execute_result",
          "data": {
            "text/plain": [
              "True"
            ]
          },
          "metadata": {},
          "execution_count": 4
        }
      ]
    },
    {
      "cell_type": "code",
      "source": [
        "# configure logging\n",
        "# reference for a logging obj\n",
        "logger = logging.getLogger()\n",
        "\n",
        "# set level of logging\n",
        "logger.setLevel(logging.INFO)\n",
        "\n",
        "# create handlers\n",
        "c_handler = logging.StreamHandler()\n",
        "c_format = logging.Formatter(fmt=\"%(asctime)s %(message)s\",datefmt='%d-%m-%Y %H:%M:%S')\n",
        "c_handler.setFormatter(c_format)\n",
        "\n",
        "# add handler to the logger\n",
        "logger.handlers[0] = c_handler"
      ],
      "metadata": {
        "id": "bJ32J_XjOkMI"
      },
      "execution_count": null,
      "outputs": []
    },
    {
      "cell_type": "markdown",
      "source": [
        "## Step 02 Basic configuration and download artifacts"
      ],
      "metadata": {
        "id": "F0KSpBlUOmqj"
      }
    },
    {
      "cell_type": "code",
      "source": [
        "# since we are using Jupyter Notebooks we can replace our argument\n",
        "# parsing code with *hard coded* arguments and values\n",
        "args = {\n",
        "  \"project_name\": \"cnn_classifier\",\n",
        "  \"train_feature_artifact\": \"train_x:latest\",\n",
        "  \"train_target_artifact\": \"train_y:latest\",\n",
        "  \"val_feature_artifact\": \"val_x:latest\",\n",
        "  \"val_target_artifact\": \"val_y:latest\",\n",
        "  \"encoder\": \"target_encoder\",\n",
        "  \"inference_model\": \"model.h5\"\n",
        "}"
      ],
      "metadata": {
        "id": "cpJPBYzLOliR"
      },
      "execution_count": null,
      "outputs": []
    },
    {
      "cell_type": "code",
      "source": [
        "# open the W&B project created in the Fetch step\n",
        "run = wandb.init(entity=\"euripedes\",project=args[\"project_name\"], job_type=\"Train\")\n",
        "\n",
        "logger.info(\"Downloading the train and validation data\")\n",
        "# train x\n",
        "train_x_artifact = run.use_artifact(args[\"train_feature_artifact\"])\n",
        "train_x_path = train_x_artifact.file()\n",
        "\n",
        "# train y\n",
        "train_y_artifact = run.use_artifact(args[\"train_target_artifact\"])\n",
        "train_y_path = train_y_artifact.file()\n",
        "\n",
        "# validation x\n",
        "val_x_artifact = run.use_artifact(args[\"val_feature_artifact\"])\n",
        "val_x_path = val_x_artifact.file()\n",
        "\n",
        "# validation y\n",
        "val_y_artifact = run.use_artifact(args[\"val_target_artifact\"])\n",
        "val_y_path = val_y_artifact.file()\n",
        "\n",
        "# unpacking the artifacts\n",
        "train_x = joblib.load(train_x_path)\n",
        "train_y = joblib.load(train_y_path)\n",
        "val_x = joblib.load(val_x_path)\n",
        "val_y = joblib.load(val_y_path)"
      ],
      "metadata": {
        "colab": {
          "base_uri": "https://localhost:8080/",
          "height": 104
        },
        "id": "808g-seUOpVH",
        "outputId": "576cf993-d49e-4e6a-aa38-982f2d82a3bc"
      },
      "execution_count": null,
      "outputs": [
        {
          "output_type": "stream",
          "name": "stderr",
          "text": [
            "\u001b[34m\u001b[1mwandb\u001b[0m: Currently logged in as: \u001b[33meuripedes\u001b[0m. Use \u001b[1m`wandb login --relogin`\u001b[0m to force relogin\n"
          ]
        },
        {
          "output_type": "display_data",
          "data": {
            "text/plain": [
              "<IPython.core.display.HTML object>"
            ],
            "text/html": [
              "Tracking run with wandb version 0.13.4"
            ]
          },
          "metadata": {}
        },
        {
          "output_type": "display_data",
          "data": {
            "text/plain": [
              "<IPython.core.display.HTML object>"
            ],
            "text/html": [
              "Run data is saved locally in <code>/content/wandb/run-20221016_192711-3vtpibpv</code>"
            ]
          },
          "metadata": {}
        },
        {
          "output_type": "display_data",
          "data": {
            "text/plain": [
              "<IPython.core.display.HTML object>"
            ],
            "text/html": [
              "Syncing run <strong><a href=\"https://wandb.ai/euripedes/cnn_classifier/runs/3vtpibpv\" target=\"_blank\">smooth-firebrand-4</a></strong> to <a href=\"https://wandb.ai/euripedes/cnn_classifier\" target=\"_blank\">Weights & Biases</a> (<a href=\"https://wandb.me/run\" target=\"_blank\">docs</a>)<br/>"
            ]
          },
          "metadata": {}
        },
        {
          "output_type": "stream",
          "name": "stderr",
          "text": [
            "16-10-2022 19:27:14 Downloading the train and validation data\n"
          ]
        }
      ]
    },
    {
      "cell_type": "code",
      "source": [
        "logger.info(\"Train x: {}\".format(train_x.shape))\n",
        "logger.info(\"Train y: {}\".format(train_y.shape))\n",
        "logger.info(\"Validation x: {}\".format(val_x.shape))\n",
        "logger.info(\"Validation y: {}\".format(val_y.shape))"
      ],
      "metadata": {
        "colab": {
          "base_uri": "https://localhost:8080/"
        },
        "id": "M8tkjr0POr7w",
        "outputId": "760bf682-01b8-43ce-85da-964bf3966585"
      },
      "execution_count": null,
      "outputs": [
        {
          "output_type": "stream",
          "name": "stderr",
          "text": [
            "16-10-2022 19:27:31 Train x: (1687, 32, 32, 3)\n",
            "16-10-2022 19:27:31 Train y: (1687,)\n",
            "16-10-2022 19:27:31 Validation x: (563, 32, 32, 3)\n",
            "16-10-2022 19:27:31 Validation y: (563,)\n"
          ]
        }
      ]
    },
    {
      "cell_type": "code",
      "source": [
        "train_x[4]"
      ],
      "metadata": {
        "id": "hLoeenAGOwzQ"
      },
      "execution_count": null,
      "outputs": []
    },
    {
      "cell_type": "code",
      "source": [
        "train_y[4]"
      ],
      "metadata": {
        "colab": {
          "base_uri": "https://localhost:8080/",
          "height": 36
        },
        "id": "O_yvimiNOxMd",
        "outputId": "f0010621-225d-46a7-b8fe-9ccf69f01b37"
      },
      "execution_count": null,
      "outputs": [
        {
          "output_type": "execute_result",
          "data": {
            "text/plain": [
              "'cats'"
            ],
            "application/vnd.google.colaboratory.intrinsic+json": {
              "type": "string"
            }
          },
          "metadata": {},
          "execution_count": 10
        }
      ]
    },
    {
      "cell_type": "markdown",
      "source": [
        "## Step 03: Encoder the target variable"
      ],
      "metadata": {
        "id": "9e8Nu2YHO1Kr"
      }
    },
    {
      "cell_type": "code",
      "source": [
        "# encode the labels as Binarizers\n",
        "lb = LabelBinarizer()\n",
        "\n",
        "# take care not to produce data lakeage\n",
        "train_y = lb.fit_transform(train_y)\n",
        "val_y = lb.transform(val_y)"
      ],
      "metadata": {
        "id": "WkaXP6w9O2ub"
      },
      "execution_count": null,
      "outputs": []
    },
    {
      "cell_type": "code",
      "source": [
        "lb.classes_"
      ],
      "metadata": {
        "colab": {
          "base_uri": "https://localhost:8080/"
        },
        "id": "30Bfk0iaO3VO",
        "outputId": "4e3595f0-a81d-4f2d-cad1-ba4ae1f93db2"
      },
      "execution_count": null,
      "outputs": [
        {
          "output_type": "execute_result",
          "data": {
            "text/plain": [
              "array(['cats', 'dogs', 'panda'], dtype='<U5')"
            ]
          },
          "metadata": {},
          "execution_count": 10
        }
      ]
    },
    {
      "cell_type": "code",
      "source": [
        "train_y[4]"
      ],
      "metadata": {
        "colab": {
          "base_uri": "https://localhost:8080/"
        },
        "id": "jU02osvyO4tt",
        "outputId": "57d03d83-1f50-481b-dee4-88b460bf4cf1"
      },
      "execution_count": null,
      "outputs": [
        {
          "output_type": "execute_result",
          "data": {
            "text/plain": [
              "array([1, 0, 0])"
            ]
          },
          "metadata": {},
          "execution_count": 11
        }
      ]
    },
    {
      "cell_type": "code",
      "source": [
        "val_y[3]"
      ],
      "metadata": {
        "colab": {
          "base_uri": "https://localhost:8080/"
        },
        "id": "iZWKstZ9O6Nq",
        "outputId": "141d16d0-6798-4c72-95dc-f8ef54d55baa"
      },
      "execution_count": null,
      "outputs": [
        {
          "output_type": "execute_result",
          "data": {
            "text/plain": [
              "array([0, 1, 0])"
            ]
          },
          "metadata": {},
          "execution_count": 12
        }
      ]
    },
    {
      "cell_type": "markdown",
      "source": [
        "## Step 04: Model definition\n",
        "\n",
        "Source code based on Rosebrock, Adrian. Deep Learning For Computer vision with Python, 2019 [link](https://pyimagesearch.com/deep-learning-computer-vision-python-book/)"
      ],
      "metadata": {
        "id": "GOrDV15lO86C"
      }
    },
    {
      "cell_type": "code",
      "source": [
        "class ShallowNet:\n",
        "\t@staticmethod\n",
        "\tdef build(width, height, depth, classes):\n",
        "\t\t# initialize the model along with the input shape to be\n",
        "\t\t# \"channels last\"\n",
        "\t\tmodel = Sequential()\n",
        "\t\tinputShape = (height, width, depth)\n",
        "\n",
        "\t\t# if we are using \"channels first\", update the input shape\n",
        "\t\tif K.image_data_format() == \"channels_first\":\n",
        "\t\t\tinputShape = (depth, height, width)\n",
        "\n",
        "\t\t# define the first (and only) CONV => RELU layer\n",
        "\t\tmodel.add(Conv2D(32, (3, 3), padding=\"same\",input_shape=inputShape))\n",
        "\t\tmodel.add(Activation(\"relu\"))\n",
        "\t\n",
        "\t\t# softmax classifier\n",
        "\t\tmodel.add(Flatten())\n",
        "\t\tmodel.add(Dense(classes))\n",
        "\t\tmodel.add(Activation(\"softmax\"))\n",
        "\n",
        "\t\t# return the constructed network architecture\n",
        "\t\treturn model"
      ],
      "metadata": {
        "id": "OPDLUKDaO7zQ"
      },
      "execution_count": null,
      "outputs": []
    },
    {
      "cell_type": "code",
      "source": [
        "# create a model object\n",
        "model = ShallowNet.build(32,32,3,3)\n",
        "\n",
        "# summarize layers\n",
        "model.summary()"
      ],
      "metadata": {
        "colab": {
          "base_uri": "https://localhost:8080/"
        },
        "id": "R_qPNmUTPG7O",
        "outputId": "bcf5b951-6ffe-49ef-d4ef-d0bb4dbd09eb"
      },
      "execution_count": null,
      "outputs": [
        {
          "output_type": "stream",
          "name": "stdout",
          "text": [
            "Model: \"sequential\"\n",
            "_________________________________________________________________\n",
            " Layer (type)                Output Shape              Param #   \n",
            "=================================================================\n",
            " conv2d (Conv2D)             (None, 32, 32, 32)        896       \n",
            "                                                                 \n",
            " activation (Activation)     (None, 32, 32, 32)        0         \n",
            "                                                                 \n",
            " flatten (Flatten)           (None, 32768)             0         \n",
            "                                                                 \n",
            " dense (Dense)               (None, 3)                 98307     \n",
            "                                                                 \n",
            " activation_1 (Activation)   (None, 3)                 0         \n",
            "                                                                 \n",
            "=================================================================\n",
            "Total params: 99,203\n",
            "Trainable params: 99,203\n",
            "Non-trainable params: 0\n",
            "_________________________________________________________________\n"
          ]
        }
      ]
    },
    {
      "cell_type": "markdown",
      "source": [
        "## Step 05: Training"
      ],
      "metadata": {
        "id": "_le-QNSaPIy3"
      }
    },
    {
      "cell_type": "code",
      "source": [
        "# create codecarbon tracker\n",
        "# codecarbon is too much verbose, change the log level for more info\n",
        "tracker = EmissionsTracker(log_level=\"critical\")\n",
        "tracker.start()\n",
        "\n",
        "# initialize the optimizer and model\n",
        "print(\"[INFO] compiling model...\")\n",
        "opt = SGD(learning_rate=0.005)\n",
        "model = ShallowNet.build(width=32, height=32, depth=3, classes=3)\n",
        "model.compile(loss=\"categorical_crossentropy\", optimizer=opt,metrics=[\"accuracy\"])\n",
        "\n",
        "# train the network\n",
        "print(\"[INFO] training network...\")\n",
        "history = model.fit(train_x, train_y, \n",
        "              validation_data=(val_x, val_y),\n",
        "              batch_size=32, \n",
        "              epochs=100, \n",
        "              verbose=0,\n",
        "              callbacks=[wandb.keras.WandbCallback(save_model=False,\n",
        "                                                   compute_flops=True)]\n",
        "          )\n",
        "\n",
        "# get co2 emissions from tracker\n",
        "# \"CO2 emission (in Kg)\"\n",
        "emissions = tracker.stop()"
      ],
      "metadata": {
        "colab": {
          "base_uri": "https://localhost:8080/"
        },
        "id": "RcYqWfr9PO31",
        "outputId": "24924a46-92e0-4ffc-9391-41e5b6e2b8a4"
      },
      "execution_count": null,
      "outputs": [
        {
          "output_type": "stream",
          "name": "stdout",
          "text": [
            "[INFO] compiling model...\n",
            "[INFO] training network...\n"
          ]
        },
        {
          "output_type": "stream",
          "name": "stderr",
          "text": [
            "16-10-2022 19:27:57 From /usr/local/lib/python3.7/dist-packages/tensorflow/python/ops/nn_ops.py:5219: tensor_shape_from_node_def_name (from tensorflow.python.framework.graph_util_impl) is deprecated and will be removed in a future version.\n",
            "Instructions for updating:\n",
            "Use `tf.compat.v1.graph_util.tensor_shape_from_node_def_name`\n"
          ]
        }
      ]
    },
    {
      "cell_type": "markdown",
      "source": [
        "## Step 06: Evaluation Metrics"
      ],
      "metadata": {
        "id": "vEFC6ZKoPRHs"
      }
    },
    {
      "cell_type": "code",
      "source": [
        "# plot the training loss and accuracy\n",
        "plt.style.use(\"ggplot\")\n",
        "fig, ax = plt.subplots(1,1,figsize=(10,8))\n",
        "\n",
        "ax.plot(np.arange(0, 100), history.history[\"loss\"], label=\"train_loss\",linestyle='--')\n",
        "ax.plot(np.arange(0, 100), history.history[\"val_loss\"], label=\"val_loss\",linestyle='--')\n",
        "ax.plot(np.arange(0, 100), history.history[\"accuracy\"], label=\"train_acc\")\n",
        "ax.plot(np.arange(0, 100), history.history[\"val_accuracy\"], label=\"val_acc\")\n",
        "ax.set_title(\"Training Loss and Accuracy\")\n",
        "ax.set_xlabel(\"Epoch #\")\n",
        "ax.set_ylabel(\"Loss/Accuracy\")\n",
        "ax.legend()\n",
        "plt.show()"
      ],
      "metadata": {
        "colab": {
          "base_uri": "https://localhost:8080/",
          "height": 517
        },
        "id": "3Va1d1R2PSv5",
        "outputId": "67ec9dd4-af44-45ec-e090-ded8308004bf"
      },
      "execution_count": null,
      "outputs": [
        {
          "output_type": "display_data",
          "data": {
            "text/plain": [
              "<Figure size 720x576 with 1 Axes>"
            ],
            "image/png": "[encoded data removed]"
          },
          "metadata": {}
        }
      ]
    },
    {
      "cell_type": "code",
      "source": [
        "print(\"[INFO] {} kWh of electricity used since the begining\".format(tracker.final_emissions_data.energy_consumed))\n",
        "print(\"[INFO] Energy consumed for RAM: {} kWh\".format(tracker.final_emissions_data.ram_energy))\n",
        "print(\"[INFO] Energy consumed for all GPU: {} kWh\".format(tracker.final_emissions_data.gpu_energy))\n",
        "print(\"[INFO] Energy consumed for all CPU: {} kWh\".format(tracker.final_emissions_data.cpu_energy))\n",
        "print(\"[INFO] CO2 emission {}(in Kg)\".format(tracker.final_emissions_data.emissions))"
      ],
      "metadata": {
        "colab": {
          "base_uri": "https://localhost:8080/"
        },
        "id": "QIx1KRIkPTi4",
        "outputId": "b715037f-dbcc-4303-80c8-db0004157aa6"
      },
      "execution_count": null,
      "outputs": [
        {
          "output_type": "stream",
          "name": "stdout",
          "text": [
            "[INFO] 0.0007303941414744871 kWh of electricity used since the begining\n",
            "[INFO] Energy consumed for RAM: 4.193867621996826e-05 kWh\n",
            "[INFO] Energy consumed for all GPU: 0.0003132725541631381 kWh\n",
            "[INFO] Energy consumed for all CPU: 0.0003751829110913806 kWh\n",
            "[INFO] CO2 emission 0.00023226533698888688(in Kg)\n"
          ]
        }
      ]
    },
    {
      "cell_type": "code",
      "source": [
        "# evaluate the network\n",
        "print(\"[INFO] evaluating network...\")\n",
        "predictions = model.predict(val_x, batch_size=32)\n",
        "print(classification_report(val_y.argmax(axis=1),\n",
        "                            predictions.argmax(axis=1),\n",
        "                            target_names=lb.classes_))"
      ],
      "metadata": {
        "colab": {
          "base_uri": "https://localhost:8080/"
        },
        "id": "wXpGd30YPVmY",
        "outputId": "606439d7-17f3-457e-ba20-c339fbd55ff7"
      },
      "execution_count": null,
      "outputs": [
        {
          "output_type": "stream",
          "name": "stdout",
          "text": [
            "[INFO] evaluating network...\n",
            "18/18 [==============================] - 0s 2ms/step\n",
            "              precision    recall  f1-score   support\n",
            "\n",
            "        cats       0.58      0.68      0.62       198\n",
            "        dogs       0.51      0.42      0.46       159\n",
            "       panda       0.84      0.83      0.83       206\n",
            "\n",
            "    accuracy                           0.66       563\n",
            "   macro avg       0.64      0.64      0.64       563\n",
            "weighted avg       0.66      0.66      0.65       563\n",
            "\n"
          ]
        }
      ]
    },
    {
      "cell_type": "code",
      "source": [
        "fig_confusion_matrix, ax = plt.subplots(1,1,figsize=(7,4))\n",
        "ConfusionMatrixDisplay(confusion_matrix(predictions.argmax(axis=1),\n",
        "                                        val_y.argmax(axis=1)),\n",
        "                       display_labels=lb.classes_).plot(values_format=\".0f\",ax=ax)\n",
        "\n",
        "ax.set_xlabel(\"True Label\")\n",
        "ax.set_ylabel(\"Predicted Label\")\n",
        "ax.grid(False)\n",
        "plt.show()"
      ],
      "metadata": {
        "colab": {
          "base_uri": "https://localhost:8080/",
          "height": 282
        },
        "id": "sbNyeFsLPXT1",
        "outputId": "43c2246f-333c-43f0-c2fc-5555738f82de"
      },
      "execution_count": null,
      "outputs": [
        {
          "output_type": "display_data",
          "data": {
            "text/plain": [
              "<Figure size 504x288 with 2 Axes>"
            ],
            "image/png": "[encoded data removed]"
          },
          "metadata": {}
        }
      ]
    },
    {
      "cell_type": "code",
      "source": [
        "# Uploading figures\n",
        "logger.info(\"Uploading figures\")\n",
        "run.log(\n",
        "    {\n",
        "        \"confusion_matrix\": wandb.Image(fig_confusion_matrix),\n",
        "        # \"other_figure\": wandb.Image(other_fig)\n",
        "    }\n",
        ")"
      ],
      "metadata": {
        "colab": {
          "base_uri": "https://localhost:8080/"
        },
        "id": "YkoZ1E6XPY28",
        "outputId": "9df63919-4ab3-44a2-d9e8-7fe33480be2b"
      },
      "execution_count": null,
      "outputs": [
        {
          "output_type": "stream",
          "name": "stderr",
          "text": [
            "16-10-2022 19:28:50 Uploading figures\n"
          ]
        }
      ]
    },
    {
      "cell_type": "code",
      "source": [
        "# Evaluation Metrics\n",
        "logger.info(\"Validation Evaluation metrics\")\n",
        "fbeta = fbeta_score(val_y.argmax(axis=1), \n",
        "                    predictions.argmax(axis=1), \n",
        "                    beta=1, zero_division=1,average='weighted')\n",
        "precision = precision_score(val_y.argmax(axis=1),\n",
        "                            predictions.argmax(axis=1),\n",
        "                            zero_division=1,average='weighted')\n",
        "recall = recall_score(val_y.argmax(axis=1),\n",
        "                      predictions.argmax(axis=1),\n",
        "                      zero_division=1,average='weighted')\n",
        "acc = accuracy_score(val_y.argmax(axis=1),\n",
        "                     predictions.argmax(axis=1))\n",
        "\n",
        "logger.info(\"Validation Accuracy: {}\".format(acc))\n",
        "logger.info(\"Validation Precision: {}\".format(precision))\n",
        "logger.info(\"Validation Recall: {}\".format(recall))\n",
        "logger.info(\"Validation F1: {}\".format(fbeta))\n",
        "\n",
        "run.summary[\"Acc\"] = acc\n",
        "run.summary[\"Precision\"] = precision\n",
        "run.summary[\"Recall\"] = recall\n",
        "run.summary[\"F1\"] = fbeta\n",
        "# number of parameters\n",
        "run.summary[\"Count_Params\"] = model.count_params()\n",
        "# energy unit is kWh\n",
        "run.summary[\"Energy_Consumed\"] = tracker.final_emissions_data.energy_consumed\n",
        "run.summary[\"Energy_RAM\"] = tracker.final_emissions_data.ram_energy\n",
        "run.summary[\"Energy_GPU\"] = tracker.final_emissions_data.gpu_energy\n",
        "run.summary[\"Energy_CPU\"] = tracker.final_emissions_data.cpu_energy\n",
        "# kg\n",
        "run.summary[\"CO2_Emissions\"] = tracker.final_emissions_data.emissions"
      ],
      "metadata": {
        "colab": {
          "base_uri": "https://localhost:8080/"
        },
        "id": "KR3RI5HCPaWQ",
        "outputId": "72649c2b-1338-4974-8430-b2203264032a"
      },
      "execution_count": null,
      "outputs": [
        {
          "output_type": "stream",
          "name": "stderr",
          "text": [
            "16-10-2022 19:28:53 Validation Evaluation metrics\n",
            "16-10-2022 19:28:53 Validation Accuracy: 0.6571936056838366\n",
            "16-10-2022 19:28:53 Validation Precision: 0.6553224803088511\n",
            "16-10-2022 19:28:53 Validation Recall: 0.6571936056838366\n",
            "16-10-2022 19:28:53 Validation F1: 0.6536089018280934\n"
          ]
        }
      ]
    },
    {
      "cell_type": "code",
      "source": [
        "logger.info(\"Dumping the model and encoder artifacts to the disk\")\n",
        "\n",
        "# Save the artifacts using joblib\n",
        "joblib.dump(lb, args[\"encoder\"])\n",
        "model.save(os.path.join(wandb.run.dir, args[\"inference_model\"]))"
      ],
      "metadata": {
        "colab": {
          "base_uri": "https://localhost:8080/"
        },
        "id": "ief4RGkBPbez",
        "outputId": "d0609465-1ef9-48aa-f6bd-fef1dd329f71"
      },
      "execution_count": null,
      "outputs": [
        {
          "output_type": "stream",
          "name": "stderr",
          "text": [
            "16-10-2022 19:28:57 Dumping the model and encoder artifacts to the disk\n"
          ]
        }
      ]
    },
    {
      "cell_type": "code",
      "source": [
        "# encoder artifact\n",
        "artifact = wandb.Artifact(args[\"encoder\"],\n",
        "                          type=\"INFERENCE_MODEL\",\n",
        "                          description=\"A json file representing the target encoder\"\n",
        "                          )\n",
        "\n",
        "logger.info(\"Logging the target encoder artifact\")\n",
        "artifact.add_file(args[\"encoder\"])\n",
        "run.log_artifact(artifact)"
      ],
      "metadata": {
        "colab": {
          "base_uri": "https://localhost:8080/"
        },
        "id": "sBwXm4LxPceA",
        "outputId": "465e9d8b-9d62-4d46-e2bf-611dc40dfe76"
      },
      "execution_count": null,
      "outputs": [
        {
          "output_type": "stream",
          "name": "stderr",
          "text": [
            "16-10-2022 19:28:59 Logging the target encoder artifact\n"
          ]
        },
        {
          "output_type": "execute_result",
          "data": {
            "text/plain": [
              "<wandb.sdk.wandb_artifacts.Artifact at 0x7f78e6772410>"
            ]
          },
          "metadata": {},
          "execution_count": 23
        }
      ]
    },
    {
      "cell_type": "code",
      "source": [
        "# inference model artifact\n",
        "artifact = wandb.Artifact(args[\"inference_model\"],\n",
        "                          type=\"INFERENCE_MODEL\",\n",
        "                          description=\"A json file representing the inference model\"\n",
        "                          )\n",
        "\n",
        "logger.info(\"Logging the inference model artifact\")\n",
        "artifact.add_file(os.path.join(wandb.run.dir, args[\"inference_model\"]))\n",
        "run.log_artifact(artifact)"
      ],
      "metadata": {
        "colab": {
          "base_uri": "https://localhost:8080/"
        },
        "id": "dIehMTKJPeL4",
        "outputId": "d25088fe-1fdd-43cd-ece2-0cf1a4076c66"
      },
      "execution_count": null,
      "outputs": [
        {
          "output_type": "stream",
          "name": "stderr",
          "text": [
            "16-10-2022 19:29:02 Logging the inference model artifact\n"
          ]
        },
        {
          "output_type": "execute_result",
          "data": {
            "text/plain": [
              "<wandb.sdk.wandb_artifacts.Artifact at 0x7f78e678c150>"
            ]
          },
          "metadata": {},
          "execution_count": 24
        }
      ]
    },
    {
      "cell_type": "code",
      "source": [
        "run.finish()"
      ],
      "metadata": {
        "colab": {
          "base_uri": "https://localhost:8080/",
          "height": 618,
          "referenced_widgets": [
            "2209d36d4a3940bfa89d7cdea49b6815",
            "854345bb7d274cfe893807ebeda5fb08",
            "fac1cd11cce24dfcbb303efb73313735",
            "e39929b231454387b9f0ff01164c9707",
            "aaea732dac484d9e9809f09fe83f97fb",
            "1a384b0ab3474d599c6833477faeea96",
            "7656cb704c604f14bc1b1f8031fd24a0",
            "f4fcaad287664dbcac5d90a1b5effadb"
          ]
        },
        "id": "SUrHlB-rPfBs",
        "outputId": "f4bbf9c1-b7fb-4f5e-a3ff-0e5402ee37f0"
      },
      "execution_count": null,
      "outputs": [
        {
          "output_type": "display_data",
          "data": {
            "text/plain": [
              "<IPython.core.display.HTML object>"
            ],
            "text/html": [
              "Waiting for W&B process to finish... <strong style=\"color:green\">(success).</strong>"
            ]
          },
          "metadata": {}
        },
        {
          "output_type": "display_data",
          "data": {
            "text/plain": [
              "VBox(children=(Label(value='0.412 MB of 0.412 MB uploaded (0.000 MB deduped)\\r'), FloatProgress(value=1.0, max…"
            ],
            "application/vnd.jupyter.widget-view+json": {
              "version_major": 2,
              "version_minor": 0,
              "model_id": "2209d36d4a3940bfa89d7cdea49b6815"
            }
          },
          "metadata": {}
        },
        {
          "output_type": "display_data",
          "data": {
            "text/plain": [
              "<IPython.core.display.HTML object>"
            ],
            "text/html": [
              "<style>\n",
              "    table.wandb td:nth-child(1) { padding: 0 10px; text-align: left ; width: auto;} td:nth-child(2) {text-align: left ; width: 100%}\n",
              "    .wandb-row { display: flex; flex-direction: row; flex-wrap: wrap; justify-content: flex-start; width: 100% }\n",
              "    .wandb-col { display: flex; flex-direction: column; flex-basis: 100%; flex: 1; padding: 10px; }\n",
              "    </style>\n",
              "<div class=\"wandb-row\"><div class=\"wandb-col\"><h3>Run history:</h3><br/><table class=\"wandb\"><tr><td>accuracy</td><td>▁▂▃▃▃▄▄▄▄▄▅▅▅▅▅▅▅▅▆▆▆▆▆▆▆▆▇▇▇▇▇▇▇▇▇█████</td></tr><tr><td>epoch</td><td>▁▁▁▁▂▂▂▂▂▃▃▃▃▃▃▄▄▄▄▄▅▅▅▅▅▅▆▆▆▆▆▇▇▇▇▇▇███</td></tr><tr><td>loss</td><td>█▇▆▆▆▅▅▅▅▅▅▅▄▄▄▄▄▄▃▃▃▃▃▃▃▂▂▂▂▂▂▂▂▂▂▁▁▁▁▁</td></tr><tr><td>val_accuracy</td><td>▁▂▂▄▄▃▄▃▅▅▆▅▅▅▅▆▆▆▆▄▅▆▇▇▆▆▇▇▇▅███▇█▇▇▇▇█</td></tr><tr><td>val_loss</td><td>█▆▇▄▃▅▄▅▃▄▃▃▄▃▃▂▂▂▃▄▃▃▂▂▃▃▁▁▁▄▁▁▁▁▁▂▂▂▂▁</td></tr></table><br/></div><div class=\"wandb-col\"><h3>Run summary:</h3><br/><table class=\"wandb\"><tr><td>Acc</td><td>0.65719</td></tr><tr><td>CO2_Emissions</td><td>0.00023</td></tr><tr><td>Count_Params</td><td>99203</td></tr><tr><td>Energy_CPU</td><td>0.00038</td></tr><tr><td>Energy_Consumed</td><td>0.00073</td></tr><tr><td>Energy_GPU</td><td>0.00031</td></tr><tr><td>Energy_RAM</td><td>4e-05</td></tr><tr><td>F1</td><td>0.65361</td></tr><tr><td>GFLOPs</td><td>0.001</td></tr><tr><td>Precision</td><td>0.65532</td></tr><tr><td>Recall</td><td>0.65719</td></tr><tr><td>accuracy</td><td>0.86603</td></tr><tr><td>best_epoch</td><td>85</td></tr><tr><td>best_val_loss</td><td>0.74754</td></tr><tr><td>epoch</td><td>99</td></tr><tr><td>loss</td><td>0.38112</td></tr><tr><td>val_accuracy</td><td>0.65719</td></tr><tr><td>val_loss</td><td>0.76665</td></tr></table><br/></div></div>"
            ]
          },
          "metadata": {}
        },
        {
          "output_type": "display_data",
          "data": {
            "text/plain": [
              "<IPython.core.display.HTML object>"
            ],
            "text/html": [
              "Synced <strong style=\"color:#cdcd00\">smooth-firebrand-4</strong>: <a href=\"https://wandb.ai/euripedes/cnn_classifier/runs/3vtpibpv\" target=\"_blank\">https://wandb.ai/euripedes/cnn_classifier/runs/3vtpibpv</a><br/>Synced 5 W&B file(s), 1 media file(s), 2 artifact file(s) and 1 other file(s)"
            ]
          },
          "metadata": {}
        },
        {
          "output_type": "display_data",
          "data": {
            "text/plain": [
              "<IPython.core.display.HTML object>"
            ],
            "text/html": [
              "Find logs at: <code>./wandb/run-20221016_192711-3vtpibpv/logs</code>"
            ]
          },
          "metadata": {}
        }
      ]
    },
    {
      "cell_type": "markdown",
      "source": [
        "How can we improve this model?\n",
        "\n",
        "* Data Augmentation Link\n",
        "* Batch Normalization\n",
        "* Dropout\n",
        "* Add more CNN layers\n",
        "* Add more hidden layers in the head"
      ],
      "metadata": {
        "id": "eAgrlEEKPiW0"
      }
    },
    {
      "cell_type": "markdown",
      "source": [
        "## Step 07: Sweep (hyperparameter tuning)\n"
      ],
      "metadata": {
        "id": "7FZwjkZCPlqs"
      }
    },
    {
      "cell_type": "code",
      "source": [
        "# Configure the sweep \n",
        "sweep_config = {\n",
        "    'method': 'random', \n",
        "    'metric': {\n",
        "      'name': 'val_accuracy',\n",
        "      'goal': 'maximize'   \n",
        "    },\n",
        "    'parameters': {\n",
        "        'conv_layer': {\n",
        "            'max': 3,\n",
        "            'min': 1,\n",
        "            'distribution': 'int_uniform',\n",
        "        },\n",
        "        'hidden_layer': {\n",
        "            'values': [0,1,2,3]\n",
        "        },\n",
        "        'learn_rate': {\n",
        "            'values': [0.01,0.001,0.005],  \n",
        "        },\n",
        "        'epoch': {\n",
        "            'values': [100,200]\n",
        "        },\n",
        "        'batch_size': {\n",
        "            'values': [32,64]\n",
        "        }\n",
        "    }\n",
        "}"
      ],
      "metadata": {
        "id": "OHxUUtkuPlK_"
      },
      "execution_count": null,
      "outputs": []
    },
    {
      "cell_type": "code",
      "source": [
        "# Initialize a new sweep\n",
        "# Arguments:\n",
        "#     – sweep_config: the sweep config dictionary defined above\n",
        "#     – entity: Set the username for the sweep\n",
        "#     – project: Set the project name for the sweep\n",
        "sweep_id = wandb.sweep(sweep_config,\n",
        "                       entity=\"euripedes\",\n",
        "                       project=args[\"project_name\"])"
      ],
      "metadata": {
        "colab": {
          "base_uri": "https://localhost:8080/"
        },
        "id": "udKeFhEgP0Dx",
        "outputId": "e788ca79-bff4-4923-907a-05e633d99018"
      },
      "execution_count": null,
      "outputs": [
        {
          "output_type": "stream",
          "name": "stdout",
          "text": [
            "Create sweep with ID: 696jxme5\n",
            "Sweep URL: https://wandb.ai/euripedes/cnn_classifier/sweeps/696jxme5\n"
          ]
        }
      ]
    },
    {
      "cell_type": "markdown",
      "source": [
        "Adapt the model"
      ],
      "metadata": {
        "id": "LoxhAwzzP2kM"
      }
    },
    {
      "cell_type": "code",
      "source": [
        "class ShallowNetAdapt:\n",
        "  @staticmethod\n",
        "  def build(width, height, depth, classes, config):\n",
        "    '''\n",
        "      width, height, depth: dimensions of the image\n",
        "      classes: number of targets\n",
        "      config: variable used to configure the sweep\n",
        "    '''\n",
        "    # initialize the model along with the input shape to be\n",
        "    # \"channels last\"\n",
        "    model = Sequential()\n",
        "    inputShape = (height, width, depth)\n",
        "\n",
        "    # if we are using \"channels first\", update the input shape\n",
        "    if K.image_data_format() == \"channels_first\":\n",
        "      inputShape = (depth, height, width)\n",
        "\n",
        "    for i in range(config.conv_layer):\n",
        "      # define a convolution layer followed by a relu activation \n",
        "      # CONV => RELU layer\n",
        "      model.add(Conv2D(32, (3, 3), padding=\"same\",input_shape=inputShape))\n",
        "      model.add(Activation(\"relu\"))\n",
        "\n",
        "    # add a flatten layer\n",
        "    model.add(Flatten())\n",
        "\n",
        "    # add hidden layers followed by a relu activation\n",
        "    for j in range(config.hidden_layer):\n",
        "      model.add(Dense(10,activation=\"relu\"))\n",
        "\n",
        "    # softmax classifier\n",
        "    model.add(Dense(classes))\n",
        "    model.add(Activation(\"softmax\"))\n",
        "\n",
        "    # return the constructed network architecture\n",
        "    return model"
      ],
      "metadata": {
        "id": "wxkyOlnPP3JR"
      },
      "execution_count": null,
      "outputs": []
    },
    {
      "cell_type": "markdown",
      "source": [
        "Training"
      ],
      "metadata": {
        "id": "Y77jf8BcP5tA"
      }
    },
    {
      "cell_type": "code",
      "source": [
        "def train():\n",
        "    with wandb.init() as run:\n",
        "\n",
        "      # create codecarbon tracker\n",
        "      # codecarbon is too much verbose, change the log level for more info\n",
        "      tracker = EmissionsTracker(log_level=\"critical\")\n",
        "      tracker.start()\n",
        "\n",
        "      # initialize the optimizer and model\n",
        "      print(\"[INFO] compiling model...\")\n",
        "      opt = SGD(learning_rate=run.config.learn_rate)\n",
        "      model = ShallowNetAdapt.build(width=32, \n",
        "                               height=32,\n",
        "                               depth=3, \n",
        "                               classes=3,\n",
        "                               config=run.config)\n",
        "      model.compile(loss=\"categorical_crossentropy\", \n",
        "                    optimizer=opt,metrics=[\"accuracy\"])\n",
        "\n",
        "      # train the network\n",
        "      print(\"[INFO] training network...\")\n",
        "      history = model.fit(train_x, train_y, \n",
        "                    validation_data=(val_x, val_y),\n",
        "                    batch_size=run.config.batch_size, \n",
        "                    epochs=run.config.epoch, \n",
        "                    verbose=0,\n",
        "                    callbacks=[wandb.keras.WandbCallback(save_model=False,\n",
        "                                                        compute_flops=True)]\n",
        "                )\n",
        "\n",
        "      # get co2 emissions from tracker\n",
        "      # \"CO2 emission (in Kg)\"\n",
        "      emissions = tracker.stop()\n",
        "\n",
        "      # make predictions\n",
        "      predictions = model.predict(val_x, batch_size=run.config.batch_size)\n",
        "\n",
        "      # Evaluation Metrics\n",
        "      logger.info(\"Validation Evaluation metrics\")\n",
        "      fbeta = fbeta_score(val_y.argmax(axis=1), \n",
        "                          predictions.argmax(axis=1), \n",
        "                          beta=1, zero_division=1,average='weighted')\n",
        "      precision = precision_score(val_y.argmax(axis=1),\n",
        "                                  predictions.argmax(axis=1),\n",
        "                                  zero_division=1,average='weighted')\n",
        "      recall = recall_score(val_y.argmax(axis=1),\n",
        "                            predictions.argmax(axis=1),\n",
        "                            zero_division=1,average='weighted')\n",
        "      acc = accuracy_score(val_y.argmax(axis=1),\n",
        "                          predictions.argmax(axis=1))\n",
        "\n",
        "      logger.info(\"Validation Accuracy: {}\".format(acc))\n",
        "      logger.info(\"Validation Precision: {}\".format(precision))\n",
        "      logger.info(\"Validation Recall: {}\".format(recall))\n",
        "      logger.info(\"Validation F1: {}\".format(fbeta))\n",
        "\n",
        "      run.summary[\"Acc\"] = acc\n",
        "      run.summary[\"Precision\"] = precision\n",
        "      run.summary[\"Recall\"] = recall\n",
        "      run.summary[\"F1\"] = fbeta\n",
        "      # number of parameters\n",
        "      run.summary[\"Count_Params\"] = model.count_params()\n",
        "      # energy unit is kWh\n",
        "      run.summary[\"Energy_Consumed\"] = tracker.final_emissions_data.energy_consumed\n",
        "      run.summary[\"Energy_RAM\"] = tracker.final_emissions_data.ram_energy\n",
        "      run.summary[\"Energy_GPU\"] = tracker.final_emissions_data.gpu_energy\n",
        "      run.summary[\"Energy_CPU\"] = tracker.final_emissions_data.cpu_energy\n",
        "      # kg\n",
        "      run.summary[\"CO2_Emissions\"] = tracker.final_emissions_data.emissions"
      ],
      "metadata": {
        "id": "8eNTCTLwP5UU"
      },
      "execution_count": null,
      "outputs": []
    },
    {
      "cell_type": "code",
      "source": [
        "# Initialize a new sweep\n",
        "# Arguments:\n",
        "#     – sweep_id: the sweep_id to run - this was returned above by wandb.sweep()\n",
        "#     – function: function that defines your model architecture and trains it\n",
        "wandb.agent(sweep_id = sweep_id, function=train,count=3)"
      ],
      "metadata": {
        "colab": {
          "base_uri": "https://localhost:8080/",
          "height": 1000,
          "referenced_widgets": [
            "030c98df3e504fb0aaa242dad64f6633",
            "aa07e394920e4f428fd0b38fa16bd64b",
            "e7833fe52270455f9f283db8b905b1dd",
            "a82804bf7b4c4078a8260da9d69785f4",
            "16ad34b6ff7044229f1f4dae5fbb4567",
            "381ea2c9dfba4023a0d4bcdab33659ce",
            "b3fde9dcdeeb4c29a436d3f163e41cad",
            "6d3039d720494a68a3a7d69128ce281a",
            "056a52adee0e471481e52ef187b9cccd",
            "d02a0ae8b289400ea473cf7e5d4d1971",
            "d4f884861ea04781bf0d0d1702bbf9d3",
            "eaa7595f22b84d3c91f9e680038ef10b",
            "69395c59bc284fb5912066d41fa7779c",
            "a9c4ca25794047f28c9cd1d28fcacc21",
            "b3d9fc99476249f586c2c323a8a1ed28",
            "1720f184c0a7498b91c9fc277542ac57"
          ]
        },
        "id": "SyMPk6i4P9Tp",
        "outputId": "b10e715c-6117-4c22-88d0-2e22e933f5ea"
      },
      "execution_count": null,
      "outputs": [
        {
          "output_type": "stream",
          "name": "stderr",
          "text": [
            "\u001b[34m\u001b[1mwandb\u001b[0m: Agent Starting Run: q7vjo29h with config:\n",
            "\u001b[34m\u001b[1mwandb\u001b[0m: \tbatch_size: 64\n",
            "\u001b[34m\u001b[1mwandb\u001b[0m: \tconv_layer: 3\n",
            "\u001b[34m\u001b[1mwandb\u001b[0m: \tepoch: 100\n",
            "\u001b[34m\u001b[1mwandb\u001b[0m: \thidden_layer: 3\n",
            "\u001b[34m\u001b[1mwandb\u001b[0m: \tlearn_rate: 0.005\n",
            "Failed to detect the name of this notebook, you can set it manually with the WANDB_NOTEBOOK_NAME environment variable to enable code saving.\n"
          ]
        },
        {
          "output_type": "display_data",
          "data": {
            "text/plain": [
              "<IPython.core.display.HTML object>"
            ],
            "text/html": [
              "Tracking run with wandb version 0.13.4"
            ]
          },
          "metadata": {}
        },
        {
          "output_type": "display_data",
          "data": {
            "text/plain": [
              "<IPython.core.display.HTML object>"
            ],
            "text/html": [
              "Run data is saved locally in <code>/content/wandb/run-20221016_192938-q7vjo29h</code>"
            ]
          },
          "metadata": {}
        },
        {
          "output_type": "display_data",
          "data": {
            "text/plain": [
              "<IPython.core.display.HTML object>"
            ],
            "text/html": [
              "Syncing run <strong><a href=\"https://wandb.ai/euripedes/cnn_classifier/runs/q7vjo29h\" target=\"_blank\">soft-sweep-1</a></strong> to <a href=\"https://wandb.ai/euripedes/cnn_classifier\" target=\"_blank\">Weights & Biases</a> (<a href=\"https://wandb.me/run\" target=\"_blank\">docs</a>)<br/>Sweep page:  <a href=\"https://wandb.ai/euripedes/cnn_classifier/sweeps/696jxme5\" target=\"_blank\">https://wandb.ai/euripedes/cnn_classifier/sweeps/696jxme5</a>"
            ]
          },
          "metadata": {}
        },
        {
          "output_type": "stream",
          "name": "stdout",
          "text": [
            "[INFO] compiling model...\n",
            "[INFO] training network...\n",
            "9/9 [==============================] - 0s 3ms/step\n"
          ]
        },
        {
          "output_type": "stream",
          "name": "stderr",
          "text": [
            "16-10-2022 19:30:06 Validation Evaluation metrics\n",
            "16-10-2022 19:30:06 Validation Accuracy: 0.6163410301953819\n",
            "16-10-2022 19:30:06 Validation Precision: 0.5856617271258706\n",
            "16-10-2022 19:30:06 Validation Recall: 0.6163410301953819\n",
            "16-10-2022 19:30:06 Validation F1: 0.5900349680476538\n"
          ]
        },
        {
          "output_type": "display_data",
          "data": {
            "text/plain": [
              "<IPython.core.display.HTML object>"
            ],
            "text/html": [
              "Waiting for W&B process to finish... <strong style=\"color:green\">(success).</strong>"
            ]
          },
          "metadata": {}
        },
        {
          "output_type": "display_data",
          "data": {
            "text/plain": [
              "VBox(children=(Label(value='0.000 MB of 0.000 MB uploaded (0.000 MB deduped)\\r'), FloatProgress(value=1.0, max…"
            ],
            "application/vnd.jupyter.widget-view+json": {
              "version_major": 2,
              "version_minor": 0,
              "model_id": "030c98df3e504fb0aaa242dad64f6633"
            }
          },
          "metadata": {}
        },
        {
          "output_type": "display_data",
          "data": {
            "text/plain": [
              "<IPython.core.display.HTML object>"
            ],
            "text/html": [
              "<style>\n",
              "    table.wandb td:nth-child(1) { padding: 0 10px; text-align: left ; width: auto;} td:nth-child(2) {text-align: left ; width: 100%}\n",
              "    .wandb-row { display: flex; flex-direction: row; flex-wrap: wrap; justify-content: flex-start; width: 100% }\n",
              "    .wandb-col { display: flex; flex-direction: column; flex-basis: 100%; flex: 1; padding: 10px; }\n",
              "    </style>\n",
              "<div class=\"wandb-row\"><div class=\"wandb-col\"><h3>Run history:</h3><br/><table class=\"wandb\"><tr><td>accuracy</td><td>▁▁▂▂▂▃▄▄▅▅▅▅▆▆▅▆▆▆▆▆▆▆▆▆▆▇▆▇▇▇▇▇▇▇▇▇████</td></tr><tr><td>epoch</td><td>▁▁▁▁▂▂▂▂▂▃▃▃▃▃▃▄▄▄▄▄▅▅▅▅▅▅▆▆▆▆▆▇▇▇▇▇▇███</td></tr><tr><td>loss</td><td>████▇▇▇▇▆▆▆▆▅▅▅▄▄▄▄▄▄▄▄▃▄▃▃▃▃▂▂▂▂▂▂▂▂▁▁▁</td></tr><tr><td>val_accuracy</td><td>▁▁▂▂▂▂▄▅▅▅▆▆▆▆▅▅▆▆▇▇▆▇▆▆▇▇▇▇▆▇▆▇▇▇▇▆▇▅██</td></tr><tr><td>val_loss</td><td>▇▇▆▆▆▆▆▅▅▅▅▄▅▃▄▅▃▃▂▃▂▂▂▆▂▂▁▃▅▄▃▂▁▂▂▅▃█▁▁</td></tr></table><br/></div><div class=\"wandb-col\"><h3>Run summary:</h3><br/><table class=\"wandb\"><tr><td>Acc</td><td>0.61634</td></tr><tr><td>CO2_Emissions</td><td>0.00023</td></tr><tr><td>Count_Params</td><td>347335</td></tr><tr><td>Energy_CPU</td><td>0.00026</td></tr><tr><td>Energy_Consumed</td><td>0.00072</td></tr><tr><td>Energy_GPU</td><td>0.00043</td></tr><tr><td>Energy_RAM</td><td>3e-05</td></tr><tr><td>F1</td><td>0.59003</td></tr><tr><td>GFLOPs</td><td>0.02014</td></tr><tr><td>Precision</td><td>0.58566</td></tr><tr><td>Recall</td><td>0.61634</td></tr><tr><td>accuracy</td><td>0.73266</td></tr><tr><td>best_epoch</td><td>95</td></tr><tr><td>best_val_loss</td><td>0.79528</td></tr><tr><td>epoch</td><td>99</td></tr><tr><td>loss</td><td>0.58662</td></tr><tr><td>val_accuracy</td><td>0.61634</td></tr><tr><td>val_loss</td><td>0.81648</td></tr></table><br/></div></div>"
            ]
          },
          "metadata": {}
        },
        {
          "output_type": "display_data",
          "data": {
            "text/plain": [
              "<IPython.core.display.HTML object>"
            ],
            "text/html": [
              "Synced <strong style=\"color:#cdcd00\">soft-sweep-1</strong>: <a href=\"https://wandb.ai/euripedes/cnn_classifier/runs/q7vjo29h\" target=\"_blank\">https://wandb.ai/euripedes/cnn_classifier/runs/q7vjo29h</a><br/>Synced 5 W&B file(s), 0 media file(s), 0 artifact file(s) and 0 other file(s)"
            ]
          },
          "metadata": {}
        },
        {
          "output_type": "display_data",
          "data": {
            "text/plain": [
              "<IPython.core.display.HTML object>"
            ],
            "text/html": [
              "Find logs at: <code>./wandb/run-20221016_192938-q7vjo29h/logs</code>"
            ]
          },
          "metadata": {}
        },
        {
          "output_type": "stream",
          "name": "stderr",
          "text": [
            "\u001b[34m\u001b[1mwandb\u001b[0m: Agent Starting Run: ndpo2h0y with config:\n",
            "\u001b[34m\u001b[1mwandb\u001b[0m: \tbatch_size: 32\n",
            "\u001b[34m\u001b[1mwandb\u001b[0m: \tconv_layer: 1\n",
            "\u001b[34m\u001b[1mwandb\u001b[0m: \tepoch: 100\n",
            "\u001b[34m\u001b[1mwandb\u001b[0m: \thidden_layer: 3\n",
            "\u001b[34m\u001b[1mwandb\u001b[0m: \tlearn_rate: 0.005\n",
            "Failed to detect the name of this notebook, you can set it manually with the WANDB_NOTEBOOK_NAME environment variable to enable code saving.\n"
          ]
        },
        {
          "output_type": "display_data",
          "data": {
            "text/plain": [
              "<IPython.core.display.HTML object>"
            ],
            "text/html": [
              "Tracking run with wandb version 0.13.4"
            ]
          },
          "metadata": {}
        },
        {
          "output_type": "display_data",
          "data": {
            "text/plain": [
              "<IPython.core.display.HTML object>"
            ],
            "text/html": [
              "Run data is saved locally in <code>/content/wandb/run-20221016_193020-ndpo2h0y</code>"
            ]
          },
          "metadata": {}
        },
        {
          "output_type": "display_data",
          "data": {
            "text/plain": [
              "<IPython.core.display.HTML object>"
            ],
            "text/html": [
              "Syncing run <strong><a href=\"https://wandb.ai/euripedes/cnn_classifier/runs/ndpo2h0y\" target=\"_blank\">skilled-sweep-2</a></strong> to <a href=\"https://wandb.ai/euripedes/cnn_classifier\" target=\"_blank\">Weights & Biases</a> (<a href=\"https://wandb.me/run\" target=\"_blank\">docs</a>)<br/>Sweep page:  <a href=\"https://wandb.ai/euripedes/cnn_classifier/sweeps/696jxme5\" target=\"_blank\">https://wandb.ai/euripedes/cnn_classifier/sweeps/696jxme5</a>"
            ]
          },
          "metadata": {}
        },
        {
          "output_type": "stream",
          "name": "stdout",
          "text": [
            "[INFO] compiling model...\n",
            "[INFO] training network...\n",
            "18/18 [==============================] - 0s 2ms/step\n"
          ]
        },
        {
          "output_type": "stream",
          "name": "stderr",
          "text": [
            "16-10-2022 19:31:07 Validation Evaluation metrics\n",
            "16-10-2022 19:31:07 Validation Accuracy: 0.6642984014209592\n",
            "16-10-2022 19:31:07 Validation Precision: 0.6856965716009249\n",
            "16-10-2022 19:31:07 Validation Recall: 0.6642984014209592\n",
            "16-10-2022 19:31:07 Validation F1: 0.6158334264906201\n"
          ]
        },
        {
          "output_type": "display_data",
          "data": {
            "text/plain": [
              "<IPython.core.display.HTML object>"
            ],
            "text/html": [
              "Waiting for W&B process to finish... <strong style=\"color:green\">(success).</strong>"
            ]
          },
          "metadata": {}
        },
        {
          "output_type": "display_data",
          "data": {
            "text/plain": [
              "<IPython.core.display.HTML object>"
            ],
            "text/html": [
              "<style>\n",
              "    table.wandb td:nth-child(1) { padding: 0 10px; text-align: left ; width: auto;} td:nth-child(2) {text-align: left ; width: 100%}\n",
              "    .wandb-row { display: flex; flex-direction: row; flex-wrap: wrap; justify-content: flex-start; width: 100% }\n",
              "    .wandb-col { display: flex; flex-direction: column; flex-basis: 100%; flex: 1; padding: 10px; }\n",
              "    </style>\n",
              "<div class=\"wandb-row\"><div class=\"wandb-col\"><h3>Run history:</h3><br/><table class=\"wandb\"><tr><td>accuracy</td><td>▁▂▃▄▄▄▄▄▄▄▄▄▅▅▅▅▅▅▅▅▆▆▆▆▆▆▆▆▇▇▇▇▇▇██████</td></tr><tr><td>epoch</td><td>▁▁▁▁▂▂▂▂▂▃▃▃▃▃▃▄▄▄▄▄▅▅▅▅▅▅▆▆▆▆▆▇▇▇▇▇▇███</td></tr><tr><td>loss</td><td>██▇▇▇▇▆▆▆▆▆▆▆▅▅▅▅▅▅▅▄▄▄▄▄▄▃▃▃▃▃▂▂▂▂▂▂▂▁▁</td></tr><tr><td>val_accuracy</td><td>▁▂▃▄▃▄▅▄▃▄▄▄▄▄▆▄▄▄▄▅▅▅▅▇▆▇▆▅▇▆▇▆▇▆█▆▇█▆█</td></tr><tr><td>val_loss</td><td>▆▆▅▅▄▄▄▄▄▃▃▃▃▃▂▃▄▄▃▂▂▂▂▁▂▁▂▃▂▂▂▂▃▃▂▄▃▃▄█</td></tr></table><br/></div><div class=\"wandb-col\"><h3>Run summary:</h3><br/><table class=\"wandb\"><tr><td>Acc</td><td>0.6643</td></tr><tr><td>CO2_Emissions</td><td>0.0003</td></tr><tr><td>Count_Params</td><td>328839</td></tr><tr><td>Energy_CPU</td><td>0.00049</td></tr><tr><td>Energy_Consumed</td><td>0.00095</td></tr><tr><td>Energy_GPU</td><td>0.0004</td></tr><tr><td>Energy_RAM</td><td>5e-05</td></tr><tr><td>F1</td><td>0.61583</td></tr><tr><td>GFLOPs</td><td>0.00123</td></tr><tr><td>Precision</td><td>0.6857</td></tr><tr><td>Recall</td><td>0.6643</td></tr><tr><td>accuracy</td><td>0.94487</td></tr><tr><td>best_epoch</td><td>63</td></tr><tr><td>best_val_loss</td><td>0.76703</td></tr><tr><td>epoch</td><td>99</td></tr><tr><td>loss</td><td>0.18552</td></tr><tr><td>val_accuracy</td><td>0.6643</td></tr><tr><td>val_loss</td><td>1.20363</td></tr></table><br/></div></div>"
            ]
          },
          "metadata": {}
        },
        {
          "output_type": "display_data",
          "data": {
            "text/plain": [
              "<IPython.core.display.HTML object>"
            ],
            "text/html": [
              "Synced <strong style=\"color:#cdcd00\">skilled-sweep-2</strong>: <a href=\"https://wandb.ai/euripedes/cnn_classifier/runs/ndpo2h0y\" target=\"_blank\">https://wandb.ai/euripedes/cnn_classifier/runs/ndpo2h0y</a><br/>Synced 5 W&B file(s), 0 media file(s), 0 artifact file(s) and 0 other file(s)"
            ]
          },
          "metadata": {}
        },
        {
          "output_type": "display_data",
          "data": {
            "text/plain": [
              "<IPython.core.display.HTML object>"
            ],
            "text/html": [
              "Find logs at: <code>./wandb/run-20221016_193020-ndpo2h0y/logs</code>"
            ]
          },
          "metadata": {}
        },
        {
          "output_type": "stream",
          "name": "stderr",
          "text": [
            "\u001b[34m\u001b[1mwandb\u001b[0m: Agent Starting Run: hjwd12n2 with config:\n",
            "\u001b[34m\u001b[1mwandb\u001b[0m: \tbatch_size: 32\n",
            "\u001b[34m\u001b[1mwandb\u001b[0m: \tconv_layer: 1\n",
            "\u001b[34m\u001b[1mwandb\u001b[0m: \tepoch: 100\n",
            "\u001b[34m\u001b[1mwandb\u001b[0m: \thidden_layer: 0\n",
            "\u001b[34m\u001b[1mwandb\u001b[0m: \tlearn_rate: 0.005\n",
            "Failed to detect the name of this notebook, you can set it manually with the WANDB_NOTEBOOK_NAME environment variable to enable code saving.\n"
          ]
        },
        {
          "output_type": "display_data",
          "data": {
            "text/plain": [
              "<IPython.core.display.HTML object>"
            ],
            "text/html": [
              "Tracking run with wandb version 0.13.4"
            ]
          },
          "metadata": {}
        },
        {
          "output_type": "display_data",
          "data": {
            "text/plain": [
              "<IPython.core.display.HTML object>"
            ],
            "text/html": [
              "Run data is saved locally in <code>/content/wandb/run-20221016_193122-hjwd12n2</code>"
            ]
          },
          "metadata": {}
        },
        {
          "output_type": "display_data",
          "data": {
            "text/plain": [
              "<IPython.core.display.HTML object>"
            ],
            "text/html": [
              "Syncing run <strong><a href=\"https://wandb.ai/euripedes/cnn_classifier/runs/hjwd12n2\" target=\"_blank\">happy-sweep-3</a></strong> to <a href=\"https://wandb.ai/euripedes/cnn_classifier\" target=\"_blank\">Weights & Biases</a> (<a href=\"https://wandb.me/run\" target=\"_blank\">docs</a>)<br/>Sweep page:  <a href=\"https://wandb.ai/euripedes/cnn_classifier/sweeps/696jxme5\" target=\"_blank\">https://wandb.ai/euripedes/cnn_classifier/sweeps/696jxme5</a>"
            ]
          },
          "metadata": {}
        },
        {
          "output_type": "stream",
          "name": "stdout",
          "text": [
            "[INFO] compiling model...\n",
            "[INFO] training network...\n",
            "18/18 [==============================] - 0s 2ms/step\n"
          ]
        },
        {
          "output_type": "stream",
          "name": "stderr",
          "text": [
            "16-10-2022 19:31:50 Validation Evaluation metrics\n",
            "16-10-2022 19:31:50 Validation Accuracy: 0.6412078152753108\n",
            "16-10-2022 19:31:50 Validation Precision: 0.6559846609565649\n",
            "16-10-2022 19:31:50 Validation Recall: 0.6412078152753108\n",
            "16-10-2022 19:31:50 Validation F1: 0.6424080522865557\n"
          ]
        },
        {
          "output_type": "display_data",
          "data": {
            "text/plain": [
              "<IPython.core.display.HTML object>"
            ],
            "text/html": [
              "Waiting for W&B process to finish... <strong style=\"color:green\">(success).</strong>"
            ]
          },
          "metadata": {}
        },
        {
          "output_type": "display_data",
          "data": {
            "text/plain": [
              "VBox(children=(Label(value='0.000 MB of 0.000 MB uploaded (0.000 MB deduped)\\r'), FloatProgress(value=1.0, max…"
            ],
            "application/vnd.jupyter.widget-view+json": {
              "version_major": 2,
              "version_minor": 0,
              "model_id": "056a52adee0e471481e52ef187b9cccd"
            }
          },
          "metadata": {}
        },
        {
          "output_type": "display_data",
          "data": {
            "text/plain": [
              "<IPython.core.display.HTML object>"
            ],
            "text/html": [
              "<style>\n",
              "    table.wandb td:nth-child(1) { padding: 0 10px; text-align: left ; width: auto;} td:nth-child(2) {text-align: left ; width: 100%}\n",
              "    .wandb-row { display: flex; flex-direction: row; flex-wrap: wrap; justify-content: flex-start; width: 100% }\n",
              "    .wandb-col { display: flex; flex-direction: column; flex-basis: 100%; flex: 1; padding: 10px; }\n",
              "    </style>\n",
              "<div class=\"wandb-row\"><div class=\"wandb-col\"><h3>Run history:</h3><br/><table class=\"wandb\"><tr><td>accuracy</td><td>▁▃▃▃▄▄▄▄▅▅▅▅▅▅▅▆▆▆▆▆▆▇▆▆▆▇▇▇▇▇▇▇█▇██████</td></tr><tr><td>epoch</td><td>▁▁▁▁▂▂▂▂▂▃▃▃▃▃▃▄▄▄▄▄▅▅▅▅▅▅▆▆▆▆▆▇▇▇▇▇▇███</td></tr><tr><td>loss</td><td>█▇▆▆▅▅▅▅▅▅▄▄▄▄▄▄▄▃▃▃▃▃▃▃▃▂▂▂▂▂▂▂▂▂▁▁▁▁▁▁</td></tr><tr><td>val_accuracy</td><td>▂▁▄▄▅▆▅▆▆▅▆▆▆▇▄▆▆▆▇▇▆▆▇▇▇██▇▇█▇▆█▇███▇█▇</td></tr><tr><td>val_loss</td><td>█▇▅▄▃▃▄▃▃▅▃▃▂▂▄▂▃▃▂▁▂▃▂▂▂▁▁▂▂▁▁▃▂▂▂▂▁▂▂▂</td></tr></table><br/></div><div class=\"wandb-col\"><h3>Run summary:</h3><br/><table class=\"wandb\"><tr><td>Acc</td><td>0.64121</td></tr><tr><td>CO2_Emissions</td><td>0.00017</td></tr><tr><td>Count_Params</td><td>99203</td></tr><tr><td>Energy_CPU</td><td>0.00026</td></tr><tr><td>Energy_Consumed</td><td>0.00053</td></tr><tr><td>Energy_GPU</td><td>0.00024</td></tr><tr><td>Energy_RAM</td><td>3e-05</td></tr><tr><td>F1</td><td>0.64241</td></tr><tr><td>GFLOPs</td><td>0.001</td></tr><tr><td>Precision</td><td>0.65598</td></tr><tr><td>Recall</td><td>0.64121</td></tr><tr><td>accuracy</td><td>0.8856</td></tr><tr><td>best_epoch</td><td>61</td></tr><tr><td>best_val_loss</td><td>0.74643</td></tr><tr><td>epoch</td><td>99</td></tr><tr><td>loss</td><td>0.35064</td></tr><tr><td>val_accuracy</td><td>0.64121</td></tr><tr><td>val_loss</td><td>0.78991</td></tr></table><br/></div></div>"
            ]
          },
          "metadata": {}
        },
        {
          "output_type": "display_data",
          "data": {
            "text/plain": [
              "<IPython.core.display.HTML object>"
            ],
            "text/html": [
              "Synced <strong style=\"color:#cdcd00\">happy-sweep-3</strong>: <a href=\"https://wandb.ai/euripedes/cnn_classifier/runs/hjwd12n2\" target=\"_blank\">https://wandb.ai/euripedes/cnn_classifier/runs/hjwd12n2</a><br/>Synced 5 W&B file(s), 0 media file(s), 0 artifact file(s) and 0 other file(s)"
            ]
          },
          "metadata": {}
        },
        {
          "output_type": "display_data",
          "data": {
            "text/plain": [
              "<IPython.core.display.HTML object>"
            ],
            "text/html": [
              "Find logs at: <code>./wandb/run-20221016_193122-hjwd12n2/logs</code>"
            ]
          },
          "metadata": {}
        }
      ]
    },
    {
      "cell_type": "code",
      "source": [
        "run.finish()"
      ],
      "metadata": {
        "id": "QIzuSZ-VP-Ba"
      },
      "execution_count": null,
      "outputs": []
    }
  ]
}